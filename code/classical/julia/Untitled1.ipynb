{
 "cells": [
  {
   "cell_type": "code",
   "execution_count": 1,
   "metadata": {},
   "outputs": [
    {
     "name": "stderr",
     "output_type": "stream",
     "text": [
      "\u001b[32m\u001b[1m   Updating\u001b[22m\u001b[39m registry at `~/.julia/registries/General`\n",
      "######################################################################### 100.0%\n",
      "\u001b[32m\u001b[1m  Resolving\u001b[22m\u001b[39m package versions...\n",
      "\u001b[32m\u001b[1mNo Changes\u001b[22m\u001b[39m to `~/.julia/environments/v1.5/Project.toml`\n",
      "\u001b[32m\u001b[1mNo Changes\u001b[22m\u001b[39m to `~/.julia/environments/v1.5/Manifest.toml`\n"
     ]
    }
   ],
   "source": [
    "using Pkg\n",
    "Pkg.add(\"WebIO\")"
   ]
  },
  {
   "cell_type": "code",
   "execution_count": 51,
   "metadata": {},
   "outputs": [],
   "source": [
    "using WebIO\n",
    "using IJulia\n",
    "include(\"GA.jl\")\n",
    "include(\"plottingUtils.jl\")\n",
    "include(\"roadNetwork.jl\")"
   ]
  },
  {
   "cell_type": "code",
   "execution_count": 19,
   "metadata": {},
   "outputs": [
    {
     "ename": "LoadError",
     "evalue": "MethodError: no method matching Point(::Int64, ::Int64)",
     "output_type": "error",
     "traceback": [
      "MethodError: no method matching Point(::Int64, ::Int64)",
      "",
      "Stacktrace:",
      " [1] top-level scope at In[19]:5"
     ]
    }
   ],
   "source": [
    "# boundary1(x) = 0\n",
    "# boundary2(x) = 15\n",
    "boundary1(x) = sin(x+12)+4\n",
    "boundary2(x) = sin(x+4)+12\n",
    "o1 = Circle(1,Point(5,10))\n",
    "o2 = Circle(1.2,Point(10,7))\n",
    "o3 = Circle(0.8,Point(7,6))\n",
    "o4 = Circle(0.8,Point(12,8))\n",
    "# o2 = Rectangle(3,2,Point(10,7))\n",
    "start_point = Point(0,10)\n",
    "goal_point = Point(19,5.2)\n",
    "\n",
    "road = Road(boundary1,boundary2,[o1,o2,o3,o4])"
   ]
  },
  {
   "cell_type": "code",
   "execution_count": 4,
   "metadata": {},
   "outputs": [
    {
     "ename": "LoadError",
     "evalue": "UndefVarError: road not defined",
     "output_type": "error",
     "traceback": [
      "UndefVarError: road not defined",
      "",
      "Stacktrace:",
      " [1] top-level scope at In[4]:3"
     ]
    }
   ],
   "source": [
    "gr()\n",
    "\n",
    "draw_road(road,0,20)"
   ]
  },
  {
   "cell_type": "code",
   "execution_count": 5,
   "metadata": {},
   "outputs": [
    {
     "ename": "LoadError",
     "evalue": "MethodError: no method matching Point(::Int64, ::Int64)",
     "output_type": "error",
     "traceback": [
      "MethodError: no method matching Point(::Int64, ::Int64)",
      "",
      "Stacktrace:",
      " [1] top-level scope at In[5]:1"
     ]
    }
   ],
   "source": [
    "circle = Circle(1,Point(5,10))\n",
    "test_curve = BezierCurve([Point(2,9),Point(6,11)])\n",
    "test_curve = BezierCurve([Point(0, 10), Point(9.792786584297819, 12.404595735445575), Point(19, 9)])"
   ]
  },
  {
   "cell_type": "code",
   "execution_count": 6,
   "metadata": {},
   "outputs": [
    {
     "ename": "LoadError",
     "evalue": "UndefVarError: circle not defined",
     "output_type": "error",
     "traceback": [
      "UndefVarError: circle not defined",
      "",
      "Stacktrace:",
      " [1] top-level scope at In[6]:1"
     ]
    }
   ],
   "source": [
    "plt = plot(get_circle(circle))\n",
    "plot!(plt,get_curve(test_curve))"
   ]
  },
  {
   "cell_type": "code",
   "execution_count": 7,
   "metadata": {},
   "outputs": [
    {
     "ename": "LoadError",
     "evalue": "UndefVarError: test_curve not defined",
     "output_type": "error",
     "traceback": [
      "UndefVarError: test_curve not defined",
      "",
      "Stacktrace:",
      " [1] top-level scope at In[7]:1"
     ]
    }
   ],
   "source": [
    "curve_values = get_curve(test_curve)\n",
    "i = findall(x -> x==4,curve_values[1])\n",
    "@show i\n",
    "curve_values[2][i]"
   ]
  },
  {
   "cell_type": "code",
   "execution_count": 8,
   "metadata": {},
   "outputs": [
    {
     "ename": "LoadError",
     "evalue": "UndefVarError: circle not defined",
     "output_type": "error",
     "traceback": [
      "UndefVarError: circle not defined",
      "",
      "Stacktrace:",
      " [1] top-level scope at In[8]:1"
     ]
    }
   ],
   "source": [
    "circle_values = get_circle(circle)\n",
    "is = findall(x -> round(x,digits=2) == 4.00,circle_values[1])\n",
    "# filter(x -> x<4.1,circle_values[1])"
   ]
  },
  {
   "cell_type": "code",
   "execution_count": 9,
   "metadata": {},
   "outputs": [
    {
     "ename": "LoadError",
     "evalue": "UndefVarError: is not defined",
     "output_type": "error",
     "traceback": [
      "UndefVarError: is not defined",
      "",
      "Stacktrace:",
      " [1] top-level scope at ./In[9]:2"
     ]
    }
   ],
   "source": [
    "circ_intersects = []\n",
    "for i in is\n",
    "    if round(circle_values[2][i],digits=1) == curve_values[2][251]\n",
    "        append!(circ_intersects,[i])\n",
    "    end\n",
    "end\n",
    "circ_intersects"
   ]
  },
  {
   "cell_type": "code",
   "execution_count": 10,
   "metadata": {
    "scrolled": true
   },
   "outputs": [
    {
     "ename": "LoadError",
     "evalue": "UndefVarError: curve_values not defined",
     "output_type": "error",
     "traceback": [
      "UndefVarError: curve_values not defined",
      "",
      "Stacktrace:",
      " [1] top-level scope at In[10]:2"
     ]
    }
   ],
   "source": [
    "intersects = []\n",
    "for i in 1:length(curve_values[1])\n",
    "    x = curve_values[1][i]\n",
    "    y = curve_values[2][i]\n",
    "    potential_intersect_circle_is = findall(cx -> round(cx,digits=1)==round(x,digits=1),circle_values[1])\n",
    "    for j in potential_intersect_circle_is\n",
    "        if round(y,digits=1) == round(circle_values[2][j],digits=1)\n",
    "            append!(intersects,[(x,y)])\n",
    "        end\n",
    "    end\n",
    "end\n",
    "@show intersects\n",
    "\n",
    "infeasbile_d = √((intersects[1][1]-intersects[end][1])^2 + (intersects[1][2] - intersects[end][2])^2)\n"
   ]
  },
  {
   "cell_type": "code",
   "execution_count": 11,
   "metadata": {},
   "outputs": [
    {
     "ename": "LoadError",
     "evalue": "UndefVarError: start_point not defined",
     "output_type": "error",
     "traceback": [
      "UndefVarError: start_point not defined",
      "",
      "Stacktrace:",
      " [1] top-level scope at In[11]:4"
     ]
    }
   ],
   "source": [
    "include(\"GA.jl\")\n",
    "include(\"roadNetwork.jl\")\n",
    "include(\"plottingUtils.jl\")\n",
    "P = GA(start_point,goal_point,road,2);"
   ]
  },
  {
   "cell_type": "code",
   "execution_count": 12,
   "metadata": {},
   "outputs": [
    {
     "ename": "LoadError",
     "evalue": "UndefVarError: road not defined",
     "output_type": "error",
     "traceback": [
      "UndefVarError: road not defined",
      "",
      "Stacktrace:",
      " [1] top-level scope at In[12]:1"
     ]
    }
   ],
   "source": [
    "plotGeneration!(draw_road(road,0,20),P[1:4],road)\n",
    "\n",
    "# map(i->isFeasible(road,i),P)"
   ]
  },
  {
   "cell_type": "code",
   "execution_count": 13,
   "metadata": {},
   "outputs": [
    {
     "ename": "LoadError",
     "evalue": "UndefVarError: P not defined",
     "output_type": "error",
     "traceback": [
      "UndefVarError: P not defined",
      "",
      "Stacktrace:",
      " [1] top-level scope at In[13]:1"
     ]
    }
   ],
   "source": [
    "map(i -> feasibilityCheck(road,i),P)\n",
    "# feasibilityCheck(road,P[1])"
   ]
  },
  {
   "cell_type": "code",
   "execution_count": 14,
   "metadata": {},
   "outputs": [
    {
     "ename": "LoadError",
     "evalue": "UndefVarError: P not defined",
     "output_type": "error",
     "traceback": [
      "UndefVarError: P not defined",
      "",
      "Stacktrace:",
      " [1] top-level scope at In[14]:1"
     ]
    }
   ],
   "source": [
    "plt = plotGeneration(P)\n",
    "o_vals = map(o -> get_circle(o), road.obstacles)\n"
   ]
  },
  {
   "cell_type": "code",
   "execution_count": 15,
   "metadata": {},
   "outputs": [
    {
     "data": {
      "text/plain": [
       "plotObstacles (generic function with 1 method)"
      ]
     },
     "execution_count": 15,
     "metadata": {},
     "output_type": "execute_result"
    }
   ],
   "source": [
    "function plotObstacles(road)\n",
    "    plt = plot()\n",
    "    for o in road.obstacles\n",
    "        plot!(plt,get_circle(o), seriestype=[:shape],legend=false )\n",
    "    end\n",
    "    plt\n",
    "end"
   ]
  },
  {
   "cell_type": "code",
   "execution_count": 55,
   "metadata": {},
   "outputs": [
    {
     "data": {
      "text/plain": [
       "plot_control_points! (generic function with 1 method)"
      ]
     },
     "execution_count": 55,
     "metadata": {},
     "output_type": "execute_result"
    }
   ],
   "source": [
    "include(\"plottingUtils.jl\")\n",
    "# plt =plotObstacles(road)\n",
    "# plotGeneration!(plt,P)"
   ]
  },
  {
   "cell_type": "code",
   "execution_count": 106,
   "metadata": {},
   "outputs": [
    {
     "data": {
      "text/plain": [
       "4-element Array{Point,1}:\n",
       " Point(0, 1)\n",
       " Point(0.0, 1.7698003589195008)\n",
       " Point(0.16666666666666685, 1.250925583244189)\n",
       " Point(-0.4999999999999998, 0.8660254037844387)"
      ]
     },
     "execution_count": 106,
     "metadata": {},
     "output_type": "execute_result"
    }
   ],
   "source": [
    "include(\"roadNetwork.jl\")\n",
    "include(\"utils.jl\")\n",
    "\n",
    "c = BezierCircle()\n",
    "# x = BezierCurve([Point(0,1)])\n"
   ]
  },
  {
   "cell_type": "code",
   "execution_count": 61,
   "metadata": {},
   "outputs": [
    {
     "data": {
      "text/plain": [
       "Circle(1, Point(0, 0))"
      ]
     },
     "execution_count": 61,
     "metadata": {},
     "output_type": "execute_result"
    }
   ],
   "source": [
    "circ = Circle(1,Point(0,0))"
   ]
  },
  {
   "cell_type": "code",
   "execution_count": 67,
   "metadata": {},
   "outputs": [
    {
     "data": {
      "text/plain": [
       "(-1.0, 1.2246467991473532e-16)"
      ]
     },
     "execution_count": 67,
     "metadata": {},
     "output_type": "execute_result"
    }
   ],
   "source": [
    "circ(π)\n",
    "# c(0.5)"
   ]
  },
  {
   "cell_type": "code",
   "execution_count": 107,
   "metadata": {},
   "outputs": [
    {
     "data": {
      "image/png": "[encoded data removed]",
      "image/svg+xml": [
       "<?xml version=\"1.0\" encoding=\"utf-8\"?>\n",
       "<svg xmlns=\"http://www.w3.org/2000/svg\" xmlns:xlink=\"http://www.w3.org/1999/xlink\" width=\"600\" height=\"400\" viewBox=\"0 0 2400 1600\">\n",
       "<defs>\n",
       "  <clipPath id=\"clip460\">\n",
       "    <rect x=\"0\" y=\"0\" width=\"2400\" height=\"1600\"/>\n",
       "  </clipPath>\n",
       "</defs>\n",
       "<path clip-path=\"url(#clip460)\" d=\"\n",
       "M0 1600 L2400 1600 L2400 0 L0 0  Z\n",
       "  \" fill=\"#ffffff\" fill-rule=\"evenodd\" fill-opacity=\"1\"/>\n",
       "<defs>\n",
       "  <clipPath id=\"clip461\">\n",
       "    <rect x=\"480\" y=\"0\" width=\"1681\" height=\"1600\"/>\n",
       "  </clipPath>\n",
       "</defs>\n",
       "<path clip-path=\"url(#clip460)\" d=\"\n",
       "M147.663 1486.45 L2352.76 1486.45 L2352.76 47.2441 L147.663 47.2441  Z\n",
       "  \" fill=\"#ffffff\" fill-rule=\"evenodd\" fill-opacity=\"1\"/>\n",
       "<defs>\n",
       "  <clipPath id=\"clip462\">\n",
       "    <rect x=\"147\" y=\"47\" width=\"2206\" height=\"1440\"/>\n",
       "  </clipPath>\n",
       "</defs>\n",
       "<polyline clip-path=\"url(#clip462)\" style=\"stroke:#000000; stroke-width:2; stroke-opacity:0.1; fill:none\" points=\"\n",
       "  210.071,1486.45 210.071,47.2441 \n",
       "  \"/>\n",
       "<polyline clip-path=\"url(#clip462)\" style=\"stroke:#000000; stroke-width:2; stroke-opacity:0.1; fill:none\" points=\"\n",
       "  611.272,1486.45 611.272,47.2441 \n",
       "  \"/>\n",
       "<polyline clip-path=\"url(#clip462)\" style=\"stroke:#000000; stroke-width:2; stroke-opacity:0.1; fill:none\" points=\"\n",
       "  1012.47,1486.45 1012.47,47.2441 \n",
       "  \"/>\n",
       "<polyline clip-path=\"url(#clip462)\" style=\"stroke:#000000; stroke-width:2; stroke-opacity:0.1; fill:none\" points=\"\n",
       "  1413.67,1486.45 1413.67,47.2441 \n",
       "  \"/>\n",
       "<polyline clip-path=\"url(#clip462)\" style=\"stroke:#000000; stroke-width:2; stroke-opacity:0.1; fill:none\" points=\"\n",
       "  1814.87,1486.45 1814.87,47.2441 \n",
       "  \"/>\n",
       "<polyline clip-path=\"url(#clip462)\" style=\"stroke:#000000; stroke-width:2; stroke-opacity:0.1; fill:none\" points=\"\n",
       "  2216.07,1486.45 2216.07,47.2441 \n",
       "  \"/>\n",
       "<polyline clip-path=\"url(#clip460)\" style=\"stroke:#000000; stroke-width:4; stroke-opacity:1; fill:none\" points=\"\n",
       "  147.663,1486.45 2352.76,1486.45 \n",
       "  \"/>\n",
       "<polyline clip-path=\"url(#clip460)\" style=\"stroke:#000000; stroke-width:4; stroke-opacity:1; fill:none\" points=\"\n",
       "  210.071,1486.45 210.071,1469.18 \n",
       "  \"/>\n",
       "<polyline clip-path=\"url(#clip460)\" style=\"stroke:#000000; stroke-width:4; stroke-opacity:1; fill:none\" points=\"\n",
       "  611.272,1486.45 611.272,1469.18 \n",
       "  \"/>\n",
       "<polyline clip-path=\"url(#clip460)\" style=\"stroke:#000000; stroke-width:4; stroke-opacity:1; fill:none\" points=\"\n",
       "  1012.47,1486.45 1012.47,1469.18 \n",
       "  \"/>\n",
       "<polyline clip-path=\"url(#clip460)\" style=\"stroke:#000000; stroke-width:4; stroke-opacity:1; fill:none\" points=\"\n",
       "  1413.67,1486.45 1413.67,1469.18 \n",
       "  \"/>\n",
       "<polyline clip-path=\"url(#clip460)\" style=\"stroke:#000000; stroke-width:4; stroke-opacity:1; fill:none\" points=\"\n",
       "  1814.87,1486.45 1814.87,1469.18 \n",
       "  \"/>\n",
       "<polyline clip-path=\"url(#clip460)\" style=\"stroke:#000000; stroke-width:4; stroke-opacity:1; fill:none\" points=\"\n",
       "  2216.07,1486.45 2216.07,1469.18 \n",
       "  \"/>\n",
       "<path clip-path=\"url(#clip460)\" d=\"M 0 0 M163.741 1530.29 L193.416 1530.29 L193.416 1534.23 L163.741 1534.23 L163.741 1530.29 Z\" fill=\"#000000\" fill-rule=\"evenodd\" fill-opacity=\"1\" /><path clip-path=\"url(#clip460)\" d=\"M 0 0 M208.486 1515.64 Q204.875 1515.64 203.046 1519.2 Q201.24 1522.75 201.24 1529.87 Q201.24 1536.98 203.046 1540.55 Q204.875 1544.09 208.486 1544.09 Q212.12 1544.09 213.926 1540.55 Q215.754 1536.98 215.754 1529.87 Q215.754 1522.75 213.926 1519.2 Q212.12 1515.64 208.486 1515.64 M208.486 1511.93 Q214.296 1511.93 217.351 1516.54 Q220.43 1521.12 220.43 1529.87 Q220.43 1538.6 217.351 1543.21 Q214.296 1547.79 208.486 1547.79 Q202.676 1547.79 199.597 1543.21 Q196.541 1538.6 196.541 1529.87 Q196.541 1521.12 199.597 1516.54 Q202.676 1511.93 208.486 1511.93 Z\" fill=\"#000000\" fill-rule=\"evenodd\" fill-opacity=\"1\" /><path clip-path=\"url(#clip460)\" d=\"M 0 0 M225.5 1541.24 L230.384 1541.24 L230.384 1547.12 L225.5 1547.12 L225.5 1541.24 Z\" fill=\"#000000\" fill-rule=\"evenodd\" fill-opacity=\"1\" /><path clip-path=\"url(#clip460)\" d=\"M 0 0 M235.499 1512.56 L253.856 1512.56 L253.856 1516.5 L239.782 1516.5 L239.782 1524.97 Q240.8 1524.62 241.819 1524.46 Q242.837 1524.27 243.856 1524.27 Q249.643 1524.27 253.023 1527.44 Q256.402 1530.62 256.402 1536.03 Q256.402 1541.61 252.93 1544.71 Q249.458 1547.79 243.138 1547.79 Q240.962 1547.79 238.694 1547.42 Q236.449 1547.05 234.041 1546.31 L234.041 1541.61 Q236.124 1542.74 238.347 1543.3 Q240.569 1543.86 243.046 1543.86 Q247.05 1543.86 249.388 1541.75 Q251.726 1539.64 251.726 1536.03 Q251.726 1532.42 249.388 1530.31 Q247.05 1528.21 243.046 1528.21 Q241.171 1528.21 239.296 1528.62 Q237.444 1529.04 235.499 1529.92 L235.499 1512.56 Z\" fill=\"#000000\" fill-rule=\"evenodd\" fill-opacity=\"1\" /><path clip-path=\"url(#clip460)\" d=\"M 0 0 M564.2 1530.29 L593.876 1530.29 L593.876 1534.23 L564.2 1534.23 L564.2 1530.29 Z\" fill=\"#000000\" fill-rule=\"evenodd\" fill-opacity=\"1\" /><path clip-path=\"url(#clip460)\" d=\"M 0 0 M608.945 1515.64 Q605.334 1515.64 603.506 1519.2 Q601.7 1522.75 601.7 1529.87 Q601.7 1536.98 603.506 1540.55 Q605.334 1544.09 608.945 1544.09 Q612.58 1544.09 614.385 1540.55 Q616.214 1536.98 616.214 1529.87 Q616.214 1522.75 614.385 1519.2 Q612.58 1515.64 608.945 1515.64 M608.945 1511.93 Q614.756 1511.93 617.811 1516.54 Q620.89 1521.12 620.89 1529.87 Q620.89 1538.6 617.811 1543.21 Q614.756 1547.79 608.945 1547.79 Q603.135 1547.79 600.057 1543.21 Q597.001 1538.6 597.001 1529.87 Q597.001 1521.12 600.057 1516.54 Q603.135 1511.93 608.945 1511.93 Z\" fill=\"#000000\" fill-rule=\"evenodd\" fill-opacity=\"1\" /><path clip-path=\"url(#clip460)\" d=\"M 0 0 M625.959 1541.24 L630.843 1541.24 L630.843 1547.12 L625.959 1547.12 L625.959 1541.24 Z\" fill=\"#000000\" fill-rule=\"evenodd\" fill-opacity=\"1\" /><path clip-path=\"url(#clip460)\" d=\"M 0 0 M648.76 1516.63 L636.955 1535.08 L648.76 1535.08 L648.76 1516.63 M647.533 1512.56 L653.413 1512.56 L653.413 1535.08 L658.343 1535.08 L658.343 1538.97 L653.413 1538.97 L653.413 1547.12 L648.76 1547.12 L648.76 1538.97 L633.158 1538.97 L633.158 1534.46 L647.533 1512.56 Z\" fill=\"#000000\" fill-rule=\"evenodd\" fill-opacity=\"1\" /><path clip-path=\"url(#clip460)\" d=\"M 0 0 M965.968 1530.29 L995.644 1530.29 L995.644 1534.23 L965.968 1534.23 L965.968 1530.29 Z\" fill=\"#000000\" fill-rule=\"evenodd\" fill-opacity=\"1\" /><path clip-path=\"url(#clip460)\" d=\"M 0 0 M1010.71 1515.64 Q1007.1 1515.64 1005.27 1519.2 Q1003.47 1522.75 1003.47 1529.87 Q1003.47 1536.98 1005.27 1540.55 Q1007.1 1544.09 1010.71 1544.09 Q1014.35 1544.09 1016.15 1540.55 Q1017.98 1536.98 1017.98 1529.87 Q1017.98 1522.75 1016.15 1519.2 Q1014.35 1515.64 1010.71 1515.64 M1010.71 1511.93 Q1016.52 1511.93 1019.58 1516.54 Q1022.66 1521.12 1022.66 1529.87 Q1022.66 1538.6 1019.58 1543.21 Q1016.52 1547.79 1010.71 1547.79 Q1004.9 1547.79 1001.82 1543.21 Q998.769 1538.6 998.769 1529.87 Q998.769 1521.12 1001.82 1516.54 Q1004.9 1511.93 1010.71 1511.93 Z\" fill=\"#000000\" fill-rule=\"evenodd\" fill-opacity=\"1\" /><path clip-path=\"url(#clip460)\" d=\"M 0 0 M1027.73 1541.24 L1032.61 1541.24 L1032.61 1547.12 L1027.73 1547.12 L1027.73 1541.24 Z\" fill=\"#000000\" fill-rule=\"evenodd\" fill-opacity=\"1\" /><path clip-path=\"url(#clip460)\" d=\"M 0 0 M1051.85 1528.49 Q1055.2 1529.2 1057.08 1531.47 Q1058.98 1533.74 1058.98 1537.07 Q1058.98 1542.19 1055.46 1544.99 Q1051.94 1547.79 1045.46 1547.79 Q1043.28 1547.79 1040.97 1547.35 Q1038.68 1546.93 1036.22 1546.08 L1036.22 1541.56 Q1038.17 1542.7 1040.48 1543.28 Q1042.8 1543.86 1045.32 1543.86 Q1049.72 1543.86 1052.01 1542.12 Q1054.32 1540.38 1054.32 1537.07 Q1054.32 1534.02 1052.17 1532.31 Q1050.04 1530.57 1046.22 1530.57 L1042.19 1530.57 L1042.19 1526.73 L1046.41 1526.73 Q1049.86 1526.73 1051.68 1525.36 Q1053.51 1523.97 1053.51 1521.38 Q1053.51 1518.72 1051.62 1517.31 Q1049.74 1515.87 1046.22 1515.87 Q1044.3 1515.87 1042.1 1516.29 Q1039.9 1516.7 1037.26 1517.58 L1037.26 1513.42 Q1039.93 1512.68 1042.24 1512.31 Q1044.58 1511.93 1046.64 1511.93 Q1051.96 1511.93 1055.06 1514.37 Q1058.17 1516.77 1058.17 1520.89 Q1058.17 1523.76 1056.52 1525.75 Q1054.88 1527.72 1051.85 1528.49 Z\" fill=\"#000000\" fill-rule=\"evenodd\" fill-opacity=\"1\" /><path clip-path=\"url(#clip460)\" d=\"M 0 0 M1367.64 1530.29 L1397.32 1530.29 L1397.32 1534.23 L1367.64 1534.23 L1367.64 1530.29 Z\" fill=\"#000000\" fill-rule=\"evenodd\" fill-opacity=\"1\" /><path clip-path=\"url(#clip460)\" d=\"M 0 0 M1412.39 1515.64 Q1408.78 1515.64 1406.95 1519.2 Q1405.14 1522.75 1405.14 1529.87 Q1405.14 1536.98 1406.95 1540.55 Q1408.78 1544.09 1412.39 1544.09 Q1416.02 1544.09 1417.83 1540.55 Q1419.66 1536.98 1419.66 1529.87 Q1419.66 1522.75 1417.83 1519.2 Q1416.02 1515.64 1412.39 1515.64 M1412.39 1511.93 Q1418.2 1511.93 1421.25 1516.54 Q1424.33 1521.12 1424.33 1529.87 Q1424.33 1538.6 1421.25 1543.21 Q1418.2 1547.79 1412.39 1547.79 Q1406.58 1547.79 1403.5 1543.21 Q1400.44 1538.6 1400.44 1529.87 Q1400.44 1521.12 1403.5 1516.54 Q1406.58 1511.93 1412.39 1511.93 Z\" fill=\"#000000\" fill-rule=\"evenodd\" fill-opacity=\"1\" /><path clip-path=\"url(#clip460)\" d=\"M 0 0 M1429.4 1541.24 L1434.29 1541.24 L1434.29 1547.12 L1429.4 1547.12 L1429.4 1541.24 Z\" fill=\"#000000\" fill-rule=\"evenodd\" fill-opacity=\"1\" /><path clip-path=\"url(#clip460)\" d=\"M 0 0 M1443.38 1543.18 L1459.7 1543.18 L1459.7 1547.12 L1437.76 1547.12 L1437.76 1543.18 Q1440.42 1540.43 1445 1535.8 Q1449.61 1531.15 1450.79 1529.81 Q1453.04 1527.28 1453.92 1525.55 Q1454.82 1523.79 1454.82 1522.1 Q1454.82 1519.34 1452.87 1517.61 Q1450.95 1515.87 1447.85 1515.87 Q1445.65 1515.87 1443.2 1516.63 Q1440.77 1517.4 1437.99 1518.95 L1437.99 1514.23 Q1440.81 1513.09 1443.27 1512.51 Q1445.72 1511.93 1447.76 1511.93 Q1453.13 1511.93 1456.32 1514.62 Q1459.52 1517.31 1459.52 1521.8 Q1459.52 1523.93 1458.71 1525.85 Q1457.92 1527.74 1455.81 1530.34 Q1455.23 1531.01 1452.13 1534.23 Q1449.03 1537.42 1443.38 1543.18 Z\" fill=\"#000000\" fill-rule=\"evenodd\" fill-opacity=\"1\" /><path clip-path=\"url(#clip460)\" d=\"M 0 0 M1768.66 1530.29 L1798.33 1530.29 L1798.33 1534.23 L1768.66 1534.23 L1768.66 1530.29 Z\" fill=\"#000000\" fill-rule=\"evenodd\" fill-opacity=\"1\" /><path clip-path=\"url(#clip460)\" d=\"M 0 0 M1813.4 1515.64 Q1809.79 1515.64 1807.96 1519.2 Q1806.16 1522.75 1806.16 1529.87 Q1806.16 1536.98 1807.96 1540.55 Q1809.79 1544.09 1813.4 1544.09 Q1817.04 1544.09 1818.84 1540.55 Q1820.67 1536.98 1820.67 1529.87 Q1820.67 1522.75 1818.84 1519.2 Q1817.04 1515.64 1813.4 1515.64 M1813.4 1511.93 Q1819.21 1511.93 1822.27 1516.54 Q1825.35 1521.12 1825.35 1529.87 Q1825.35 1538.6 1822.27 1543.21 Q1819.21 1547.79 1813.4 1547.79 Q1807.59 1547.79 1804.51 1543.21 Q1801.46 1538.6 1801.46 1529.87 Q1801.46 1521.12 1804.51 1516.54 Q1807.59 1511.93 1813.4 1511.93 Z\" fill=\"#000000\" fill-rule=\"evenodd\" fill-opacity=\"1\" /><path clip-path=\"url(#clip460)\" d=\"M 0 0 M1830.42 1541.24 L1835.3 1541.24 L1835.3 1547.12 L1830.42 1547.12 L1830.42 1541.24 Z\" fill=\"#000000\" fill-rule=\"evenodd\" fill-opacity=\"1\" /><path clip-path=\"url(#clip460)\" d=\"M 0 0 M1841.18 1543.18 L1848.82 1543.18 L1848.82 1516.82 L1840.51 1518.49 L1840.51 1514.23 L1848.77 1512.56 L1853.45 1512.56 L1853.45 1543.18 L1861.09 1543.18 L1861.09 1547.12 L1841.18 1547.12 L1841.18 1543.18 Z\" fill=\"#000000\" fill-rule=\"evenodd\" fill-opacity=\"1\" /><path clip-path=\"url(#clip460)\" d=\"M 0 0 M2197.59 1515.64 Q2193.98 1515.64 2192.15 1519.2 Q2190.34 1522.75 2190.34 1529.87 Q2190.34 1536.98 2192.15 1540.55 Q2193.98 1544.09 2197.59 1544.09 Q2201.22 1544.09 2203.03 1540.55 Q2204.86 1536.98 2204.86 1529.87 Q2204.86 1522.75 2203.03 1519.2 Q2201.22 1515.64 2197.59 1515.64 M2197.59 1511.93 Q2203.4 1511.93 2206.46 1516.54 Q2209.53 1521.12 2209.53 1529.87 Q2209.53 1538.6 2206.46 1543.21 Q2203.4 1547.79 2197.59 1547.79 Q2191.78 1547.79 2188.7 1543.21 Q2185.65 1538.6 2185.65 1529.87 Q2185.65 1521.12 2188.7 1516.54 Q2191.78 1511.93 2197.59 1511.93 Z\" fill=\"#000000\" fill-rule=\"evenodd\" fill-opacity=\"1\" /><path clip-path=\"url(#clip460)\" d=\"M 0 0 M2214.6 1541.24 L2219.49 1541.24 L2219.49 1547.12 L2214.6 1547.12 L2214.6 1541.24 Z\" fill=\"#000000\" fill-rule=\"evenodd\" fill-opacity=\"1\" /><path clip-path=\"url(#clip460)\" d=\"M 0 0 M2234.56 1515.64 Q2230.95 1515.64 2229.12 1519.2 Q2227.31 1522.75 2227.31 1529.87 Q2227.31 1536.98 2229.12 1540.55 Q2230.95 1544.09 2234.56 1544.09 Q2238.19 1544.09 2240 1540.55 Q2241.83 1536.98 2241.83 1529.87 Q2241.83 1522.75 2240 1519.2 Q2238.19 1515.64 2234.56 1515.64 M2234.56 1511.93 Q2240.37 1511.93 2243.42 1516.54 Q2246.5 1521.12 2246.5 1529.87 Q2246.5 1538.6 2243.42 1543.21 Q2240.37 1547.79 2234.56 1547.79 Q2228.75 1547.79 2225.67 1543.21 Q2222.61 1538.6 2222.61 1529.87 Q2222.61 1521.12 2225.67 1516.54 Q2228.75 1511.93 2234.56 1511.93 Z\" fill=\"#000000\" fill-rule=\"evenodd\" fill-opacity=\"1\" /><polyline clip-path=\"url(#clip462)\" style=\"stroke:#000000; stroke-width:2; stroke-opacity:0.1; fill:none\" points=\"\n",
       "  147.663,1358.9 2352.76,1358.9 \n",
       "  \"/>\n",
       "<polyline clip-path=\"url(#clip462)\" style=\"stroke:#000000; stroke-width:2; stroke-opacity:0.1; fill:none\" points=\"\n",
       "  147.663,1103.38 2352.76,1103.38 \n",
       "  \"/>\n",
       "<polyline clip-path=\"url(#clip462)\" style=\"stroke:#000000; stroke-width:2; stroke-opacity:0.1; fill:none\" points=\"\n",
       "  147.663,847.856 2352.76,847.856 \n",
       "  \"/>\n",
       "<polyline clip-path=\"url(#clip462)\" style=\"stroke:#000000; stroke-width:2; stroke-opacity:0.1; fill:none\" points=\"\n",
       "  147.663,592.333 2352.76,592.333 \n",
       "  \"/>\n",
       "<polyline clip-path=\"url(#clip462)\" style=\"stroke:#000000; stroke-width:2; stroke-opacity:0.1; fill:none\" points=\"\n",
       "  147.663,336.81 2352.76,336.81 \n",
       "  \"/>\n",
       "<polyline clip-path=\"url(#clip462)\" style=\"stroke:#000000; stroke-width:2; stroke-opacity:0.1; fill:none\" points=\"\n",
       "  147.663,81.2866 2352.76,81.2866 \n",
       "  \"/>\n",
       "<polyline clip-path=\"url(#clip460)\" style=\"stroke:#000000; stroke-width:4; stroke-opacity:1; fill:none\" points=\"\n",
       "  147.663,1486.45 147.663,47.2441 \n",
       "  \"/>\n",
       "<polyline clip-path=\"url(#clip460)\" style=\"stroke:#000000; stroke-width:4; stroke-opacity:1; fill:none\" points=\"\n",
       "  147.663,1358.9 174.124,1358.9 \n",
       "  \"/>\n",
       "<polyline clip-path=\"url(#clip460)\" style=\"stroke:#000000; stroke-width:4; stroke-opacity:1; fill:none\" points=\"\n",
       "  147.663,1103.38 174.124,1103.38 \n",
       "  \"/>\n",
       "<polyline clip-path=\"url(#clip460)\" style=\"stroke:#000000; stroke-width:4; stroke-opacity:1; fill:none\" points=\"\n",
       "  147.663,847.856 174.124,847.856 \n",
       "  \"/>\n",
       "<polyline clip-path=\"url(#clip460)\" style=\"stroke:#000000; stroke-width:4; stroke-opacity:1; fill:none\" points=\"\n",
       "  147.663,592.333 174.124,592.333 \n",
       "  \"/>\n",
       "<polyline clip-path=\"url(#clip460)\" style=\"stroke:#000000; stroke-width:4; stroke-opacity:1; fill:none\" points=\"\n",
       "  147.663,336.81 174.124,336.81 \n",
       "  \"/>\n",
       "<polyline clip-path=\"url(#clip460)\" style=\"stroke:#000000; stroke-width:4; stroke-opacity:1; fill:none\" points=\"\n",
       "  147.663,81.2866 174.124,81.2866 \n",
       "  \"/>\n",
       "<path clip-path=\"url(#clip460)\" d=\"M 0 0 M62.9365 1344.7 Q59.3254 1344.7 57.4967 1348.27 Q55.6912 1351.81 55.6912 1358.94 Q55.6912 1366.04 57.4967 1369.61 Q59.3254 1373.15 62.9365 1373.15 Q66.5707 1373.15 68.3763 1369.61 Q70.205 1366.04 70.205 1358.94 Q70.205 1351.81 68.3763 1348.27 Q66.5707 1344.7 62.9365 1344.7 M62.9365 1341 Q68.7467 1341 71.8022 1345.6 Q74.8809 1350.19 74.8809 1358.94 Q74.8809 1367.66 71.8022 1372.27 Q68.7467 1376.85 62.9365 1376.85 Q57.1264 1376.85 54.0477 1372.27 Q50.9921 1367.66 50.9921 1358.94 Q50.9921 1350.19 54.0477 1345.6 Q57.1264 1341 62.9365 1341 Z\" fill=\"#000000\" fill-rule=\"evenodd\" fill-opacity=\"1\" /><path clip-path=\"url(#clip460)\" d=\"M 0 0 M79.9503 1370.3 L84.8345 1370.3 L84.8345 1376.18 L79.9503 1376.18 L79.9503 1370.3 Z\" fill=\"#000000\" fill-rule=\"evenodd\" fill-opacity=\"1\" /><path clip-path=\"url(#clip460)\" d=\"M 0 0 M90.0428 1375.47 L90.0428 1371.21 Q91.8021 1372.04 93.6076 1372.48 Q95.4132 1372.92 97.1493 1372.92 Q101.779 1372.92 104.209 1369.82 Q106.663 1366.69 107.01 1360.35 Q105.668 1362.34 103.608 1363.41 Q101.547 1364.47 99.0474 1364.47 Q93.8623 1364.47 90.8299 1361.34 Q87.8206 1358.2 87.8206 1352.76 Q87.8206 1347.43 90.9688 1344.22 Q94.1169 1341 99.3483 1341 Q105.344 1341 108.492 1345.6 Q111.663 1350.19 111.663 1358.94 Q111.663 1367.11 107.774 1371.99 Q103.909 1376.85 97.3576 1376.85 Q95.5984 1376.85 93.7928 1376.51 Q91.9873 1376.16 90.0428 1375.47 M99.3483 1360.81 Q102.496 1360.81 104.325 1358.66 Q106.177 1356.51 106.177 1352.76 Q106.177 1349.03 104.325 1346.88 Q102.496 1344.7 99.3483 1344.7 Q96.2002 1344.7 94.3484 1346.88 Q92.5197 1349.03 92.5197 1352.76 Q92.5197 1356.51 94.3484 1358.66 Q96.2002 1360.81 99.3483 1360.81 Z\" fill=\"#000000\" fill-rule=\"evenodd\" fill-opacity=\"1\" /><path clip-path=\"url(#clip460)\" d=\"M 0 0 M54.7884 1116.72 L62.4272 1116.72 L62.4272 1090.36 L54.1171 1092.03 L54.1171 1087.77 L62.381 1086.1 L67.0569 1086.1 L67.0569 1116.72 L74.6957 1116.72 L74.6957 1120.66 L54.7884 1120.66 L54.7884 1116.72 Z\" fill=\"#000000\" fill-rule=\"evenodd\" fill-opacity=\"1\" /><path clip-path=\"url(#clip460)\" d=\"M 0 0 M79.7651 1114.78 L84.6494 1114.78 L84.6494 1120.66 L79.7651 1120.66 L79.7651 1114.78 Z\" fill=\"#000000\" fill-rule=\"evenodd\" fill-opacity=\"1\" /><path clip-path=\"url(#clip460)\" d=\"M 0 0 M99.7187 1089.18 Q96.1076 1089.18 94.2789 1092.74 Q92.4734 1096.28 92.4734 1103.41 Q92.4734 1110.52 94.2789 1114.09 Q96.1076 1117.63 99.7187 1117.63 Q103.353 1117.63 105.159 1114.09 Q106.987 1110.52 106.987 1103.41 Q106.987 1096.28 105.159 1092.74 Q103.353 1089.18 99.7187 1089.18 M99.7187 1085.47 Q105.529 1085.47 108.584 1090.08 Q111.663 1094.66 111.663 1103.41 Q111.663 1112.14 108.584 1116.75 Q105.529 1121.33 99.7187 1121.33 Q93.9086 1121.33 90.8299 1116.75 Q87.7743 1112.14 87.7743 1103.41 Q87.7743 1094.66 90.8299 1090.08 Q93.9086 1085.47 99.7187 1085.47 Z\" fill=\"#000000\" fill-rule=\"evenodd\" fill-opacity=\"1\" /><path clip-path=\"url(#clip460)\" d=\"M 0 0 M56.0152 861.201 L63.6541 861.201 L63.6541 834.836 L55.344 836.502 L55.344 832.243 L63.6078 830.576 L68.2837 830.576 L68.2837 861.201 L75.9225 861.201 L75.9225 865.136 L56.0152 865.136 L56.0152 861.201 Z\" fill=\"#000000\" fill-rule=\"evenodd\" fill-opacity=\"1\" /><path clip-path=\"url(#clip460)\" d=\"M 0 0 M80.992 859.257 L85.8762 859.257 L85.8762 865.136 L80.992 865.136 L80.992 859.257 Z\" fill=\"#000000\" fill-rule=\"evenodd\" fill-opacity=\"1\" /><path clip-path=\"url(#clip460)\" d=\"M 0 0 M91.7558 861.201 L99.3946 861.201 L99.3946 834.836 L91.0845 836.502 L91.0845 832.243 L99.3483 830.576 L104.024 830.576 L104.024 861.201 L111.663 861.201 L111.663 865.136 L91.7558 865.136 L91.7558 861.201 Z\" fill=\"#000000\" fill-rule=\"evenodd\" fill-opacity=\"1\" /><path clip-path=\"url(#clip460)\" d=\"M 0 0 M56.3856 605.678 L64.0245 605.678 L64.0245 579.312 L55.7143 580.979 L55.7143 576.72 L63.9782 575.053 L68.6541 575.053 L68.6541 605.678 L76.2929 605.678 L76.2929 609.613 L56.3856 609.613 L56.3856 605.678 Z\" fill=\"#000000\" fill-rule=\"evenodd\" fill-opacity=\"1\" /><path clip-path=\"url(#clip460)\" d=\"M 0 0 M81.3623 603.733 L86.2466 603.733 L86.2466 609.613 L81.3623 609.613 L81.3623 603.733 Z\" fill=\"#000000\" fill-rule=\"evenodd\" fill-opacity=\"1\" /><path clip-path=\"url(#clip460)\" d=\"M 0 0 M95.3437 605.678 L111.663 605.678 L111.663 609.613 L89.7188 609.613 L89.7188 605.678 Q92.3808 602.923 96.9641 598.294 Q101.571 593.641 102.751 592.298 Q104.996 589.775 105.876 588.039 Q106.779 586.28 106.779 584.59 Q106.779 581.835 104.834 580.099 Q102.913 578.363 99.8113 578.363 Q97.6122 578.363 95.1586 579.127 Q92.728 579.891 89.9503 581.442 L89.9503 576.72 Q92.7743 575.585 95.228 575.007 Q97.6817 574.428 99.7187 574.428 Q105.089 574.428 108.283 577.113 Q111.478 579.798 111.478 584.289 Q111.478 586.419 110.668 588.34 Q109.881 590.238 107.774 592.831 Q107.196 593.502 104.094 596.72 Q100.992 599.914 95.3437 605.678 Z\" fill=\"#000000\" fill-rule=\"evenodd\" fill-opacity=\"1\" /><path clip-path=\"url(#clip460)\" d=\"M 0 0 M55.4365 350.155 L63.0754 350.155 L63.0754 323.789 L54.7653 325.456 L54.7653 321.196 L63.0291 319.53 L67.705 319.53 L67.705 350.155 L75.3438 350.155 L75.3438 354.09 L55.4365 354.09 L55.4365 350.155 Z\" fill=\"#000000\" fill-rule=\"evenodd\" fill-opacity=\"1\" /><path clip-path=\"url(#clip460)\" d=\"M 0 0 M80.4133 348.21 L85.2975 348.21 L85.2975 354.09 L80.4133 354.09 L80.4133 348.21 Z\" fill=\"#000000\" fill-rule=\"evenodd\" fill-opacity=\"1\" /><path clip-path=\"url(#clip460)\" d=\"M 0 0 M104.534 335.456 Q107.89 336.173 109.765 338.442 Q111.663 340.71 111.663 344.044 Q111.663 349.159 108.145 351.96 Q104.626 354.761 98.1447 354.761 Q95.9687 354.761 93.6539 354.321 Q91.3623 353.905 88.9086 353.048 L88.9086 348.534 Q90.853 349.669 93.1678 350.247 Q95.4826 350.826 98.0058 350.826 Q102.404 350.826 104.696 349.09 Q107.01 347.354 107.01 344.044 Q107.01 340.988 104.858 339.275 Q102.728 337.539 98.9085 337.539 L94.8808 337.539 L94.8808 333.696 L99.0937 333.696 Q102.543 333.696 104.371 332.331 Q106.2 330.942 106.2 328.349 Q106.2 325.687 104.302 324.275 Q102.427 322.84 98.9085 322.84 Q96.9872 322.84 94.7882 323.257 Q92.5891 323.673 89.9503 324.553 L89.9503 320.386 Q92.6123 319.646 94.9271 319.275 Q97.265 318.905 99.3252 318.905 Q104.649 318.905 107.751 321.335 Q110.853 323.743 110.853 327.863 Q110.853 330.733 109.209 332.724 Q107.566 334.692 104.534 335.456 Z\" fill=\"#000000\" fill-rule=\"evenodd\" fill-opacity=\"1\" /><path clip-path=\"url(#clip460)\" d=\"M 0 0 M54.3023 94.6315 L61.9411 94.6315 L61.9411 68.2659 L53.631 69.9325 L53.631 65.6733 L61.8948 64.0066 L66.5707 64.0066 L66.5707 94.6315 L74.2096 94.6315 L74.2096 98.5666 L54.3023 98.5666 L54.3023 94.6315 Z\" fill=\"#000000\" fill-rule=\"evenodd\" fill-opacity=\"1\" /><path clip-path=\"url(#clip460)\" d=\"M 0 0 M79.279 92.687 L84.1632 92.687 L84.1632 98.5666 L79.279 98.5666 L79.279 92.687 Z\" fill=\"#000000\" fill-rule=\"evenodd\" fill-opacity=\"1\" /><path clip-path=\"url(#clip460)\" d=\"M 0 0 M102.08 68.0807 L90.2743 86.5296 L102.08 86.5296 L102.08 68.0807 M100.853 64.0066 L106.733 64.0066 L106.733 86.5296 L111.663 86.5296 L111.663 90.4185 L106.733 90.4185 L106.733 98.5666 L102.08 98.5666 L102.08 90.4185 L86.478 90.4185 L86.478 85.9047 L100.853 64.0066 Z\" fill=\"#000000\" fill-rule=\"evenodd\" fill-opacity=\"1\" /><polyline clip-path=\"url(#clip462)\" style=\"stroke:#009af9; stroke-width:4; stroke-opacity:1; fill:none\" points=\"\n",
       "  2216.07,1103.38 2216.27,1045.35 2216.84,989.281 2217.77,935.14 2219.03,882.91 2220.59,832.569 2222.43,784.094 2224.53,737.464 2226.86,692.657 2229.4,649.651 \n",
       "  2232.12,608.425 2235.01,568.956 2238.03,531.223 2241.16,495.204 2244.38,460.877 2247.67,428.221 2250.99,397.213 2254.34,367.832 2257.67,340.055 2260.97,313.862 \n",
       "  2264.22,289.23 2267.38,266.138 2270.44,244.563 2273.38,224.485 2276.16,205.88 2278.76,188.728 2281.16,173.006 2283.34,158.692 2285.27,145.766 2286.93,134.204 \n",
       "  2288.29,123.986 2289.33,115.089 2290.02,107.491 2290.35,101.172 2290.28,96.1078 2289.79,92.2783 2288.87,89.661 2287.48,88.2343 2285.59,87.9763 2283.2,88.8651 \n",
       "  2280.27,90.8791 2276.77,93.9963 2272.69,98.195 2268,103.453 2262.68,109.749 2256.69,117.062 2250.03,125.368 2242.66,134.647 2234.56,144.876 2225.71,156.034 \n",
       "  2216.07,168.1 2205.64,181.05 2194.38,194.864 2182.26,209.519 2169.28,224.994 2155.39,241.266 2140.58,258.315 2124.83,276.119 2108.1,294.654 2090.38,313.901 \n",
       "  2071.64,333.836 2051.86,354.438 2031.01,375.686 2009.07,397.557 1986.01,420.029 1961.81,443.082 1936.45,466.692 1909.91,490.838 1882.15,515.499 1853.15,540.653 \n",
       "  1822.9,566.277 1791.36,592.35 1758.51,618.85 1724.33,645.756 1688.8,673.045 1651.89,700.696 1613.57,728.686 1573.82,756.995 1532.62,785.6 1489.94,814.479 \n",
       "  1445.77,843.611 1400.07,872.974 1352.82,902.546 1304,932.305 1253.58,962.23 1201.54,992.298 1147.85,1022.49 1092.5,1052.78 1035.45,1083.15 976.689,1113.57 \n",
       "  916.184,1144.03 853.914,1174.5 789.854,1204.96 723.981,1235.39 656.27,1265.77 586.698,1296.08 515.24,1326.28 441.873,1356.37 366.572,1386.32 289.312,1416.11 \n",
       "  210.071,1445.72 \n",
       "  \"/>\n",
       "<path clip-path=\"url(#clip460)\" d=\"\n",
       "M1983.22 216.178 L2279.25 216.178 L2279.25 95.2176 L1983.22 95.2176  Z\n",
       "  \" fill=\"#ffffff\" fill-rule=\"evenodd\" fill-opacity=\"1\"/>\n",
       "<polyline clip-path=\"url(#clip460)\" style=\"stroke:#000000; stroke-width:4; stroke-opacity:1; fill:none\" points=\"\n",
       "  1983.22,216.178 2279.25,216.178 2279.25,95.2176 1983.22,95.2176 1983.22,216.178 \n",
       "  \"/>\n",
       "<polyline clip-path=\"url(#clip460)\" style=\"stroke:#009af9; stroke-width:4; stroke-opacity:1; fill:none\" points=\"\n",
       "  2007.73,155.698 2154.73,155.698 \n",
       "  \"/>\n",
       "<path clip-path=\"url(#clip460)\" d=\"M 0 0 M2193.08 175.385 Q2191.27 180.015 2189.56 181.427 Q2187.84 182.839 2184.97 182.839 L2181.57 182.839 L2181.57 179.274 L2184.07 179.274 Q2185.83 179.274 2186.8 178.44 Q2187.77 177.607 2188.95 174.505 L2189.72 172.561 L2179.23 147.052 L2183.75 147.052 L2191.85 167.329 L2199.95 147.052 L2204.46 147.052 L2193.08 175.385 Z\" fill=\"#000000\" fill-rule=\"evenodd\" fill-opacity=\"1\" /><path clip-path=\"url(#clip460)\" d=\"M 0 0 M2210.34 169.042 L2217.98 169.042 L2217.98 142.677 L2209.67 144.343 L2209.67 140.084 L2217.94 138.418 L2222.61 138.418 L2222.61 169.042 L2230.25 169.042 L2230.25 172.978 L2210.34 172.978 L2210.34 169.042 Z\" fill=\"#000000\" fill-rule=\"evenodd\" fill-opacity=\"1\" /></svg>\n"
      ],
      "text/html": [
       "<?xml version=\"1.0\" encoding=\"utf-8\"?>\n",
       "<svg xmlns=\"http://www.w3.org/2000/svg\" xmlns:xlink=\"http://www.w3.org/1999/xlink\" width=\"600\" height=\"400\" viewBox=\"0 0 2400 1600\">\n",
       "<defs>\n",
       "  <clipPath id=\"clip510\">\n",
       "    <rect x=\"0\" y=\"0\" width=\"2400\" height=\"1600\"/>\n",
       "  </clipPath>\n",
       "</defs>\n",
       "<path clip-path=\"url(#clip510)\" d=\"\n",
       "M0 1600 L2400 1600 L2400 0 L0 0  Z\n",
       "  \" fill=\"#ffffff\" fill-rule=\"evenodd\" fill-opacity=\"1\"/>\n",
       "<defs>\n",
       "  <clipPath id=\"clip511\">\n",
       "    <rect x=\"480\" y=\"0\" width=\"1681\" height=\"1600\"/>\n",
       "  </clipPath>\n",
       "</defs>\n",
       "<path clip-path=\"url(#clip510)\" d=\"\n",
       "M147.663 1486.45 L2352.76 1486.45 L2352.76 47.2441 L147.663 47.2441  Z\n",
       "  \" fill=\"#ffffff\" fill-rule=\"evenodd\" fill-opacity=\"1\"/>\n",
       "<defs>\n",
       "  <clipPath id=\"clip512\">\n",
       "    <rect x=\"147\" y=\"47\" width=\"2206\" height=\"1440\"/>\n",
       "  </clipPath>\n",
       "</defs>\n",
       "<polyline clip-path=\"url(#clip512)\" style=\"stroke:#000000; stroke-width:2; stroke-opacity:0.1; fill:none\" points=\"\n",
       "  210.071,1486.45 210.071,47.2441 \n",
       "  \"/>\n",
       "<polyline clip-path=\"url(#clip512)\" style=\"stroke:#000000; stroke-width:2; stroke-opacity:0.1; fill:none\" points=\"\n",
       "  611.272,1486.45 611.272,47.2441 \n",
       "  \"/>\n",
       "<polyline clip-path=\"url(#clip512)\" style=\"stroke:#000000; stroke-width:2; stroke-opacity:0.1; fill:none\" points=\"\n",
       "  1012.47,1486.45 1012.47,47.2441 \n",
       "  \"/>\n",
       "<polyline clip-path=\"url(#clip512)\" style=\"stroke:#000000; stroke-width:2; stroke-opacity:0.1; fill:none\" points=\"\n",
       "  1413.67,1486.45 1413.67,47.2441 \n",
       "  \"/>\n",
       "<polyline clip-path=\"url(#clip512)\" style=\"stroke:#000000; stroke-width:2; stroke-opacity:0.1; fill:none\" points=\"\n",
       "  1814.87,1486.45 1814.87,47.2441 \n",
       "  \"/>\n",
       "<polyline clip-path=\"url(#clip512)\" style=\"stroke:#000000; stroke-width:2; stroke-opacity:0.1; fill:none\" points=\"\n",
       "  2216.07,1486.45 2216.07,47.2441 \n",
       "  \"/>\n",
       "<polyline clip-path=\"url(#clip510)\" style=\"stroke:#000000; stroke-width:4; stroke-opacity:1; fill:none\" points=\"\n",
       "  147.663,1486.45 2352.76,1486.45 \n",
       "  \"/>\n",
       "<polyline clip-path=\"url(#clip510)\" style=\"stroke:#000000; stroke-width:4; stroke-opacity:1; fill:none\" points=\"\n",
       "  210.071,1486.45 210.071,1469.18 \n",
       "  \"/>\n",
       "<polyline clip-path=\"url(#clip510)\" style=\"stroke:#000000; stroke-width:4; stroke-opacity:1; fill:none\" points=\"\n",
       "  611.272,1486.45 611.272,1469.18 \n",
       "  \"/>\n",
       "<polyline clip-path=\"url(#clip510)\" style=\"stroke:#000000; stroke-width:4; stroke-opacity:1; fill:none\" points=\"\n",
       "  1012.47,1486.45 1012.47,1469.18 \n",
       "  \"/>\n",
       "<polyline clip-path=\"url(#clip510)\" style=\"stroke:#000000; stroke-width:4; stroke-opacity:1; fill:none\" points=\"\n",
       "  1413.67,1486.45 1413.67,1469.18 \n",
       "  \"/>\n",
       "<polyline clip-path=\"url(#clip510)\" style=\"stroke:#000000; stroke-width:4; stroke-opacity:1; fill:none\" points=\"\n",
       "  1814.87,1486.45 1814.87,1469.18 \n",
       "  \"/>\n",
       "<polyline clip-path=\"url(#clip510)\" style=\"stroke:#000000; stroke-width:4; stroke-opacity:1; fill:none\" points=\"\n",
       "  2216.07,1486.45 2216.07,1469.18 \n",
       "  \"/>\n",
       "<path clip-path=\"url(#clip510)\" d=\"M 0 0 M163.741 1530.29 L193.416 1530.29 L193.416 1534.23 L163.741 1534.23 L163.741 1530.29 Z\" fill=\"#000000\" fill-rule=\"evenodd\" fill-opacity=\"1\" /><path clip-path=\"url(#clip510)\" d=\"M 0 0 M208.486 1515.64 Q204.875 1515.64 203.046 1519.2 Q201.24 1522.75 201.24 1529.87 Q201.24 1536.98 203.046 1540.55 Q204.875 1544.09 208.486 1544.09 Q212.12 1544.09 213.926 1540.55 Q215.754 1536.98 215.754 1529.87 Q215.754 1522.75 213.926 1519.2 Q212.12 1515.64 208.486 1515.64 M208.486 1511.93 Q214.296 1511.93 217.351 1516.54 Q220.43 1521.12 220.43 1529.87 Q220.43 1538.6 217.351 1543.21 Q214.296 1547.79 208.486 1547.79 Q202.676 1547.79 199.597 1543.21 Q196.541 1538.6 196.541 1529.87 Q196.541 1521.12 199.597 1516.54 Q202.676 1511.93 208.486 1511.93 Z\" fill=\"#000000\" fill-rule=\"evenodd\" fill-opacity=\"1\" /><path clip-path=\"url(#clip510)\" d=\"M 0 0 M225.5 1541.24 L230.384 1541.24 L230.384 1547.12 L225.5 1547.12 L225.5 1541.24 Z\" fill=\"#000000\" fill-rule=\"evenodd\" fill-opacity=\"1\" /><path clip-path=\"url(#clip510)\" d=\"M 0 0 M235.499 1512.56 L253.856 1512.56 L253.856 1516.5 L239.782 1516.5 L239.782 1524.97 Q240.8 1524.62 241.819 1524.46 Q242.837 1524.27 243.856 1524.27 Q249.643 1524.27 253.023 1527.44 Q256.402 1530.62 256.402 1536.03 Q256.402 1541.61 252.93 1544.71 Q249.458 1547.79 243.138 1547.79 Q240.962 1547.79 238.694 1547.42 Q236.449 1547.05 234.041 1546.31 L234.041 1541.61 Q236.124 1542.74 238.347 1543.3 Q240.569 1543.86 243.046 1543.86 Q247.05 1543.86 249.388 1541.75 Q251.726 1539.64 251.726 1536.03 Q251.726 1532.42 249.388 1530.31 Q247.05 1528.21 243.046 1528.21 Q241.171 1528.21 239.296 1528.62 Q237.444 1529.04 235.499 1529.92 L235.499 1512.56 Z\" fill=\"#000000\" fill-rule=\"evenodd\" fill-opacity=\"1\" /><path clip-path=\"url(#clip510)\" d=\"M 0 0 M564.2 1530.29 L593.876 1530.29 L593.876 1534.23 L564.2 1534.23 L564.2 1530.29 Z\" fill=\"#000000\" fill-rule=\"evenodd\" fill-opacity=\"1\" /><path clip-path=\"url(#clip510)\" d=\"M 0 0 M608.945 1515.64 Q605.334 1515.64 603.506 1519.2 Q601.7 1522.75 601.7 1529.87 Q601.7 1536.98 603.506 1540.55 Q605.334 1544.09 608.945 1544.09 Q612.58 1544.09 614.385 1540.55 Q616.214 1536.98 616.214 1529.87 Q616.214 1522.75 614.385 1519.2 Q612.58 1515.64 608.945 1515.64 M608.945 1511.93 Q614.756 1511.93 617.811 1516.54 Q620.89 1521.12 620.89 1529.87 Q620.89 1538.6 617.811 1543.21 Q614.756 1547.79 608.945 1547.79 Q603.135 1547.79 600.057 1543.21 Q597.001 1538.6 597.001 1529.87 Q597.001 1521.12 600.057 1516.54 Q603.135 1511.93 608.945 1511.93 Z\" fill=\"#000000\" fill-rule=\"evenodd\" fill-opacity=\"1\" /><path clip-path=\"url(#clip510)\" d=\"M 0 0 M625.959 1541.24 L630.843 1541.24 L630.843 1547.12 L625.959 1547.12 L625.959 1541.24 Z\" fill=\"#000000\" fill-rule=\"evenodd\" fill-opacity=\"1\" /><path clip-path=\"url(#clip510)\" d=\"M 0 0 M648.76 1516.63 L636.955 1535.08 L648.76 1535.08 L648.76 1516.63 M647.533 1512.56 L653.413 1512.56 L653.413 1535.08 L658.343 1535.08 L658.343 1538.97 L653.413 1538.97 L653.413 1547.12 L648.76 1547.12 L648.76 1538.97 L633.158 1538.97 L633.158 1534.46 L647.533 1512.56 Z\" fill=\"#000000\" fill-rule=\"evenodd\" fill-opacity=\"1\" /><path clip-path=\"url(#clip510)\" d=\"M 0 0 M965.968 1530.29 L995.644 1530.29 L995.644 1534.23 L965.968 1534.23 L965.968 1530.29 Z\" fill=\"#000000\" fill-rule=\"evenodd\" fill-opacity=\"1\" /><path clip-path=\"url(#clip510)\" d=\"M 0 0 M1010.71 1515.64 Q1007.1 1515.64 1005.27 1519.2 Q1003.47 1522.75 1003.47 1529.87 Q1003.47 1536.98 1005.27 1540.55 Q1007.1 1544.09 1010.71 1544.09 Q1014.35 1544.09 1016.15 1540.55 Q1017.98 1536.98 1017.98 1529.87 Q1017.98 1522.75 1016.15 1519.2 Q1014.35 1515.64 1010.71 1515.64 M1010.71 1511.93 Q1016.52 1511.93 1019.58 1516.54 Q1022.66 1521.12 1022.66 1529.87 Q1022.66 1538.6 1019.58 1543.21 Q1016.52 1547.79 1010.71 1547.79 Q1004.9 1547.79 1001.82 1543.21 Q998.769 1538.6 998.769 1529.87 Q998.769 1521.12 1001.82 1516.54 Q1004.9 1511.93 1010.71 1511.93 Z\" fill=\"#000000\" fill-rule=\"evenodd\" fill-opacity=\"1\" /><path clip-path=\"url(#clip510)\" d=\"M 0 0 M1027.73 1541.24 L1032.61 1541.24 L1032.61 1547.12 L1027.73 1547.12 L1027.73 1541.24 Z\" fill=\"#000000\" fill-rule=\"evenodd\" fill-opacity=\"1\" /><path clip-path=\"url(#clip510)\" d=\"M 0 0 M1051.85 1528.49 Q1055.2 1529.2 1057.08 1531.47 Q1058.98 1533.74 1058.98 1537.07 Q1058.98 1542.19 1055.46 1544.99 Q1051.94 1547.79 1045.46 1547.79 Q1043.28 1547.79 1040.97 1547.35 Q1038.68 1546.93 1036.22 1546.08 L1036.22 1541.56 Q1038.17 1542.7 1040.48 1543.28 Q1042.8 1543.86 1045.32 1543.86 Q1049.72 1543.86 1052.01 1542.12 Q1054.32 1540.38 1054.32 1537.07 Q1054.32 1534.02 1052.17 1532.31 Q1050.04 1530.57 1046.22 1530.57 L1042.19 1530.57 L1042.19 1526.73 L1046.41 1526.73 Q1049.86 1526.73 1051.68 1525.36 Q1053.51 1523.97 1053.51 1521.38 Q1053.51 1518.72 1051.62 1517.31 Q1049.74 1515.87 1046.22 1515.87 Q1044.3 1515.87 1042.1 1516.29 Q1039.9 1516.7 1037.26 1517.58 L1037.26 1513.42 Q1039.93 1512.68 1042.24 1512.31 Q1044.58 1511.93 1046.64 1511.93 Q1051.96 1511.93 1055.06 1514.37 Q1058.17 1516.77 1058.17 1520.89 Q1058.17 1523.76 1056.52 1525.75 Q1054.88 1527.72 1051.85 1528.49 Z\" fill=\"#000000\" fill-rule=\"evenodd\" fill-opacity=\"1\" /><path clip-path=\"url(#clip510)\" d=\"M 0 0 M1367.64 1530.29 L1397.32 1530.29 L1397.32 1534.23 L1367.64 1534.23 L1367.64 1530.29 Z\" fill=\"#000000\" fill-rule=\"evenodd\" fill-opacity=\"1\" /><path clip-path=\"url(#clip510)\" d=\"M 0 0 M1412.39 1515.64 Q1408.78 1515.64 1406.95 1519.2 Q1405.14 1522.75 1405.14 1529.87 Q1405.14 1536.98 1406.95 1540.55 Q1408.78 1544.09 1412.39 1544.09 Q1416.02 1544.09 1417.83 1540.55 Q1419.66 1536.98 1419.66 1529.87 Q1419.66 1522.75 1417.83 1519.2 Q1416.02 1515.64 1412.39 1515.64 M1412.39 1511.93 Q1418.2 1511.93 1421.25 1516.54 Q1424.33 1521.12 1424.33 1529.87 Q1424.33 1538.6 1421.25 1543.21 Q1418.2 1547.79 1412.39 1547.79 Q1406.58 1547.79 1403.5 1543.21 Q1400.44 1538.6 1400.44 1529.87 Q1400.44 1521.12 1403.5 1516.54 Q1406.58 1511.93 1412.39 1511.93 Z\" fill=\"#000000\" fill-rule=\"evenodd\" fill-opacity=\"1\" /><path clip-path=\"url(#clip510)\" d=\"M 0 0 M1429.4 1541.24 L1434.29 1541.24 L1434.29 1547.12 L1429.4 1547.12 L1429.4 1541.24 Z\" fill=\"#000000\" fill-rule=\"evenodd\" fill-opacity=\"1\" /><path clip-path=\"url(#clip510)\" d=\"M 0 0 M1443.38 1543.18 L1459.7 1543.18 L1459.7 1547.12 L1437.76 1547.12 L1437.76 1543.18 Q1440.42 1540.43 1445 1535.8 Q1449.61 1531.15 1450.79 1529.81 Q1453.04 1527.28 1453.92 1525.55 Q1454.82 1523.79 1454.82 1522.1 Q1454.82 1519.34 1452.87 1517.61 Q1450.95 1515.87 1447.85 1515.87 Q1445.65 1515.87 1443.2 1516.63 Q1440.77 1517.4 1437.99 1518.95 L1437.99 1514.23 Q1440.81 1513.09 1443.27 1512.51 Q1445.72 1511.93 1447.76 1511.93 Q1453.13 1511.93 1456.32 1514.62 Q1459.52 1517.31 1459.52 1521.8 Q1459.52 1523.93 1458.71 1525.85 Q1457.92 1527.74 1455.81 1530.34 Q1455.23 1531.01 1452.13 1534.23 Q1449.03 1537.42 1443.38 1543.18 Z\" fill=\"#000000\" fill-rule=\"evenodd\" fill-opacity=\"1\" /><path clip-path=\"url(#clip510)\" d=\"M 0 0 M1768.66 1530.29 L1798.33 1530.29 L1798.33 1534.23 L1768.66 1534.23 L1768.66 1530.29 Z\" fill=\"#000000\" fill-rule=\"evenodd\" fill-opacity=\"1\" /><path clip-path=\"url(#clip510)\" d=\"M 0 0 M1813.4 1515.64 Q1809.79 1515.64 1807.96 1519.2 Q1806.16 1522.75 1806.16 1529.87 Q1806.16 1536.98 1807.96 1540.55 Q1809.79 1544.09 1813.4 1544.09 Q1817.04 1544.09 1818.84 1540.55 Q1820.67 1536.98 1820.67 1529.87 Q1820.67 1522.75 1818.84 1519.2 Q1817.04 1515.64 1813.4 1515.64 M1813.4 1511.93 Q1819.21 1511.93 1822.27 1516.54 Q1825.35 1521.12 1825.35 1529.87 Q1825.35 1538.6 1822.27 1543.21 Q1819.21 1547.79 1813.4 1547.79 Q1807.59 1547.79 1804.51 1543.21 Q1801.46 1538.6 1801.46 1529.87 Q1801.46 1521.12 1804.51 1516.54 Q1807.59 1511.93 1813.4 1511.93 Z\" fill=\"#000000\" fill-rule=\"evenodd\" fill-opacity=\"1\" /><path clip-path=\"url(#clip510)\" d=\"M 0 0 M1830.42 1541.24 L1835.3 1541.24 L1835.3 1547.12 L1830.42 1547.12 L1830.42 1541.24 Z\" fill=\"#000000\" fill-rule=\"evenodd\" fill-opacity=\"1\" /><path clip-path=\"url(#clip510)\" d=\"M 0 0 M1841.18 1543.18 L1848.82 1543.18 L1848.82 1516.82 L1840.51 1518.49 L1840.51 1514.23 L1848.77 1512.56 L1853.45 1512.56 L1853.45 1543.18 L1861.09 1543.18 L1861.09 1547.12 L1841.18 1547.12 L1841.18 1543.18 Z\" fill=\"#000000\" fill-rule=\"evenodd\" fill-opacity=\"1\" /><path clip-path=\"url(#clip510)\" d=\"M 0 0 M2197.59 1515.64 Q2193.98 1515.64 2192.15 1519.2 Q2190.34 1522.75 2190.34 1529.87 Q2190.34 1536.98 2192.15 1540.55 Q2193.98 1544.09 2197.59 1544.09 Q2201.22 1544.09 2203.03 1540.55 Q2204.86 1536.98 2204.86 1529.87 Q2204.86 1522.75 2203.03 1519.2 Q2201.22 1515.64 2197.59 1515.64 M2197.59 1511.93 Q2203.4 1511.93 2206.46 1516.54 Q2209.53 1521.12 2209.53 1529.87 Q2209.53 1538.6 2206.46 1543.21 Q2203.4 1547.79 2197.59 1547.79 Q2191.78 1547.79 2188.7 1543.21 Q2185.65 1538.6 2185.65 1529.87 Q2185.65 1521.12 2188.7 1516.54 Q2191.78 1511.93 2197.59 1511.93 Z\" fill=\"#000000\" fill-rule=\"evenodd\" fill-opacity=\"1\" /><path clip-path=\"url(#clip510)\" d=\"M 0 0 M2214.6 1541.24 L2219.49 1541.24 L2219.49 1547.12 L2214.6 1547.12 L2214.6 1541.24 Z\" fill=\"#000000\" fill-rule=\"evenodd\" fill-opacity=\"1\" /><path clip-path=\"url(#clip510)\" d=\"M 0 0 M2234.56 1515.64 Q2230.95 1515.64 2229.12 1519.2 Q2227.31 1522.75 2227.31 1529.87 Q2227.31 1536.98 2229.12 1540.55 Q2230.95 1544.09 2234.56 1544.09 Q2238.19 1544.09 2240 1540.55 Q2241.83 1536.98 2241.83 1529.87 Q2241.83 1522.75 2240 1519.2 Q2238.19 1515.64 2234.56 1515.64 M2234.56 1511.93 Q2240.37 1511.93 2243.42 1516.54 Q2246.5 1521.12 2246.5 1529.87 Q2246.5 1538.6 2243.42 1543.21 Q2240.37 1547.79 2234.56 1547.79 Q2228.75 1547.79 2225.67 1543.21 Q2222.61 1538.6 2222.61 1529.87 Q2222.61 1521.12 2225.67 1516.54 Q2228.75 1511.93 2234.56 1511.93 Z\" fill=\"#000000\" fill-rule=\"evenodd\" fill-opacity=\"1\" /><polyline clip-path=\"url(#clip512)\" style=\"stroke:#000000; stroke-width:2; stroke-opacity:0.1; fill:none\" points=\"\n",
       "  147.663,1358.9 2352.76,1358.9 \n",
       "  \"/>\n",
       "<polyline clip-path=\"url(#clip512)\" style=\"stroke:#000000; stroke-width:2; stroke-opacity:0.1; fill:none\" points=\"\n",
       "  147.663,1103.38 2352.76,1103.38 \n",
       "  \"/>\n",
       "<polyline clip-path=\"url(#clip512)\" style=\"stroke:#000000; stroke-width:2; stroke-opacity:0.1; fill:none\" points=\"\n",
       "  147.663,847.856 2352.76,847.856 \n",
       "  \"/>\n",
       "<polyline clip-path=\"url(#clip512)\" style=\"stroke:#000000; stroke-width:2; stroke-opacity:0.1; fill:none\" points=\"\n",
       "  147.663,592.333 2352.76,592.333 \n",
       "  \"/>\n",
       "<polyline clip-path=\"url(#clip512)\" style=\"stroke:#000000; stroke-width:2; stroke-opacity:0.1; fill:none\" points=\"\n",
       "  147.663,336.81 2352.76,336.81 \n",
       "  \"/>\n",
       "<polyline clip-path=\"url(#clip512)\" style=\"stroke:#000000; stroke-width:2; stroke-opacity:0.1; fill:none\" points=\"\n",
       "  147.663,81.2866 2352.76,81.2866 \n",
       "  \"/>\n",
       "<polyline clip-path=\"url(#clip510)\" style=\"stroke:#000000; stroke-width:4; stroke-opacity:1; fill:none\" points=\"\n",
       "  147.663,1486.45 147.663,47.2441 \n",
       "  \"/>\n",
       "<polyline clip-path=\"url(#clip510)\" style=\"stroke:#000000; stroke-width:4; stroke-opacity:1; fill:none\" points=\"\n",
       "  147.663,1358.9 174.124,1358.9 \n",
       "  \"/>\n",
       "<polyline clip-path=\"url(#clip510)\" style=\"stroke:#000000; stroke-width:4; stroke-opacity:1; fill:none\" points=\"\n",
       "  147.663,1103.38 174.124,1103.38 \n",
       "  \"/>\n",
       "<polyline clip-path=\"url(#clip510)\" style=\"stroke:#000000; stroke-width:4; stroke-opacity:1; fill:none\" points=\"\n",
       "  147.663,847.856 174.124,847.856 \n",
       "  \"/>\n",
       "<polyline clip-path=\"url(#clip510)\" style=\"stroke:#000000; stroke-width:4; stroke-opacity:1; fill:none\" points=\"\n",
       "  147.663,592.333 174.124,592.333 \n",
       "  \"/>\n",
       "<polyline clip-path=\"url(#clip510)\" style=\"stroke:#000000; stroke-width:4; stroke-opacity:1; fill:none\" points=\"\n",
       "  147.663,336.81 174.124,336.81 \n",
       "  \"/>\n",
       "<polyline clip-path=\"url(#clip510)\" style=\"stroke:#000000; stroke-width:4; stroke-opacity:1; fill:none\" points=\"\n",
       "  147.663,81.2866 174.124,81.2866 \n",
       "  \"/>\n",
       "<path clip-path=\"url(#clip510)\" d=\"M 0 0 M62.9365 1344.7 Q59.3254 1344.7 57.4967 1348.27 Q55.6912 1351.81 55.6912 1358.94 Q55.6912 1366.04 57.4967 1369.61 Q59.3254 1373.15 62.9365 1373.15 Q66.5707 1373.15 68.3763 1369.61 Q70.205 1366.04 70.205 1358.94 Q70.205 1351.81 68.3763 1348.27 Q66.5707 1344.7 62.9365 1344.7 M62.9365 1341 Q68.7467 1341 71.8022 1345.6 Q74.8809 1350.19 74.8809 1358.94 Q74.8809 1367.66 71.8022 1372.27 Q68.7467 1376.85 62.9365 1376.85 Q57.1264 1376.85 54.0477 1372.27 Q50.9921 1367.66 50.9921 1358.94 Q50.9921 1350.19 54.0477 1345.6 Q57.1264 1341 62.9365 1341 Z\" fill=\"#000000\" fill-rule=\"evenodd\" fill-opacity=\"1\" /><path clip-path=\"url(#clip510)\" d=\"M 0 0 M79.9503 1370.3 L84.8345 1370.3 L84.8345 1376.18 L79.9503 1376.18 L79.9503 1370.3 Z\" fill=\"#000000\" fill-rule=\"evenodd\" fill-opacity=\"1\" /><path clip-path=\"url(#clip510)\" d=\"M 0 0 M90.0428 1375.47 L90.0428 1371.21 Q91.8021 1372.04 93.6076 1372.48 Q95.4132 1372.92 97.1493 1372.92 Q101.779 1372.92 104.209 1369.82 Q106.663 1366.69 107.01 1360.35 Q105.668 1362.34 103.608 1363.41 Q101.547 1364.47 99.0474 1364.47 Q93.8623 1364.47 90.8299 1361.34 Q87.8206 1358.2 87.8206 1352.76 Q87.8206 1347.43 90.9688 1344.22 Q94.1169 1341 99.3483 1341 Q105.344 1341 108.492 1345.6 Q111.663 1350.19 111.663 1358.94 Q111.663 1367.11 107.774 1371.99 Q103.909 1376.85 97.3576 1376.85 Q95.5984 1376.85 93.7928 1376.51 Q91.9873 1376.16 90.0428 1375.47 M99.3483 1360.81 Q102.496 1360.81 104.325 1358.66 Q106.177 1356.51 106.177 1352.76 Q106.177 1349.03 104.325 1346.88 Q102.496 1344.7 99.3483 1344.7 Q96.2002 1344.7 94.3484 1346.88 Q92.5197 1349.03 92.5197 1352.76 Q92.5197 1356.51 94.3484 1358.66 Q96.2002 1360.81 99.3483 1360.81 Z\" fill=\"#000000\" fill-rule=\"evenodd\" fill-opacity=\"1\" /><path clip-path=\"url(#clip510)\" d=\"M 0 0 M54.7884 1116.72 L62.4272 1116.72 L62.4272 1090.36 L54.1171 1092.03 L54.1171 1087.77 L62.381 1086.1 L67.0569 1086.1 L67.0569 1116.72 L74.6957 1116.72 L74.6957 1120.66 L54.7884 1120.66 L54.7884 1116.72 Z\" fill=\"#000000\" fill-rule=\"evenodd\" fill-opacity=\"1\" /><path clip-path=\"url(#clip510)\" d=\"M 0 0 M79.7651 1114.78 L84.6494 1114.78 L84.6494 1120.66 L79.7651 1120.66 L79.7651 1114.78 Z\" fill=\"#000000\" fill-rule=\"evenodd\" fill-opacity=\"1\" /><path clip-path=\"url(#clip510)\" d=\"M 0 0 M99.7187 1089.18 Q96.1076 1089.18 94.2789 1092.74 Q92.4734 1096.28 92.4734 1103.41 Q92.4734 1110.52 94.2789 1114.09 Q96.1076 1117.63 99.7187 1117.63 Q103.353 1117.63 105.159 1114.09 Q106.987 1110.52 106.987 1103.41 Q106.987 1096.28 105.159 1092.74 Q103.353 1089.18 99.7187 1089.18 M99.7187 1085.47 Q105.529 1085.47 108.584 1090.08 Q111.663 1094.66 111.663 1103.41 Q111.663 1112.14 108.584 1116.75 Q105.529 1121.33 99.7187 1121.33 Q93.9086 1121.33 90.8299 1116.75 Q87.7743 1112.14 87.7743 1103.41 Q87.7743 1094.66 90.8299 1090.08 Q93.9086 1085.47 99.7187 1085.47 Z\" fill=\"#000000\" fill-rule=\"evenodd\" fill-opacity=\"1\" /><path clip-path=\"url(#clip510)\" d=\"M 0 0 M56.0152 861.201 L63.6541 861.201 L63.6541 834.836 L55.344 836.502 L55.344 832.243 L63.6078 830.576 L68.2837 830.576 L68.2837 861.201 L75.9225 861.201 L75.9225 865.136 L56.0152 865.136 L56.0152 861.201 Z\" fill=\"#000000\" fill-rule=\"evenodd\" fill-opacity=\"1\" /><path clip-path=\"url(#clip510)\" d=\"M 0 0 M80.992 859.257 L85.8762 859.257 L85.8762 865.136 L80.992 865.136 L80.992 859.257 Z\" fill=\"#000000\" fill-rule=\"evenodd\" fill-opacity=\"1\" /><path clip-path=\"url(#clip510)\" d=\"M 0 0 M91.7558 861.201 L99.3946 861.201 L99.3946 834.836 L91.0845 836.502 L91.0845 832.243 L99.3483 830.576 L104.024 830.576 L104.024 861.201 L111.663 861.201 L111.663 865.136 L91.7558 865.136 L91.7558 861.201 Z\" fill=\"#000000\" fill-rule=\"evenodd\" fill-opacity=\"1\" /><path clip-path=\"url(#clip510)\" d=\"M 0 0 M56.3856 605.678 L64.0245 605.678 L64.0245 579.312 L55.7143 580.979 L55.7143 576.72 L63.9782 575.053 L68.6541 575.053 L68.6541 605.678 L76.2929 605.678 L76.2929 609.613 L56.3856 609.613 L56.3856 605.678 Z\" fill=\"#000000\" fill-rule=\"evenodd\" fill-opacity=\"1\" /><path clip-path=\"url(#clip510)\" d=\"M 0 0 M81.3623 603.733 L86.2466 603.733 L86.2466 609.613 L81.3623 609.613 L81.3623 603.733 Z\" fill=\"#000000\" fill-rule=\"evenodd\" fill-opacity=\"1\" /><path clip-path=\"url(#clip510)\" d=\"M 0 0 M95.3437 605.678 L111.663 605.678 L111.663 609.613 L89.7188 609.613 L89.7188 605.678 Q92.3808 602.923 96.9641 598.294 Q101.571 593.641 102.751 592.298 Q104.996 589.775 105.876 588.039 Q106.779 586.28 106.779 584.59 Q106.779 581.835 104.834 580.099 Q102.913 578.363 99.8113 578.363 Q97.6122 578.363 95.1586 579.127 Q92.728 579.891 89.9503 581.442 L89.9503 576.72 Q92.7743 575.585 95.228 575.007 Q97.6817 574.428 99.7187 574.428 Q105.089 574.428 108.283 577.113 Q111.478 579.798 111.478 584.289 Q111.478 586.419 110.668 588.34 Q109.881 590.238 107.774 592.831 Q107.196 593.502 104.094 596.72 Q100.992 599.914 95.3437 605.678 Z\" fill=\"#000000\" fill-rule=\"evenodd\" fill-opacity=\"1\" /><path clip-path=\"url(#clip510)\" d=\"M 0 0 M55.4365 350.155 L63.0754 350.155 L63.0754 323.789 L54.7653 325.456 L54.7653 321.196 L63.0291 319.53 L67.705 319.53 L67.705 350.155 L75.3438 350.155 L75.3438 354.09 L55.4365 354.09 L55.4365 350.155 Z\" fill=\"#000000\" fill-rule=\"evenodd\" fill-opacity=\"1\" /><path clip-path=\"url(#clip510)\" d=\"M 0 0 M80.4133 348.21 L85.2975 348.21 L85.2975 354.09 L80.4133 354.09 L80.4133 348.21 Z\" fill=\"#000000\" fill-rule=\"evenodd\" fill-opacity=\"1\" /><path clip-path=\"url(#clip510)\" d=\"M 0 0 M104.534 335.456 Q107.89 336.173 109.765 338.442 Q111.663 340.71 111.663 344.044 Q111.663 349.159 108.145 351.96 Q104.626 354.761 98.1447 354.761 Q95.9687 354.761 93.6539 354.321 Q91.3623 353.905 88.9086 353.048 L88.9086 348.534 Q90.853 349.669 93.1678 350.247 Q95.4826 350.826 98.0058 350.826 Q102.404 350.826 104.696 349.09 Q107.01 347.354 107.01 344.044 Q107.01 340.988 104.858 339.275 Q102.728 337.539 98.9085 337.539 L94.8808 337.539 L94.8808 333.696 L99.0937 333.696 Q102.543 333.696 104.371 332.331 Q106.2 330.942 106.2 328.349 Q106.2 325.687 104.302 324.275 Q102.427 322.84 98.9085 322.84 Q96.9872 322.84 94.7882 323.257 Q92.5891 323.673 89.9503 324.553 L89.9503 320.386 Q92.6123 319.646 94.9271 319.275 Q97.265 318.905 99.3252 318.905 Q104.649 318.905 107.751 321.335 Q110.853 323.743 110.853 327.863 Q110.853 330.733 109.209 332.724 Q107.566 334.692 104.534 335.456 Z\" fill=\"#000000\" fill-rule=\"evenodd\" fill-opacity=\"1\" /><path clip-path=\"url(#clip510)\" d=\"M 0 0 M54.3023 94.6315 L61.9411 94.6315 L61.9411 68.2659 L53.631 69.9325 L53.631 65.6733 L61.8948 64.0066 L66.5707 64.0066 L66.5707 94.6315 L74.2096 94.6315 L74.2096 98.5666 L54.3023 98.5666 L54.3023 94.6315 Z\" fill=\"#000000\" fill-rule=\"evenodd\" fill-opacity=\"1\" /><path clip-path=\"url(#clip510)\" d=\"M 0 0 M79.279 92.687 L84.1632 92.687 L84.1632 98.5666 L79.279 98.5666 L79.279 92.687 Z\" fill=\"#000000\" fill-rule=\"evenodd\" fill-opacity=\"1\" /><path clip-path=\"url(#clip510)\" d=\"M 0 0 M102.08 68.0807 L90.2743 86.5296 L102.08 86.5296 L102.08 68.0807 M100.853 64.0066 L106.733 64.0066 L106.733 86.5296 L111.663 86.5296 L111.663 90.4185 L106.733 90.4185 L106.733 98.5666 L102.08 98.5666 L102.08 90.4185 L86.478 90.4185 L86.478 85.9047 L100.853 64.0066 Z\" fill=\"#000000\" fill-rule=\"evenodd\" fill-opacity=\"1\" /><polyline clip-path=\"url(#clip512)\" style=\"stroke:#009af9; stroke-width:4; stroke-opacity:1; fill:none\" points=\"\n",
       "  2216.07,1103.38 2216.27,1045.35 2216.84,989.281 2217.77,935.14 2219.03,882.91 2220.59,832.569 2222.43,784.094 2224.53,737.464 2226.86,692.657 2229.4,649.651 \n",
       "  2232.12,608.425 2235.01,568.956 2238.03,531.223 2241.16,495.204 2244.38,460.877 2247.67,428.221 2250.99,397.213 2254.34,367.832 2257.67,340.055 2260.97,313.862 \n",
       "  2264.22,289.23 2267.38,266.138 2270.44,244.563 2273.38,224.485 2276.16,205.88 2278.76,188.728 2281.16,173.006 2283.34,158.692 2285.27,145.766 2286.93,134.204 \n",
       "  2288.29,123.986 2289.33,115.089 2290.02,107.491 2290.35,101.172 2290.28,96.1078 2289.79,92.2783 2288.87,89.661 2287.48,88.2343 2285.59,87.9763 2283.2,88.8651 \n",
       "  2280.27,90.8791 2276.77,93.9963 2272.69,98.195 2268,103.453 2262.68,109.749 2256.69,117.062 2250.03,125.368 2242.66,134.647 2234.56,144.876 2225.71,156.034 \n",
       "  2216.07,168.1 2205.64,181.05 2194.38,194.864 2182.26,209.519 2169.28,224.994 2155.39,241.266 2140.58,258.315 2124.83,276.119 2108.1,294.654 2090.38,313.901 \n",
       "  2071.64,333.836 2051.86,354.438 2031.01,375.686 2009.07,397.557 1986.01,420.029 1961.81,443.082 1936.45,466.692 1909.91,490.838 1882.15,515.499 1853.15,540.653 \n",
       "  1822.9,566.277 1791.36,592.35 1758.51,618.85 1724.33,645.756 1688.8,673.045 1651.89,700.696 1613.57,728.686 1573.82,756.995 1532.62,785.6 1489.94,814.479 \n",
       "  1445.77,843.611 1400.07,872.974 1352.82,902.546 1304,932.305 1253.58,962.23 1201.54,992.298 1147.85,1022.49 1092.5,1052.78 1035.45,1083.15 976.689,1113.57 \n",
       "  916.184,1144.03 853.914,1174.5 789.854,1204.96 723.981,1235.39 656.27,1265.77 586.698,1296.08 515.24,1326.28 441.873,1356.37 366.572,1386.32 289.312,1416.11 \n",
       "  210.071,1445.72 \n",
       "  \"/>\n",
       "<path clip-path=\"url(#clip510)\" d=\"\n",
       "M1983.22 216.178 L2279.25 216.178 L2279.25 95.2176 L1983.22 95.2176  Z\n",
       "  \" fill=\"#ffffff\" fill-rule=\"evenodd\" fill-opacity=\"1\"/>\n",
       "<polyline clip-path=\"url(#clip510)\" style=\"stroke:#000000; stroke-width:4; stroke-opacity:1; fill:none\" points=\"\n",
       "  1983.22,216.178 2279.25,216.178 2279.25,95.2176 1983.22,95.2176 1983.22,216.178 \n",
       "  \"/>\n",
       "<polyline clip-path=\"url(#clip510)\" style=\"stroke:#009af9; stroke-width:4; stroke-opacity:1; fill:none\" points=\"\n",
       "  2007.73,155.698 2154.73,155.698 \n",
       "  \"/>\n",
       "<path clip-path=\"url(#clip510)\" d=\"M 0 0 M2193.08 175.385 Q2191.27 180.015 2189.56 181.427 Q2187.84 182.839 2184.97 182.839 L2181.57 182.839 L2181.57 179.274 L2184.07 179.274 Q2185.83 179.274 2186.8 178.44 Q2187.77 177.607 2188.95 174.505 L2189.72 172.561 L2179.23 147.052 L2183.75 147.052 L2191.85 167.329 L2199.95 147.052 L2204.46 147.052 L2193.08 175.385 Z\" fill=\"#000000\" fill-rule=\"evenodd\" fill-opacity=\"1\" /><path clip-path=\"url(#clip510)\" d=\"M 0 0 M2210.34 169.042 L2217.98 169.042 L2217.98 142.677 L2209.67 144.343 L2209.67 140.084 L2217.94 138.418 L2222.61 138.418 L2222.61 169.042 L2230.25 169.042 L2230.25 172.978 L2210.34 172.978 L2210.34 169.042 Z\" fill=\"#000000\" fill-rule=\"evenodd\" fill-opacity=\"1\" /></svg>\n"
      ]
     },
     "execution_count": 107,
     "metadata": {},
     "output_type": "execute_result"
    }
   ],
   "source": [
    "plot_curve(c,100)"
   ]
  },
  {
   "cell_type": "code",
   "execution_count": 84,
   "metadata": {},
   "outputs": [
    {
     "data": {
      "text/plain": [
       "(Any[0.0, 1.1983999999999999e-5, 4.7872e-5, 0.000107568, 0.00019097599999999998, 0.00029800000000000003, 0.000428544, 0.0005825120000000001, 0.0007598080000000001, 0.0009603359999999999  …  0.999039664, 0.9992401919999999, 0.9994174880000001, 0.999571456, 0.9997020000000001, 0.999809024, 0.999892432, 0.999952128, 0.999988016, 1.0], Any[1.0, 0.999988016, 0.999952128, 0.999892432, 0.9998090239999999, 0.999702, 0.999571456, 0.999417488, 0.9992401919999999, 0.999039664  …  0.0009603359999997654, 0.0007598079999997639, 0.0005825119999997629, 0.00042854399999976163, 0.00029799999999976037, 0.00019097599999975926, 0.00010756799999975817, 4.78719999997571e-5, 1.1983999999756067e-5, -2.4492935982947064e-16])"
      ]
     },
     "execution_count": 84,
     "metadata": {},
     "output_type": "execute_result"
    }
   ],
   "source": [
    "get_curve(c)"
   ]
  }
 ],
 "metadata": {
  "kernelspec": {
   "display_name": "Julia 1.5.3",
   "language": "julia",
   "name": "julia-1.5"
  },
  "language_info": {
   "file_extension": ".jl",
   "mimetype": "application/julia",
   "name": "julia",
   "version": "1.5.3"
  }
 },
 "nbformat": 4,
 "nbformat_minor": 4
}
