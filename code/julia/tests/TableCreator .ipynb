{
 "cells": [
  {
   "cell_type": "code",
   "execution_count": 2,
   "id": "bd3e1530",
   "metadata": {},
   "outputs": [
    {
     "name": "stderr",
     "output_type": "stream",
     "text": [
      "┌ Info: Precompiling CSV [336ed68f-0bac-5ca0-87d4-7b16caf5d00b]\n",
      "└ @ Base loading.jl:1317\n"
     ]
    },
    {
     "data": {
      "text/plain": [
       "3-element Vector{Point}:\n",
       " Point(15, 6.8)\n",
       " Point(15.1, 4)\n",
       " Point(12, 10)"
      ]
     },
     "execution_count": 2,
     "metadata": {},
     "output_type": "execute_result"
    }
   ],
   "source": [
    "using JLD, BenchmarkTools, TexTables, DataFrames,CSV\n",
    "include(\"../src/quickstart.jl\")"
   ]
  },
  {
   "cell_type": "markdown",
   "id": "6b1e7d72",
   "metadata": {},
   "source": [
    "# Single Agent"
   ]
  },
  {
   "cell_type": "code",
   "execution_count": 29,
   "id": "d86b38df",
   "metadata": {},
   "outputs": [
    {
     "data": {
      "text/plain": [
       "1-element Vector{Symbol}:\n",
       " :res_diff4"
      ]
     },
     "execution_count": 29,
     "metadata": {},
     "output_type": "execute_result"
    }
   ],
   "source": [
    "#Diff 1\n",
    "\n",
    "@load \"../0105-res-diff1-s15.jld2\"\n",
    "#Diff 2\n",
    "\n",
    "@load \"../3004-res-diff2-s15.jld2\"\n",
    "#Diff 3\n",
    "\n",
    "@load \"../3004-res-diff3.jld2\"\n",
    "\n",
    "#Diff 4 \n",
    "@load \"../2904-res-diff4.jld2\"\n",
    "\n",
    "\n",
    "\n"
   ]
  },
  {
   "cell_type": "code",
   "execution_count": 30,
   "id": "c411bd34",
   "metadata": {},
   "outputs": [],
   "source": [
    "cols = [\"Road Difficulty\", \"Average Fitness\", \"Average Route Complexity (# control points)\",\" Average planning time /s\"]\n",
    "diffs = [1,2,3,4]\n",
    "\n",
    "d1_fitnesses = res_diff1[2]\n",
    "d2_fitnesses = res_diff2[2]\n",
    "d3_fitnesses = res_diff3[2]\n",
    "d4_fitnesses = res_diff4[2];\n",
    "\n",
    "d1_complexity = map(gen -> map(n -> map(i -> i.phenotype.genotype |> length, n) |> mean,gen),res_diff1[3])\n",
    "d2_complexity = map(gen -> map(n -> map(i -> i.phenotype.genotype |> length, n) |> mean,gen),res_diff2[3])\n",
    "d3_complexity = map(gen -> map(n -> map(i -> i.phenotype.genotype |> length, n) |> mean,gen),res_diff3[3])\n",
    "d4_complexity = map(gen -> map(n -> map(i -> i.phenotype.genotype |> length, n) |> mean,gen),res_diff4[3])\n",
    "\n",
    "d1_time = map(gen -> map(n -> BenchmarkTools.mean(n).time * 10^-9, gen),res_diff1[1])\n",
    "d2_time = map(gen -> map(n -> BenchmarkTools.mean(n).time * 10^-9, gen),res_diff2[1])\n",
    "d3_time = map(gen -> map(n -> BenchmarkTools.mean(n).time * 10^-9, gen),res_diff3[1])\n",
    "d4_time = map(gen -> map(n -> BenchmarkTools.mean(n).time * 10^-9, gen),res_diff4[1]);\n",
    "ns = vcat(1:length(res_diff2[1][1]))\n",
    "ngens = vcat(1:length(res_diff2[1]))\n",
    "fitnesses = [d1_fitnesses,d2_fitnesses,d3_fitnesses,d4_fitnesses]\n",
    "complexities = [d1_complexity,d2_complexity,d3_complexity,d4_complexity]\n",
    "times = [d1_time,d2_time,d3_time,d4_time];"
   ]
  },
  {
   "cell_type": "code",
   "execution_count": 31,
   "id": "54dbb64d",
   "metadata": {},
   "outputs": [
    {
     "data": {
      "text/html": [
       "<table class=\"data-frame\"><thead><tr><th></th><th>RoadDifficulty</th><th>NumberOfGenerations</th><th>PopulationSize</th><th>AvgFitness</th><th>AvgComplexity</th></tr><tr><th></th><th>Int64</th><th>Int64</th><th>Int64</th><th>Float64</th><th>Float64</th></tr></thead><tbody><p>660 rows × 6 columns (omitted printing of 1 columns)</p><tr><th>1</th><td>1</td><td>1</td><td>1</td><td>143.514</td><td>7.66667</td></tr><tr><th>2</th><td>1</td><td>1</td><td>2</td><td>22.3109</td><td>5.8</td></tr><tr><th>3</th><td>1</td><td>1</td><td>3</td><td>26.1869</td><td>6.73333</td></tr><tr><th>4</th><td>1</td><td>1</td><td>4</td><td>21.5083</td><td>7.6</td></tr><tr><th>5</th><td>1</td><td>1</td><td>5</td><td>21.4604</td><td>6.93333</td></tr><tr><th>6</th><td>1</td><td>1</td><td>6</td><td>21.5747</td><td>7.4</td></tr><tr><th>7</th><td>1</td><td>1</td><td>7</td><td>20.701</td><td>5.21429</td></tr><tr><th>8</th><td>1</td><td>1</td><td>8</td><td>20.8053</td><td>7.14286</td></tr><tr><th>9</th><td>1</td><td>1</td><td>9</td><td>20.9725</td><td>6.2</td></tr><tr><th>10</th><td>1</td><td>1</td><td>10</td><td>20.7925</td><td>8.4</td></tr><tr><th>11</th><td>1</td><td>1</td><td>11</td><td>20.5911</td><td>7.0</td></tr><tr><th>12</th><td>1</td><td>1</td><td>12</td><td>20.6803</td><td>7.75</td></tr><tr><th>13</th><td>1</td><td>1</td><td>13</td><td>20.706</td><td>7.125</td></tr><tr><th>14</th><td>1</td><td>1</td><td>14</td><td>20.5789</td><td>8.0</td></tr><tr><th>15</th><td>1</td><td>1</td><td>15</td><td>20.4699</td><td>6.85714</td></tr><tr><th>16</th><td>1</td><td>2</td><td>1</td><td>63.4262</td><td>7.6</td></tr><tr><th>17</th><td>1</td><td>2</td><td>2</td><td>21.9329</td><td>7.0</td></tr><tr><th>18</th><td>1</td><td>2</td><td>3</td><td>20.8104</td><td>4.72727</td></tr><tr><th>19</th><td>1</td><td>2</td><td>4</td><td>20.4831</td><td>5.2</td></tr><tr><th>20</th><td>1</td><td>2</td><td>5</td><td>20.3359</td><td>3.5</td></tr><tr><th>21</th><td>1</td><td>2</td><td>6</td><td>20.2713</td><td>3.4</td></tr><tr><th>22</th><td>1</td><td>2</td><td>7</td><td>20.2917</td><td>3.4</td></tr><tr><th>23</th><td>1</td><td>2</td><td>8</td><td>20.2707</td><td>3.66667</td></tr><tr><th>24</th><td>1</td><td>2</td><td>9</td><td>20.2237</td><td>2.0</td></tr><tr><th>25</th><td>1</td><td>2</td><td>10</td><td>20.2482</td><td>2.5</td></tr><tr><th>26</th><td>1</td><td>2</td><td>11</td><td>20.2237</td><td>2.0</td></tr><tr><th>27</th><td>1</td><td>2</td><td>12</td><td>20.3157</td><td>4.66667</td></tr><tr><th>28</th><td>1</td><td>2</td><td>13</td><td>20.2237</td><td>2.0</td></tr><tr><th>29</th><td>1</td><td>2</td><td>14</td><td>20.2265</td><td>3.0</td></tr><tr><th>30</th><td>1</td><td>2</td><td>15</td><td>20.2699</td><td>4.0</td></tr><tr><th>&vellip;</th><td>&vellip;</td><td>&vellip;</td><td>&vellip;</td><td>&vellip;</td><td>&vellip;</td></tr></tbody></table>"
      ],
      "text/latex": [
       "\\begin{tabular}{r|cccccc}\n",
       "\t& RoadDifficulty & NumberOfGenerations & PopulationSize & AvgFitness & AvgComplexity & \\\\\n",
       "\t\\hline\n",
       "\t& Int64 & Int64 & Int64 & Float64 & Float64 & \\\\\n",
       "\t\\hline\n",
       "\t1 & 1 & 1 & 1 & 143.514 & 7.66667 & $\\dots$ \\\\\n",
       "\t2 & 1 & 1 & 2 & 22.3109 & 5.8 & $\\dots$ \\\\\n",
       "\t3 & 1 & 1 & 3 & 26.1869 & 6.73333 & $\\dots$ \\\\\n",
       "\t4 & 1 & 1 & 4 & 21.5083 & 7.6 & $\\dots$ \\\\\n",
       "\t5 & 1 & 1 & 5 & 21.4604 & 6.93333 & $\\dots$ \\\\\n",
       "\t6 & 1 & 1 & 6 & 21.5747 & 7.4 & $\\dots$ \\\\\n",
       "\t7 & 1 & 1 & 7 & 20.701 & 5.21429 & $\\dots$ \\\\\n",
       "\t8 & 1 & 1 & 8 & 20.8053 & 7.14286 & $\\dots$ \\\\\n",
       "\t9 & 1 & 1 & 9 & 20.9725 & 6.2 & $\\dots$ \\\\\n",
       "\t10 & 1 & 1 & 10 & 20.7925 & 8.4 & $\\dots$ \\\\\n",
       "\t11 & 1 & 1 & 11 & 20.5911 & 7.0 & $\\dots$ \\\\\n",
       "\t12 & 1 & 1 & 12 & 20.6803 & 7.75 & $\\dots$ \\\\\n",
       "\t13 & 1 & 1 & 13 & 20.706 & 7.125 & $\\dots$ \\\\\n",
       "\t14 & 1 & 1 & 14 & 20.5789 & 8.0 & $\\dots$ \\\\\n",
       "\t15 & 1 & 1 & 15 & 20.4699 & 6.85714 & $\\dots$ \\\\\n",
       "\t16 & 1 & 2 & 1 & 63.4262 & 7.6 & $\\dots$ \\\\\n",
       "\t17 & 1 & 2 & 2 & 21.9329 & 7.0 & $\\dots$ \\\\\n",
       "\t18 & 1 & 2 & 3 & 20.8104 & 4.72727 & $\\dots$ \\\\\n",
       "\t19 & 1 & 2 & 4 & 20.4831 & 5.2 & $\\dots$ \\\\\n",
       "\t20 & 1 & 2 & 5 & 20.3359 & 3.5 & $\\dots$ \\\\\n",
       "\t21 & 1 & 2 & 6 & 20.2713 & 3.4 & $\\dots$ \\\\\n",
       "\t22 & 1 & 2 & 7 & 20.2917 & 3.4 & $\\dots$ \\\\\n",
       "\t23 & 1 & 2 & 8 & 20.2707 & 3.66667 & $\\dots$ \\\\\n",
       "\t24 & 1 & 2 & 9 & 20.2237 & 2.0 & $\\dots$ \\\\\n",
       "\t25 & 1 & 2 & 10 & 20.2482 & 2.5 & $\\dots$ \\\\\n",
       "\t26 & 1 & 2 & 11 & 20.2237 & 2.0 & $\\dots$ \\\\\n",
       "\t27 & 1 & 2 & 12 & 20.3157 & 4.66667 & $\\dots$ \\\\\n",
       "\t28 & 1 & 2 & 13 & 20.2237 & 2.0 & $\\dots$ \\\\\n",
       "\t29 & 1 & 2 & 14 & 20.2265 & 3.0 & $\\dots$ \\\\\n",
       "\t30 & 1 & 2 & 15 & 20.2699 & 4.0 & $\\dots$ \\\\\n",
       "\t$\\dots$ & $\\dots$ & $\\dots$ & $\\dots$ & $\\dots$ & $\\dots$ &  \\\\\n",
       "\\end{tabular}\n"
      ],
      "text/plain": [
       "\u001b[1m660×6 DataFrame\u001b[0m\n",
       "\u001b[1m Row \u001b[0m│\u001b[1m RoadDifficulty \u001b[0m\u001b[1m NumberOfGenerations \u001b[0m\u001b[1m PopulationSize \u001b[0m\u001b[1m AvgFitness \u001b[0m\u001b[1m AvgCom\u001b[0m ⋯\n",
       "\u001b[1m     \u001b[0m│\u001b[90m Int64          \u001b[0m\u001b[90m Int64               \u001b[0m\u001b[90m Int64          \u001b[0m\u001b[90m Float64    \u001b[0m\u001b[90m Float6\u001b[0m ⋯\n",
       "─────┼──────────────────────────────────────────────────────────────────────────\n",
       "   1 │              1                    1               1    143.514          ⋯\n",
       "   2 │              1                    1               2     22.3109\n",
       "   3 │              1                    1               3     26.1869\n",
       "   4 │              1                    1               4     21.5083\n",
       "   5 │              1                    1               5     21.4604         ⋯\n",
       "   6 │              1                    1               6     21.5747\n",
       "   7 │              1                    1               7     20.701\n",
       "   8 │              1                    1               8     20.8053\n",
       "   9 │              1                    1               9     20.9725         ⋯\n",
       "  10 │              1                    1              10     20.7925\n",
       "  11 │              1                    1              11     20.5911\n",
       "  ⋮  │       ⋮                  ⋮                 ⋮             ⋮              ⋱\n",
       " 651 │              4                   11               6     20.0383\n",
       " 652 │              4                   11               7     22.2066         ⋯\n",
       " 653 │              4                   11               8     20.4196\n",
       " 654 │              4                   11               9     19.236\n",
       " 655 │              4                   11              10     19.6363\n",
       " 656 │              4                   11              11     19.3231         ⋯\n",
       " 657 │              4                   11              12     20.2219\n",
       " 658 │              4                   11              13     22.4606\n",
       " 659 │              4                   11              14     21.6288\n",
       " 660 │              4                   11              15     19.2819         ⋯\n",
       "\u001b[36m                                                  2 columns and 639 rows omitted\u001b[0m"
      ]
     },
     "execution_count": 31,
     "metadata": {},
     "output_type": "execute_result"
    }
   ],
   "source": [
    "df = DataFrame()\n",
    "for diff in diffs\n",
    "    dfs = []\n",
    "    for i in ngens\n",
    "        append!(dfs,[DataFrame(RoadDifficulty=diff,NumberOfGenerations=i,PopulationSize=ns,AvgFitness=fitnesses[diff][i],AvgComplexity=complexities[diff][i],AvgTime=times[diff][i])])\n",
    "    end\n",
    "    df1 = dfs[1]\n",
    "    for each in dfs[2:end]\n",
    "        append!(df1,each)\n",
    "    end\n",
    "    append!(df,df1)\n",
    "end\n",
    "df\n"
   ]
  },
  {
   "cell_type": "code",
   "execution_count": 101,
   "id": "697d7aab",
   "metadata": {},
   "outputs": [
    {
     "data": {
      "text/plain": [
       "495-element Vector{Float64}:\n",
       " 66.40314915482631\n",
       " 66.40314915482631\n",
       " 66.40314915482631\n",
       " 66.40314915482631\n",
       " 66.40314915482631\n",
       " 66.40314915482631\n",
       " 66.40314915482631\n",
       " 66.40314915482631\n",
       " 66.40314915482631\n",
       " 66.40314915482631\n",
       " 66.40314915482631\n",
       " 66.40314915482631\n",
       " 66.40314915482631\n",
       "  ⋮\n",
       " 66.40314915482631\n",
       " 66.40314915482631\n",
       " 66.40314915482631\n",
       " 66.40314915482631\n",
       " 66.40314915482631\n",
       " 66.40314915482631\n",
       " 66.40314915482631\n",
       " 66.40314915482631\n",
       " 66.40314915482631\n",
       " 66.40314915482631\n",
       " 66.40314915482631\n",
       " 66.40314915482631"
      ]
     },
     "execution_count": 101,
     "metadata": {},
     "output_type": "execute_result"
    }
   ],
   "source": []
  },
  {
   "cell_type": "code",
   "execution_count": 32,
   "id": "f8fcb17a",
   "metadata": {},
   "outputs": [
    {
     "data": {
      "text/plain": [
       "\"./sa-all-data.csv\""
      ]
     },
     "execution_count": 32,
     "metadata": {},
     "output_type": "execute_result"
    }
   ],
   "source": [
    "CSV.write(\"./sa-all-data.csv\",df)"
   ]
  },
  {
   "cell_type": "markdown",
   "id": "3a87a9b7",
   "metadata": {},
   "source": [
    "## Multi Agent Planning"
   ]
  },
  {
   "cell_type": "code",
   "execution_count": 15,
   "id": "9644f103",
   "metadata": {},
   "outputs": [
    {
     "data": {
      "text/plain": [
       "1-element Vector{Symbol}:\n",
       " :mres_diff4"
      ]
     },
     "execution_count": 15,
     "metadata": {},
     "output_type": "execute_result"
    }
   ],
   "source": [
    "\n",
    "# Diff 1 \n",
    "@load \"../mres-diff1-s15.jld2\"\n",
    "\n",
    "# Diff 2\n",
    "@load \"../mres-diff2-s15.jld2\"\n",
    "\n",
    "# Diff 3\n",
    "\n",
    "@load \"../0105-mres-diff3-s15.jld2\"\n",
    "\n",
    "# Diff 4\n",
    "\n",
    "@load \"../3004-mres-diff4-s15.jld2\""
   ]
  },
  {
   "cell_type": "code",
   "execution_count": null,
   "id": "1f7ccc8e",
   "metadata": {},
   "outputs": [],
   "source": [
    "\n"
   ]
  },
  {
   "cell_type": "code",
   "execution_count": 24,
   "id": "aad7a284",
   "metadata": {},
   "outputs": [],
   "source": [
    "cols = [\"Road Difficulty\", \"Average Fitness\", \"Average Route Complexity (# control points)\",\" Average planning time /s\"]\n",
    "diffs = [1,2,3,4]\n",
    "\n",
    "d1_fitnesses = map(gen -> map(n -> n |> mean ,gen),mres_diff1[2])\n",
    "d2_fitnesses = map(gen -> map(n -> n |> mean ,gen),mres_diff2[2])\n",
    "d3_fitnesses = map(gen -> map(n -> n |> mean ,gen),mres_diff3[2])\n",
    "d4_fitnesses = map(gen -> map(n -> n |> mean ,gen),mres_diff4[2])\n",
    "\n",
    "d1_complexity = map(gen -> map(n -> map(i -> i .|> getGenotype  .|> length |> mean, n) |> mean,gen),mres_diff1[3])\n",
    "d2_complexity = map(gen -> map(n -> map(i -> i .|> getGenotype  .|> length |> mean, n) |> mean,gen),mres_diff2[3])\n",
    "d3_complexity = map(gen -> map(n -> map(i -> i .|> getGenotype  .|> length |> mean, n) |> mean,gen),mres_diff3[3])\n",
    "d4_complexity = map(gen -> map(n -> map(i -> i .|> getGenotype  .|> length |> mean, n) |> mean,gen),mres_diff4[3])\n",
    "\n",
    "d1_time = map(gen -> map(n -> BenchmarkTools.mean(n).time * 10^-9, gen),mres_diff1[1])\n",
    "d2_time = map(gen -> map(n -> BenchmarkTools.mean(n).time * 10^-9, gen),mres_diff2[1])\n",
    "d3_time = map(gen -> map(n -> BenchmarkTools.mean(n).time * 10^-9, gen),mres_diff3[1])\n",
    "d4_time = map(gen -> map(n -> BenchmarkTools.mean(n).time * 10^-9, gen),mres_diff4[1]);\n",
    "ns = vcat(1:length(mres_diff2[1][1]))\n",
    "ngens = vcat(1:length(mres_diff2[1]))\n",
    "fitnesses = [d1_fitnesses,d2_fitnesses,d3_fitnesses,d4_fitnesses]\n",
    "complexities = [d1_complexity,d2_complexity,d3_complexity,d4_complexity]\n",
    "times = [d1_time,d2_time,d3_time,d4_time];"
   ]
  },
  {
   "cell_type": "code",
   "execution_count": 28,
   "id": "77aaf134",
   "metadata": {},
   "outputs": [
    {
     "data": {
      "text/html": [
       "<table class=\"data-frame\"><thead><tr><th></th><th>RoadDifficulty</th><th>NumberOfGenerations</th><th>PopulationSize</th><th>AvgFitness</th><th>AvgComplexity</th></tr><tr><th></th><th>Int64</th><th>Int64</th><th>Int64</th><th>Float64</th><th>Float64</th></tr></thead><tbody><p>660 rows × 6 columns (omitted printing of 1 columns)</p><tr><th>1</th><td>1</td><td>1</td><td>1</td><td>677.019</td><td>5.16667</td></tr><tr><th>2</th><td>1</td><td>1</td><td>2</td><td>422.431</td><td>7.55556</td></tr><tr><th>3</th><td>1</td><td>1</td><td>3</td><td>74.5476</td><td>7.25</td></tr><tr><th>4</th><td>1</td><td>1</td><td>4</td><td>285.135</td><td>6.44444</td></tr><tr><th>5</th><td>1</td><td>1</td><td>5</td><td>352.686</td><td>4.22222</td></tr><tr><th>6</th><td>1</td><td>1</td><td>6</td><td>94.6708</td><td>6.11111</td></tr><tr><th>7</th><td>1</td><td>1</td><td>7</td><td>19.4877</td><td>8.0</td></tr><tr><th>8</th><td>1</td><td>1</td><td>8</td><td>78.6808</td><td>4.33333</td></tr><tr><th>9</th><td>1</td><td>1</td><td>9</td><td>54.8686</td><td>5.33333</td></tr><tr><th>10</th><td>1</td><td>1</td><td>10</td><td>18.7887</td><td>6.66667</td></tr><tr><th>11</th><td>1</td><td>1</td><td>11</td><td>73.0824</td><td>7.5</td></tr><tr><th>12</th><td>1</td><td>1</td><td>12</td><td>126.431</td><td>7.0</td></tr><tr><th>13</th><td>1</td><td>1</td><td>13</td><td>18.455</td><td>9.0</td></tr><tr><th>14</th><td>1</td><td>1</td><td>14</td><td>73.5189</td><td>8.5</td></tr><tr><th>15</th><td>1</td><td>1</td><td>15</td><td>19.1561</td><td>9.33333</td></tr><tr><th>16</th><td>1</td><td>2</td><td>1</td><td>291.595</td><td>6.83333</td></tr><tr><th>17</th><td>1</td><td>2</td><td>2</td><td>75.5134</td><td>7.83333</td></tr><tr><th>18</th><td>1</td><td>2</td><td>3</td><td>77.8424</td><td>5.5</td></tr><tr><th>19</th><td>1</td><td>2</td><td>4</td><td>119.992</td><td>5.0</td></tr><tr><th>20</th><td>1</td><td>2</td><td>5</td><td>379.778</td><td>2.83333</td></tr><tr><th>21</th><td>1</td><td>2</td><td>6</td><td>76.729</td><td>3.83333</td></tr><tr><th>22</th><td>1</td><td>2</td><td>7</td><td>18.2043</td><td>3.66667</td></tr><tr><th>23</th><td>1</td><td>2</td><td>8</td><td>17.9795</td><td>2.0</td></tr><tr><th>24</th><td>1</td><td>2</td><td>9</td><td>18.0314</td><td>4.0</td></tr><tr><th>25</th><td>1</td><td>2</td><td>10</td><td>18.0494</td><td>5.0</td></tr><tr><th>26</th><td>1</td><td>2</td><td>11</td><td>18.0552</td><td>3.66667</td></tr><tr><th>27</th><td>1</td><td>2</td><td>12</td><td>134.697</td><td>3.0</td></tr><tr><th>28</th><td>1</td><td>2</td><td>13</td><td>18.0536</td><td>4.0</td></tr><tr><th>29</th><td>1</td><td>2</td><td>14</td><td>740.6</td><td>2.66667</td></tr><tr><th>30</th><td>1</td><td>2</td><td>15</td><td>17.9795</td><td>2.0</td></tr><tr><th>&vellip;</th><td>&vellip;</td><td>&vellip;</td><td>&vellip;</td><td>&vellip;</td><td>&vellip;</td></tr></tbody></table>"
      ],
      "text/latex": [
       "\\begin{tabular}{r|cccccc}\n",
       "\t& RoadDifficulty & NumberOfGenerations & PopulationSize & AvgFitness & AvgComplexity & \\\\\n",
       "\t\\hline\n",
       "\t& Int64 & Int64 & Int64 & Float64 & Float64 & \\\\\n",
       "\t\\hline\n",
       "\t1 & 1 & 1 & 1 & 677.019 & 5.16667 & $\\dots$ \\\\\n",
       "\t2 & 1 & 1 & 2 & 422.431 & 7.55556 & $\\dots$ \\\\\n",
       "\t3 & 1 & 1 & 3 & 74.5476 & 7.25 & $\\dots$ \\\\\n",
       "\t4 & 1 & 1 & 4 & 285.135 & 6.44444 & $\\dots$ \\\\\n",
       "\t5 & 1 & 1 & 5 & 352.686 & 4.22222 & $\\dots$ \\\\\n",
       "\t6 & 1 & 1 & 6 & 94.6708 & 6.11111 & $\\dots$ \\\\\n",
       "\t7 & 1 & 1 & 7 & 19.4877 & 8.0 & $\\dots$ \\\\\n",
       "\t8 & 1 & 1 & 8 & 78.6808 & 4.33333 & $\\dots$ \\\\\n",
       "\t9 & 1 & 1 & 9 & 54.8686 & 5.33333 & $\\dots$ \\\\\n",
       "\t10 & 1 & 1 & 10 & 18.7887 & 6.66667 & $\\dots$ \\\\\n",
       "\t11 & 1 & 1 & 11 & 73.0824 & 7.5 & $\\dots$ \\\\\n",
       "\t12 & 1 & 1 & 12 & 126.431 & 7.0 & $\\dots$ \\\\\n",
       "\t13 & 1 & 1 & 13 & 18.455 & 9.0 & $\\dots$ \\\\\n",
       "\t14 & 1 & 1 & 14 & 73.5189 & 8.5 & $\\dots$ \\\\\n",
       "\t15 & 1 & 1 & 15 & 19.1561 & 9.33333 & $\\dots$ \\\\\n",
       "\t16 & 1 & 2 & 1 & 291.595 & 6.83333 & $\\dots$ \\\\\n",
       "\t17 & 1 & 2 & 2 & 75.5134 & 7.83333 & $\\dots$ \\\\\n",
       "\t18 & 1 & 2 & 3 & 77.8424 & 5.5 & $\\dots$ \\\\\n",
       "\t19 & 1 & 2 & 4 & 119.992 & 5.0 & $\\dots$ \\\\\n",
       "\t20 & 1 & 2 & 5 & 379.778 & 2.83333 & $\\dots$ \\\\\n",
       "\t21 & 1 & 2 & 6 & 76.729 & 3.83333 & $\\dots$ \\\\\n",
       "\t22 & 1 & 2 & 7 & 18.2043 & 3.66667 & $\\dots$ \\\\\n",
       "\t23 & 1 & 2 & 8 & 17.9795 & 2.0 & $\\dots$ \\\\\n",
       "\t24 & 1 & 2 & 9 & 18.0314 & 4.0 & $\\dots$ \\\\\n",
       "\t25 & 1 & 2 & 10 & 18.0494 & 5.0 & $\\dots$ \\\\\n",
       "\t26 & 1 & 2 & 11 & 18.0552 & 3.66667 & $\\dots$ \\\\\n",
       "\t27 & 1 & 2 & 12 & 134.697 & 3.0 & $\\dots$ \\\\\n",
       "\t28 & 1 & 2 & 13 & 18.0536 & 4.0 & $\\dots$ \\\\\n",
       "\t29 & 1 & 2 & 14 & 740.6 & 2.66667 & $\\dots$ \\\\\n",
       "\t30 & 1 & 2 & 15 & 17.9795 & 2.0 & $\\dots$ \\\\\n",
       "\t$\\dots$ & $\\dots$ & $\\dots$ & $\\dots$ & $\\dots$ & $\\dots$ &  \\\\\n",
       "\\end{tabular}\n"
      ],
      "text/plain": [
       "\u001b[1m660×6 DataFrame\u001b[0m\n",
       "\u001b[1m Row \u001b[0m│\u001b[1m RoadDifficulty \u001b[0m\u001b[1m NumberOfGenerations \u001b[0m\u001b[1m PopulationSize \u001b[0m\u001b[1m AvgFitness \u001b[0m\u001b[1m AvgCom\u001b[0m ⋯\n",
       "\u001b[1m     \u001b[0m│\u001b[90m Int64          \u001b[0m\u001b[90m Int64               \u001b[0m\u001b[90m Int64          \u001b[0m\u001b[90m Float64    \u001b[0m\u001b[90m Float6\u001b[0m ⋯\n",
       "─────┼──────────────────────────────────────────────────────────────────────────\n",
       "   1 │              1                    1               1    677.019          ⋯\n",
       "   2 │              1                    1               2    422.431\n",
       "   3 │              1                    1               3     74.5476\n",
       "   4 │              1                    1               4    285.135\n",
       "   5 │              1                    1               5    352.686          ⋯\n",
       "   6 │              1                    1               6     94.6708\n",
       "   7 │              1                    1               7     19.4877\n",
       "   8 │              1                    1               8     78.6808\n",
       "   9 │              1                    1               9     54.8686         ⋯\n",
       "  10 │              1                    1              10     18.7887\n",
       "  11 │              1                    1              11     73.0824\n",
       "  ⋮  │       ⋮                  ⋮                 ⋮             ⋮              ⋱\n",
       " 651 │              4                   11               6     23.0052\n",
       " 652 │              4                   11               7    247.204          ⋯\n",
       " 653 │              4                   11               8    175.736\n",
       " 654 │              4                   11               9    850.091\n",
       " 655 │              4                   11              10     19.6293\n",
       " 656 │              4                   11              11     20.9687         ⋯\n",
       " 657 │              4                   11              12     26.5964\n",
       " 658 │              4                   11              13     21.2095\n",
       " 659 │              4                   11              14     19.7778\n",
       " 660 │              4                   11              15     19.304          ⋯\n",
       "\u001b[36m                                                  2 columns and 639 rows omitted\u001b[0m"
      ]
     },
     "execution_count": 28,
     "metadata": {},
     "output_type": "execute_result"
    }
   ],
   "source": [
    "df = DataFrame()\n",
    "for diff in diffs\n",
    "    dfs = []\n",
    "    for i in ngens\n",
    "        append!(dfs,[DataFrame(RoadDifficulty=diff,NumberOfGenerations=i,PopulationSize=ns,AvgFitness=fitnesses[diff][i],AvgComplexity=complexities[diff][i],AvgTime=times[diff][i])])\n",
    "    end\n",
    "    df1 = dfs[1]\n",
    "    for each in dfs[2:end]\n",
    "        append!(df1,each)\n",
    "    end\n",
    "    append!(df,df1)\n",
    "end\n",
    "df\n"
   ]
  },
  {
   "cell_type": "code",
   "execution_count": 27,
   "id": "40810070",
   "metadata": {},
   "outputs": [
    {
     "data": {
      "text/plain": [
       "\"./ma-all-data.csv\""
      ]
     },
     "execution_count": 27,
     "metadata": {},
     "output_type": "execute_result"
    }
   ],
   "source": [
    "CSV.write(\"./ma-all-data.csv\",df)"
   ]
  }
 ],
 "metadata": {
  "kernelspec": {
   "display_name": "Julia 1.6.0",
   "language": "julia",
   "name": "julia-1.6"
  },
  "language_info": {
   "file_extension": ".jl",
   "mimetype": "application/julia",
   "name": "julia",
   "version": "1.6.1"
  }
 },
 "nbformat": 4,
 "nbformat_minor": 5
}
