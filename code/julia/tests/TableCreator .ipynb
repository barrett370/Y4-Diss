{
 "cells": [
  {
   "cell_type": "code",
   "execution_count": 92,
   "id": "bd3e1530",
   "metadata": {},
   "outputs": [
    {
     "name": "stderr",
     "output_type": "stream",
     "text": [
      "┌ Info: Precompiling CSV [336ed68f-0bac-5ca0-87d4-7b16caf5d00b]\n",
      "└ @ Base loading.jl:1317\n"
     ]
    },
    {
     "data": {
      "text/plain": [
       "3-element Vector{Point}:\n",
       " Point(15, 6.8)\n",
       " Point(15.1, 4)\n",
       " Point(12, 10)"
      ]
     },
     "execution_count": 92,
     "metadata": {},
     "output_type": "execute_result"
    }
   ],
   "source": [
    "using JLD, BenchmarkTools, TexTables, DataFrames,CSV\n",
    "include(\"../src/quickstart.jl\")"
   ]
  },
  {
   "cell_type": "markdown",
   "id": "6b1e7d72",
   "metadata": {},
   "source": [
    "# Single Agent"
   ]
  },
  {
   "cell_type": "code",
   "execution_count": 26,
   "id": "d86b38df",
   "metadata": {},
   "outputs": [
    {
     "data": {
      "text/plain": [
       "1-element Vector{Symbol}:\n",
       " :res_diff4"
      ]
     },
     "execution_count": 26,
     "metadata": {},
     "output_type": "execute_result"
    }
   ],
   "source": [
    "#Diff 1\n",
    "\n",
    "\n",
    "#Diff 2\n",
    "\n",
    "@load \"../3004-res-diff2-s15.jld2\"\n",
    "#Diff 3\n",
    "\n",
    "@load \"../3004-res-diff3.jld2\"\n",
    "\n",
    "#Diff 4 \n",
    "@load \"../2904-res-diff4.jld2\"\n",
    "\n",
    "\n",
    "\n"
   ]
  },
  {
   "cell_type": "code",
   "execution_count": 28,
   "id": "d3d71b6e",
   "metadata": {},
   "outputs": [
    {
     "data": {
      "text/plain": [
       "15-element Vector{Any}:\n",
       " Trial(215.296 μs)\n",
       " Trial(783.456 μs)\n",
       " Trial(5.527 ms)\n",
       " Trial(12.384 ms)\n",
       " Trial(48.908 ms)\n",
       " Trial(99.435 ms)\n",
       " Trial(67.938 ms)\n",
       " Trial(77.455 ms)\n",
       " Trial(85.059 ms)\n",
       " Trial(437.101 ms)\n",
       " Trial(453.423 ms)\n",
       " Trial(669.047 ms)\n",
       " Trial(286.763 ms)\n",
       " Trial(174.205 ms)\n",
       " Trial(971.270 ms)"
      ]
     },
     "execution_count": 28,
     "metadata": {},
     "output_type": "execute_result"
    }
   ],
   "source": [
    "res_diff2[1][1]"
   ]
  },
  {
   "cell_type": "code",
   "execution_count": 96,
   "id": "c411bd34",
   "metadata": {},
   "outputs": [],
   "source": [
    "cols = [\"Road Difficulty\", \"Average Fitness\", \"Average Route Complexity (# control points)\",\" Average planning time /s\"]\n",
    "diffs = [1,2,3,4]\n",
    "\n",
    "d2_fitnesses = res_diff2[2]\n",
    "d3_fitnesses = res_diff3[2]\n",
    "d4_fitnesses = res_diff4[2];\n",
    "\n",
    "d2_complexity = map(gen -> map(n -> map(i -> i.phenotype.genotype |> length, n) |> mean,gen),res_diff2[3])\n",
    "d3_complexity = map(gen -> map(n -> map(i -> i.phenotype.genotype |> length, n) |> mean,gen),res_diff3[3])\n",
    "d4_complexity = map(gen -> map(n -> map(i -> i.phenotype.genotype |> length, n) |> mean,gen),res_diff4[3])\n",
    "\n",
    "d2_time = map(gen -> map(n -> BenchmarkTools.mean(n).time * 10^-9, gen),res_diff2[1])\n",
    "d3_time = map(gen -> map(n -> BenchmarkTools.mean(n).time * 10^-9, gen),res_diff3[1])\n",
    "d4_time = map(gen -> map(n -> BenchmarkTools.mean(n).time * 10^-9, gen),res_diff4[1]);\n",
    "ns = vcat(1:length(res_diff2[1][1]))\n",
    "ngens = vcat(1:length(res_diff2[1]))\n",
    "fitnesses = [[],d2_fitnesses,d3_fitnesses,d4_fitnesses]\n",
    "complexities = [[],d2_complexity,d3_complexity,d4_complexity]\n",
    "times = [[],d2_time,d3_time,d4_time];"
   ]
  },
  {
   "cell_type": "code",
   "execution_count": 104,
   "id": "54dbb64d",
   "metadata": {},
   "outputs": [
    {
     "data": {
      "text/html": [
       "<table class=\"data-frame\"><thead><tr><th></th><th>RoadDifficulty</th><th>NumberOfGeneratins</th><th>PopulationSize</th><th>AvgFitness</th><th>AvgComplexity</th><th>AvgTime</th></tr><tr><th></th><th>Int64</th><th>Int64</th><th>Int64</th><th>Float64</th><th>Float64</th><th>Float64</th></tr></thead><tbody><p>495 rows × 6 columns</p><tr><th>1</th><td>2</td><td>1</td><td>1</td><td>161.938</td><td>6.86667</td><td>0.132316</td></tr><tr><th>2</th><td>2</td><td>1</td><td>2</td><td>87.1635</td><td>6.53333</td><td>0.126825</td></tr><tr><th>3</th><td>2</td><td>1</td><td>3</td><td>66.4031</td><td>7.06667</td><td>0.243508</td></tr><tr><th>4</th><td>2</td><td>1</td><td>4</td><td>77.5294</td><td>7.73333</td><td>0.303822</td></tr><tr><th>5</th><td>2</td><td>1</td><td>5</td><td>81.9449</td><td>6.66667</td><td>0.415248</td></tr><tr><th>6</th><td>2</td><td>1</td><td>6</td><td>92.9154</td><td>6.45455</td><td>0.499254</td></tr><tr><th>7</th><td>2</td><td>1</td><td>7</td><td>71.5068</td><td>7.55556</td><td>0.60526</td></tr><tr><th>8</th><td>2</td><td>1</td><td>8</td><td>72.0472</td><td>7.11111</td><td>0.609479</td></tr><tr><th>9</th><td>2</td><td>1</td><td>9</td><td>41.466</td><td>7.2</td><td>0.513119</td></tr><tr><th>10</th><td>2</td><td>1</td><td>10</td><td>87.9965</td><td>6.85714</td><td>0.783471</td></tr><tr><th>11</th><td>2</td><td>1</td><td>11</td><td>84.9144</td><td>5.85714</td><td>0.762739</td></tr><tr><th>12</th><td>2</td><td>1</td><td>12</td><td>64.1542</td><td>8.0</td><td>1.11369</td></tr><tr><th>13</th><td>2</td><td>1</td><td>13</td><td>77.4909</td><td>5.28571</td><td>0.768891</td></tr><tr><th>14</th><td>2</td><td>1</td><td>14</td><td>61.7121</td><td>6.66667</td><td>0.648995</td></tr><tr><th>15</th><td>2</td><td>1</td><td>15</td><td>71.4501</td><td>7.25</td><td>1.26677</td></tr><tr><th>16</th><td>2</td><td>2</td><td>1</td><td>159.075</td><td>7.0</td><td>0.14696</td></tr><tr><th>17</th><td>2</td><td>2</td><td>2</td><td>36.3013</td><td>6.61538</td><td>0.384898</td></tr><tr><th>18</th><td>2</td><td>2</td><td>3</td><td>25.813</td><td>5.33333</td><td>0.924457</td></tr><tr><th>19</th><td>2</td><td>2</td><td>4</td><td>21.1506</td><td>5.71429</td><td>0.708796</td></tr><tr><th>20</th><td>2</td><td>2</td><td>5</td><td>20.8051</td><td>5.0</td><td>0.590492</td></tr><tr><th>21</th><td>2</td><td>2</td><td>6</td><td>20.6209</td><td>6.0</td><td>6.52908</td></tr><tr><th>22</th><td>2</td><td>2</td><td>7</td><td>20.8513</td><td>9.0</td><td>2.64191</td></tr><tr><th>23</th><td>2</td><td>2</td><td>8</td><td>20.5657</td><td>5.6</td><td>1.2883</td></tr><tr><th>24</th><td>2</td><td>2</td><td>9</td><td>20.4945</td><td>5.75</td><td>1.36043</td></tr><tr><th>25</th><td>2</td><td>2</td><td>10</td><td>20.4764</td><td>5.5</td><td>1.59886</td></tr><tr><th>26</th><td>2</td><td>2</td><td>11</td><td>20.5719</td><td>5.33333</td><td>3.35053</td></tr><tr><th>27</th><td>2</td><td>2</td><td>12</td><td>20.471</td><td>5.5</td><td>3.95555</td></tr><tr><th>28</th><td>2</td><td>2</td><td>13</td><td>20.4672</td><td>5.5</td><td>4.04991</td></tr><tr><th>29</th><td>2</td><td>2</td><td>14</td><td>20.4209</td><td>4.0</td><td>5.32546</td></tr><tr><th>30</th><td>2</td><td>2</td><td>15</td><td>20.507</td><td>5.33333</td><td>2.46084</td></tr><tr><th>&vellip;</th><td>&vellip;</td><td>&vellip;</td><td>&vellip;</td><td>&vellip;</td><td>&vellip;</td><td>&vellip;</td></tr></tbody></table>"
      ],
      "text/latex": [
       "\\begin{tabular}{r|cccccc}\n",
       "\t& RoadDifficulty & NumberOfGeneratins & PopulationSize & AvgFitness & AvgComplexity & AvgTime\\\\\n",
       "\t\\hline\n",
       "\t& Int64 & Int64 & Int64 & Float64 & Float64 & Float64\\\\\n",
       "\t\\hline\n",
       "\t1 & 2 & 1 & 1 & 161.938 & 6.86667 & 0.132316 \\\\\n",
       "\t2 & 2 & 1 & 2 & 87.1635 & 6.53333 & 0.126825 \\\\\n",
       "\t3 & 2 & 1 & 3 & 66.4031 & 7.06667 & 0.243508 \\\\\n",
       "\t4 & 2 & 1 & 4 & 77.5294 & 7.73333 & 0.303822 \\\\\n",
       "\t5 & 2 & 1 & 5 & 81.9449 & 6.66667 & 0.415248 \\\\\n",
       "\t6 & 2 & 1 & 6 & 92.9154 & 6.45455 & 0.499254 \\\\\n",
       "\t7 & 2 & 1 & 7 & 71.5068 & 7.55556 & 0.60526 \\\\\n",
       "\t8 & 2 & 1 & 8 & 72.0472 & 7.11111 & 0.609479 \\\\\n",
       "\t9 & 2 & 1 & 9 & 41.466 & 7.2 & 0.513119 \\\\\n",
       "\t10 & 2 & 1 & 10 & 87.9965 & 6.85714 & 0.783471 \\\\\n",
       "\t11 & 2 & 1 & 11 & 84.9144 & 5.85714 & 0.762739 \\\\\n",
       "\t12 & 2 & 1 & 12 & 64.1542 & 8.0 & 1.11369 \\\\\n",
       "\t13 & 2 & 1 & 13 & 77.4909 & 5.28571 & 0.768891 \\\\\n",
       "\t14 & 2 & 1 & 14 & 61.7121 & 6.66667 & 0.648995 \\\\\n",
       "\t15 & 2 & 1 & 15 & 71.4501 & 7.25 & 1.26677 \\\\\n",
       "\t16 & 2 & 2 & 1 & 159.075 & 7.0 & 0.14696 \\\\\n",
       "\t17 & 2 & 2 & 2 & 36.3013 & 6.61538 & 0.384898 \\\\\n",
       "\t18 & 2 & 2 & 3 & 25.813 & 5.33333 & 0.924457 \\\\\n",
       "\t19 & 2 & 2 & 4 & 21.1506 & 5.71429 & 0.708796 \\\\\n",
       "\t20 & 2 & 2 & 5 & 20.8051 & 5.0 & 0.590492 \\\\\n",
       "\t21 & 2 & 2 & 6 & 20.6209 & 6.0 & 6.52908 \\\\\n",
       "\t22 & 2 & 2 & 7 & 20.8513 & 9.0 & 2.64191 \\\\\n",
       "\t23 & 2 & 2 & 8 & 20.5657 & 5.6 & 1.2883 \\\\\n",
       "\t24 & 2 & 2 & 9 & 20.4945 & 5.75 & 1.36043 \\\\\n",
       "\t25 & 2 & 2 & 10 & 20.4764 & 5.5 & 1.59886 \\\\\n",
       "\t26 & 2 & 2 & 11 & 20.5719 & 5.33333 & 3.35053 \\\\\n",
       "\t27 & 2 & 2 & 12 & 20.471 & 5.5 & 3.95555 \\\\\n",
       "\t28 & 2 & 2 & 13 & 20.4672 & 5.5 & 4.04991 \\\\\n",
       "\t29 & 2 & 2 & 14 & 20.4209 & 4.0 & 5.32546 \\\\\n",
       "\t30 & 2 & 2 & 15 & 20.507 & 5.33333 & 2.46084 \\\\\n",
       "\t$\\dots$ & $\\dots$ & $\\dots$ & $\\dots$ & $\\dots$ & $\\dots$ & $\\dots$ \\\\\n",
       "\\end{tabular}\n"
      ],
      "text/plain": [
       "\u001b[1m495×6 DataFrame\u001b[0m\n",
       "\u001b[1m Row \u001b[0m│\u001b[1m RoadDifficulty \u001b[0m\u001b[1m NumberOfGeneratins \u001b[0m\u001b[1m PopulationSize \u001b[0m\u001b[1m AvgFitness \u001b[0m\u001b[1m AvgComp\u001b[0m ⋯\n",
       "\u001b[1m     \u001b[0m│\u001b[90m Int64          \u001b[0m\u001b[90m Int64              \u001b[0m\u001b[90m Int64          \u001b[0m\u001b[90m Float64    \u001b[0m\u001b[90m Float64\u001b[0m ⋯\n",
       "─────┼──────────────────────────────────────────────────────────────────────────\n",
       "   1 │              2                   1               1    161.938         6 ⋯\n",
       "   2 │              2                   1               2     87.1635        6\n",
       "   3 │              2                   1               3     66.4031        7\n",
       "   4 │              2                   1               4     77.5294        7\n",
       "   5 │              2                   1               5     81.9449        6 ⋯\n",
       "   6 │              2                   1               6     92.9154        6\n",
       "   7 │              2                   1               7     71.5068        7\n",
       "   8 │              2                   1               8     72.0472        7\n",
       "   9 │              2                   1               9     41.466         7 ⋯\n",
       "  10 │              2                   1              10     87.9965        6\n",
       "  11 │              2                   1              11     84.9144        5\n",
       "  ⋮  │       ⋮                 ⋮                 ⋮             ⋮             ⋮ ⋱\n",
       " 486 │              4                  11               6     20.0383        3\n",
       " 487 │              4                  11               7     22.2066        4 ⋯\n",
       " 488 │              4                  11               8     20.4196        4\n",
       " 489 │              4                  11               9     19.236         3\n",
       " 490 │              4                  11              10     19.6363        3\n",
       " 491 │              4                  11              11     19.3231        3 ⋯\n",
       " 492 │              4                  11              12     20.2219        4\n",
       " 493 │              4                  11              13     22.4606        4\n",
       " 494 │              4                  11              14     21.6288        4\n",
       " 495 │              4                  11              15     19.2819        3 ⋯\n",
       "\u001b[36m                                                  2 columns and 474 rows omitted\u001b[0m"
      ]
     },
     "execution_count": 104,
     "metadata": {},
     "output_type": "execute_result"
    }
   ],
   "source": [
    "df = DataFrame()\n",
    "for diff in diffs[2:end]\n",
    "    dfs = []\n",
    "    for i in ngens\n",
    "        append!(dfs,[DataFrame(RoadDifficulty=diff,NumberOfGeneratins=i,PopulationSize=ns,AvgFitness=fitnesses[diff][i],AvgComplexity=complexities[diff][i],AvgTime=times[diff][i])])\n",
    "    end\n",
    "    df1 = dfs[1]\n",
    "    for each in dfs[2:end]\n",
    "        append!(df1,each)\n",
    "    end\n",
    "    append!(df,df1)\n",
    "end\n",
    "df\n"
   ]
  },
  {
   "cell_type": "code",
   "execution_count": 101,
   "id": "697d7aab",
   "metadata": {},
   "outputs": [
    {
     "data": {
      "text/plain": [
       "495-element Vector{Float64}:\n",
       " 66.40314915482631\n",
       " 66.40314915482631\n",
       " 66.40314915482631\n",
       " 66.40314915482631\n",
       " 66.40314915482631\n",
       " 66.40314915482631\n",
       " 66.40314915482631\n",
       " 66.40314915482631\n",
       " 66.40314915482631\n",
       " 66.40314915482631\n",
       " 66.40314915482631\n",
       " 66.40314915482631\n",
       " 66.40314915482631\n",
       "  ⋮\n",
       " 66.40314915482631\n",
       " 66.40314915482631\n",
       " 66.40314915482631\n",
       " 66.40314915482631\n",
       " 66.40314915482631\n",
       " 66.40314915482631\n",
       " 66.40314915482631\n",
       " 66.40314915482631\n",
       " 66.40314915482631\n",
       " 66.40314915482631\n",
       " 66.40314915482631\n",
       " 66.40314915482631"
      ]
     },
     "execution_count": 101,
     "metadata": {},
     "output_type": "execute_result"
    }
   ],
   "source": []
  },
  {
   "cell_type": "code",
   "execution_count": 105,
   "id": "f8fcb17a",
   "metadata": {},
   "outputs": [
    {
     "data": {
      "text/plain": [
       "\"./sa-all-data.csv\""
      ]
     },
     "execution_count": 105,
     "metadata": {},
     "output_type": "execute_result"
    }
   ],
   "source": [
    "CSV.write(\"./sa-all-data.csv\",df)"
   ]
  }
 ],
 "metadata": {
  "kernelspec": {
   "display_name": "Julia 1.6.0",
   "language": "julia",
   "name": "julia-1.6"
  },
  "language_info": {
   "file_extension": ".jl",
   "mimetype": "application/julia",
   "name": "julia",
   "version": "1.6.1"
  }
 },
 "nbformat": 4,
 "nbformat_minor": 5
}
