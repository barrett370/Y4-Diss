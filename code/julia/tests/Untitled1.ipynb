{
 "cells": [
  {
   "cell_type": "code",
   "execution_count": 11,
   "metadata": {},
   "outputs": [],
   "source": [
    "using Plots; plotly()\n",
    "using BenchmarkTools\n",
    "using WebIO"
   ]
  },
  {
   "cell_type": "code",
   "execution_count": 7,
   "metadata": {},
   "outputs": [],
   "source": [
    "benches = []\n",
    "for i in 1:10\n",
    "    gen = []\n",
    "    for j in 1:20\n",
    "        bench = BenchmarkTools.load(\"../benches/bench-$i-$j.json\")\n",
    "        append!(gen,bench)\n",
    "    end\n",
    "    append!(benches,[gen])\n",
    "end\n"
   ]
  },
  {
   "cell_type": "code",
   "execution_count": 15,
   "metadata": {},
   "outputs": [
    {
     "data": {
      "text/plain": [
       "test_gensPopsize (generic function with 3 methods)"
      ]
     },
     "execution_count": 15,
     "metadata": {},
     "output_type": "execute_result"
    }
   ],
   "source": []
  },
  {
   "cell_type": "code",
   "execution_count": 4,
   "metadata": {},
   "outputs": [
    {
     "data": {
      "text/plain": [
       "BenchmarkTools.Trial: \n",
       "  memory estimate:  1.35 MiB\n",
       "  allocs estimate:  42834\n",
       "  --------------\n",
       "  minimum time:     924.309 μs (0.00% GC)\n",
       "  median time:      9.261 ms (0.00% GC)\n",
       "  mean time:        16.383 ms (20.27% GC)\n",
       "  maximum time:     66.423 ms (30.46% GC)\n",
       "  --------------\n",
       "  samples:          306\n",
       "  evals/sample:     1"
      ]
     },
     "execution_count": 4,
     "metadata": {},
     "output_type": "execute_result"
    }
   ],
   "source": [
    "benches[1][1]"
   ]
  },
  {
   "cell_type": "code",
   "execution_count": 28,
   "metadata": {},
   "outputs": [
    {
     "ename": "LoadError",
     "evalue": "\u001b[91mMethodError: no method matching iterate(::BenchmarkTools.Trial)\u001b[39m\n\u001b[91m\u001b[0mClosest candidates are:\u001b[39m\n\u001b[91m\u001b[0m  iterate(\u001b[91m::Tables.DictRowTable\u001b[39m) at /home/sam/.julia/packages/Tables/8FVkV/src/dicts.jl:120\u001b[39m\n\u001b[91m\u001b[0m  iterate(\u001b[91m::Tables.DictRowTable\u001b[39m, \u001b[91m::Any\u001b[39m) at /home/sam/.julia/packages/Tables/8FVkV/src/dicts.jl:120\u001b[39m\n\u001b[91m\u001b[0m  iterate(\u001b[91m::Test.GenericString\u001b[39m) at /build/julia/src/julia-1.5.3/usr/share/julia/stdlib/v1.5/Test/src/Test.jl:1589\u001b[39m\n\u001b[91m\u001b[0m  ...\u001b[39m",
     "output_type": "error",
     "traceback": [
      "\u001b[91mMethodError: no method matching iterate(::BenchmarkTools.Trial)\u001b[39m\n\u001b[91m\u001b[0mClosest candidates are:\u001b[39m\n\u001b[91m\u001b[0m  iterate(\u001b[91m::Tables.DictRowTable\u001b[39m) at /home/sam/.julia/packages/Tables/8FVkV/src/dicts.jl:120\u001b[39m\n\u001b[91m\u001b[0m  iterate(\u001b[91m::Tables.DictRowTable\u001b[39m, \u001b[91m::Any\u001b[39m) at /home/sam/.julia/packages/Tables/8FVkV/src/dicts.jl:120\u001b[39m\n\u001b[91m\u001b[0m  iterate(\u001b[91m::Test.GenericString\u001b[39m) at /build/julia/src/julia-1.5.3/usr/share/julia/stdlib/v1.5/Test/src/Test.jl:1589\u001b[39m\n\u001b[91m\u001b[0m  ...\u001b[39m",
      "",
      "Stacktrace:",
      " [1] iterate at ./generator.jl:44 [inlined]",
      " [2] collect(::Base.Generator{BenchmarkTools.Trial,var\"#3780#3782\"}) at ./array.jl:686",
      " [3] map(::Function, ::BenchmarkTools.Trial) at ./abstractarray.jl:2188",
      " [4] (::var\"#3779#3781\")(::BenchmarkTools.Trial) at /home/sam/git-clones/Y4-Diss/code/julia/tests/single-agent-test.jl:7",
      " [5] iterate at ./generator.jl:47 [inlined]",
      " [6] _collect(::Array{Any,1}, ::Base.Generator{Array{Any,1},var\"#3779#3781\"}, ::Base.EltypeUnknown, ::Base.HasShape{1}) at ./array.jl:699",
      " [7] collect_similar(::Array{Any,1}, ::Base.Generator{Array{Any,1},var\"#3779#3781\"}) at ./array.jl:628",
      " [8] plot_benchmarks(::Array{Any,1}, ::Bool) at /home/sam/git-clones/Y4-Diss/code/julia/tests/single-agent-test.jl:7",
      " [9] top-level scope at In[28]:4"
     ]
    }
   ],
   "source": [
    "include(\"single-agent-test.jl\")\n",
    "gr()\n",
    "plotly()\n",
    "plot_benchmarks(benches,false)"
   ]
  }
 ],
 "metadata": {
  "kernelspec": {
   "display_name": "Julia 1.5.3",
   "language": "julia",
   "name": "julia-1.5"
  },
  "language_info": {
   "file_extension": ".jl",
   "mimetype": "application/julia",
   "name": "julia",
   "version": "1.5.3"
  }
 },
 "nbformat": 4,
 "nbformat_minor": 4
}
