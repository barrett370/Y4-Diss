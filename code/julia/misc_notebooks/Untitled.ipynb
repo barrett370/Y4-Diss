{
 "cells": [
  {
   "cell_type": "code",
   "execution_count": null,
   "id": "selected-lafayette",
   "metadata": {},
   "outputs": [],
   "source": [
    "1+1"
   ]
  }
 ],
 "metadata": {
  "kernelspec": {
   "display_name": "Julia 1.6.0",
   "language": "julia",
   "name": "julia-1.6"
  }
 },
 "nbformat": 4,
 "nbformat_minor": 5
}
