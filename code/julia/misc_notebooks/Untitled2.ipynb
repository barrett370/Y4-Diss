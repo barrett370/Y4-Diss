{
 "cells": [
  {
   "cell_type": "code",
   "execution_count": 2,
   "metadata": {},
   "outputs": [
    {
     "name": "stderr",
     "output_type": "stream",
     "text": [
      "WARNING: using Plots.BezierCurve in module Main conflicts with an existing identifier.\n"
     ]
    },
    {
     "data": {
      "text/plain": [
       "PCGA (generic function with 3 methods)"
      ]
     },
     "execution_count": 2,
     "metadata": {},
     "output_type": "execute_result"
    }
   ],
   "source": [
    "include(\"src/plottingUtils.jl\")\n",
    "include(\"src/parallelCGA.jl\")"
   ]
  },
  {
   "cell_type": "code",
   "execution_count": 3,
   "metadata": {},
   "outputs": [
    {
     "data": {
      "text/plain": [
       "3-element Array{Point,1}:\n",
       " Point(0, 0)\n",
       " Point(1.5, 3.6)\n",
       " Point(3, 0)"
      ]
     },
     "execution_count": 3,
     "metadata": {},
     "output_type": "execute_result"
    }
   ],
   "source": [
    "B1 = [Point(0,0),Point(1.5,3.6),Point(3,0)]"
   ]
  },
  {
   "cell_type": "code",
   "execution_count": 4,
   "metadata": {},
   "outputs": [
    {
     "data": {
      "image/svg+xml": [
       "<?xml version=\"1.0\" encoding=\"utf-8\"?>\n",
       "<svg xmlns=\"http://www.w3.org/2000/svg\" xmlns:xlink=\"http://www.w3.org/1999/xlink\" width=\"600\" height=\"400\" viewBox=\"0 0 2400 1600\">\n",
       "<defs>\n",
       "  <clipPath id=\"clip070\">\n",
       "    <rect x=\"0\" y=\"0\" width=\"2400\" height=\"1600\"/>\n",
       "  </clipPath>\n",
       "</defs>\n",
       "<path clip-path=\"url(#clip070)\" d=\"\n",
       "M0 1600 L2400 1600 L2400 0 L0 0  Z\n",
       "  \" fill=\"#ffffff\" fill-rule=\"evenodd\" fill-opacity=\"1\"/>\n",
       "<defs>\n",
       "  <clipPath id=\"clip071\">\n",
       "    <rect x=\"480\" y=\"0\" width=\"1681\" height=\"1600\"/>\n",
       "  </clipPath>\n",
       "</defs>\n",
       "<path clip-path=\"url(#clip070)\" d=\"\n",
       "M110.881 1486.45 L2352.76 1486.45 L2352.76 47.2441 L110.881 47.2441  Z\n",
       "  \" fill=\"#ffffff\" fill-rule=\"evenodd\" fill-opacity=\"1\"/>\n",
       "<defs>\n",
       "  <clipPath id=\"clip072\">\n",
       "    <rect x=\"110\" y=\"47\" width=\"2243\" height=\"1440\"/>\n",
       "  </clipPath>\n",
       "</defs>\n",
       "<polyline clip-path=\"url(#clip072)\" style=\"stroke:#000000; stroke-width:2; stroke-opacity:0.1; fill:none\" points=\"\n",
       "  174.33,1486.45 174.33,47.2441 \n",
       "  \"/>\n",
       "<polyline clip-path=\"url(#clip072)\" style=\"stroke:#000000; stroke-width:2; stroke-opacity:0.1; fill:none\" points=\"\n",
       "  879.322,1486.45 879.322,47.2441 \n",
       "  \"/>\n",
       "<polyline clip-path=\"url(#clip072)\" style=\"stroke:#000000; stroke-width:2; stroke-opacity:0.1; fill:none\" points=\"\n",
       "  1584.31,1486.45 1584.31,47.2441 \n",
       "  \"/>\n",
       "<polyline clip-path=\"url(#clip072)\" style=\"stroke:#000000; stroke-width:2; stroke-opacity:0.1; fill:none\" points=\"\n",
       "  2289.31,1486.45 2289.31,47.2441 \n",
       "  \"/>\n",
       "<polyline clip-path=\"url(#clip070)\" style=\"stroke:#000000; stroke-width:4; stroke-opacity:1; fill:none\" points=\"\n",
       "  110.881,1486.45 2352.76,1486.45 \n",
       "  \"/>\n",
       "<polyline clip-path=\"url(#clip070)\" style=\"stroke:#000000; stroke-width:4; stroke-opacity:1; fill:none\" points=\"\n",
       "  174.33,1486.45 174.33,1469.18 \n",
       "  \"/>\n",
       "<polyline clip-path=\"url(#clip070)\" style=\"stroke:#000000; stroke-width:4; stroke-opacity:1; fill:none\" points=\"\n",
       "  879.322,1486.45 879.322,1469.18 \n",
       "  \"/>\n",
       "<polyline clip-path=\"url(#clip070)\" style=\"stroke:#000000; stroke-width:4; stroke-opacity:1; fill:none\" points=\"\n",
       "  1584.31,1486.45 1584.31,1469.18 \n",
       "  \"/>\n",
       "<polyline clip-path=\"url(#clip070)\" style=\"stroke:#000000; stroke-width:4; stroke-opacity:1; fill:none\" points=\"\n",
       "  2289.31,1486.45 2289.31,1469.18 \n",
       "  \"/>\n",
       "<path clip-path=\"url(#clip070)\" d=\"M 0 0 M174.33 1515.64 Q170.719 1515.64 168.89 1519.2 Q167.085 1522.75 167.085 1529.87 Q167.085 1536.98 168.89 1540.55 Q170.719 1544.09 174.33 1544.09 Q177.964 1544.09 179.77 1540.55 Q181.599 1536.98 181.599 1529.87 Q181.599 1522.75 179.77 1519.2 Q177.964 1515.64 174.33 1515.64 M174.33 1511.93 Q180.14 1511.93 183.196 1516.54 Q186.275 1521.12 186.275 1529.87 Q186.275 1538.6 183.196 1543.21 Q180.14 1547.79 174.33 1547.79 Q168.52 1547.79 165.441 1543.21 Q162.386 1538.6 162.386 1529.87 Q162.386 1521.12 165.441 1516.54 Q168.52 1511.93 174.33 1511.93 Z\" fill=\"#000000\" fill-rule=\"evenodd\" fill-opacity=\"1\" /><path clip-path=\"url(#clip070)\" d=\"M 0 0 M869.704 1543.18 L877.343 1543.18 L877.343 1516.82 L869.033 1518.49 L869.033 1514.23 L877.297 1512.56 L881.973 1512.56 L881.973 1543.18 L889.612 1543.18 L889.612 1547.12 L869.704 1547.12 L869.704 1543.18 Z\" fill=\"#000000\" fill-rule=\"evenodd\" fill-opacity=\"1\" /><path clip-path=\"url(#clip070)\" d=\"M 0 0 M1578.97 1543.18 L1595.29 1543.18 L1595.29 1547.12 L1573.34 1547.12 L1573.34 1543.18 Q1576 1540.43 1580.59 1535.8 Q1585.19 1531.15 1586.37 1529.81 Q1588.62 1527.28 1589.5 1525.55 Q1590.4 1523.79 1590.4 1522.1 Q1590.4 1519.34 1588.46 1517.61 Q1586.54 1515.87 1583.43 1515.87 Q1581.24 1515.87 1578.78 1516.63 Q1576.35 1517.4 1573.57 1518.95 L1573.57 1514.23 Q1576.4 1513.09 1578.85 1512.51 Q1581.31 1511.93 1583.34 1511.93 Q1588.71 1511.93 1591.91 1514.62 Q1595.1 1517.31 1595.1 1521.8 Q1595.1 1523.93 1594.29 1525.85 Q1593.5 1527.74 1591.4 1530.34 Q1590.82 1531.01 1587.72 1534.23 Q1584.62 1537.42 1578.97 1543.18 Z\" fill=\"#000000\" fill-rule=\"evenodd\" fill-opacity=\"1\" /><path clip-path=\"url(#clip070)\" d=\"M 0 0 M2293.55 1528.49 Q2296.91 1529.2 2298.79 1531.47 Q2300.68 1533.74 2300.68 1537.07 Q2300.68 1542.19 2297.17 1544.99 Q2293.65 1547.79 2287.17 1547.79 Q2284.99 1547.79 2282.67 1547.35 Q2280.38 1546.93 2277.93 1546.08 L2277.93 1541.56 Q2279.87 1542.7 2282.19 1543.28 Q2284.5 1543.86 2287.03 1543.86 Q2291.42 1543.86 2293.72 1542.12 Q2296.03 1540.38 2296.03 1537.07 Q2296.03 1534.02 2293.88 1532.31 Q2291.75 1530.57 2287.93 1530.57 L2283.9 1530.57 L2283.9 1526.73 L2288.11 1526.73 Q2291.56 1526.73 2293.39 1525.36 Q2295.22 1523.97 2295.22 1521.38 Q2295.22 1518.72 2293.32 1517.31 Q2291.45 1515.87 2287.93 1515.87 Q2286.01 1515.87 2283.81 1516.29 Q2281.61 1516.7 2278.97 1517.58 L2278.97 1513.42 Q2281.63 1512.68 2283.95 1512.31 Q2286.29 1511.93 2288.35 1511.93 Q2293.67 1511.93 2296.77 1514.37 Q2299.87 1516.77 2299.87 1520.89 Q2299.87 1523.76 2298.23 1525.75 Q2296.59 1527.72 2293.55 1528.49 Z\" fill=\"#000000\" fill-rule=\"evenodd\" fill-opacity=\"1\" /><polyline clip-path=\"url(#clip072)\" style=\"stroke:#000000; stroke-width:2; stroke-opacity:0.1; fill:none\" points=\"\n",
       "  110.881,1445.72 2352.76,1445.72 \n",
       "  \"/>\n",
       "<polyline clip-path=\"url(#clip072)\" style=\"stroke:#000000; stroke-width:2; stroke-opacity:0.1; fill:none\" points=\"\n",
       "  110.881,1068.57 2352.76,1068.57 \n",
       "  \"/>\n",
       "<polyline clip-path=\"url(#clip072)\" style=\"stroke:#000000; stroke-width:2; stroke-opacity:0.1; fill:none\" points=\"\n",
       "  110.881,691.416 2352.76,691.416 \n",
       "  \"/>\n",
       "<polyline clip-path=\"url(#clip072)\" style=\"stroke:#000000; stroke-width:2; stroke-opacity:0.1; fill:none\" points=\"\n",
       "  110.881,314.266 2352.76,314.266 \n",
       "  \"/>\n",
       "<polyline clip-path=\"url(#clip070)\" style=\"stroke:#000000; stroke-width:4; stroke-opacity:1; fill:none\" points=\"\n",
       "  110.881,1486.45 110.881,47.2441 \n",
       "  \"/>\n",
       "<polyline clip-path=\"url(#clip070)\" style=\"stroke:#000000; stroke-width:4; stroke-opacity:1; fill:none\" points=\"\n",
       "  110.881,1445.72 137.783,1445.72 \n",
       "  \"/>\n",
       "<polyline clip-path=\"url(#clip070)\" style=\"stroke:#000000; stroke-width:4; stroke-opacity:1; fill:none\" points=\"\n",
       "  110.881,1068.57 137.783,1068.57 \n",
       "  \"/>\n",
       "<polyline clip-path=\"url(#clip070)\" style=\"stroke:#000000; stroke-width:4; stroke-opacity:1; fill:none\" points=\"\n",
       "  110.881,691.416 137.783,691.416 \n",
       "  \"/>\n",
       "<polyline clip-path=\"url(#clip070)\" style=\"stroke:#000000; stroke-width:4; stroke-opacity:1; fill:none\" points=\"\n",
       "  110.881,314.266 137.783,314.266 \n",
       "  \"/>\n",
       "<path clip-path=\"url(#clip070)\" d=\"M 0 0 M62.9365 1431.51 Q59.3254 1431.51 57.4967 1435.08 Q55.6912 1438.62 55.6912 1445.75 Q55.6912 1452.86 57.4967 1456.42 Q59.3254 1459.96 62.9365 1459.96 Q66.5707 1459.96 68.3763 1456.42 Q70.205 1452.86 70.205 1445.75 Q70.205 1438.62 68.3763 1435.08 Q66.5707 1431.51 62.9365 1431.51 M62.9365 1427.81 Q68.7467 1427.81 71.8022 1432.42 Q74.8809 1437 74.8809 1445.75 Q74.8809 1454.48 71.8022 1459.08 Q68.7467 1463.67 62.9365 1463.67 Q57.1264 1463.67 54.0477 1459.08 Q50.9921 1454.48 50.9921 1445.75 Q50.9921 1437 54.0477 1432.42 Q57.1264 1427.81 62.9365 1427.81 Z\" fill=\"#000000\" fill-rule=\"evenodd\" fill-opacity=\"1\" /><path clip-path=\"url(#clip070)\" d=\"M 0 0 M54.9736 1081.91 L62.6124 1081.91 L62.6124 1055.55 L54.3023 1057.21 L54.3023 1052.95 L62.5661 1051.29 L67.242 1051.29 L67.242 1081.91 L74.8809 1081.91 L74.8809 1085.85 L54.9736 1085.85 L54.9736 1081.91 Z\" fill=\"#000000\" fill-rule=\"evenodd\" fill-opacity=\"1\" /><path clip-path=\"url(#clip070)\" d=\"M 0 0 M58.5615 704.761 L74.8809 704.761 L74.8809 708.696 L52.9366 708.696 L52.9366 704.761 Q55.5986 702.006 60.1819 697.377 Q64.7883 692.724 65.9689 691.381 Q68.2143 688.858 69.0939 687.122 Q69.9967 685.363 69.9967 683.673 Q69.9967 680.918 68.0522 679.182 Q66.1309 677.446 63.0291 677.446 Q60.83 677.446 58.3763 678.21 Q55.9458 678.974 53.168 680.525 L53.168 675.803 Q55.9921 674.668 58.4458 674.09 Q60.8995 673.511 62.9365 673.511 Q68.3068 673.511 71.5013 676.196 Q74.6957 678.881 74.6957 683.372 Q74.6957 685.502 73.8855 687.423 Q73.0985 689.321 70.992 691.914 Q70.4133 692.585 67.3115 695.803 Q64.2096 698.997 58.5615 704.761 Z\" fill=\"#000000\" fill-rule=\"evenodd\" fill-opacity=\"1\" /><path clip-path=\"url(#clip070)\" d=\"M 0 0 M67.7513 312.912 Q71.1078 313.63 72.9827 315.898 Q74.8809 318.167 74.8809 321.5 Q74.8809 326.616 71.3624 329.417 Q67.8439 332.217 61.3624 332.217 Q59.1865 332.217 56.8717 331.778 Q54.5801 331.361 52.1264 330.505 L52.1264 325.991 Q54.0708 327.125 56.3856 327.704 Q58.7004 328.282 61.2236 328.282 Q65.6217 328.282 67.9133 326.546 Q70.2281 324.81 70.2281 321.5 Q70.2281 318.444 68.0754 316.731 Q65.9457 314.995 62.1263 314.995 L58.0986 314.995 L58.0986 311.153 L62.3115 311.153 Q65.7606 311.153 67.5893 309.787 Q69.418 308.398 69.418 305.806 Q69.418 303.144 67.5198 301.732 Q65.6448 300.296 62.1263 300.296 Q60.205 300.296 58.006 300.713 Q55.8069 301.13 53.168 302.009 L53.168 297.843 Q55.8301 297.102 58.1449 296.732 Q60.4828 296.361 62.543 296.361 Q67.867 296.361 70.9689 298.792 Q74.0707 301.199 74.0707 305.319 Q74.0707 308.19 72.4272 310.181 Q70.7837 312.148 67.7513 312.912 Z\" fill=\"#000000\" fill-rule=\"evenodd\" fill-opacity=\"1\" /><polyline clip-path=\"url(#clip072)\" style=\"stroke:#009af9; stroke-width:4; stroke-opacity:1; fill:none\" points=\"\n",
       "  174.33,1445.72 195.48,1418.83 216.63,1392.49 237.779,1366.7 258.929,1341.44 280.079,1316.73 301.229,1292.56 322.379,1268.94 343.528,1245.86 364.678,1223.32 \n",
       "  385.828,1201.32 406.978,1179.87 428.127,1158.96 449.277,1138.6 470.427,1118.77 491.577,1099.49 512.726,1080.76 533.876,1062.56 555.026,1044.91 576.176,1027.8 \n",
       "  597.325,1011.24 618.475,995.218 639.625,979.74 660.775,964.804 681.925,950.412 703.074,936.563 724.224,923.258 745.374,910.495 766.524,898.275 787.673,886.599 \n",
       "  808.823,875.465 829.973,864.875 851.123,854.827 872.272,845.323 893.422,836.362 914.572,827.944 935.722,820.069 956.871,812.738 978.021,805.949 999.171,799.703 \n",
       "  1020.32,794.001 1041.47,788.841 1062.62,784.225 1083.77,780.152 1104.92,776.622 1126.07,773.635 1147.22,771.191 1168.37,769.29 1189.52,767.932 1210.67,767.118 \n",
       "  1231.82,766.846 1252.97,767.118 1274.12,767.932 1295.27,769.29 1316.42,771.191 1337.57,773.635 1358.72,776.622 1379.87,780.152 1401.02,784.225 1422.17,788.841 \n",
       "  1443.32,794.001 1464.47,799.703 1485.62,805.949 1506.77,812.738 1527.92,820.069 1549.06,827.944 1570.21,836.362 1591.36,845.323 1612.51,854.827 1633.66,864.875 \n",
       "  1654.81,875.465 1675.96,886.599 1697.11,898.275 1718.26,910.495 1739.41,923.258 1760.56,936.563 1781.71,950.412 1802.86,964.804 1824.01,979.74 1845.16,995.218 \n",
       "  1866.31,1011.24 1887.46,1027.8 1908.61,1044.91 1929.76,1062.56 1950.91,1080.76 1972.06,1099.49 1993.21,1118.77 2014.36,1138.6 2035.51,1158.96 2056.66,1179.87 \n",
       "  2077.81,1201.32 2098.96,1223.32 2120.11,1245.86 2141.26,1268.94 2162.41,1292.56 2183.56,1316.73 2204.71,1341.44 2225.86,1366.7 2247.01,1392.49 2268.16,1418.83 \n",
       "  2289.31,1445.72 \n",
       "  \"/>\n",
       "<circle clip-path=\"url(#clip072)\" cx=\"174.33\" cy=\"1445.72\" r=\"14\" fill=\"#e26f46\" fill-rule=\"evenodd\" fill-opacity=\"1\" stroke=\"#000000\" stroke-opacity=\"1\" stroke-width=\"3.2\"/>\n",
       "<circle clip-path=\"url(#clip072)\" cx=\"1231.82\" cy=\"87.9763\" r=\"14\" fill=\"#3da44d\" fill-rule=\"evenodd\" fill-opacity=\"1\" stroke=\"#000000\" stroke-opacity=\"1\" stroke-width=\"3.2\"/>\n",
       "<circle clip-path=\"url(#clip072)\" cx=\"2289.31\" cy=\"1445.72\" r=\"14\" fill=\"#c271d2\" fill-rule=\"evenodd\" fill-opacity=\"1\" stroke=\"#000000\" stroke-opacity=\"1\" stroke-width=\"3.2\"/>\n",
       "</svg>\n"
      ]
     },
     "execution_count": 4,
     "metadata": {},
     "output_type": "execute_result"
    }
   ],
   "source": [
    "plt = plot_curve(B1,100)\n",
    "plot_control_points!(plt,B1)\n",
    "plt"
   ]
  },
  {
   "cell_type": "code",
   "execution_count": 5,
   "metadata": {},
   "outputs": [
    {
     "data": {
      "text/plain": [
       "3-element Array{Point,1}:\n",
       " Point(0, 3)\n",
       " Point(1.5, -2)\n",
       " Point(3, 3)"
      ]
     },
     "execution_count": 5,
     "metadata": {},
     "output_type": "execute_result"
    }
   ],
   "source": [
    "B2 = [Point(0,3),Point(1.5,-2),Point(3,3)]"
   ]
  },
  {
   "cell_type": "code",
   "execution_count": 6,
   "metadata": {},
   "outputs": [
    {
     "data": {
      "image/svg+xml": [
       "<?xml version=\"1.0\" encoding=\"utf-8\"?>\n",
       "<svg xmlns=\"http://www.w3.org/2000/svg\" xmlns:xlink=\"http://www.w3.org/1999/xlink\" width=\"600\" height=\"400\" viewBox=\"0 0 2400 1600\">\n",
       "<defs>\n",
       "  <clipPath id=\"clip110\">\n",
       "    <rect x=\"0\" y=\"0\" width=\"2400\" height=\"1600\"/>\n",
       "  </clipPath>\n",
       "</defs>\n",
       "<path clip-path=\"url(#clip110)\" d=\"\n",
       "M0 1600 L2400 1600 L2400 0 L0 0  Z\n",
       "  \" fill=\"#ffffff\" fill-rule=\"evenodd\" fill-opacity=\"1\"/>\n",
       "<defs>\n",
       "  <clipPath id=\"clip111\">\n",
       "    <rect x=\"480\" y=\"0\" width=\"1681\" height=\"1600\"/>\n",
       "  </clipPath>\n",
       "</defs>\n",
       "<path clip-path=\"url(#clip110)\" d=\"\n",
       "M142.455 1486.45 L2352.76 1486.45 L2352.76 47.2441 L142.455 47.2441  Z\n",
       "  \" fill=\"#ffffff\" fill-rule=\"evenodd\" fill-opacity=\"1\"/>\n",
       "<defs>\n",
       "  <clipPath id=\"clip112\">\n",
       "    <rect x=\"142\" y=\"47\" width=\"2211\" height=\"1440\"/>\n",
       "  </clipPath>\n",
       "</defs>\n",
       "<polyline clip-path=\"url(#clip112)\" style=\"stroke:#000000; stroke-width:2; stroke-opacity:0.1; fill:none\" points=\"\n",
       "  205.01,1486.45 205.01,47.2441 \n",
       "  \"/>\n",
       "<polyline clip-path=\"url(#clip112)\" style=\"stroke:#000000; stroke-width:2; stroke-opacity:0.1; fill:none\" points=\"\n",
       "  900.074,1486.45 900.074,47.2441 \n",
       "  \"/>\n",
       "<polyline clip-path=\"url(#clip112)\" style=\"stroke:#000000; stroke-width:2; stroke-opacity:0.1; fill:none\" points=\"\n",
       "  1595.14,1486.45 1595.14,47.2441 \n",
       "  \"/>\n",
       "<polyline clip-path=\"url(#clip112)\" style=\"stroke:#000000; stroke-width:2; stroke-opacity:0.1; fill:none\" points=\"\n",
       "  2290.2,1486.45 2290.2,47.2441 \n",
       "  \"/>\n",
       "<polyline clip-path=\"url(#clip110)\" style=\"stroke:#000000; stroke-width:4; stroke-opacity:1; fill:none\" points=\"\n",
       "  142.455,1486.45 2352.76,1486.45 \n",
       "  \"/>\n",
       "<polyline clip-path=\"url(#clip110)\" style=\"stroke:#000000; stroke-width:4; stroke-opacity:1; fill:none\" points=\"\n",
       "  205.01,1486.45 205.01,1469.18 \n",
       "  \"/>\n",
       "<polyline clip-path=\"url(#clip110)\" style=\"stroke:#000000; stroke-width:4; stroke-opacity:1; fill:none\" points=\"\n",
       "  900.074,1486.45 900.074,1469.18 \n",
       "  \"/>\n",
       "<polyline clip-path=\"url(#clip110)\" style=\"stroke:#000000; stroke-width:4; stroke-opacity:1; fill:none\" points=\"\n",
       "  1595.14,1486.45 1595.14,1469.18 \n",
       "  \"/>\n",
       "<polyline clip-path=\"url(#clip110)\" style=\"stroke:#000000; stroke-width:4; stroke-opacity:1; fill:none\" points=\"\n",
       "  2290.2,1486.45 2290.2,1469.18 \n",
       "  \"/>\n",
       "<path clip-path=\"url(#clip110)\" d=\"M 0 0 M205.01 1515.64 Q201.399 1515.64 199.571 1519.2 Q197.765 1522.75 197.765 1529.87 Q197.765 1536.98 199.571 1540.55 Q201.399 1544.09 205.01 1544.09 Q208.645 1544.09 210.45 1540.55 Q212.279 1536.98 212.279 1529.87 Q212.279 1522.75 210.45 1519.2 Q208.645 1515.64 205.01 1515.64 M205.01 1511.93 Q210.821 1511.93 213.876 1516.54 Q216.955 1521.12 216.955 1529.87 Q216.955 1538.6 213.876 1543.21 Q210.821 1547.79 205.01 1547.79 Q199.2 1547.79 196.122 1543.21 Q193.066 1538.6 193.066 1529.87 Q193.066 1521.12 196.122 1516.54 Q199.2 1511.93 205.01 1511.93 Z\" fill=\"#000000\" fill-rule=\"evenodd\" fill-opacity=\"1\" /><path clip-path=\"url(#clip110)\" d=\"M 0 0 M890.456 1543.18 L898.095 1543.18 L898.095 1516.82 L889.784 1518.49 L889.784 1514.23 L898.048 1512.56 L902.724 1512.56 L902.724 1543.18 L910.363 1543.18 L910.363 1547.12 L890.456 1547.12 L890.456 1543.18 Z\" fill=\"#000000\" fill-rule=\"evenodd\" fill-opacity=\"1\" /><path clip-path=\"url(#clip110)\" d=\"M 0 0 M1589.79 1543.18 L1606.11 1543.18 L1606.11 1547.12 L1584.16 1547.12 L1584.16 1543.18 Q1586.83 1540.43 1591.41 1535.8 Q1596.02 1531.15 1597.2 1529.81 Q1599.44 1527.28 1600.32 1525.55 Q1601.22 1523.79 1601.22 1522.1 Q1601.22 1519.34 1599.28 1517.61 Q1597.36 1515.87 1594.26 1515.87 Q1592.06 1515.87 1589.6 1516.63 Q1587.17 1517.4 1584.4 1518.95 L1584.4 1514.23 Q1587.22 1513.09 1589.67 1512.51 Q1592.13 1511.93 1594.16 1511.93 Q1599.54 1511.93 1602.73 1514.62 Q1605.92 1517.31 1605.92 1521.8 Q1605.92 1523.93 1605.11 1525.85 Q1604.33 1527.74 1602.22 1530.34 Q1601.64 1531.01 1598.54 1534.23 Q1595.44 1537.42 1589.79 1543.18 Z\" fill=\"#000000\" fill-rule=\"evenodd\" fill-opacity=\"1\" /><path clip-path=\"url(#clip110)\" d=\"M 0 0 M2294.45 1528.49 Q2297.8 1529.2 2299.68 1531.47 Q2301.58 1533.74 2301.58 1537.07 Q2301.58 1542.19 2298.06 1544.99 Q2294.54 1547.79 2288.06 1547.79 Q2285.88 1547.79 2283.57 1547.35 Q2281.28 1546.93 2278.82 1546.08 L2278.82 1541.56 Q2280.77 1542.7 2283.08 1543.28 Q2285.4 1543.86 2287.92 1543.86 Q2292.32 1543.86 2294.61 1542.12 Q2296.92 1540.38 2296.92 1537.07 Q2296.92 1534.02 2294.77 1532.31 Q2292.64 1530.57 2288.82 1530.57 L2284.8 1530.57 L2284.8 1526.73 L2289.01 1526.73 Q2292.46 1526.73 2294.29 1525.36 Q2296.11 1523.97 2296.11 1521.38 Q2296.11 1518.72 2294.22 1517.31 Q2292.34 1515.87 2288.82 1515.87 Q2286.9 1515.87 2284.7 1516.29 Q2282.5 1516.7 2279.86 1517.58 L2279.86 1513.42 Q2282.53 1512.68 2284.84 1512.31 Q2287.18 1511.93 2289.24 1511.93 Q2294.56 1511.93 2297.67 1514.37 Q2300.77 1516.77 2300.77 1520.89 Q2300.77 1523.76 2299.12 1525.75 Q2297.48 1527.72 2294.45 1528.49 Z\" fill=\"#000000\" fill-rule=\"evenodd\" fill-opacity=\"1\" /><polyline clip-path=\"url(#clip112)\" style=\"stroke:#000000; stroke-width:2; stroke-opacity:0.1; fill:none\" points=\"\n",
       "  142.455,1445.72 2352.76,1445.72 \n",
       "  \"/>\n",
       "<polyline clip-path=\"url(#clip112)\" style=\"stroke:#000000; stroke-width:2; stroke-opacity:0.1; fill:none\" points=\"\n",
       "  142.455,1203.26 2352.76,1203.26 \n",
       "  \"/>\n",
       "<polyline clip-path=\"url(#clip112)\" style=\"stroke:#000000; stroke-width:2; stroke-opacity:0.1; fill:none\" points=\"\n",
       "  142.455,960.809 2352.76,960.809 \n",
       "  \"/>\n",
       "<polyline clip-path=\"url(#clip112)\" style=\"stroke:#000000; stroke-width:2; stroke-opacity:0.1; fill:none\" points=\"\n",
       "  142.455,718.355 2352.76,718.355 \n",
       "  \"/>\n",
       "<polyline clip-path=\"url(#clip112)\" style=\"stroke:#000000; stroke-width:2; stroke-opacity:0.1; fill:none\" points=\"\n",
       "  142.455,475.902 2352.76,475.902 \n",
       "  \"/>\n",
       "<polyline clip-path=\"url(#clip112)\" style=\"stroke:#000000; stroke-width:2; stroke-opacity:0.1; fill:none\" points=\"\n",
       "  142.455,233.448 2352.76,233.448 \n",
       "  \"/>\n",
       "<polyline clip-path=\"url(#clip110)\" style=\"stroke:#000000; stroke-width:4; stroke-opacity:1; fill:none\" points=\"\n",
       "  142.455,1486.45 142.455,47.2441 \n",
       "  \"/>\n",
       "<polyline clip-path=\"url(#clip110)\" style=\"stroke:#000000; stroke-width:4; stroke-opacity:1; fill:none\" points=\"\n",
       "  142.455,1445.72 168.978,1445.72 \n",
       "  \"/>\n",
       "<polyline clip-path=\"url(#clip110)\" style=\"stroke:#000000; stroke-width:4; stroke-opacity:1; fill:none\" points=\"\n",
       "  142.455,1203.26 168.978,1203.26 \n",
       "  \"/>\n",
       "<polyline clip-path=\"url(#clip110)\" style=\"stroke:#000000; stroke-width:4; stroke-opacity:1; fill:none\" points=\"\n",
       "  142.455,960.809 168.978,960.809 \n",
       "  \"/>\n",
       "<polyline clip-path=\"url(#clip110)\" style=\"stroke:#000000; stroke-width:4; stroke-opacity:1; fill:none\" points=\"\n",
       "  142.455,718.355 168.978,718.355 \n",
       "  \"/>\n",
       "<polyline clip-path=\"url(#clip110)\" style=\"stroke:#000000; stroke-width:4; stroke-opacity:1; fill:none\" points=\"\n",
       "  142.455,475.902 168.978,475.902 \n",
       "  \"/>\n",
       "<polyline clip-path=\"url(#clip110)\" style=\"stroke:#000000; stroke-width:4; stroke-opacity:1; fill:none\" points=\"\n",
       "  142.455,233.448 168.978,233.448 \n",
       "  \"/>\n",
       "<path clip-path=\"url(#clip110)\" d=\"M 0 0 M51.3625 1446.17 L81.0383 1446.17 L81.0383 1450.1 L51.3625 1450.1 L51.3625 1446.17 Z\" fill=\"#000000\" fill-rule=\"evenodd\" fill-opacity=\"1\" /><path clip-path=\"url(#clip110)\" d=\"M 0 0 M90.1354 1459.06 L106.455 1459.06 L106.455 1463 L84.5105 1463 L84.5105 1459.06 Q87.1725 1456.31 91.7558 1451.68 Q96.3623 1447.02 97.5428 1445.68 Q99.7882 1443.16 100.668 1441.42 Q101.571 1439.66 101.571 1437.97 Q101.571 1435.22 99.6261 1433.48 Q97.7048 1431.75 94.603 1431.75 Q92.4039 1431.75 89.9503 1432.51 Q87.5197 1433.27 84.7419 1434.82 L84.7419 1430.1 Q87.566 1428.97 90.0197 1428.39 Q92.4734 1427.81 94.5104 1427.81 Q99.8808 1427.81 103.075 1430.5 Q106.27 1433.18 106.27 1437.67 Q106.27 1439.8 105.459 1441.72 Q104.672 1443.62 102.566 1446.21 Q101.987 1446.88 98.8854 1450.1 Q95.7836 1453.3 90.1354 1459.06 Z\" fill=\"#000000\" fill-rule=\"evenodd\" fill-opacity=\"1\" /><path clip-path=\"url(#clip110)\" d=\"M 0 0 M50.9921 1203.71 L80.6679 1203.71 L80.6679 1207.65 L50.9921 1207.65 L50.9921 1203.71 Z\" fill=\"#000000\" fill-rule=\"evenodd\" fill-opacity=\"1\" /><path clip-path=\"url(#clip110)\" d=\"M 0 0 M86.5475 1216.61 L94.1863 1216.61 L94.1863 1190.24 L85.8762 1191.91 L85.8762 1187.65 L94.14 1185.98 L98.8159 1185.98 L98.8159 1216.61 L106.455 1216.61 L106.455 1220.54 L86.5475 1220.54 L86.5475 1216.61 Z\" fill=\"#000000\" fill-rule=\"evenodd\" fill-opacity=\"1\" /><path clip-path=\"url(#clip110)\" d=\"M 0 0 M94.5104 946.607 Q90.8993 946.607 89.0706 950.172 Q87.2651 953.714 87.2651 960.843 Q87.2651 967.95 89.0706 971.515 Q90.8993 975.056 94.5104 975.056 Q98.1447 975.056 99.9502 971.515 Q101.779 967.95 101.779 960.843 Q101.779 953.714 99.9502 950.172 Q98.1447 946.607 94.5104 946.607 M94.5104 942.904 Q100.321 942.904 103.376 947.51 Q106.455 952.094 106.455 960.843 Q106.455 969.57 103.376 974.177 Q100.321 978.76 94.5104 978.76 Q88.7003 978.76 85.6216 974.177 Q82.566 969.57 82.566 960.843 Q82.566 952.094 85.6216 947.51 Q88.7003 942.904 94.5104 942.904 Z\" fill=\"#000000\" fill-rule=\"evenodd\" fill-opacity=\"1\" /><path clip-path=\"url(#clip110)\" d=\"M 0 0 M86.5475 731.7 L94.1863 731.7 L94.1863 705.335 L85.8762 707.001 L85.8762 702.742 L94.14 701.075 L98.8159 701.075 L98.8159 731.7 L106.455 731.7 L106.455 735.635 L86.5475 735.635 L86.5475 731.7 Z\" fill=\"#000000\" fill-rule=\"evenodd\" fill-opacity=\"1\" /><path clip-path=\"url(#clip110)\" d=\"M 0 0 M90.1354 489.247 L106.455 489.247 L106.455 493.182 L84.5105 493.182 L84.5105 489.247 Q87.1725 486.492 91.7558 481.862 Q96.3623 477.21 97.5428 475.867 Q99.7882 473.344 100.668 471.608 Q101.571 469.849 101.571 468.159 Q101.571 465.404 99.6261 463.668 Q97.7048 461.932 94.603 461.932 Q92.4039 461.932 89.9503 462.696 Q87.5197 463.46 84.7419 465.011 L84.7419 460.288 Q87.566 459.154 90.0197 458.576 Q92.4734 457.997 94.5104 457.997 Q99.8808 457.997 103.075 460.682 Q106.27 463.367 106.27 467.858 Q106.27 469.988 105.459 471.909 Q104.672 473.807 102.566 476.4 Q101.987 477.071 98.8854 480.288 Q95.7836 483.483 90.1354 489.247 Z\" fill=\"#000000\" fill-rule=\"evenodd\" fill-opacity=\"1\" /><path clip-path=\"url(#clip110)\" d=\"M 0 0 M99.3252 232.094 Q102.682 232.812 104.557 235.08 Q106.455 237.349 106.455 240.682 Q106.455 245.798 102.936 248.599 Q99.4178 251.4 92.9363 251.4 Q90.7604 251.4 88.4456 250.96 Q86.154 250.543 83.7003 249.687 L83.7003 245.173 Q85.6447 246.307 87.9595 246.886 Q90.2743 247.464 92.7975 247.464 Q97.1956 247.464 99.4872 245.728 Q101.802 243.992 101.802 240.682 Q101.802 237.627 99.6493 235.914 Q97.5197 234.178 93.7002 234.178 L89.6725 234.178 L89.6725 230.335 L93.8854 230.335 Q97.3345 230.335 99.1632 228.969 Q100.992 227.58 100.992 224.988 Q100.992 222.326 99.0937 220.914 Q97.2187 219.479 93.7002 219.479 Q91.7789 219.479 89.5799 219.895 Q87.3808 220.312 84.7419 221.191 L84.7419 217.025 Q87.404 216.284 89.7188 215.914 Q92.0567 215.543 94.1169 215.543 Q99.4409 215.543 102.543 217.974 Q105.645 220.381 105.645 224.502 Q105.645 227.372 104.001 229.363 Q102.358 231.33 99.3252 232.094 Z\" fill=\"#000000\" fill-rule=\"evenodd\" fill-opacity=\"1\" /><polyline clip-path=\"url(#clip112)\" style=\"stroke:#009af9; stroke-width:4; stroke-opacity:1; fill:none\" points=\"\n",
       "  205.01,960.809 225.862,943.527 246.714,926.594 267.566,910.01 288.418,893.775 309.27,877.89 330.122,862.353 350.974,847.166 371.826,832.328 392.678,817.839 \n",
       "  413.529,803.699 434.381,789.908 455.233,776.467 476.085,763.374 496.937,750.631 517.789,738.236 538.641,726.191 559.493,714.495 580.345,703.149 601.197,692.151 \n",
       "  622.048,681.502 642.9,671.203 663.752,661.253 684.604,651.651 705.456,642.399 726.308,633.497 747.16,624.943 768.012,616.738 788.864,608.883 809.716,601.376 \n",
       "  830.567,594.219 851.419,587.411 872.271,580.952 893.123,574.842 913.975,569.082 934.827,563.67 955.679,558.608 976.531,553.894 997.383,549.53 1018.23,545.515 \n",
       "  1039.09,541.849 1059.94,538.532 1080.79,535.565 1101.64,532.946 1122.49,530.677 1143.35,528.757 1164.2,527.186 1185.05,525.964 1205.9,525.091 1226.75,524.567 \n",
       "  1247.61,524.393 1268.46,524.567 1289.31,525.091 1310.16,525.964 1331.01,527.186 1351.86,528.757 1372.72,530.677 1393.57,532.946 1414.42,535.565 1435.27,538.532 \n",
       "  1456.12,541.849 1476.98,545.515 1497.83,549.53 1518.68,553.894 1539.53,558.608 1560.38,563.67 1581.24,569.082 1602.09,574.842 1622.94,580.952 1643.79,587.411 \n",
       "  1664.64,594.219 1685.5,601.376 1706.35,608.883 1727.2,616.738 1748.05,624.943 1768.9,633.497 1789.75,642.399 1810.61,651.651 1831.46,661.253 1852.31,671.203 \n",
       "  1873.16,681.502 1894.01,692.151 1914.87,703.149 1935.72,714.495 1956.57,726.191 1977.42,738.236 1998.27,750.631 2019.13,763.374 2039.98,776.467 2060.83,789.908 \n",
       "  2081.68,803.699 2102.53,817.839 2123.39,832.328 2144.24,847.166 2165.09,862.353 2185.94,877.89 2206.79,893.775 2227.64,910.01 2248.5,926.594 2269.35,943.527 \n",
       "  2290.2,960.809 \n",
       "  \"/>\n",
       "<circle clip-path=\"url(#clip112)\" cx=\"205.01\" cy=\"960.809\" r=\"14\" fill=\"#e26f46\" fill-rule=\"evenodd\" fill-opacity=\"1\" stroke=\"#000000\" stroke-opacity=\"1\" stroke-width=\"3.2\"/>\n",
       "<circle clip-path=\"url(#clip112)\" cx=\"1247.61\" cy=\"87.9763\" r=\"14\" fill=\"#3da44d\" fill-rule=\"evenodd\" fill-opacity=\"1\" stroke=\"#000000\" stroke-opacity=\"1\" stroke-width=\"3.2\"/>\n",
       "<circle clip-path=\"url(#clip112)\" cx=\"2290.2\" cy=\"960.809\" r=\"14\" fill=\"#c271d2\" fill-rule=\"evenodd\" fill-opacity=\"1\" stroke=\"#000000\" stroke-opacity=\"1\" stroke-width=\"3.2\"/>\n",
       "<polyline clip-path=\"url(#clip112)\" style=\"stroke:#ac8d18; stroke-width:4; stroke-opacity:1; fill:none\" points=\"\n",
       "  205.01,233.448 225.862,257.451 246.714,280.969 267.566,304.002 288.418,326.55 309.27,348.614 330.122,370.192 350.974,391.286 371.826,411.894 392.678,432.018 \n",
       "  413.529,451.656 434.381,470.81 455.233,489.479 476.085,507.663 496.937,525.362 517.789,542.577 538.641,559.306 559.493,575.55 580.345,591.31 601.197,606.584 \n",
       "  622.048,621.374 642.9,635.679 663.752,649.499 684.604,662.833 705.456,675.683 726.308,688.049 747.16,699.929 768.012,711.324 788.864,722.235 809.716,732.66 \n",
       "  830.567,742.601 851.419,752.056 872.271,761.027 893.123,769.513 913.975,777.514 934.827,785.03 955.679,792.061 976.531,798.607 997.383,804.669 1018.23,810.245 \n",
       "  1039.09,815.337 1059.94,819.943 1080.79,824.065 1101.64,827.702 1122.49,830.854 1143.35,833.521 1164.2,835.703 1185.05,837.4 1205.9,838.612 1226.75,839.34 \n",
       "  1247.61,839.582 1268.46,839.34 1289.31,838.612 1310.16,837.4 1331.01,835.703 1351.86,833.521 1372.72,830.854 1393.57,827.702 1414.42,824.065 1435.27,819.943 \n",
       "  1456.12,815.337 1476.98,810.245 1497.83,804.669 1518.68,798.607 1539.53,792.061 1560.38,785.03 1581.24,777.514 1602.09,769.513 1622.94,761.027 1643.79,752.056 \n",
       "  1664.64,742.601 1685.5,732.66 1706.35,722.235 1727.2,711.324 1748.05,699.929 1768.9,688.049 1789.75,675.683 1810.61,662.833 1831.46,649.499 1852.31,635.679 \n",
       "  1873.16,621.374 1894.01,606.584 1914.87,591.31 1935.72,575.55 1956.57,559.306 1977.42,542.577 1998.27,525.362 2019.13,507.663 2039.98,489.479 2060.83,470.81 \n",
       "  2081.68,451.656 2102.53,432.018 2123.39,411.894 2144.24,391.286 2165.09,370.192 2185.94,348.614 2206.79,326.55 2227.64,304.002 2248.5,280.969 2269.35,257.451 \n",
       "  2290.2,233.448 \n",
       "  \"/>\n",
       "<circle clip-path=\"url(#clip112)\" cx=\"205.01\" cy=\"233.448\" r=\"14\" fill=\"#00a9ad\" fill-rule=\"evenodd\" fill-opacity=\"1\" stroke=\"#000000\" stroke-opacity=\"1\" stroke-width=\"3.2\"/>\n",
       "<circle clip-path=\"url(#clip112)\" cx=\"1247.61\" cy=\"1445.72\" r=\"14\" fill=\"#ed5d92\" fill-rule=\"evenodd\" fill-opacity=\"1\" stroke=\"#000000\" stroke-opacity=\"1\" stroke-width=\"3.2\"/>\n",
       "<circle clip-path=\"url(#clip112)\" cx=\"2290.2\" cy=\"233.448\" r=\"14\" fill=\"#c68125\" fill-rule=\"evenodd\" fill-opacity=\"1\" stroke=\"#000000\" stroke-opacity=\"1\" stroke-width=\"3.2\"/>\n",
       "</svg>\n"
      ]
     },
     "execution_count": 6,
     "metadata": {},
     "output_type": "execute_result"
    }
   ],
   "source": [
    "plot_curve!(plt,2,B2,100)\n",
    "plot_control_points!(plt,B2)\n",
    "plt"
   ]
  },
  {
   "cell_type": "code",
   "execution_count": 121,
   "metadata": {},
   "outputs": [
    {
     "data": {
      "text/plain": [
       "bezInt (generic function with 2 methods)"
      ]
     },
     "execution_count": 121,
     "metadata": {},
     "output_type": "execute_result"
    }
   ],
   "source": [
    "include(\"src/bezier.jl\")"
   ]
  },
  {
   "cell_type": "code",
   "execution_count": 112,
   "metadata": {},
   "outputs": [],
   "source": [
    "ENV[\"JULIA_DEBUG\"] = nothing"
   ]
  },
  {
   "cell_type": "code",
   "execution_count": 122,
   "metadata": {},
   "outputs": [
    {
     "data": {
      "text/plain": [
       "(true, (Point[Point(0, 0), Point(0.375, 0.9), Point(0.75, 1.35)], Point[Point(0.75, 1.125), Point(0.5625, 1.4375), Point(0.375, 1.90625)]))"
      ]
     },
     "execution_count": 122,
     "metadata": {},
     "output_type": "execute_result"
    }
   ],
   "source": [
    "foo = bezInt(B1,B2)"
   ]
  },
  {
   "cell_type": "code",
   "execution_count": 89,
   "metadata": {},
   "outputs": [
    {
     "data": {
      "text/plain": [
       "(false, (Point[], Point[]))"
      ]
     },
     "execution_count": 89,
     "metadata": {},
     "output_type": "execute_result"
    }
   ],
   "source": [
    "foo"
   ]
  },
  {
   "cell_type": "code",
   "execution_count": 36,
   "metadata": {},
   "outputs": [
    {
     "data": {
      "text/plain": [
       "10-element Array{Float64,1}:\n",
       " 0.8\n",
       " 0.35\n",
       " 0.5\n",
       " 0.35\n",
       " 1.0\n",
       " 0.55\n",
       " 0.95\n",
       " 0.55\n",
       " 0.3\n",
       " 0.7"
      ]
     },
     "execution_count": 36,
     "metadata": {},
     "output_type": "execute_result"
    }
   ],
   "source": [
    "ts = rand(0:0.05:1,10)"
   ]
  },
  {
   "cell_type": "code",
   "execution_count": 37,
   "metadata": {},
   "outputs": [
    {
     "data": {
      "text/plain": [
       "#602 (generic function with 1 method)"
      ]
     },
     "execution_count": 37,
     "metadata": {},
     "output_type": "execute_result"
    }
   ],
   "source": [
    "    toLuxPoints = b -> map(p-> Luxor.Point(p[1],p[2]),b)\n"
   ]
  },
  {
   "cell_type": "code",
   "execution_count": 45,
   "metadata": {},
   "outputs": [
    {
     "data": {
      "text/plain": [
       "10-element Array{Luxor.Point,1}:\n",
       " Luxor.Point(2.4000000000000004, 1.152)\n",
       " Luxor.Point(1.0499999999999998, 1.6380000000000001)\n",
       " Luxor.Point(1.5, 1.8)\n",
       " Luxor.Point(1.0499999999999998, 1.6380000000000001)\n",
       " Luxor.Point(3.0, 0.0)\n",
       " Luxor.Point(1.6500000000000004, 1.782)\n",
       " Luxor.Point(2.8499999999999996, 0.3420000000000003)\n",
       " Luxor.Point(1.6500000000000004, 1.782)\n",
       " Luxor.Point(0.8999999999999998, 1.512)\n",
       " Luxor.Point(2.0999999999999996, 1.5120000000000002)"
      ]
     },
     "execution_count": 45,
     "metadata": {},
     "output_type": "execute_result"
    }
   ],
   "source": [
    "B1_points = map(t -> B1(t), ts)|> toRealArray |> toLuxPoints"
   ]
  },
  {
   "cell_type": "code",
   "execution_count": 47,
   "metadata": {},
   "outputs": [
    {
     "data": {
      "text/plain": [
       "10-element Array{Luxor.Point,1}:\n",
       " Luxor.Point(2.4000000000000004, 1.4000000000000006)\n",
       " Luxor.Point(1.0499999999999998, 0.7250000000000001)\n",
       " Luxor.Point(1.5, 0.5)\n",
       " Luxor.Point(1.0499999999999998, 0.7250000000000001)\n",
       " Luxor.Point(3.0, 3.0)\n",
       " Luxor.Point(1.6500000000000004, 0.525)\n",
       " Luxor.Point(2.8499999999999996, 2.5249999999999995)\n",
       " Luxor.Point(1.6500000000000004, 0.525)\n",
       " Luxor.Point(0.8999999999999998, 0.8999999999999996)\n",
       " Luxor.Point(2.0999999999999996, 0.8999999999999997)"
      ]
     },
     "execution_count": 47,
     "metadata": {},
     "output_type": "execute_result"
    }
   ],
   "source": [
    "B2_points = map(t -> B2(t), ts)|> toRealArray |> toLuxPoints"
   ]
  },
  {
   "cell_type": "code",
   "execution_count": 48,
   "metadata": {},
   "outputs": [
    {
     "data": {
      "text/plain": [
       "true"
      ]
     },
     "execution_count": 48,
     "metadata": {},
     "output_type": "execute_result"
    }
   ],
   "source": [
    "            hull_intersection = length(filter(each -> each == 1,\n",
    "\n",
    "                         [Luxor.isinside(p, B1 |> toRealArray |> convex_hull |> toLuxPoints) for p in B2_points |> toRealArray |> convex_hull |> toLuxPoints] ∪\n",
    "                                          [Luxor.isinside(p, B2 |> toRealArray |> convex_hull |> toLuxPoints) for p in B1_points|> toRealArray |> convex_hull  |> toLuxPoints])) != 0\n"
   ]
  },
  {
   "cell_type": "code",
   "execution_count": 56,
   "metadata": {},
   "outputs": [
    {
     "data": {
      "text/plain": [
       "true"
      ]
     },
     "execution_count": 56,
     "metadata": {},
     "output_type": "execute_result"
    }
   ],
   "source": [
    "toLuxPoints = b -> map(p-> Luxor.Point(p[1],p[2]),b)\n",
    "hull_intersection = length(filter(each -> each == 1,\n",
    "             [Luxor.isinside(p, B1 |> toRealArray |> convex_hull |> toLuxPoints) for p in B2 |> toRealArray |> convex_hull |> toLuxPoints] ∪\n",
    "                              [Luxor.isinside(p, B2 |> toRealArray |> convex_hull |> toLuxPoints) for p in B1|> toRealArray |> convex_hull  |> toLuxPoints])) != 0\n"
   ]
  },
  {
   "cell_type": "code",
   "execution_count": 51,
   "metadata": {},
   "outputs": [
    {
     "data": {
      "text/plain": [
       "2-element Array{Bool,1}:\n",
       " 0\n",
       " 1"
      ]
     },
     "execution_count": 51,
     "metadata": {},
     "output_type": "execute_result"
    }
   ],
   "source": [
    "[Luxor.isinside(p, B1 |> toRealArray |> convex_hull |> toLuxPoints) for p in B2 |> toRealArray |> convex_hull |> toLuxPoints] ∪\n",
    "                              [Luxor.isinside(p, B2 |> toRealArray |> convex_hull |> toLuxPoints) for p in B1|> toRealArray |> convex_hull  |> toLuxPoints]"
   ]
  },
  {
   "cell_type": "code",
   "execution_count": 48,
   "metadata": {},
   "outputs": [
    {
     "data": {
      "text/plain": [
       "3-element Array{Bool,1}:\n",
       " 0\n",
       " 1\n",
       " 0"
      ]
     },
     "execution_count": 48,
     "metadata": {},
     "output_type": "execute_result"
    }
   ],
   "source": [
    "[Luxor.isinside(p, B2 |> toRealArray |> convex_hull |> toLuxPoints) for p in B1|> toRealArray |> convex_hull  |> toLuxPoints]"
   ]
  },
  {
   "cell_type": "code",
   "execution_count": 45,
   "metadata": {},
   "outputs": [
    {
     "data": {
      "text/plain": [
       "3-element Array{Array{Float64,1},1}:\n",
       " [3.0, 0.0]\n",
       " [1.5, 2.6]\n",
       " [0.0, 0.0]"
      ]
     },
     "execution_count": 45,
     "metadata": {},
     "output_type": "execute_result"
    }
   ],
   "source": [
    "B1 |> toRealArray |> convex_hull "
   ]
  },
  {
   "cell_type": "code",
   "execution_count": 46,
   "metadata": {},
   "outputs": [
    {
     "data": {
      "text/plain": [
       "3-element Array{Array{Float64,1},1}:\n",
       " [0.0, 3.0]\n",
       " [1.5, -2.0]\n",
       " [3.0, 3.0]"
      ]
     },
     "execution_count": 46,
     "metadata": {},
     "output_type": "execute_result"
    }
   ],
   "source": [
    "B2 |> toRealArray |> convex_hull "
   ]
  },
  {
   "cell_type": "code",
   "execution_count": 44,
   "metadata": {},
   "outputs": [
    {
     "data": {
      "text/plain": [
       "3-element Array{Bool,1}:\n",
       " 0\n",
       " 0\n",
       " 0"
      ]
     },
     "execution_count": 44,
     "metadata": {},
     "output_type": "execute_result"
    }
   ],
   "source": [
    "[Luxor.isinside(p, B1 |> toRealArray |> convex_hull |> toLuxPoints) for p in B2 |> toRealArray |> convex_hull |> toLuxPoints]"
   ]
  }
 ],
 "metadata": {
  "kernelspec": {
   "display_name": "Julia 1.5.3",
   "language": "julia",
   "name": "julia-1.5"
  },
  "language_info": {
   "file_extension": ".jl",
   "mimetype": "application/julia",
   "name": "julia",
   "version": "1.5.4"
  }
 },
 "nbformat": 4,
 "nbformat_minor": 4
}
