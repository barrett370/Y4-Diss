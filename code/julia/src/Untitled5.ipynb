{
 "cells": [
  {
   "cell_type": "code",
   "execution_count": 1,
   "metadata": {},
   "outputs": [
    {
     "name": "stderr",
     "output_type": "stream",
     "text": [
      "\u001b[32m\u001b[1m   Updating\u001b[22m\u001b[39m registry at `~/.julia/registries/General`\n",
      "\u001b[32m\u001b[1m  Resolving\u001b[22m\u001b[39m package versions...\n",
      "\u001b[32m\u001b[1mNo Changes\u001b[22m\u001b[39m to `~/.julia/environments/v1.5/Project.toml`\n",
      "\u001b[32m\u001b[1mNo Changes\u001b[22m\u001b[39m to `~/.julia/environments/v1.5/Manifest.toml`\n"
     ]
    }
   ],
   "source": [
    "import Pkg\n",
    "Pkg.add(\"Graphs\")"
   ]
  },
  {
   "cell_type": "code",
   "execution_count": 48,
   "metadata": {},
   "outputs": [
    {
     "name": "stderr",
     "output_type": "stream",
     "text": [
      "\u001b[32m\u001b[1m  Resolving\u001b[22m\u001b[39m package versions...\n",
      "\u001b[32m\u001b[1mNo Changes\u001b[22m\u001b[39m to `~/.julia/environments/v1.5/Project.toml`\n",
      "\u001b[32m\u001b[1mNo Changes\u001b[22m\u001b[39m to `~/.julia/environments/v1.5/Manifest.toml`\n",
      "\u001b[32m\u001b[1m  Resolving\u001b[22m\u001b[39m package versions...\n",
      "\u001b[32m\u001b[1mUpdating\u001b[22m\u001b[39m `~/.julia/environments/v1.5/Project.toml`\n",
      " \u001b[90m [093fc24a] \u001b[39m\u001b[92m+ LightGraphs v1.3.5\u001b[39m\n",
      "\u001b[32m\u001b[1mNo Changes\u001b[22m\u001b[39m to `~/.julia/environments/v1.5/Manifest.toml`\n"
     ]
    }
   ],
   "source": [
    "Pkg.add(\"GraphPlot\")\n",
    "Pkg.add(\"LightGraphs\")"
   ]
  },
  {
   "cell_type": "code",
   "execution_count": 45,
   "metadata": {},
   "outputs": [
    {
     "name": "stderr",
     "output_type": "stream",
     "text": [
      "┌ Info: Precompiling GraphPlot [a2cc645c-3eea-5389-862e-a155d0052231]\n",
      "└ @ Base loading.jl:1278\n"
     ]
    }
   ],
   "source": [
    "using Graphs\n",
    "using GraphPlot\n"
   ]
  },
  {
   "cell_type": "code",
   "execution_count": 11,
   "metadata": {},
   "outputs": [
    {
     "data": {
      "text/plain": [
       "Road(b1, b2, Obstacle[])"
      ]
     },
     "execution_count": 11,
     "metadata": {},
     "output_type": "execute_result"
    }
   ],
   "source": [
    "include(\"roadNetwork.jl\")\n",
    "b1(x) = 0\n",
    "b2(x) = 12\n",
    "road = Road(b1,b2,[])"
   ]
  },
  {
   "cell_type": "code",
   "execution_count": 33,
   "metadata": {},
   "outputs": [
    {
     "data": {
      "text/plain": [
       "GenericGraph{Int64,Edge{Int64},UnitRange{Int64},Array{Edge{Int64},1},Array{Array{Edge{Int64},1},1}}"
      ]
     },
     "execution_count": 33,
     "metadata": {},
     "output_type": "execute_result"
    }
   ],
   "source": [
    "test = simple_graph(2)\n",
    "typeof(test)"
   ]
  },
  {
   "cell_type": "code",
   "execution_count": 43,
   "metadata": {},
   "outputs": [
    {
     "data": {
      "text/plain": [
       "Directed Graph (2 vertices, 1 edges)"
      ]
     },
     "execution_count": 43,
     "metadata": {},
     "output_type": "execute_result"
    }
   ],
   "source": [
    "const RG = Graph{Int, Road}\n",
    "e = ExEdge(1,1,2)\n",
    "e.attributes = Dict(\"road\"=>road)\n",
    "f = graph([1,2],[e])"
   ]
  },
  {
   "cell_type": "code",
   "execution_count": 35,
   "metadata": {},
   "outputs": [
    {
     "data": {
      "text/plain": [
       "Dict{String,String}"
      ]
     },
     "execution_count": 35,
     "metadata": {},
     "output_type": "execute_result"
    }
   ],
   "source": [
    "methods(graph)\n",
    "typeof(Dict(\"a\"=>\"b\"))\n"
   ]
  },
  {
   "cell_type": "code",
   "execution_count": 46,
   "metadata": {},
   "outputs": [
    {
     "ename": "LoadError",
     "evalue": "MethodError: no method matching spring_layout(::GenericGraph{Int64,ExEdge{Int64},Array{Int64,1},Array{ExEdge{Int64},1},Array{Array{ExEdge{Int64},1},1}})\nClosest candidates are:\n  spring_layout(!Matched::LightGraphs.AbstractGraph) at /home/sam/.julia/packages/GraphPlot/vrIy8/src/layout.jl:104\n  spring_layout(!Matched::LightGraphs.AbstractGraph, !Matched::Integer, !Matched::Any...) at /home/sam/.julia/packages/GraphPlot/vrIy8/src/layout.jl:177\n  spring_layout(!Matched::LightGraphs.AbstractGraph, !Matched::Any) at /home/sam/.julia/packages/GraphPlot/vrIy8/src/layout.jl:104\n  ...",
     "output_type": "error",
     "traceback": [
      "MethodError: no method matching spring_layout(::GenericGraph{Int64,ExEdge{Int64},Array{Int64,1},Array{ExEdge{Int64},1},Array{Array{ExEdge{Int64},1},1}})\nClosest candidates are:\n  spring_layout(!Matched::LightGraphs.AbstractGraph) at /home/sam/.julia/packages/GraphPlot/vrIy8/src/layout.jl:104\n  spring_layout(!Matched::LightGraphs.AbstractGraph, !Matched::Integer, !Matched::Any...) at /home/sam/.julia/packages/GraphPlot/vrIy8/src/layout.jl:177\n  spring_layout(!Matched::LightGraphs.AbstractGraph, !Matched::Any) at /home/sam/.julia/packages/GraphPlot/vrIy8/src/layout.jl:104\n  ...",
      "",
      "Stacktrace:",
      " [1] gplot(::GenericGraph{Int64,ExEdge{Int64},Array{Int64,1},Array{ExEdge{Int64},1},Array{Array{ExEdge{Int64},1},1}}; layout::typeof(spring_layout), keyargs::Base.Iterators.Pairs{Union{},Union{},Tuple{},NamedTuple{(),Tuple{}}}) at /home/sam/.julia/packages/GraphPlot/vrIy8/src/plot.jl:229",
      " [2] gplot(::GenericGraph{Int64,ExEdge{Int64},Array{Int64,1},Array{ExEdge{Int64},1},Array{Array{ExEdge{Int64},1},1}}) at /home/sam/.julia/packages/GraphPlot/vrIy8/src/plot.jl:229",
      " [3] top-level scope at In[46]:1"
     ]
    }
   ],
   "source": [
    "gplot(f)"
   ]
  },
  {
   "cell_type": "code",
   "execution_count": 4,
   "metadata": {},
   "outputs": [],
   "source": [
    "using LightGraphs"
   ]
  },
  {
   "cell_type": "code",
   "execution_count": 18,
   "metadata": {},
   "outputs": [
    {
     "ename": "LoadError",
     "evalue": "TypeError: in SimpleDiGraph, in T, expected T<:Integer, got Type{Road}",
     "output_type": "error",
     "traceback": [
      "TypeError: in SimpleDiGraph, in T, expected T<:Integer, got Type{Road}",
      "",
      "Stacktrace:",
      " [1] SimpleDiGraph(::Int64, ::Array{Array{Road,1},1}, ::Array{Array{Road,1},1}) at /home/sam/.julia/packages/LightGraphs/IgJif/src/SimpleGraphs/simpledigraph.jl:30",
      " [2] top-level scope at In[18]:1"
     ]
    }
   ],
   "source": [
    "g = SimpleDiGraph(1, [[road]], [[road]])"
   ]
  },
  {
   "cell_type": "code",
   "execution_count": 8,
   "metadata": {},
   "outputs": [
    {
     "data": {
      "text/html": [
       "# 9 methods for type constructor:<ul><li> (::<b>Type{SimpleDiGraph}</b>)() in LightGraphs.SimpleGraphs at <a href=\"file:///home/sam/.julia/packages/LightGraphs/IgJif/src/SimpleGraphs/simpledigraph.jl\" target=\"_blank\">/home/sam/.julia/packages/LightGraphs/IgJif/src/SimpleGraphs/simpledigraph.jl:59</a></li> <li> (::<b>Type{SimpleDiGraph}</b>)(ne::<b>Int64</b>, fadjlist::<b>Array{Array{T,1},1}</b>, badjlist::<b>Array{Array{T,1},1}</b>)<i> where T</i> in LightGraphs.SimpleGraphs at <a href=\"file:///home/sam/.julia/packages/LightGraphs/IgJif/src/SimpleGraphs/simpledigraph.jl\" target=\"_blank\">/home/sam/.julia/packages/LightGraphs/IgJif/src/SimpleGraphs/simpledigraph.jl:24</a></li> <li> (::<b>Type{SimpleDiGraph}</b>)(n::<b>T</b>)<i> where T<:Integer</i> in LightGraphs.SimpleGraphs at <a href=\"file:///home/sam/.julia/packages/LightGraphs/IgJif/src/SimpleGraphs/simpledigraph.jl\" target=\"_blank\">/home/sam/.julia/packages/LightGraphs/IgJif/src/SimpleGraphs/simpledigraph.jl:56</a></li> <li> (::<b>Type{SimpleDiGraph}</b>)(::<b>Type{T}</b>)<i> where T<:Integer</i> in LightGraphs.SimpleGraphs at <a href=\"file:///home/sam/.julia/packages/LightGraphs/IgJif/src/SimpleGraphs/simpledigraph.jl\" target=\"_blank\">/home/sam/.julia/packages/LightGraphs/IgJif/src/SimpleGraphs/simpledigraph.jl:73</a></li> <li> (::<b>Type{SimpleDiGraph}</b>)(edge_list::<b>Array{LightGraphs.SimpleGraphs.SimpleEdge{T},1}</b>)<i> where T<:Integer</i> in LightGraphs.SimpleGraphs at <a href=\"file:///home/sam/.julia/packages/LightGraphs/IgJif/src/SimpleGraphs/simpledigraph.jl\" target=\"_blank\">/home/sam/.julia/packages/LightGraphs/IgJif/src/SimpleGraphs/simpledigraph.jl:213</a></li> <li> (::<b>Type{SimpleDiGraph}</b>)(adjmx::<b>AbstractArray{T,2} where T</b>) in LightGraphs.SimpleGraphs at <a href=\"file:///home/sam/.julia/packages/LightGraphs/IgJif/src/SimpleGraphs/simpledigraph.jl\" target=\"_blank\">/home/sam/.julia/packages/LightGraphs/IgJif/src/SimpleGraphs/simpledigraph.jl:95</a></li> <li> (::<b>Type{SimpleDiGraph}</b>)(g::<b>SimpleDiGraph</b>) in LightGraphs.SimpleGraphs at <a href=\"file:///home/sam/.julia/packages/LightGraphs/IgJif/src/SimpleGraphs/simpledigraph.jl\" target=\"_blank\">/home/sam/.julia/packages/LightGraphs/IgJif/src/SimpleGraphs/simpledigraph.jl:149</a></li> <li> (::<b>Type{SimpleDiGraph}</b>)(g::<b>LightGraphs.SimpleGraphs.AbstractSimpleGraph</b>) in LightGraphs.SimpleGraphs at <a href=\"file:///home/sam/.julia/packages/LightGraphs/IgJif/src/SimpleGraphs/simpledigraph.jl\" target=\"_blank\">/home/sam/.julia/packages/LightGraphs/IgJif/src/SimpleGraphs/simpledigraph.jl:165</a></li> <li> (::<b>Type{SimpleDiGraph}</b>)(nv::<b>T</b>, ne::<b>Integer</b>; <i>seed</i>)<i> where T<:Integer</i> in LightGraphs.SimpleGraphs at <a href=\"file:///home/sam/.julia/packages/LightGraphs/IgJif/src/SimpleGraphs/generators/randgraphs.jl\" target=\"_blank\">/home/sam/.julia/packages/LightGraphs/IgJif/src/SimpleGraphs/generators/randgraphs.jl:78</a></li> </ul>"
      ],
      "text/plain": [
       "# 9 methods for type constructor:\n",
       "[1] (::Type{SimpleDiGraph})() in LightGraphs.SimpleGraphs at /home/sam/.julia/packages/LightGraphs/IgJif/src/SimpleGraphs/simpledigraph.jl:59\n",
       "[2] (::Type{SimpleDiGraph})(ne::Int64, fadjlist::Array{Array{T,1},1}, badjlist::Array{Array{T,1},1}) where T in LightGraphs.SimpleGraphs at /home/sam/.julia/packages/LightGraphs/IgJif/src/SimpleGraphs/simpledigraph.jl:24\n",
       "[3] (::Type{SimpleDiGraph})(n::T) where T<:Integer in LightGraphs.SimpleGraphs at /home/sam/.julia/packages/LightGraphs/IgJif/src/SimpleGraphs/simpledigraph.jl:56\n",
       "[4] (::Type{SimpleDiGraph})(::Type{T}) where T<:Integer in LightGraphs.SimpleGraphs at /home/sam/.julia/packages/LightGraphs/IgJif/src/SimpleGraphs/simpledigraph.jl:73\n",
       "[5] (::Type{SimpleDiGraph})(edge_list::Array{LightGraphs.SimpleGraphs.SimpleEdge{T},1}) where T<:Integer in LightGraphs.SimpleGraphs at /home/sam/.julia/packages/LightGraphs/IgJif/src/SimpleGraphs/simpledigraph.jl:213\n",
       "[6] (::Type{SimpleDiGraph})(adjmx::AbstractArray{T,2} where T) in LightGraphs.SimpleGraphs at /home/sam/.julia/packages/LightGraphs/IgJif/src/SimpleGraphs/simpledigraph.jl:95\n",
       "[7] (::Type{SimpleDiGraph})(g::SimpleDiGraph) in LightGraphs.SimpleGraphs at /home/sam/.julia/packages/LightGraphs/IgJif/src/SimpleGraphs/simpledigraph.jl:149\n",
       "[8] (::Type{SimpleDiGraph})(g::LightGraphs.SimpleGraphs.AbstractSimpleGraph) in LightGraphs.SimpleGraphs at /home/sam/.julia/packages/LightGraphs/IgJif/src/SimpleGraphs/simpledigraph.jl:165\n",
       "[9] (::Type{SimpleDiGraph})(nv::T, ne::Integer; seed) where T<:Integer in LightGraphs.SimpleGraphs at /home/sam/.julia/packages/LightGraphs/IgJif/src/SimpleGraphs/generators/randgraphs.jl:78"
      ]
     },
     "execution_count": 8,
     "metadata": {},
     "output_type": "execute_result"
    }
   ],
   "source": [
    "methods(SimpleDiGraph)"
   ]
  }
 ],
 "metadata": {
  "kernelspec": {
   "display_name": "Julia 1.5.3",
   "language": "julia",
   "name": "julia-1.5"
  },
  "language_info": {
   "file_extension": ".jl",
   "mimetype": "application/julia",
   "name": "julia",
   "version": "1.5.3"
  }
 },
 "nbformat": 4,
 "nbformat_minor": 4
}
