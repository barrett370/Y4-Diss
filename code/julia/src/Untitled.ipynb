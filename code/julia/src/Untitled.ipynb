{
 "cells": [
  {
   "cell_type": "code",
   "execution_count": 2,
   "metadata": {},
   "outputs": [
    {
     "data": {
      "text/html": [
       "<script>\n",
       "// Immediately-invoked-function-expression to avoid global variables.\n",
       "(function() {\n",
       "    var warning_div = document.getElementById(\"webio-warning-15430044932815309334\");\n",
       "    var hide = function () {\n",
       "        var script = document.getElementById(\"webio-setup-3657992318566460050\");\n",
       "        var parent = script && script.parentElement;\n",
       "        var grandparent = parent && parent.parentElement;\n",
       "        if (grandparent) {\n",
       "            grandparent.style.display = \"none\";\n",
       "        }\n",
       "        warning_div.style.display = \"none\";\n",
       "    };\n",
       "    if (typeof Jupyter !== \"undefined\") {\n",
       "        console.log(\"WebIO detected Jupyter notebook environment.\");\n",
       "        // Jupyter notebook.\n",
       "        var extensions = (\n",
       "            Jupyter\n",
       "            && Jupyter.notebook.config.data\n",
       "            && Jupyter.notebook.config.data.load_extensions\n",
       "        );\n",
       "        if (extensions && extensions[\"webio-jupyter-notebook\"]) {\n",
       "            // Extension already loaded.\n",
       "            console.log(\"Jupyter WebIO nbextension detected; not loading ad-hoc.\");\n",
       "            hide();\n",
       "            return;\n",
       "        }\n",
       "    } else if (window.location.pathname.includes(\"/lab\")) {\n",
       "        // Guessing JupyterLa\n",
       "        console.log(\"Jupyter Lab detected; make sure the @webio/jupyter-lab-provider labextension is installed.\");\n",
       "        hide();\n",
       "        return;\n",
       "    }\n",
       "})();\n",
       "\n",
       "</script>\n",
       "<p\n",
       "    id=\"webio-warning-15430044932815309334\"\n",
       "    class=\"output_text output_stderr\"\n",
       "    style=\"padding: 1em; font-weight: bold;\"\n",
       ">\n",
       "    Unable to load WebIO. Please make sure WebIO works for your Jupyter client.\n",
       "    For troubleshooting, please see <a href=\"https://juliagizmos.github.io/WebIO.jl/latest/providers/ijulia/\">\n",
       "    the WebIO/IJulia documentation</a>.\n",
       "    <!-- TODO: link to installation docs. -->\n",
       "</p>\n"
      ],
      "text/plain": [
       "HTML{String}(\"<script>\\n// Immediately-invoked-function-expression to avoid global variables.\\n(function() {\\n    var warning_div = document.getElementById(\\\"webio-warning-15430044932815309334\\\");\\n    var hide = function () {\\n        var script = document.getElementById(\\\"webio-setup-3657992318566460050\\\");\\n        var parent = script && script.parentElement;\\n        var grandparent = parent && parent.parentElement;\\n        if (grandparent) {\\n            grandparent.style.display = \\\"none\\\";\\n        }\\n        warning_div.style.display = \\\"none\\\";\\n    };\\n    if (typeof Jupyter !== \\\"undefined\\\") {\\n        console.log(\\\"WebIO detected Jupyter notebook environment.\\\");\\n        // Jupyter notebook.\\n        var extensions = (\\n            Jupyter\\n            && Jupyter.notebook.config.data\\n            && Jupyter.notebook.config.data.load_extensions\\n        );\\n        if (extensions && extensions[\\\"webio-jupyter-notebook\\\"]) {\\n            // Extension already loaded.\\n            console.log(\\\"Jupyter WebIO nbextension detected; not loading ad-hoc.\\\");\\n            hide();\\n            return;\\n        }\\n    } else if (window.location.pathname.includes(\\\"/lab\\\")) {\\n        // Guessing JupyterLa\\n        console.log(\\\"Jupyter Lab detected; make sure the @webio/jupyter-lab-provider labextension is installed.\\\");\\n        hide();\\n        return;\\n    }\\n})();\\n\\n</script>\\n<p\\n    id=\\\"webio-warning-15430044932815309334\\\"\\n    class=\\\"output_text output_stderr\\\"\\n    style=\\\"padding: 1em; font-weight: bold;\\\"\\n>\\n    Unable to load WebIO. Please make sure WebIO works for your Jupyter client.\\n    For troubleshooting, please see <a href=\\\"https://juliagizmos.github.io/WebIO.jl/latest/providers/ijulia/\\\">\\n    the WebIO/IJulia documentation</a>.\\n    <!-- TODO: link to installation docs. -->\\n</p>\\n\")"
      ]
     },
     "metadata": {},
     "output_type": "display_data"
    },
    {
     "name": "stderr",
     "output_type": "stream",
     "text": [
      "┌ Warning: Error requiring IJulia from Plots:\n",
      "│ MethodError: no method matching joinpath(::Nothing)\n",
      "│ Closest candidates are:\n",
      "│   joinpath(!Matched::AbstractString) at path.jl:244\n",
      "│   joinpath(!Matched::AbstractString, !Matched::AbstractString...) at path.jl:289\n",
      "│ Stacktrace:\n",
      "│  [1] _init_ijulia_plotting() at /home/sam/.julia/packages/Plots/jIs2V/src/ijulia.jl:7\n",
      "│  [2] top-level scope at /home/sam/.julia/packages/Plots/jIs2V/src/init.jl:75\n",
      "│  [3] eval at ./boot.jl:331 [inlined]\n",
      "│  [4] eval at /home/sam/.julia/packages/Plots/jIs2V/src/Plots.jl:1 [inlined]\n",
      "│  [5] (::Plots.var\"#277#310\")() at /home/sam/.julia/packages/Requires/vyVBT/src/require.jl:97\n",
      "│  [6] err(::Any, ::Module, ::String) at /home/sam/.julia/packages/Requires/vyVBT/src/require.jl:42\n",
      "│  [7] (::Plots.var\"#276#309\")() at /home/sam/.julia/packages/Requires/vyVBT/src/require.jl:96\n",
      "│  [8] withpath(::Any, ::String) at /home/sam/.julia/packages/Requires/vyVBT/src/require.jl:32\n",
      "│  [9] (::Plots.var\"#275#308\")() at /home/sam/.julia/packages/Requires/vyVBT/src/require.jl:95\n",
      "│  [10] listenpkg(::Any, ::Base.PkgId) at /home/sam/.julia/packages/Requires/vyVBT/src/require.jl:15\n",
      "│  [11] macro expansion at /home/sam/.julia/packages/Requires/vyVBT/src/require.jl:93 [inlined]\n",
      "│  [12] __init__() at /home/sam/.julia/packages/Plots/jIs2V/src/init.jl:73\n",
      "│  [13] _include_from_serialized(::String, ::Array{Any,1}) at ./loading.jl:697\n",
      "│  [14] _require_search_from_serialized(::Base.PkgId, ::String) at ./loading.jl:782\n",
      "│  [15] _require(::Base.PkgId) at ./loading.jl:1007\n",
      "│  [16] require(::Base.PkgId) at ./loading.jl:928\n",
      "│  [17] require(::Module, ::Symbol) at ./loading.jl:923\n",
      "│  [18] include(::String) at ./client.jl:457\n",
      "│  [19] top-level scope at In[2]:2\n",
      "│  [20] softscope_include_string(::Module, ::String, ::String) at /home/sam/.julia/packages/SoftGlobalScope/u4UzH/src/SoftGlobalScope.jl:65\n",
      "│  [21] execute_request(::ZMQ.Socket, ::IJulia.Msg) at /home/sam/.julia/packages/IJulia/ljYVo/src/execute_request.jl:67\n",
      "│  [22] #invokelatest#1 at ./essentials.jl:710 [inlined]\n",
      "│  [23] invokelatest at ./essentials.jl:709 [inlined]\n",
      "│  [24] eventloop(::ZMQ.Socket) at /home/sam/.julia/packages/IJulia/ljYVo/src/eventloop.jl:8\n",
      "│  [25] (::IJulia.var\"#15#18\")() at ./task.jl:356\n",
      "└ @ Requires /home/sam/.julia/packages/Requires/vyVBT/src/require.jl:44\n"
     ]
    }
   ],
   "source": []
  },
  {
   "cell_type": "code",
   "execution_count": null,
   "metadata": {},
   "outputs": [],
   "source": [
    "boundary1(x) = 0\n",
    "boundary2(x) = 4\n"
   ]
  }
 ],
 "metadata": {
  "kernelspec": {
   "display_name": "Julia 1.5.3",
   "language": "julia",
   "name": "julia-1.5"
  },
  "language_info": {
   "file_extension": ".jl",
   "mimetype": "application/julia",
   "name": "julia",
   "version": "1.5.3"
  }
 },
 "nbformat": 4,
 "nbformat_minor": 4
}
