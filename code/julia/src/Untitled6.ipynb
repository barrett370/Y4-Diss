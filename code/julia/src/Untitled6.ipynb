{
 "cells": [
  {
   "cell_type": "code",
   "execution_count": 22,
   "metadata": {},
   "outputs": [
    {
     "data": {
      "image/svg+xml": [
       "<?xml version=\"1.0\" encoding=\"UTF-8\"?>\n",
       "<svg xmlns=\"http://www.w3.org/2000/svg\"\n",
       "     xmlns:xlink=\"http://www.w3.org/1999/xlink\"\n",
       "     version=\"1.2\"\n",
       "     width=\"141.42mm\" height=\"100mm\" viewBox=\"0 0 141.42 100\"\n",
       "     stroke=\"none\"\n",
       "     fill=\"#000000\"\n",
       "     stroke-width=\"0.3\"\n",
       "     font-size=\"3.88\"\n",
       ">\n",
       "<defs>\n",
       "  <marker id=\"arrow\" markerWidth=\"15\" markerHeight=\"7\" refX=\"5\" refY=\"3.5\" orient=\"auto\" markerUnits=\"strokeWidth\">\n",
       "    <path d=\"M0,0 L15,3.5 L0,7 z\" stroke=\"context-stroke\" fill=\"context-stroke\"/>\n",
       "  </marker>\n",
       "</defs>\n",
       "<g stroke-width=\"1.34\" fill=\"#000000\" fill-opacity=\"0.000\" stroke=\"#D3D3D3\" id=\"img-258cbd28-1\">\n",
       "  <g transform=\"translate(107.7,23.84)\">\n",
       "    <path fill=\"none\" d=\"M17.27,-12.22 L-17.27,12.22 \" class=\"primitive\"/>\n",
       "  </g>\n",
       "  <g transform=\"translate(62.05,43.58)\">\n",
       "    <path fill=\"none\" d=\"M-17.34,3.09 L17.34,-3.09 \" class=\"primitive\"/>\n",
       "  </g>\n",
       "  <g transform=\"translate(45.82,67.6)\">\n",
       "    <path fill=\"none\" d=\"M-5.79,-15.29 L5.79,15.29 \" class=\"primitive\"/>\n",
       "  </g>\n",
       "  <g transform=\"translate(25.05,69.74)\">\n",
       "    <path fill=\"none\" d=\"M10.68,-17.64 L-10.68,17.64 \" class=\"primitive\"/>\n",
       "  </g>\n",
       "  <g transform=\"translate(107.7,23.84)\">\n",
       "    <path fill=\"none\" d=\"M-17.27,12.22 L17.27,-12.22 \" class=\"primitive\"/>\n",
       "  </g>\n",
       "  <g transform=\"translate(62.05,43.58)\">\n",
       "    <path fill=\"none\" d=\"M17.34,-3.09 L-17.34,3.09 \" class=\"primitive\"/>\n",
       "  </g>\n",
       "  <g transform=\"translate(69.54,63.37)\">\n",
       "    <path fill=\"none\" d=\"M-13.39,19.82 L13.39,-19.82 \" class=\"primitive\"/>\n",
       "  </g>\n",
       "  <g transform=\"translate(32.55,89.53)\">\n",
       "    <path fill=\"none\" d=\"M14.25,-1.47 L-14.25,1.47 \" class=\"primitive\"/>\n",
       "  </g>\n",
       "  <g transform=\"translate(25.05,69.74)\">\n",
       "    <path fill=\"none\" d=\"M-10.68,17.64 L10.68,-17.64 \" class=\"primitive\"/>\n",
       "  </g>\n",
       "  <g transform=\"translate(32.55,89.53)\">\n",
       "    <path fill=\"none\" d=\"M-14.25,1.47 L14.25,-1.47 \" class=\"primitive\"/>\n",
       "  </g>\n",
       "</g>\n",
       "<g stroke-width=\"1.34\" stroke=\"#D3D3D3\" id=\"img-258cbd28-2\">\n",
       "  <g transform=\"translate(93.04,34.21)\">\n",
       "    <path fill=\"none\" d=\"M2.73,0.08 L-2.61,1.85 -0.12,-1.93 \" class=\"primitive\"/>\n",
       "  </g>\n",
       "  <g transform=\"translate(75.8,41.13)\">\n",
       "    <path fill=\"none\" d=\"M-2.28,-1.06 L3.58,-0.64 -1.3,1.7 \" class=\"primitive\"/>\n",
       "  </g>\n",
       "  <g transform=\"translate(50.66,80.37)\">\n",
       "    <path fill=\"none\" d=\"M1.47,-1.63 L0.96,2.52 -2.42,-0.89 \" class=\"primitive\"/>\n",
       "  </g>\n",
       "  <g transform=\"translate(15.83,84.98)\">\n",
       "    <path fill=\"none\" d=\"M2.58,-0.64 L-1.45,2.4 -1.13,-1.76 \" class=\"primitive\"/>\n",
       "  </g>\n",
       "  <g transform=\"translate(122.37,13.47)\">\n",
       "    <path fill=\"none\" d=\"M-2.73,-0.08 L2.61,-1.85 0.12,1.93 \" class=\"primitive\"/>\n",
       "  </g>\n",
       "  <g transform=\"translate(48.29,46.04)\">\n",
       "    <path fill=\"none\" d=\"M2.28,1.06 L-3.58,0.64 1.3,-1.7 \" class=\"primitive\"/>\n",
       "  </g>\n",
       "  <g transform=\"translate(81.34,45.91)\">\n",
       "    <path fill=\"none\" d=\"M-2.61,0.56 L1.59,-2.36 1.02,1.79 \" class=\"primitive\"/>\n",
       "  </g>\n",
       "  <g transform=\"translate(21.96,90.62)\">\n",
       "    <path fill=\"none\" d=\"M2.12,1.22 L-3.65,0.38 1.54,-1.6 \" class=\"primitive\"/>\n",
       "  </g>\n",
       "  <g transform=\"translate(34.28,54.5)\">\n",
       "    <path fill=\"none\" d=\"M-2.58,0.64 L1.45,-2.4 1.13,1.76 \" class=\"primitive\"/>\n",
       "  </g>\n",
       "  <g transform=\"translate(43.14,88.44)\">\n",
       "    <path fill=\"none\" d=\"M-2.12,-1.22 L3.65,-0.38 -1.54,1.6 \" class=\"primitive\"/>\n",
       "  </g>\n",
       "</g>\n",
       "<g font-size=\"4\" stroke=\"#000000\" stroke-opacity=\"0.000\" fill=\"#000000\" id=\"img-258cbd28-3\">\n",
       "  <g transform=\"translate(96.74,31.6)\">\n",
       "    <g class=\"primitive\">\n",
       "      <text text-anchor=\"middle\" dy=\"0.35em\">e31</text>\n",
       "    </g>\n",
       "  </g>\n",
       "  <g transform=\"translate(73.91,41.47)\">\n",
       "    <g class=\"primitive\">\n",
       "      <text text-anchor=\"middle\" dy=\"0.35em\">e32</text>\n",
       "    </g>\n",
       "  </g>\n",
       "  <g transform=\"translate(49.57,77.5)\">\n",
       "    <g class=\"primitive\">\n",
       "      <text text-anchor=\"middle\" dy=\"0.35em\">e42</text>\n",
       "    </g>\n",
       "  </g>\n",
       "  <g transform=\"translate(18.42,80.7)\">\n",
       "    <g class=\"primitive\">\n",
       "      <text text-anchor=\"middle\" dy=\"0.35em\">e52</text>\n",
       "    </g>\n",
       "  </g>\n",
       "  <g transform=\"translate(118.67,16.09)\">\n",
       "    <g class=\"primitive\">\n",
       "      <text text-anchor=\"middle\" dy=\"0.35em\">e13</text>\n",
       "    </g>\n",
       "  </g>\n",
       "  <g transform=\"translate(50.18,45.7)\">\n",
       "    <g class=\"primitive\">\n",
       "      <text text-anchor=\"middle\" dy=\"0.35em\">e23</text>\n",
       "    </g>\n",
       "  </g>\n",
       "  <g transform=\"translate(77.66,51.36)\">\n",
       "    <g class=\"primitive\">\n",
       "      <text text-anchor=\"middle\" dy=\"0.35em\">e34</text>\n",
       "    </g>\n",
       "  </g>\n",
       "  <g transform=\"translate(22.17,90.6)\">\n",
       "    <g class=\"primitive\">\n",
       "      <text text-anchor=\"middle\" dy=\"0.35em\">e54</text>\n",
       "    </g>\n",
       "  </g>\n",
       "  <g transform=\"translate(31.69,58.78)\">\n",
       "    <g class=\"primitive\">\n",
       "      <text text-anchor=\"middle\" dy=\"0.35em\">e25</text>\n",
       "    </g>\n",
       "  </g>\n",
       "  <g transform=\"translate(42.93,88.46)\">\n",
       "    <g class=\"primitive\">\n",
       "      <text text-anchor=\"middle\" dy=\"0.35em\">e45</text>\n",
       "    </g>\n",
       "  </g>\n",
       "</g>\n",
       "<g stroke-width=\"0\" stroke=\"#000000\" stroke-opacity=\"0.000\" fill=\"#40E0D0\" id=\"img-258cbd28-4\">\n",
       "  <g transform=\"translate(129.64,8.33)\">\n",
       "    <circle cx=\"0\" cy=\"0\" r=\"6.32\" class=\"primitive\"/>\n",
       "  </g>\n",
       "  <g transform=\"translate(38.32,47.81)\">\n",
       "    <circle cx=\"0\" cy=\"0\" r=\"6.32\" class=\"primitive\"/>\n",
       "  </g>\n",
       "  <g transform=\"translate(85.77,39.35)\">\n",
       "    <circle cx=\"0\" cy=\"0\" r=\"6.32\" class=\"primitive\"/>\n",
       "  </g>\n",
       "  <g transform=\"translate(53.31,87.39)\">\n",
       "    <circle cx=\"0\" cy=\"0\" r=\"6.32\" class=\"primitive\"/>\n",
       "  </g>\n",
       "  <g transform=\"translate(11.79,91.67)\">\n",
       "    <circle cx=\"0\" cy=\"0\" r=\"6.32\" class=\"primitive\"/>\n",
       "  </g>\n",
       "</g>\n",
       "<g font-size=\"4\" stroke=\"#000000\" stroke-opacity=\"0.000\" fill=\"#000000\" id=\"img-258cbd28-5\">\n",
       "  <g transform=\"translate(129.64,8.33)\">\n",
       "    <g class=\"primitive\">\n",
       "      <text text-anchor=\"middle\" dy=\"0.35em\">1</text>\n",
       "    </g>\n",
       "  </g>\n",
       "  <g transform=\"translate(38.32,47.81)\">\n",
       "    <g class=\"primitive\">\n",
       "      <text text-anchor=\"middle\" dy=\"0.35em\">2</text>\n",
       "    </g>\n",
       "  </g>\n",
       "  <g transform=\"translate(85.77,39.35)\">\n",
       "    <g class=\"primitive\">\n",
       "      <text text-anchor=\"middle\" dy=\"0.35em\">3</text>\n",
       "    </g>\n",
       "  </g>\n",
       "  <g transform=\"translate(53.31,87.39)\">\n",
       "    <g class=\"primitive\">\n",
       "      <text text-anchor=\"middle\" dy=\"0.35em\">4</text>\n",
       "    </g>\n",
       "  </g>\n",
       "  <g transform=\"translate(11.79,91.67)\">\n",
       "    <g class=\"primitive\">\n",
       "      <text text-anchor=\"middle\" dy=\"0.35em\">5</text>\n",
       "    </g>\n",
       "  </g>\n",
       "</g>\n",
       "</svg>\n"
      ],
      "text/html": [
       "<?xml version=\"1.0\" encoding=\"UTF-8\"?>\n",
       "<svg xmlns=\"http://www.w3.org/2000/svg\"\n",
       "     xmlns:xlink=\"http://www.w3.org/1999/xlink\"\n",
       "     version=\"1.2\"\n",
       "     width=\"141.42mm\" height=\"100mm\" viewBox=\"0 0 141.42 100\"\n",
       "     stroke=\"none\"\n",
       "     fill=\"#000000\"\n",
       "     stroke-width=\"0.3\"\n",
       "     font-size=\"3.88\"\n",
       "\n",
       "     id=\"img-b077f552\">\n",
       "<defs>\n",
       "  <marker id=\"arrow\" markerWidth=\"15\" markerHeight=\"7\" refX=\"5\" refY=\"3.5\" orient=\"auto\" markerUnits=\"strokeWidth\">\n",
       "    <path d=\"M0,0 L15,3.5 L0,7 z\" stroke=\"context-stroke\" fill=\"context-stroke\"/>\n",
       "  </marker>\n",
       "</defs>\n",
       "<g stroke-width=\"1.34\" fill=\"#000000\" fill-opacity=\"0.000\" stroke=\"#D3D3D3\" id=\"img-b077f552-1\">\n",
       "  <g transform=\"translate(107.7,23.84)\">\n",
       "    <path fill=\"none\" d=\"M17.27,-12.22 L-17.27,12.22 \" class=\"primitive\"/>\n",
       "  </g>\n",
       "  <g transform=\"translate(62.05,43.58)\">\n",
       "    <path fill=\"none\" d=\"M-17.34,3.09 L17.34,-3.09 \" class=\"primitive\"/>\n",
       "  </g>\n",
       "  <g transform=\"translate(45.82,67.6)\">\n",
       "    <path fill=\"none\" d=\"M-5.79,-15.29 L5.79,15.29 \" class=\"primitive\"/>\n",
       "  </g>\n",
       "  <g transform=\"translate(25.05,69.74)\">\n",
       "    <path fill=\"none\" d=\"M10.68,-17.64 L-10.68,17.64 \" class=\"primitive\"/>\n",
       "  </g>\n",
       "  <g transform=\"translate(107.7,23.84)\">\n",
       "    <path fill=\"none\" d=\"M-17.27,12.22 L17.27,-12.22 \" class=\"primitive\"/>\n",
       "  </g>\n",
       "  <g transform=\"translate(62.05,43.58)\">\n",
       "    <path fill=\"none\" d=\"M17.34,-3.09 L-17.34,3.09 \" class=\"primitive\"/>\n",
       "  </g>\n",
       "  <g transform=\"translate(69.54,63.37)\">\n",
       "    <path fill=\"none\" d=\"M-13.39,19.82 L13.39,-19.82 \" class=\"primitive\"/>\n",
       "  </g>\n",
       "  <g transform=\"translate(32.55,89.53)\">\n",
       "    <path fill=\"none\" d=\"M14.25,-1.47 L-14.25,1.47 \" class=\"primitive\"/>\n",
       "  </g>\n",
       "  <g transform=\"translate(25.05,69.74)\">\n",
       "    <path fill=\"none\" d=\"M-10.68,17.64 L10.68,-17.64 \" class=\"primitive\"/>\n",
       "  </g>\n",
       "  <g transform=\"translate(32.55,89.53)\">\n",
       "    <path fill=\"none\" d=\"M-14.25,1.47 L14.25,-1.47 \" class=\"primitive\"/>\n",
       "  </g>\n",
       "</g>\n",
       "<g stroke-width=\"1.34\" stroke=\"#D3D3D3\" id=\"img-b077f552-2\">\n",
       "  <g transform=\"translate(93.04,34.21)\">\n",
       "    <path fill=\"none\" d=\"M2.73,0.08 L-2.61,1.85 -0.12,-1.93 \" class=\"primitive\"/>\n",
       "  </g>\n",
       "  <g transform=\"translate(75.8,41.13)\">\n",
       "    <path fill=\"none\" d=\"M-2.28,-1.06 L3.58,-0.64 -1.3,1.7 \" class=\"primitive\"/>\n",
       "  </g>\n",
       "  <g transform=\"translate(50.66,80.37)\">\n",
       "    <path fill=\"none\" d=\"M1.47,-1.63 L0.96,2.52 -2.42,-0.89 \" class=\"primitive\"/>\n",
       "  </g>\n",
       "  <g transform=\"translate(15.83,84.98)\">\n",
       "    <path fill=\"none\" d=\"M2.58,-0.64 L-1.45,2.4 -1.13,-1.76 \" class=\"primitive\"/>\n",
       "  </g>\n",
       "  <g transform=\"translate(122.37,13.47)\">\n",
       "    <path fill=\"none\" d=\"M-2.73,-0.08 L2.61,-1.85 0.12,1.93 \" class=\"primitive\"/>\n",
       "  </g>\n",
       "  <g transform=\"translate(48.29,46.04)\">\n",
       "    <path fill=\"none\" d=\"M2.28,1.06 L-3.58,0.64 1.3,-1.7 \" class=\"primitive\"/>\n",
       "  </g>\n",
       "  <g transform=\"translate(81.34,45.91)\">\n",
       "    <path fill=\"none\" d=\"M-2.61,0.56 L1.59,-2.36 1.02,1.79 \" class=\"primitive\"/>\n",
       "  </g>\n",
       "  <g transform=\"translate(21.96,90.62)\">\n",
       "    <path fill=\"none\" d=\"M2.12,1.22 L-3.65,0.38 1.54,-1.6 \" class=\"primitive\"/>\n",
       "  </g>\n",
       "  <g transform=\"translate(34.28,54.5)\">\n",
       "    <path fill=\"none\" d=\"M-2.58,0.64 L1.45,-2.4 1.13,1.76 \" class=\"primitive\"/>\n",
       "  </g>\n",
       "  <g transform=\"translate(43.14,88.44)\">\n",
       "    <path fill=\"none\" d=\"M-2.12,-1.22 L3.65,-0.38 -1.54,1.6 \" class=\"primitive\"/>\n",
       "  </g>\n",
       "</g>\n",
       "<g font-size=\"4\" stroke=\"#000000\" stroke-opacity=\"0.000\" fill=\"#000000\" id=\"img-b077f552-3\">\n",
       "  <g transform=\"translate(96.74,31.6)\">\n",
       "    <g class=\"primitive\">\n",
       "      <text text-anchor=\"middle\" dy=\"0.35em\">e31</text>\n",
       "    </g>\n",
       "  </g>\n",
       "  <g transform=\"translate(73.91,41.47)\">\n",
       "    <g class=\"primitive\">\n",
       "      <text text-anchor=\"middle\" dy=\"0.35em\">e32</text>\n",
       "    </g>\n",
       "  </g>\n",
       "  <g transform=\"translate(49.57,77.5)\">\n",
       "    <g class=\"primitive\">\n",
       "      <text text-anchor=\"middle\" dy=\"0.35em\">e42</text>\n",
       "    </g>\n",
       "  </g>\n",
       "  <g transform=\"translate(18.42,80.7)\">\n",
       "    <g class=\"primitive\">\n",
       "      <text text-anchor=\"middle\" dy=\"0.35em\">e52</text>\n",
       "    </g>\n",
       "  </g>\n",
       "  <g transform=\"translate(118.67,16.09)\">\n",
       "    <g class=\"primitive\">\n",
       "      <text text-anchor=\"middle\" dy=\"0.35em\">e13</text>\n",
       "    </g>\n",
       "  </g>\n",
       "  <g transform=\"translate(50.18,45.7)\">\n",
       "    <g class=\"primitive\">\n",
       "      <text text-anchor=\"middle\" dy=\"0.35em\">e23</text>\n",
       "    </g>\n",
       "  </g>\n",
       "  <g transform=\"translate(77.66,51.36)\">\n",
       "    <g class=\"primitive\">\n",
       "      <text text-anchor=\"middle\" dy=\"0.35em\">e34</text>\n",
       "    </g>\n",
       "  </g>\n",
       "  <g transform=\"translate(22.17,90.6)\">\n",
       "    <g class=\"primitive\">\n",
       "      <text text-anchor=\"middle\" dy=\"0.35em\">e54</text>\n",
       "    </g>\n",
       "  </g>\n",
       "  <g transform=\"translate(31.69,58.78)\">\n",
       "    <g class=\"primitive\">\n",
       "      <text text-anchor=\"middle\" dy=\"0.35em\">e25</text>\n",
       "    </g>\n",
       "  </g>\n",
       "  <g transform=\"translate(42.93,88.46)\">\n",
       "    <g class=\"primitive\">\n",
       "      <text text-anchor=\"middle\" dy=\"0.35em\">e45</text>\n",
       "    </g>\n",
       "  </g>\n",
       "</g>\n",
       "<g stroke-width=\"0\" stroke=\"#000000\" stroke-opacity=\"0.000\" fill=\"#40E0D0\" id=\"img-b077f552-4\">\n",
       "  <g transform=\"translate(129.64,8.33)\">\n",
       "    <circle cx=\"0\" cy=\"0\" r=\"6.32\" class=\"primitive\"/>\n",
       "  </g>\n",
       "  <g transform=\"translate(38.32,47.81)\">\n",
       "    <circle cx=\"0\" cy=\"0\" r=\"6.32\" class=\"primitive\"/>\n",
       "  </g>\n",
       "  <g transform=\"translate(85.77,39.35)\">\n",
       "    <circle cx=\"0\" cy=\"0\" r=\"6.32\" class=\"primitive\"/>\n",
       "  </g>\n",
       "  <g transform=\"translate(53.31,87.39)\">\n",
       "    <circle cx=\"0\" cy=\"0\" r=\"6.32\" class=\"primitive\"/>\n",
       "  </g>\n",
       "  <g transform=\"translate(11.79,91.67)\">\n",
       "    <circle cx=\"0\" cy=\"0\" r=\"6.32\" class=\"primitive\"/>\n",
       "  </g>\n",
       "</g>\n",
       "<g font-size=\"4\" stroke=\"#000000\" stroke-opacity=\"0.000\" fill=\"#000000\" id=\"img-b077f552-5\">\n",
       "  <g transform=\"translate(129.64,8.33)\">\n",
       "    <g class=\"primitive\">\n",
       "      <text text-anchor=\"middle\" dy=\"0.35em\">1</text>\n",
       "    </g>\n",
       "  </g>\n",
       "  <g transform=\"translate(38.32,47.81)\">\n",
       "    <g class=\"primitive\">\n",
       "      <text text-anchor=\"middle\" dy=\"0.35em\">2</text>\n",
       "    </g>\n",
       "  </g>\n",
       "  <g transform=\"translate(85.77,39.35)\">\n",
       "    <g class=\"primitive\">\n",
       "      <text text-anchor=\"middle\" dy=\"0.35em\">3</text>\n",
       "    </g>\n",
       "  </g>\n",
       "  <g transform=\"translate(53.31,87.39)\">\n",
       "    <g class=\"primitive\">\n",
       "      <text text-anchor=\"middle\" dy=\"0.35em\">4</text>\n",
       "    </g>\n",
       "  </g>\n",
       "  <g transform=\"translate(11.79,91.67)\">\n",
       "    <g class=\"primitive\">\n",
       "      <text text-anchor=\"middle\" dy=\"0.35em\">5</text>\n",
       "    </g>\n",
       "  </g>\n",
       "</g>\n",
       "<script> <![CDATA[\n",
       "(function(N){var k=/[\\.\\/]/,L=/\\s*,\\s*/,C=function(a,d){return a-d},a,v,y={n:{}},M=function(){for(var a=0,d=this.length;a<d;a++)if(\"undefined\"!=typeof this[a])return this[a]},A=function(){for(var a=this.length;--a;)if(\"undefined\"!=typeof this[a])return this[a]},w=function(k,d){k=String(k);var f=v,n=Array.prototype.slice.call(arguments,2),u=w.listeners(k),p=0,b,q=[],e={},l=[],r=a;l.firstDefined=M;l.lastDefined=A;a=k;for(var s=v=0,x=u.length;s<x;s++)\"zIndex\"in u[s]&&(q.push(u[s].zIndex),0>u[s].zIndex&&\n",
       "(e[u[s].zIndex]=u[s]));for(q.sort(C);0>q[p];)if(b=e[q[p++] ],l.push(b.apply(d,n)),v)return v=f,l;for(s=0;s<x;s++)if(b=u[s],\"zIndex\"in b)if(b.zIndex==q[p]){l.push(b.apply(d,n));if(v)break;do if(p++,(b=e[q[p] ])&&l.push(b.apply(d,n)),v)break;while(b)}else e[b.zIndex]=b;else if(l.push(b.apply(d,n)),v)break;v=f;a=r;return l};w._events=y;w.listeners=function(a){a=a.split(k);var d=y,f,n,u,p,b,q,e,l=[d],r=[];u=0;for(p=a.length;u<p;u++){e=[];b=0;for(q=l.length;b<q;b++)for(d=l[b].n,f=[d[a[u] ],d[\"*\"] ],n=2;n--;)if(d=\n",
       "f[n])e.push(d),r=r.concat(d.f||[]);l=e}return r};w.on=function(a,d){a=String(a);if(\"function\"!=typeof d)return function(){};for(var f=a.split(L),n=0,u=f.length;n<u;n++)(function(a){a=a.split(k);for(var b=y,f,e=0,l=a.length;e<l;e++)b=b.n,b=b.hasOwnProperty(a[e])&&b[a[e] ]||(b[a[e] ]={n:{}});b.f=b.f||[];e=0;for(l=b.f.length;e<l;e++)if(b.f[e]==d){f=!0;break}!f&&b.f.push(d)})(f[n]);return function(a){+a==+a&&(d.zIndex=+a)}};w.f=function(a){var d=[].slice.call(arguments,1);return function(){w.apply(null,\n",
       "[a,null].concat(d).concat([].slice.call(arguments,0)))}};w.stop=function(){v=1};w.nt=function(k){return k?(new RegExp(\"(?:\\\\.|\\\\/|^)\"+k+\"(?:\\\\.|\\\\/|$)\")).test(a):a};w.nts=function(){return a.split(k)};w.off=w.unbind=function(a,d){if(a){var f=a.split(L);if(1<f.length)for(var n=0,u=f.length;n<u;n++)w.off(f[n],d);else{for(var f=a.split(k),p,b,q,e,l=[y],n=0,u=f.length;n<u;n++)for(e=0;e<l.length;e+=q.length-2){q=[e,1];p=l[e].n;if(\"*\"!=f[n])p[f[n] ]&&q.push(p[f[n] ]);else for(b in p)p.hasOwnProperty(b)&&\n",
       "q.push(p[b]);l.splice.apply(l,q)}n=0;for(u=l.length;n<u;n++)for(p=l[n];p.n;){if(d){if(p.f){e=0;for(f=p.f.length;e<f;e++)if(p.f[e]==d){p.f.splice(e,1);break}!p.f.length&&delete p.f}for(b in p.n)if(p.n.hasOwnProperty(b)&&p.n[b].f){q=p.n[b].f;e=0;for(f=q.length;e<f;e++)if(q[e]==d){q.splice(e,1);break}!q.length&&delete p.n[b].f}}else for(b in delete p.f,p.n)p.n.hasOwnProperty(b)&&p.n[b].f&&delete p.n[b].f;p=p.n}}}else w._events=y={n:{}}};w.once=function(a,d){var f=function(){w.unbind(a,f);return d.apply(this,\n",
       "arguments)};return w.on(a,f)};w.version=\"0.4.2\";w.toString=function(){return\"You are running Eve 0.4.2\"};\"undefined\"!=typeof module&&module.exports?module.exports=w:\"function\"===typeof define&&define.amd?define(\"eve\",[],function(){return w}):N.eve=w})(this);\n",
       "(function(N,k){\"function\"===typeof define&&define.amd?define(\"Snap.svg\",[\"eve\"],function(L){return k(N,L)}):k(N,N.eve)})(this,function(N,k){var L=function(a){var k={},y=N.requestAnimationFrame||N.webkitRequestAnimationFrame||N.mozRequestAnimationFrame||N.oRequestAnimationFrame||N.msRequestAnimationFrame||function(a){setTimeout(a,16)},M=Array.isArray||function(a){return a instanceof Array||\"[object Array]\"==Object.prototype.toString.call(a)},A=0,w=\"M\"+(+new Date).toString(36),z=function(a){if(null==\n",
       "a)return this.s;var b=this.s-a;this.b+=this.dur*b;this.B+=this.dur*b;this.s=a},d=function(a){if(null==a)return this.spd;this.spd=a},f=function(a){if(null==a)return this.dur;this.s=this.s*a/this.dur;this.dur=a},n=function(){delete k[this.id];this.update();a(\"mina.stop.\"+this.id,this)},u=function(){this.pdif||(delete k[this.id],this.update(),this.pdif=this.get()-this.b)},p=function(){this.pdif&&(this.b=this.get()-this.pdif,delete this.pdif,k[this.id]=this)},b=function(){var a;if(M(this.start)){a=[];\n",
       "for(var b=0,e=this.start.length;b<e;b++)a[b]=+this.start[b]+(this.end[b]-this.start[b])*this.easing(this.s)}else a=+this.start+(this.end-this.start)*this.easing(this.s);this.set(a)},q=function(){var l=0,b;for(b in k)if(k.hasOwnProperty(b)){var e=k[b],f=e.get();l++;e.s=(f-e.b)/(e.dur/e.spd);1<=e.s&&(delete k[b],e.s=1,l--,function(b){setTimeout(function(){a(\"mina.finish.\"+b.id,b)})}(e));e.update()}l&&y(q)},e=function(a,r,s,x,G,h,J){a={id:w+(A++).toString(36),start:a,end:r,b:s,s:0,dur:x-s,spd:1,get:G,\n",
       "set:h,easing:J||e.linear,status:z,speed:d,duration:f,stop:n,pause:u,resume:p,update:b};k[a.id]=a;r=0;for(var K in k)if(k.hasOwnProperty(K)&&(r++,2==r))break;1==r&&y(q);return a};e.time=Date.now||function(){return+new Date};e.getById=function(a){return k[a]||null};e.linear=function(a){return a};e.easeout=function(a){return Math.pow(a,1.7)};e.easein=function(a){return Math.pow(a,0.48)};e.easeinout=function(a){if(1==a)return 1;if(0==a)return 0;var b=0.48-a/1.04,e=Math.sqrt(0.1734+b*b);a=e-b;a=Math.pow(Math.abs(a),\n",
       "1/3)*(0>a?-1:1);b=-e-b;b=Math.pow(Math.abs(b),1/3)*(0>b?-1:1);a=a+b+0.5;return 3*(1-a)*a*a+a*a*a};e.backin=function(a){return 1==a?1:a*a*(2.70158*a-1.70158)};e.backout=function(a){if(0==a)return 0;a-=1;return a*a*(2.70158*a+1.70158)+1};e.elastic=function(a){return a==!!a?a:Math.pow(2,-10*a)*Math.sin(2*(a-0.075)*Math.PI/0.3)+1};e.bounce=function(a){a<1/2.75?a*=7.5625*a:a<2/2.75?(a-=1.5/2.75,a=7.5625*a*a+0.75):a<2.5/2.75?(a-=2.25/2.75,a=7.5625*a*a+0.9375):(a-=2.625/2.75,a=7.5625*a*a+0.984375);return a};\n",
       "return N.mina=e}(\"undefined\"==typeof k?function(){}:k),C=function(){function a(c,t){if(c){if(c.tagName)return x(c);if(y(c,\"array\")&&a.set)return a.set.apply(a,c);if(c instanceof e)return c;if(null==t)return c=G.doc.querySelector(c),x(c)}return new s(null==c?\"100%\":c,null==t?\"100%\":t)}function v(c,a){if(a){\"#text\"==c&&(c=G.doc.createTextNode(a.text||\"\"));\"string\"==typeof c&&(c=v(c));if(\"string\"==typeof a)return\"xlink:\"==a.substring(0,6)?c.getAttributeNS(m,a.substring(6)):\"xml:\"==a.substring(0,4)?c.getAttributeNS(la,\n",
       "a.substring(4)):c.getAttribute(a);for(var da in a)if(a[h](da)){var b=J(a[da]);b?\"xlink:\"==da.substring(0,6)?c.setAttributeNS(m,da.substring(6),b):\"xml:\"==da.substring(0,4)?c.setAttributeNS(la,da.substring(4),b):c.setAttribute(da,b):c.removeAttribute(da)}}else c=G.doc.createElementNS(la,c);return c}function y(c,a){a=J.prototype.toLowerCase.call(a);return\"finite\"==a?isFinite(c):\"array\"==a&&(c instanceof Array||Array.isArray&&Array.isArray(c))?!0:\"null\"==a&&null===c||a==typeof c&&null!==c||\"object\"==\n",
       "a&&c===Object(c)||$.call(c).slice(8,-1).toLowerCase()==a}function M(c){if(\"function\"==typeof c||Object(c)!==c)return c;var a=new c.constructor,b;for(b in c)c[h](b)&&(a[b]=M(c[b]));return a}function A(c,a,b){function m(){var e=Array.prototype.slice.call(arguments,0),f=e.join(\"\\u2400\"),d=m.cache=m.cache||{},l=m.count=m.count||[];if(d[h](f)){a:for(var e=l,l=f,B=0,H=e.length;B<H;B++)if(e[B]===l){e.push(e.splice(B,1)[0]);break a}return b?b(d[f]):d[f]}1E3<=l.length&&delete d[l.shift()];l.push(f);d[f]=c.apply(a,\n",
       "e);return b?b(d[f]):d[f]}return m}function w(c,a,b,m,e,f){return null==e?(c-=b,a-=m,c||a?(180*I.atan2(-a,-c)/C+540)%360:0):w(c,a,e,f)-w(b,m,e,f)}function z(c){return c%360*C/180}function d(c){var a=[];c=c.replace(/(?:^|\\s)(\\w+)\\(([^)]+)\\)/g,function(c,b,m){m=m.split(/\\s*,\\s*|\\s+/);\"rotate\"==b&&1==m.length&&m.push(0,0);\"scale\"==b&&(2<m.length?m=m.slice(0,2):2==m.length&&m.push(0,0),1==m.length&&m.push(m[0],0,0));\"skewX\"==b?a.push([\"m\",1,0,I.tan(z(m[0])),1,0,0]):\"skewY\"==b?a.push([\"m\",1,I.tan(z(m[0])),\n",
       "0,1,0,0]):a.push([b.charAt(0)].concat(m));return c});return a}function f(c,t){var b=O(c),m=new a.Matrix;if(b)for(var e=0,f=b.length;e<f;e++){var h=b[e],d=h.length,B=J(h[0]).toLowerCase(),H=h[0]!=B,l=H?m.invert():0,E;\"t\"==B&&2==d?m.translate(h[1],0):\"t\"==B&&3==d?H?(d=l.x(0,0),B=l.y(0,0),H=l.x(h[1],h[2]),l=l.y(h[1],h[2]),m.translate(H-d,l-B)):m.translate(h[1],h[2]):\"r\"==B?2==d?(E=E||t,m.rotate(h[1],E.x+E.width/2,E.y+E.height/2)):4==d&&(H?(H=l.x(h[2],h[3]),l=l.y(h[2],h[3]),m.rotate(h[1],H,l)):m.rotate(h[1],\n",
       "h[2],h[3])):\"s\"==B?2==d||3==d?(E=E||t,m.scale(h[1],h[d-1],E.x+E.width/2,E.y+E.height/2)):4==d?H?(H=l.x(h[2],h[3]),l=l.y(h[2],h[3]),m.scale(h[1],h[1],H,l)):m.scale(h[1],h[1],h[2],h[3]):5==d&&(H?(H=l.x(h[3],h[4]),l=l.y(h[3],h[4]),m.scale(h[1],h[2],H,l)):m.scale(h[1],h[2],h[3],h[4])):\"m\"==B&&7==d&&m.add(h[1],h[2],h[3],h[4],h[5],h[6])}return m}function n(c,t){if(null==t){var m=!0;t=\"linearGradient\"==c.type||\"radialGradient\"==c.type?c.node.getAttribute(\"gradientTransform\"):\"pattern\"==c.type?c.node.getAttribute(\"patternTransform\"):\n",
       "c.node.getAttribute(\"transform\");if(!t)return new a.Matrix;t=d(t)}else t=a._.rgTransform.test(t)?J(t).replace(/\\.{3}|\\u2026/g,c._.transform||aa):d(t),y(t,\"array\")&&(t=a.path?a.path.toString.call(t):J(t)),c._.transform=t;var b=f(t,c.getBBox(1));if(m)return b;c.matrix=b}function u(c){c=c.node.ownerSVGElement&&x(c.node.ownerSVGElement)||c.node.parentNode&&x(c.node.parentNode)||a.select(\"svg\")||a(0,0);var t=c.select(\"defs\"),t=null==t?!1:t.node;t||(t=r(\"defs\",c.node).node);return t}function p(c){return c.node.ownerSVGElement&&\n",
       "x(c.node.ownerSVGElement)||a.select(\"svg\")}function b(c,a,m){function b(c){if(null==c)return aa;if(c==+c)return c;v(B,{width:c});try{return B.getBBox().width}catch(a){return 0}}function h(c){if(null==c)return aa;if(c==+c)return c;v(B,{height:c});try{return B.getBBox().height}catch(a){return 0}}function e(b,B){null==a?d[b]=B(c.attr(b)||0):b==a&&(d=B(null==m?c.attr(b)||0:m))}var f=p(c).node,d={},B=f.querySelector(\".svg---mgr\");B||(B=v(\"rect\"),v(B,{x:-9E9,y:-9E9,width:10,height:10,\"class\":\"svg---mgr\",\n",
       "fill:\"none\"}),f.appendChild(B));switch(c.type){case \"rect\":e(\"rx\",b),e(\"ry\",h);case \"image\":e(\"width\",b),e(\"height\",h);case \"text\":e(\"x\",b);e(\"y\",h);break;case \"circle\":e(\"cx\",b);e(\"cy\",h);e(\"r\",b);break;case \"ellipse\":e(\"cx\",b);e(\"cy\",h);e(\"rx\",b);e(\"ry\",h);break;case \"line\":e(\"x1\",b);e(\"x2\",b);e(\"y1\",h);e(\"y2\",h);break;case \"marker\":e(\"refX\",b);e(\"markerWidth\",b);e(\"refY\",h);e(\"markerHeight\",h);break;case \"radialGradient\":e(\"fx\",b);e(\"fy\",h);break;case \"tspan\":e(\"dx\",b);e(\"dy\",h);break;default:e(a,\n",
       "b)}f.removeChild(B);return d}function q(c){y(c,\"array\")||(c=Array.prototype.slice.call(arguments,0));for(var a=0,b=0,m=this.node;this[a];)delete this[a++];for(a=0;a<c.length;a++)\"set\"==c[a].type?c[a].forEach(function(c){m.appendChild(c.node)}):m.appendChild(c[a].node);for(var h=m.childNodes,a=0;a<h.length;a++)this[b++]=x(h[a]);return this}function e(c){if(c.snap in E)return E[c.snap];var a=this.id=V(),b;try{b=c.ownerSVGElement}catch(m){}this.node=c;b&&(this.paper=new s(b));this.type=c.tagName;this.anims=\n",
       "{};this._={transform:[]};c.snap=a;E[a]=this;\"g\"==this.type&&(this.add=q);if(this.type in{g:1,mask:1,pattern:1})for(var e in s.prototype)s.prototype[h](e)&&(this[e]=s.prototype[e])}function l(c){this.node=c}function r(c,a){var b=v(c);a.appendChild(b);return x(b)}function s(c,a){var b,m,f,d=s.prototype;if(c&&\"svg\"==c.tagName){if(c.snap in E)return E[c.snap];var l=c.ownerDocument;b=new e(c);m=c.getElementsByTagName(\"desc\")[0];f=c.getElementsByTagName(\"defs\")[0];m||(m=v(\"desc\"),m.appendChild(l.createTextNode(\"Created with Snap\")),\n",
       "b.node.appendChild(m));f||(f=v(\"defs\"),b.node.appendChild(f));b.defs=f;for(var ca in d)d[h](ca)&&(b[ca]=d[ca]);b.paper=b.root=b}else b=r(\"svg\",G.doc.body),v(b.node,{height:a,version:1.1,width:c,xmlns:la});return b}function x(c){return!c||c instanceof e||c instanceof l?c:c.tagName&&\"svg\"==c.tagName.toLowerCase()?new s(c):c.tagName&&\"object\"==c.tagName.toLowerCase()&&\"image/svg+xml\"==c.type?new s(c.contentDocument.getElementsByTagName(\"svg\")[0]):new e(c)}a.version=\"0.3.0\";a.toString=function(){return\"Snap v\"+\n",
       "this.version};a._={};var G={win:N,doc:N.document};a._.glob=G;var h=\"hasOwnProperty\",J=String,K=parseFloat,U=parseInt,I=Math,P=I.max,Q=I.min,Y=I.abs,C=I.PI,aa=\"\",$=Object.prototype.toString,F=/^\\s*((#[a-f\\d]{6})|(#[a-f\\d]{3})|rgba?\\(\\s*([\\d\\.]+%?\\s*,\\s*[\\d\\.]+%?\\s*,\\s*[\\d\\.]+%?(?:\\s*,\\s*[\\d\\.]+%?)?)\\s*\\)|hsba?\\(\\s*([\\d\\.]+(?:deg|\\xb0|%)?\\s*,\\s*[\\d\\.]+%?\\s*,\\s*[\\d\\.]+(?:%?\\s*,\\s*[\\d\\.]+)?%?)\\s*\\)|hsla?\\(\\s*([\\d\\.]+(?:deg|\\xb0|%)?\\s*,\\s*[\\d\\.]+%?\\s*,\\s*[\\d\\.]+(?:%?\\s*,\\s*[\\d\\.]+)?%?)\\s*\\))\\s*$/i;a._.separator=\n",
       "RegExp(\"[,\\t\\n\\x0B\\f\\r \\u00a0\\u1680\\u180e\\u2000\\u2001\\u2002\\u2003\\u2004\\u2005\\u2006\\u2007\\u2008\\u2009\\u200a\\u202f\\u205f\\u3000\\u2028\\u2029]+\");var S=RegExp(\"[\\t\\n\\x0B\\f\\r \\u00a0\\u1680\\u180e\\u2000\\u2001\\u2002\\u2003\\u2004\\u2005\\u2006\\u2007\\u2008\\u2009\\u200a\\u202f\\u205f\\u3000\\u2028\\u2029]*,[\\t\\n\\x0B\\f\\r \\u00a0\\u1680\\u180e\\u2000\\u2001\\u2002\\u2003\\u2004\\u2005\\u2006\\u2007\\u2008\\u2009\\u200a\\u202f\\u205f\\u3000\\u2028\\u2029]*\"),X={hs:1,rg:1},W=RegExp(\"([a-z])[\\t\\n\\x0B\\f\\r \\u00a0\\u1680\\u180e\\u2000\\u2001\\u2002\\u2003\\u2004\\u2005\\u2006\\u2007\\u2008\\u2009\\u200a\\u202f\\u205f\\u3000\\u2028\\u2029,]*((-?\\\\d*\\\\.?\\\\d*(?:e[\\\\-+]?\\\\d+)?[\\t\\n\\x0B\\f\\r \\u00a0\\u1680\\u180e\\u2000\\u2001\\u2002\\u2003\\u2004\\u2005\\u2006\\u2007\\u2008\\u2009\\u200a\\u202f\\u205f\\u3000\\u2028\\u2029]*,?[\\t\\n\\x0B\\f\\r \\u00a0\\u1680\\u180e\\u2000\\u2001\\u2002\\u2003\\u2004\\u2005\\u2006\\u2007\\u2008\\u2009\\u200a\\u202f\\u205f\\u3000\\u2028\\u2029]*)+)\",\n",
       "\"ig\"),ma=RegExp(\"([rstm])[\\t\\n\\x0B\\f\\r \\u00a0\\u1680\\u180e\\u2000\\u2001\\u2002\\u2003\\u2004\\u2005\\u2006\\u2007\\u2008\\u2009\\u200a\\u202f\\u205f\\u3000\\u2028\\u2029,]*((-?\\\\d*\\\\.?\\\\d*(?:e[\\\\-+]?\\\\d+)?[\\t\\n\\x0B\\f\\r \\u00a0\\u1680\\u180e\\u2000\\u2001\\u2002\\u2003\\u2004\\u2005\\u2006\\u2007\\u2008\\u2009\\u200a\\u202f\\u205f\\u3000\\u2028\\u2029]*,?[\\t\\n\\x0B\\f\\r \\u00a0\\u1680\\u180e\\u2000\\u2001\\u2002\\u2003\\u2004\\u2005\\u2006\\u2007\\u2008\\u2009\\u200a\\u202f\\u205f\\u3000\\u2028\\u2029]*)+)\",\"ig\"),Z=RegExp(\"(-?\\\\d*\\\\.?\\\\d*(?:e[\\\\-+]?\\\\d+)?)[\\t\\n\\x0B\\f\\r \\u00a0\\u1680\\u180e\\u2000\\u2001\\u2002\\u2003\\u2004\\u2005\\u2006\\u2007\\u2008\\u2009\\u200a\\u202f\\u205f\\u3000\\u2028\\u2029]*,?[\\t\\n\\x0B\\f\\r \\u00a0\\u1680\\u180e\\u2000\\u2001\\u2002\\u2003\\u2004\\u2005\\u2006\\u2007\\u2008\\u2009\\u200a\\u202f\\u205f\\u3000\\u2028\\u2029]*\",\n",
       "\"ig\"),na=0,ba=\"S\"+(+new Date).toString(36),V=function(){return ba+(na++).toString(36)},m=\"http://www.w3.org/1999/xlink\",la=\"http://www.w3.org/2000/svg\",E={},ca=a.url=function(c){return\"url('#\"+c+\"')\"};a._.$=v;a._.id=V;a.format=function(){var c=/\\{([^\\}]+)\\}/g,a=/(?:(?:^|\\.)(.+?)(?=\\[|\\.|$|\\()|\\[('|\")(.+?)\\2\\])(\\(\\))?/g,b=function(c,b,m){var h=m;b.replace(a,function(c,a,b,m,t){a=a||m;h&&(a in h&&(h=h[a]),\"function\"==typeof h&&t&&(h=h()))});return h=(null==h||h==m?c:h)+\"\"};return function(a,m){return J(a).replace(c,\n",
       "function(c,a){return b(c,a,m)})}}();a._.clone=M;a._.cacher=A;a.rad=z;a.deg=function(c){return 180*c/C%360};a.angle=w;a.is=y;a.snapTo=function(c,a,b){b=y(b,\"finite\")?b:10;if(y(c,\"array\"))for(var m=c.length;m--;){if(Y(c[m]-a)<=b)return c[m]}else{c=+c;m=a%c;if(m<b)return a-m;if(m>c-b)return a-m+c}return a};a.getRGB=A(function(c){if(!c||(c=J(c)).indexOf(\"-\")+1)return{r:-1,g:-1,b:-1,hex:\"none\",error:1,toString:ka};if(\"none\"==c)return{r:-1,g:-1,b:-1,hex:\"none\",toString:ka};!X[h](c.toLowerCase().substring(0,\n",
       "2))&&\"#\"!=c.charAt()&&(c=T(c));if(!c)return{r:-1,g:-1,b:-1,hex:\"none\",error:1,toString:ka};var b,m,e,f,d;if(c=c.match(F)){c[2]&&(e=U(c[2].substring(5),16),m=U(c[2].substring(3,5),16),b=U(c[2].substring(1,3),16));c[3]&&(e=U((d=c[3].charAt(3))+d,16),m=U((d=c[3].charAt(2))+d,16),b=U((d=c[3].charAt(1))+d,16));c[4]&&(d=c[4].split(S),b=K(d[0]),\"%\"==d[0].slice(-1)&&(b*=2.55),m=K(d[1]),\"%\"==d[1].slice(-1)&&(m*=2.55),e=K(d[2]),\"%\"==d[2].slice(-1)&&(e*=2.55),\"rgba\"==c[1].toLowerCase().slice(0,4)&&(f=K(d[3])),\n",
       "d[3]&&\"%\"==d[3].slice(-1)&&(f/=100));if(c[5])return d=c[5].split(S),b=K(d[0]),\"%\"==d[0].slice(-1)&&(b/=100),m=K(d[1]),\"%\"==d[1].slice(-1)&&(m/=100),e=K(d[2]),\"%\"==d[2].slice(-1)&&(e/=100),\"deg\"!=d[0].slice(-3)&&\"\\u00b0\"!=d[0].slice(-1)||(b/=360),\"hsba\"==c[1].toLowerCase().slice(0,4)&&(f=K(d[3])),d[3]&&\"%\"==d[3].slice(-1)&&(f/=100),a.hsb2rgb(b,m,e,f);if(c[6])return d=c[6].split(S),b=K(d[0]),\"%\"==d[0].slice(-1)&&(b/=100),m=K(d[1]),\"%\"==d[1].slice(-1)&&(m/=100),e=K(d[2]),\"%\"==d[2].slice(-1)&&(e/=100),\n",
       "\"deg\"!=d[0].slice(-3)&&\"\\u00b0\"!=d[0].slice(-1)||(b/=360),\"hsla\"==c[1].toLowerCase().slice(0,4)&&(f=K(d[3])),d[3]&&\"%\"==d[3].slice(-1)&&(f/=100),a.hsl2rgb(b,m,e,f);b=Q(I.round(b),255);m=Q(I.round(m),255);e=Q(I.round(e),255);f=Q(P(f,0),1);c={r:b,g:m,b:e,toString:ka};c.hex=\"#\"+(16777216|e|m<<8|b<<16).toString(16).slice(1);c.opacity=y(f,\"finite\")?f:1;return c}return{r:-1,g:-1,b:-1,hex:\"none\",error:1,toString:ka}},a);a.hsb=A(function(c,b,m){return a.hsb2rgb(c,b,m).hex});a.hsl=A(function(c,b,m){return a.hsl2rgb(c,\n",
       "b,m).hex});a.rgb=A(function(c,a,b,m){if(y(m,\"finite\")){var e=I.round;return\"rgba(\"+[e(c),e(a),e(b),+m.toFixed(2)]+\")\"}return\"#\"+(16777216|b|a<<8|c<<16).toString(16).slice(1)});var T=function(c){var a=G.doc.getElementsByTagName(\"head\")[0]||G.doc.getElementsByTagName(\"svg\")[0];T=A(function(c){if(\"red\"==c.toLowerCase())return\"rgb(255, 0, 0)\";a.style.color=\"rgb(255, 0, 0)\";a.style.color=c;c=G.doc.defaultView.getComputedStyle(a,aa).getPropertyValue(\"color\");return\"rgb(255, 0, 0)\"==c?null:c});return T(c)},\n",
       "qa=function(){return\"hsb(\"+[this.h,this.s,this.b]+\")\"},ra=function(){return\"hsl(\"+[this.h,this.s,this.l]+\")\"},ka=function(){return 1==this.opacity||null==this.opacity?this.hex:\"rgba(\"+[this.r,this.g,this.b,this.opacity]+\")\"},D=function(c,b,m){null==b&&y(c,\"object\")&&\"r\"in c&&\"g\"in c&&\"b\"in c&&(m=c.b,b=c.g,c=c.r);null==b&&y(c,string)&&(m=a.getRGB(c),c=m.r,b=m.g,m=m.b);if(1<c||1<b||1<m)c/=255,b/=255,m/=255;return[c,b,m]},oa=function(c,b,m,e){c=I.round(255*c);b=I.round(255*b);m=I.round(255*m);c={r:c,\n",
       "g:b,b:m,opacity:y(e,\"finite\")?e:1,hex:a.rgb(c,b,m),toString:ka};y(e,\"finite\")&&(c.opacity=e);return c};a.color=function(c){var b;y(c,\"object\")&&\"h\"in c&&\"s\"in c&&\"b\"in c?(b=a.hsb2rgb(c),c.r=b.r,c.g=b.g,c.b=b.b,c.opacity=1,c.hex=b.hex):y(c,\"object\")&&\"h\"in c&&\"s\"in c&&\"l\"in c?(b=a.hsl2rgb(c),c.r=b.r,c.g=b.g,c.b=b.b,c.opacity=1,c.hex=b.hex):(y(c,\"string\")&&(c=a.getRGB(c)),y(c,\"object\")&&\"r\"in c&&\"g\"in c&&\"b\"in c&&!(\"error\"in c)?(b=a.rgb2hsl(c),c.h=b.h,c.s=b.s,c.l=b.l,b=a.rgb2hsb(c),c.v=b.b):(c={hex:\"none\"},\n",
       "c.r=c.g=c.b=c.h=c.s=c.v=c.l=-1,c.error=1));c.toString=ka;return c};a.hsb2rgb=function(c,a,b,m){y(c,\"object\")&&\"h\"in c&&\"s\"in c&&\"b\"in c&&(b=c.b,a=c.s,c=c.h,m=c.o);var e,h,d;c=360*c%360/60;d=b*a;a=d*(1-Y(c%2-1));b=e=h=b-d;c=~~c;b+=[d,a,0,0,a,d][c];e+=[a,d,d,a,0,0][c];h+=[0,0,a,d,d,a][c];return oa(b,e,h,m)};a.hsl2rgb=function(c,a,b,m){y(c,\"object\")&&\"h\"in c&&\"s\"in c&&\"l\"in c&&(b=c.l,a=c.s,c=c.h);if(1<c||1<a||1<b)c/=360,a/=100,b/=100;var e,h,d;c=360*c%360/60;d=2*a*(0.5>b?b:1-b);a=d*(1-Y(c%2-1));b=e=\n",
       "h=b-d/2;c=~~c;b+=[d,a,0,0,a,d][c];e+=[a,d,d,a,0,0][c];h+=[0,0,a,d,d,a][c];return oa(b,e,h,m)};a.rgb2hsb=function(c,a,b){b=D(c,a,b);c=b[0];a=b[1];b=b[2];var m,e;m=P(c,a,b);e=m-Q(c,a,b);c=((0==e?0:m==c?(a-b)/e:m==a?(b-c)/e+2:(c-a)/e+4)+360)%6*60/360;return{h:c,s:0==e?0:e/m,b:m,toString:qa}};a.rgb2hsl=function(c,a,b){b=D(c,a,b);c=b[0];a=b[1];b=b[2];var m,e,h;m=P(c,a,b);e=Q(c,a,b);h=m-e;c=((0==h?0:m==c?(a-b)/h:m==a?(b-c)/h+2:(c-a)/h+4)+360)%6*60/360;m=(m+e)/2;return{h:c,s:0==h?0:0.5>m?h/(2*m):h/(2-2*\n",
       "m),l:m,toString:ra}};a.parsePathString=function(c){if(!c)return null;var b=a.path(c);if(b.arr)return a.path.clone(b.arr);var m={a:7,c:6,o:2,h:1,l:2,m:2,r:4,q:4,s:4,t:2,v:1,u:3,z:0},e=[];y(c,\"array\")&&y(c[0],\"array\")&&(e=a.path.clone(c));e.length||J(c).replace(W,function(c,a,b){var h=[];c=a.toLowerCase();b.replace(Z,function(c,a){a&&h.push(+a)});\"m\"==c&&2<h.length&&(e.push([a].concat(h.splice(0,2))),c=\"l\",a=\"m\"==a?\"l\":\"L\");\"o\"==c&&1==h.length&&e.push([a,h[0] ]);if(\"r\"==c)e.push([a].concat(h));else for(;h.length>=\n",
       "m[c]&&(e.push([a].concat(h.splice(0,m[c]))),m[c]););});e.toString=a.path.toString;b.arr=a.path.clone(e);return e};var O=a.parseTransformString=function(c){if(!c)return null;var b=[];y(c,\"array\")&&y(c[0],\"array\")&&(b=a.path.clone(c));b.length||J(c).replace(ma,function(c,a,m){var e=[];a.toLowerCase();m.replace(Z,function(c,a){a&&e.push(+a)});b.push([a].concat(e))});b.toString=a.path.toString;return b};a._.svgTransform2string=d;a._.rgTransform=RegExp(\"^[a-z][\\t\\n\\x0B\\f\\r \\u00a0\\u1680\\u180e\\u2000\\u2001\\u2002\\u2003\\u2004\\u2005\\u2006\\u2007\\u2008\\u2009\\u200a\\u202f\\u205f\\u3000\\u2028\\u2029]*-?\\\\.?\\\\d\",\n",
       "\"i\");a._.transform2matrix=f;a._unit2px=b;a._.getSomeDefs=u;a._.getSomeSVG=p;a.select=function(c){return x(G.doc.querySelector(c))};a.selectAll=function(c){c=G.doc.querySelectorAll(c);for(var b=(a.set||Array)(),m=0;m<c.length;m++)b.push(x(c[m]));return b};setInterval(function(){for(var c in E)if(E[h](c)){var a=E[c],b=a.node;(\"svg\"!=a.type&&!b.ownerSVGElement||\"svg\"==a.type&&(!b.parentNode||\"ownerSVGElement\"in b.parentNode&&!b.ownerSVGElement))&&delete E[c]}},1E4);(function(c){function m(c){function a(c,\n",
       "b){var m=v(c.node,b);(m=(m=m&&m.match(d))&&m[2])&&\"#\"==m.charAt()&&(m=m.substring(1))&&(f[m]=(f[m]||[]).concat(function(a){var m={};m[b]=ca(a);v(c.node,m)}))}function b(c){var a=v(c.node,\"xlink:href\");a&&\"#\"==a.charAt()&&(a=a.substring(1))&&(f[a]=(f[a]||[]).concat(function(a){c.attr(\"xlink:href\",\"#\"+a)}))}var e=c.selectAll(\"*\"),h,d=/^\\s*url\\((\"|'|)(.*)\\1\\)\\s*$/;c=[];for(var f={},l=0,E=e.length;l<E;l++){h=e[l];a(h,\"fill\");a(h,\"stroke\");a(h,\"filter\");a(h,\"mask\");a(h,\"clip-path\");b(h);var t=v(h.node,\n",
       "\"id\");t&&(v(h.node,{id:h.id}),c.push({old:t,id:h.id}))}l=0;for(E=c.length;l<E;l++)if(e=f[c[l].old])for(h=0,t=e.length;h<t;h++)e[h](c[l].id)}function e(c,a,b){return function(m){m=m.slice(c,a);1==m.length&&(m=m[0]);return b?b(m):m}}function d(c){return function(){var a=c?\"<\"+this.type:\"\",b=this.node.attributes,m=this.node.childNodes;if(c)for(var e=0,h=b.length;e<h;e++)a+=\" \"+b[e].name+'=\"'+b[e].value.replace(/\"/g,'\\\\\"')+'\"';if(m.length){c&&(a+=\">\");e=0;for(h=m.length;e<h;e++)3==m[e].nodeType?a+=m[e].nodeValue:\n",
       "1==m[e].nodeType&&(a+=x(m[e]).toString());c&&(a+=\"</\"+this.type+\">\")}else c&&(a+=\"/>\");return a}}c.attr=function(c,a){if(!c)return this;if(y(c,\"string\"))if(1<arguments.length){var b={};b[c]=a;c=b}else return k(\"snap.util.getattr.\"+c,this).firstDefined();for(var m in c)c[h](m)&&k(\"snap.util.attr.\"+m,this,c[m]);return this};c.getBBox=function(c){if(!a.Matrix||!a.path)return this.node.getBBox();var b=this,m=new a.Matrix;if(b.removed)return a._.box();for(;\"use\"==b.type;)if(c||(m=m.add(b.transform().localMatrix.translate(b.attr(\"x\")||\n",
       "0,b.attr(\"y\")||0))),b.original)b=b.original;else var e=b.attr(\"xlink:href\"),b=b.original=b.node.ownerDocument.getElementById(e.substring(e.indexOf(\"#\")+1));var e=b._,h=a.path.get[b.type]||a.path.get.deflt;try{if(c)return e.bboxwt=h?a.path.getBBox(b.realPath=h(b)):a._.box(b.node.getBBox()),a._.box(e.bboxwt);b.realPath=h(b);b.matrix=b.transform().localMatrix;e.bbox=a.path.getBBox(a.path.map(b.realPath,m.add(b.matrix)));return a._.box(e.bbox)}catch(d){return a._.box()}};var f=function(){return this.string};\n",
       "c.transform=function(c){var b=this._;if(null==c){var m=this;c=new a.Matrix(this.node.getCTM());for(var e=n(this),h=[e],d=new a.Matrix,l=e.toTransformString(),b=J(e)==J(this.matrix)?J(b.transform):l;\"svg\"!=m.type&&(m=m.parent());)h.push(n(m));for(m=h.length;m--;)d.add(h[m]);return{string:b,globalMatrix:c,totalMatrix:d,localMatrix:e,diffMatrix:c.clone().add(e.invert()),global:c.toTransformString(),total:d.toTransformString(),local:l,toString:f}}c instanceof a.Matrix?this.matrix=c:n(this,c);this.node&&\n",
       "(\"linearGradient\"==this.type||\"radialGradient\"==this.type?v(this.node,{gradientTransform:this.matrix}):\"pattern\"==this.type?v(this.node,{patternTransform:this.matrix}):v(this.node,{transform:this.matrix}));return this};c.parent=function(){return x(this.node.parentNode)};c.append=c.add=function(c){if(c){if(\"set\"==c.type){var a=this;c.forEach(function(c){a.add(c)});return this}c=x(c);this.node.appendChild(c.node);c.paper=this.paper}return this};c.appendTo=function(c){c&&(c=x(c),c.append(this));return this};\n",
       "c.prepend=function(c){if(c){if(\"set\"==c.type){var a=this,b;c.forEach(function(c){b?b.after(c):a.prepend(c);b=c});return this}c=x(c);var m=c.parent();this.node.insertBefore(c.node,this.node.firstChild);this.add&&this.add();c.paper=this.paper;this.parent()&&this.parent().add();m&&m.add()}return this};c.prependTo=function(c){c=x(c);c.prepend(this);return this};c.before=function(c){if(\"set\"==c.type){var a=this;c.forEach(function(c){var b=c.parent();a.node.parentNode.insertBefore(c.node,a.node);b&&b.add()});\n",
       "this.parent().add();return this}c=x(c);var b=c.parent();this.node.parentNode.insertBefore(c.node,this.node);this.parent()&&this.parent().add();b&&b.add();c.paper=this.paper;return this};c.after=function(c){c=x(c);var a=c.parent();this.node.nextSibling?this.node.parentNode.insertBefore(c.node,this.node.nextSibling):this.node.parentNode.appendChild(c.node);this.parent()&&this.parent().add();a&&a.add();c.paper=this.paper;return this};c.insertBefore=function(c){c=x(c);var a=this.parent();c.node.parentNode.insertBefore(this.node,\n",
       "c.node);this.paper=c.paper;a&&a.add();c.parent()&&c.parent().add();return this};c.insertAfter=function(c){c=x(c);var a=this.parent();c.node.parentNode.insertBefore(this.node,c.node.nextSibling);this.paper=c.paper;a&&a.add();c.parent()&&c.parent().add();return this};c.remove=function(){var c=this.parent();this.node.parentNode&&this.node.parentNode.removeChild(this.node);delete this.paper;this.removed=!0;c&&c.add();return this};c.select=function(c){return x(this.node.querySelector(c))};c.selectAll=\n",
       "function(c){c=this.node.querySelectorAll(c);for(var b=(a.set||Array)(),m=0;m<c.length;m++)b.push(x(c[m]));return b};c.asPX=function(c,a){null==a&&(a=this.attr(c));return+b(this,c,a)};c.use=function(){var c,a=this.node.id;a||(a=this.id,v(this.node,{id:a}));c=\"linearGradient\"==this.type||\"radialGradient\"==this.type||\"pattern\"==this.type?r(this.type,this.node.parentNode):r(\"use\",this.node.parentNode);v(c.node,{\"xlink:href\":\"#\"+a});c.original=this;return c};var l=/\\S+/g;c.addClass=function(c){var a=(c||\n",
       "\"\").match(l)||[];c=this.node;var b=c.className.baseVal,m=b.match(l)||[],e,h,d;if(a.length){for(e=0;d=a[e++];)h=m.indexOf(d),~h||m.push(d);a=m.join(\" \");b!=a&&(c.className.baseVal=a)}return this};c.removeClass=function(c){var a=(c||\"\").match(l)||[];c=this.node;var b=c.className.baseVal,m=b.match(l)||[],e,h;if(m.length){for(e=0;h=a[e++];)h=m.indexOf(h),~h&&m.splice(h,1);a=m.join(\" \");b!=a&&(c.className.baseVal=a)}return this};c.hasClass=function(c){return!!~(this.node.className.baseVal.match(l)||[]).indexOf(c)};\n",
       "c.toggleClass=function(c,a){if(null!=a)return a?this.addClass(c):this.removeClass(c);var b=(c||\"\").match(l)||[],m=this.node,e=m.className.baseVal,h=e.match(l)||[],d,f,E;for(d=0;E=b[d++];)f=h.indexOf(E),~f?h.splice(f,1):h.push(E);b=h.join(\" \");e!=b&&(m.className.baseVal=b);return this};c.clone=function(){var c=x(this.node.cloneNode(!0));v(c.node,\"id\")&&v(c.node,{id:c.id});m(c);c.insertAfter(this);return c};c.toDefs=function(){u(this).appendChild(this.node);return this};c.pattern=c.toPattern=function(c,\n",
       "a,b,m){var e=r(\"pattern\",u(this));null==c&&(c=this.getBBox());y(c,\"object\")&&\"x\"in c&&(a=c.y,b=c.width,m=c.height,c=c.x);v(e.node,{x:c,y:a,width:b,height:m,patternUnits:\"userSpaceOnUse\",id:e.id,viewBox:[c,a,b,m].join(\" \")});e.node.appendChild(this.node);return e};c.marker=function(c,a,b,m,e,h){var d=r(\"marker\",u(this));null==c&&(c=this.getBBox());y(c,\"object\")&&\"x\"in c&&(a=c.y,b=c.width,m=c.height,e=c.refX||c.cx,h=c.refY||c.cy,c=c.x);v(d.node,{viewBox:[c,a,b,m].join(\" \"),markerWidth:b,markerHeight:m,\n",
       "orient:\"auto\",refX:e||0,refY:h||0,id:d.id});d.node.appendChild(this.node);return d};var E=function(c,a,b,m){\"function\"!=typeof b||b.length||(m=b,b=L.linear);this.attr=c;this.dur=a;b&&(this.easing=b);m&&(this.callback=m)};a._.Animation=E;a.animation=function(c,a,b,m){return new E(c,a,b,m)};c.inAnim=function(){var c=[],a;for(a in this.anims)this.anims[h](a)&&function(a){c.push({anim:new E(a._attrs,a.dur,a.easing,a._callback),mina:a,curStatus:a.status(),status:function(c){return a.status(c)},stop:function(){a.stop()}})}(this.anims[a]);\n",
       "return c};a.animate=function(c,a,b,m,e,h){\"function\"!=typeof e||e.length||(h=e,e=L.linear);var d=L.time();c=L(c,a,d,d+m,L.time,b,e);h&&k.once(\"mina.finish.\"+c.id,h);return c};c.stop=function(){for(var c=this.inAnim(),a=0,b=c.length;a<b;a++)c[a].stop();return this};c.animate=function(c,a,b,m){\"function\"!=typeof b||b.length||(m=b,b=L.linear);c instanceof E&&(m=c.callback,b=c.easing,a=b.dur,c=c.attr);var d=[],f=[],l={},t,ca,n,T=this,q;for(q in c)if(c[h](q)){T.equal?(n=T.equal(q,J(c[q])),t=n.from,ca=\n",
       "n.to,n=n.f):(t=+T.attr(q),ca=+c[q]);var la=y(t,\"array\")?t.length:1;l[q]=e(d.length,d.length+la,n);d=d.concat(t);f=f.concat(ca)}t=L.time();var p=L(d,f,t,t+a,L.time,function(c){var a={},b;for(b in l)l[h](b)&&(a[b]=l[b](c));T.attr(a)},b);T.anims[p.id]=p;p._attrs=c;p._callback=m;k(\"snap.animcreated.\"+T.id,p);k.once(\"mina.finish.\"+p.id,function(){delete T.anims[p.id];m&&m.call(T)});k.once(\"mina.stop.\"+p.id,function(){delete T.anims[p.id]});return T};var T={};c.data=function(c,b){var m=T[this.id]=T[this.id]||\n",
       "{};if(0==arguments.length)return k(\"snap.data.get.\"+this.id,this,m,null),m;if(1==arguments.length){if(a.is(c,\"object\")){for(var e in c)c[h](e)&&this.data(e,c[e]);return this}k(\"snap.data.get.\"+this.id,this,m[c],c);return m[c]}m[c]=b;k(\"snap.data.set.\"+this.id,this,b,c);return this};c.removeData=function(c){null==c?T[this.id]={}:T[this.id]&&delete T[this.id][c];return this};c.outerSVG=c.toString=d(1);c.innerSVG=d()})(e.prototype);a.parse=function(c){var a=G.doc.createDocumentFragment(),b=!0,m=G.doc.createElement(\"div\");\n",
       "c=J(c);c.match(/^\\s*<\\s*svg(?:\\s|>)/)||(c=\"<svg>\"+c+\"</svg>\",b=!1);m.innerHTML=c;if(c=m.getElementsByTagName(\"svg\")[0])if(b)a=c;else for(;c.firstChild;)a.appendChild(c.firstChild);m.innerHTML=aa;return new l(a)};l.prototype.select=e.prototype.select;l.prototype.selectAll=e.prototype.selectAll;a.fragment=function(){for(var c=Array.prototype.slice.call(arguments,0),b=G.doc.createDocumentFragment(),m=0,e=c.length;m<e;m++){var h=c[m];h.node&&h.node.nodeType&&b.appendChild(h.node);h.nodeType&&b.appendChild(h);\n",
       "\"string\"==typeof h&&b.appendChild(a.parse(h).node)}return new l(b)};a._.make=r;a._.wrap=x;s.prototype.el=function(c,a){var b=r(c,this.node);a&&b.attr(a);return b};k.on(\"snap.util.getattr\",function(){var c=k.nt(),c=c.substring(c.lastIndexOf(\".\")+1),a=c.replace(/[A-Z]/g,function(c){return\"-\"+c.toLowerCase()});return pa[h](a)?this.node.ownerDocument.defaultView.getComputedStyle(this.node,null).getPropertyValue(a):v(this.node,c)});var pa={\"alignment-baseline\":0,\"baseline-shift\":0,clip:0,\"clip-path\":0,\n",
       "\"clip-rule\":0,color:0,\"color-interpolation\":0,\"color-interpolation-filters\":0,\"color-profile\":0,\"color-rendering\":0,cursor:0,direction:0,display:0,\"dominant-baseline\":0,\"enable-background\":0,fill:0,\"fill-opacity\":0,\"fill-rule\":0,filter:0,\"flood-color\":0,\"flood-opacity\":0,font:0,\"font-family\":0,\"font-size\":0,\"font-size-adjust\":0,\"font-stretch\":0,\"font-style\":0,\"font-variant\":0,\"font-weight\":0,\"glyph-orientation-horizontal\":0,\"glyph-orientation-vertical\":0,\"image-rendering\":0,kerning:0,\"letter-spacing\":0,\n",
       "\"lighting-color\":0,marker:0,\"marker-end\":0,\"marker-mid\":0,\"marker-start\":0,mask:0,opacity:0,overflow:0,\"pointer-events\":0,\"shape-rendering\":0,\"stop-color\":0,\"stop-opacity\":0,stroke:0,\"stroke-dasharray\":0,\"stroke-dashoffset\":0,\"stroke-linecap\":0,\"stroke-linejoin\":0,\"stroke-miterlimit\":0,\"stroke-opacity\":0,\"stroke-width\":0,\"text-anchor\":0,\"text-decoration\":0,\"text-rendering\":0,\"unicode-bidi\":0,visibility:0,\"word-spacing\":0,\"writing-mode\":0};k.on(\"snap.util.attr\",function(c){var a=k.nt(),b={},a=a.substring(a.lastIndexOf(\".\")+\n",
       "1);b[a]=c;var m=a.replace(/-(\\w)/gi,function(c,a){return a.toUpperCase()}),a=a.replace(/[A-Z]/g,function(c){return\"-\"+c.toLowerCase()});pa[h](a)?this.node.style[m]=null==c?aa:c:v(this.node,b)});a.ajax=function(c,a,b,m){var e=new XMLHttpRequest,h=V();if(e){if(y(a,\"function\"))m=b,b=a,a=null;else if(y(a,\"object\")){var d=[],f;for(f in a)a.hasOwnProperty(f)&&d.push(encodeURIComponent(f)+\"=\"+encodeURIComponent(a[f]));a=d.join(\"&\")}e.open(a?\"POST\":\"GET\",c,!0);a&&(e.setRequestHeader(\"X-Requested-With\",\"XMLHttpRequest\"),\n",
       "e.setRequestHeader(\"Content-type\",\"application/x-www-form-urlencoded\"));b&&(k.once(\"snap.ajax.\"+h+\".0\",b),k.once(\"snap.ajax.\"+h+\".200\",b),k.once(\"snap.ajax.\"+h+\".304\",b));e.onreadystatechange=function(){4==e.readyState&&k(\"snap.ajax.\"+h+\".\"+e.status,m,e)};if(4==e.readyState)return e;e.send(a);return e}};a.load=function(c,b,m){a.ajax(c,function(c){c=a.parse(c.responseText);m?b.call(m,c):b(c)})};a.getElementByPoint=function(c,a){var b,m,e=G.doc.elementFromPoint(c,a);if(G.win.opera&&\"svg\"==e.tagName){b=\n",
       "e;m=b.getBoundingClientRect();b=b.ownerDocument;var h=b.body,d=b.documentElement;b=m.top+(g.win.pageYOffset||d.scrollTop||h.scrollTop)-(d.clientTop||h.clientTop||0);m=m.left+(g.win.pageXOffset||d.scrollLeft||h.scrollLeft)-(d.clientLeft||h.clientLeft||0);h=e.createSVGRect();h.x=c-m;h.y=a-b;h.width=h.height=1;b=e.getIntersectionList(h,null);b.length&&(e=b[b.length-1])}return e?x(e):null};a.plugin=function(c){c(a,e,s,G,l)};return G.win.Snap=a}();C.plugin(function(a,k,y,M,A){function w(a,d,f,b,q,e){null==\n",
       "d&&\"[object SVGMatrix]\"==z.call(a)?(this.a=a.a,this.b=a.b,this.c=a.c,this.d=a.d,this.e=a.e,this.f=a.f):null!=a?(this.a=+a,this.b=+d,this.c=+f,this.d=+b,this.e=+q,this.f=+e):(this.a=1,this.c=this.b=0,this.d=1,this.f=this.e=0)}var z=Object.prototype.toString,d=String,f=Math;(function(n){function k(a){return a[0]*a[0]+a[1]*a[1]}function p(a){var d=f.sqrt(k(a));a[0]&&(a[0]/=d);a[1]&&(a[1]/=d)}n.add=function(a,d,e,f,n,p){var k=[[],[],[] ],u=[[this.a,this.c,this.e],[this.b,this.d,this.f],[0,0,1] ];d=[[a,\n",
       "e,n],[d,f,p],[0,0,1] ];a&&a instanceof w&&(d=[[a.a,a.c,a.e],[a.b,a.d,a.f],[0,0,1] ]);for(a=0;3>a;a++)for(e=0;3>e;e++){for(f=n=0;3>f;f++)n+=u[a][f]*d[f][e];k[a][e]=n}this.a=k[0][0];this.b=k[1][0];this.c=k[0][1];this.d=k[1][1];this.e=k[0][2];this.f=k[1][2];return this};n.invert=function(){var a=this.a*this.d-this.b*this.c;return new w(this.d/a,-this.b/a,-this.c/a,this.a/a,(this.c*this.f-this.d*this.e)/a,(this.b*this.e-this.a*this.f)/a)};n.clone=function(){return new w(this.a,this.b,this.c,this.d,this.e,\n",
       "this.f)};n.translate=function(a,d){return this.add(1,0,0,1,a,d)};n.scale=function(a,d,e,f){null==d&&(d=a);(e||f)&&this.add(1,0,0,1,e,f);this.add(a,0,0,d,0,0);(e||f)&&this.add(1,0,0,1,-e,-f);return this};n.rotate=function(b,d,e){b=a.rad(b);d=d||0;e=e||0;var l=+f.cos(b).toFixed(9);b=+f.sin(b).toFixed(9);this.add(l,b,-b,l,d,e);return this.add(1,0,0,1,-d,-e)};n.x=function(a,d){return a*this.a+d*this.c+this.e};n.y=function(a,d){return a*this.b+d*this.d+this.f};n.get=function(a){return+this[d.fromCharCode(97+\n",
       "a)].toFixed(4)};n.toString=function(){return\"matrix(\"+[this.get(0),this.get(1),this.get(2),this.get(3),this.get(4),this.get(5)].join()+\")\"};n.offset=function(){return[this.e.toFixed(4),this.f.toFixed(4)]};n.determinant=function(){return this.a*this.d-this.b*this.c};n.split=function(){var b={};b.dx=this.e;b.dy=this.f;var d=[[this.a,this.c],[this.b,this.d] ];b.scalex=f.sqrt(k(d[0]));p(d[0]);b.shear=d[0][0]*d[1][0]+d[0][1]*d[1][1];d[1]=[d[1][0]-d[0][0]*b.shear,d[1][1]-d[0][1]*b.shear];b.scaley=f.sqrt(k(d[1]));\n",
       "p(d[1]);b.shear/=b.scaley;0>this.determinant()&&(b.scalex=-b.scalex);var e=-d[0][1],d=d[1][1];0>d?(b.rotate=a.deg(f.acos(d)),0>e&&(b.rotate=360-b.rotate)):b.rotate=a.deg(f.asin(e));b.isSimple=!+b.shear.toFixed(9)&&(b.scalex.toFixed(9)==b.scaley.toFixed(9)||!b.rotate);b.isSuperSimple=!+b.shear.toFixed(9)&&b.scalex.toFixed(9)==b.scaley.toFixed(9)&&!b.rotate;b.noRotation=!+b.shear.toFixed(9)&&!b.rotate;return b};n.toTransformString=function(a){a=a||this.split();if(+a.shear.toFixed(9))return\"m\"+[this.get(0),\n",
       "this.get(1),this.get(2),this.get(3),this.get(4),this.get(5)];a.scalex=+a.scalex.toFixed(4);a.scaley=+a.scaley.toFixed(4);a.rotate=+a.rotate.toFixed(4);return(a.dx||a.dy?\"t\"+[+a.dx.toFixed(4),+a.dy.toFixed(4)]:\"\")+(1!=a.scalex||1!=a.scaley?\"s\"+[a.scalex,a.scaley,0,0]:\"\")+(a.rotate?\"r\"+[+a.rotate.toFixed(4),0,0]:\"\")}})(w.prototype);a.Matrix=w;a.matrix=function(a,d,f,b,k,e){return new w(a,d,f,b,k,e)}});C.plugin(function(a,v,y,M,A){function w(h){return function(d){k.stop();d instanceof A&&1==d.node.childNodes.length&&\n",
       "(\"radialGradient\"==d.node.firstChild.tagName||\"linearGradient\"==d.node.firstChild.tagName||\"pattern\"==d.node.firstChild.tagName)&&(d=d.node.firstChild,b(this).appendChild(d),d=u(d));if(d instanceof v)if(\"radialGradient\"==d.type||\"linearGradient\"==d.type||\"pattern\"==d.type){d.node.id||e(d.node,{id:d.id});var f=l(d.node.id)}else f=d.attr(h);else f=a.color(d),f.error?(f=a(b(this).ownerSVGElement).gradient(d))?(f.node.id||e(f.node,{id:f.id}),f=l(f.node.id)):f=d:f=r(f);d={};d[h]=f;e(this.node,d);this.node.style[h]=\n",
       "x}}function z(a){k.stop();a==+a&&(a+=\"px\");this.node.style.fontSize=a}function d(a){var b=[];a=a.childNodes;for(var e=0,f=a.length;e<f;e++){var l=a[e];3==l.nodeType&&b.push(l.nodeValue);\"tspan\"==l.tagName&&(1==l.childNodes.length&&3==l.firstChild.nodeType?b.push(l.firstChild.nodeValue):b.push(d(l)))}return b}function f(){k.stop();return this.node.style.fontSize}var n=a._.make,u=a._.wrap,p=a.is,b=a._.getSomeDefs,q=/^url\\(#?([^)]+)\\)$/,e=a._.$,l=a.url,r=String,s=a._.separator,x=\"\";k.on(\"snap.util.attr.mask\",\n",
       "function(a){if(a instanceof v||a instanceof A){k.stop();a instanceof A&&1==a.node.childNodes.length&&(a=a.node.firstChild,b(this).appendChild(a),a=u(a));if(\"mask\"==a.type)var d=a;else d=n(\"mask\",b(this)),d.node.appendChild(a.node);!d.node.id&&e(d.node,{id:d.id});e(this.node,{mask:l(d.id)})}});(function(a){k.on(\"snap.util.attr.clip\",a);k.on(\"snap.util.attr.clip-path\",a);k.on(\"snap.util.attr.clipPath\",a)})(function(a){if(a instanceof v||a instanceof A){k.stop();if(\"clipPath\"==a.type)var d=a;else d=\n",
       "n(\"clipPath\",b(this)),d.node.appendChild(a.node),!d.node.id&&e(d.node,{id:d.id});e(this.node,{\"clip-path\":l(d.id)})}});k.on(\"snap.util.attr.fill\",w(\"fill\"));k.on(\"snap.util.attr.stroke\",w(\"stroke\"));var G=/^([lr])(?:\\(([^)]*)\\))?(.*)$/i;k.on(\"snap.util.grad.parse\",function(a){a=r(a);var b=a.match(G);if(!b)return null;a=b[1];var e=b[2],b=b[3],e=e.split(/\\s*,\\s*/).map(function(a){return+a==a?+a:a});1==e.length&&0==e[0]&&(e=[]);b=b.split(\"-\");b=b.map(function(a){a=a.split(\":\");var b={color:a[0]};a[1]&&\n",
       "(b.offset=parseFloat(a[1]));return b});return{type:a,params:e,stops:b}});k.on(\"snap.util.attr.d\",function(b){k.stop();p(b,\"array\")&&p(b[0],\"array\")&&(b=a.path.toString.call(b));b=r(b);b.match(/[ruo]/i)&&(b=a.path.toAbsolute(b));e(this.node,{d:b})})(-1);k.on(\"snap.util.attr.#text\",function(a){k.stop();a=r(a);for(a=M.doc.createTextNode(a);this.node.firstChild;)this.node.removeChild(this.node.firstChild);this.node.appendChild(a)})(-1);k.on(\"snap.util.attr.path\",function(a){k.stop();this.attr({d:a})})(-1);\n",
       "k.on(\"snap.util.attr.class\",function(a){k.stop();this.node.className.baseVal=a})(-1);k.on(\"snap.util.attr.viewBox\",function(a){a=p(a,\"object\")&&\"x\"in a?[a.x,a.y,a.width,a.height].join(\" \"):p(a,\"array\")?a.join(\" \"):a;e(this.node,{viewBox:a});k.stop()})(-1);k.on(\"snap.util.attr.transform\",function(a){this.transform(a);k.stop()})(-1);k.on(\"snap.util.attr.r\",function(a){\"rect\"==this.type&&(k.stop(),e(this.node,{rx:a,ry:a}))})(-1);k.on(\"snap.util.attr.textpath\",function(a){k.stop();if(\"text\"==this.type){var d,\n",
       "f;if(!a&&this.textPath){for(a=this.textPath;a.node.firstChild;)this.node.appendChild(a.node.firstChild);a.remove();delete this.textPath}else if(p(a,\"string\")?(d=b(this),a=u(d.parentNode).path(a),d.appendChild(a.node),d=a.id,a.attr({id:d})):(a=u(a),a instanceof v&&(d=a.attr(\"id\"),d||(d=a.id,a.attr({id:d})))),d)if(a=this.textPath,f=this.node,a)a.attr({\"xlink:href\":\"#\"+d});else{for(a=e(\"textPath\",{\"xlink:href\":\"#\"+d});f.firstChild;)a.appendChild(f.firstChild);f.appendChild(a);this.textPath=u(a)}}})(-1);\n",
       "k.on(\"snap.util.attr.text\",function(a){if(\"text\"==this.type){for(var b=this.node,d=function(a){var b=e(\"tspan\");if(p(a,\"array\"))for(var f=0;f<a.length;f++)b.appendChild(d(a[f]));else b.appendChild(M.doc.createTextNode(a));b.normalize&&b.normalize();return b};b.firstChild;)b.removeChild(b.firstChild);for(a=d(a);a.firstChild;)b.appendChild(a.firstChild)}k.stop()})(-1);k.on(\"snap.util.attr.fontSize\",z)(-1);k.on(\"snap.util.attr.font-size\",z)(-1);k.on(\"snap.util.getattr.transform\",function(){k.stop();\n",
       "return this.transform()})(-1);k.on(\"snap.util.getattr.textpath\",function(){k.stop();return this.textPath})(-1);(function(){function b(d){return function(){k.stop();var b=M.doc.defaultView.getComputedStyle(this.node,null).getPropertyValue(\"marker-\"+d);return\"none\"==b?b:a(M.doc.getElementById(b.match(q)[1]))}}function d(a){return function(b){k.stop();var d=\"marker\"+a.charAt(0).toUpperCase()+a.substring(1);if(\"\"==b||!b)this.node.style[d]=\"none\";else if(\"marker\"==b.type){var f=b.node.id;f||e(b.node,{id:b.id});\n",
       "this.node.style[d]=l(f)}}}k.on(\"snap.util.getattr.marker-end\",b(\"end\"))(-1);k.on(\"snap.util.getattr.markerEnd\",b(\"end\"))(-1);k.on(\"snap.util.getattr.marker-start\",b(\"start\"))(-1);k.on(\"snap.util.getattr.markerStart\",b(\"start\"))(-1);k.on(\"snap.util.getattr.marker-mid\",b(\"mid\"))(-1);k.on(\"snap.util.getattr.markerMid\",b(\"mid\"))(-1);k.on(\"snap.util.attr.marker-end\",d(\"end\"))(-1);k.on(\"snap.util.attr.markerEnd\",d(\"end\"))(-1);k.on(\"snap.util.attr.marker-start\",d(\"start\"))(-1);k.on(\"snap.util.attr.markerStart\",\n",
       "d(\"start\"))(-1);k.on(\"snap.util.attr.marker-mid\",d(\"mid\"))(-1);k.on(\"snap.util.attr.markerMid\",d(\"mid\"))(-1)})();k.on(\"snap.util.getattr.r\",function(){if(\"rect\"==this.type&&e(this.node,\"rx\")==e(this.node,\"ry\"))return k.stop(),e(this.node,\"rx\")})(-1);k.on(\"snap.util.getattr.text\",function(){if(\"text\"==this.type||\"tspan\"==this.type){k.stop();var a=d(this.node);return 1==a.length?a[0]:a}})(-1);k.on(\"snap.util.getattr.#text\",function(){return this.node.textContent})(-1);k.on(\"snap.util.getattr.viewBox\",\n",
       "function(){k.stop();var b=e(this.node,\"viewBox\");if(b)return b=b.split(s),a._.box(+b[0],+b[1],+b[2],+b[3])})(-1);k.on(\"snap.util.getattr.points\",function(){var a=e(this.node,\"points\");k.stop();if(a)return a.split(s)})(-1);k.on(\"snap.util.getattr.path\",function(){var a=e(this.node,\"d\");k.stop();return a})(-1);k.on(\"snap.util.getattr.class\",function(){return this.node.className.baseVal})(-1);k.on(\"snap.util.getattr.fontSize\",f)(-1);k.on(\"snap.util.getattr.font-size\",f)(-1)});C.plugin(function(a,v,y,\n",
       "M,A){function w(a){return a}function z(a){return function(b){return+b.toFixed(3)+a}}var d={\"+\":function(a,b){return a+b},\"-\":function(a,b){return a-b},\"/\":function(a,b){return a/b},\"*\":function(a,b){return a*b}},f=String,n=/[a-z]+$/i,u=/^\\s*([+\\-\\/*])\\s*=\\s*([\\d.eE+\\-]+)\\s*([^\\d\\s]+)?\\s*$/;k.on(\"snap.util.attr\",function(a){if(a=f(a).match(u)){var b=k.nt(),b=b.substring(b.lastIndexOf(\".\")+1),q=this.attr(b),e={};k.stop();var l=a[3]||\"\",r=q.match(n),s=d[a[1] ];r&&r==l?a=s(parseFloat(q),+a[2]):(q=this.asPX(b),\n",
       "a=s(this.asPX(b),this.asPX(b,a[2]+l)));isNaN(q)||isNaN(a)||(e[b]=a,this.attr(e))}})(-10);k.on(\"snap.util.equal\",function(a,b){var q=f(this.attr(a)||\"\"),e=f(b).match(u);if(e){k.stop();var l=e[3]||\"\",r=q.match(n),s=d[e[1] ];if(r&&r==l)return{from:parseFloat(q),to:s(parseFloat(q),+e[2]),f:z(r)};q=this.asPX(a);return{from:q,to:s(q,this.asPX(a,e[2]+l)),f:w}}})(-10)});C.plugin(function(a,v,y,M,A){var w=y.prototype,z=a.is;w.rect=function(a,d,k,p,b,q){var e;null==q&&(q=b);z(a,\"object\")&&\"[object Object]\"==\n",
       "a?e=a:null!=a&&(e={x:a,y:d,width:k,height:p},null!=b&&(e.rx=b,e.ry=q));return this.el(\"rect\",e)};w.circle=function(a,d,k){var p;z(a,\"object\")&&\"[object Object]\"==a?p=a:null!=a&&(p={cx:a,cy:d,r:k});return this.el(\"circle\",p)};var d=function(){function a(){this.parentNode.removeChild(this)}return function(d,k){var p=M.doc.createElement(\"img\"),b=M.doc.body;p.style.cssText=\"position:absolute;left:-9999em;top:-9999em\";p.onload=function(){k.call(p);p.onload=p.onerror=null;b.removeChild(p)};p.onerror=a;\n",
       "b.appendChild(p);p.src=d}}();w.image=function(f,n,k,p,b){var q=this.el(\"image\");if(z(f,\"object\")&&\"src\"in f)q.attr(f);else if(null!=f){var e={\"xlink:href\":f,preserveAspectRatio:\"none\"};null!=n&&null!=k&&(e.x=n,e.y=k);null!=p&&null!=b?(e.width=p,e.height=b):d(f,function(){a._.$(q.node,{width:this.offsetWidth,height:this.offsetHeight})});a._.$(q.node,e)}return q};w.ellipse=function(a,d,k,p){var b;z(a,\"object\")&&\"[object Object]\"==a?b=a:null!=a&&(b={cx:a,cy:d,rx:k,ry:p});return this.el(\"ellipse\",b)};\n",
       "w.path=function(a){var d;z(a,\"object\")&&!z(a,\"array\")?d=a:a&&(d={d:a});return this.el(\"path\",d)};w.group=w.g=function(a){var d=this.el(\"g\");1==arguments.length&&a&&!a.type?d.attr(a):arguments.length&&d.add(Array.prototype.slice.call(arguments,0));return d};w.svg=function(a,d,k,p,b,q,e,l){var r={};z(a,\"object\")&&null==d?r=a:(null!=a&&(r.x=a),null!=d&&(r.y=d),null!=k&&(r.width=k),null!=p&&(r.height=p),null!=b&&null!=q&&null!=e&&null!=l&&(r.viewBox=[b,q,e,l]));return this.el(\"svg\",r)};w.mask=function(a){var d=\n",
       "this.el(\"mask\");1==arguments.length&&a&&!a.type?d.attr(a):arguments.length&&d.add(Array.prototype.slice.call(arguments,0));return d};w.ptrn=function(a,d,k,p,b,q,e,l){if(z(a,\"object\"))var r=a;else arguments.length?(r={},null!=a&&(r.x=a),null!=d&&(r.y=d),null!=k&&(r.width=k),null!=p&&(r.height=p),null!=b&&null!=q&&null!=e&&null!=l&&(r.viewBox=[b,q,e,l])):r={patternUnits:\"userSpaceOnUse\"};return this.el(\"pattern\",r)};w.use=function(a){return null!=a?(make(\"use\",this.node),a instanceof v&&(a.attr(\"id\")||\n",
       "a.attr({id:ID()}),a=a.attr(\"id\")),this.el(\"use\",{\"xlink:href\":a})):v.prototype.use.call(this)};w.text=function(a,d,k){var p={};z(a,\"object\")?p=a:null!=a&&(p={x:a,y:d,text:k||\"\"});return this.el(\"text\",p)};w.line=function(a,d,k,p){var b={};z(a,\"object\")?b=a:null!=a&&(b={x1:a,x2:k,y1:d,y2:p});return this.el(\"line\",b)};w.polyline=function(a){1<arguments.length&&(a=Array.prototype.slice.call(arguments,0));var d={};z(a,\"object\")&&!z(a,\"array\")?d=a:null!=a&&(d={points:a});return this.el(\"polyline\",d)};\n",
       "w.polygon=function(a){1<arguments.length&&(a=Array.prototype.slice.call(arguments,0));var d={};z(a,\"object\")&&!z(a,\"array\")?d=a:null!=a&&(d={points:a});return this.el(\"polygon\",d)};(function(){function d(){return this.selectAll(\"stop\")}function n(b,d){var f=e(\"stop\"),k={offset:+d+\"%\"};b=a.color(b);k[\"stop-color\"]=b.hex;1>b.opacity&&(k[\"stop-opacity\"]=b.opacity);e(f,k);this.node.appendChild(f);return this}function u(){if(\"linearGradient\"==this.type){var b=e(this.node,\"x1\")||0,d=e(this.node,\"x2\")||\n",
       "1,f=e(this.node,\"y1\")||0,k=e(this.node,\"y2\")||0;return a._.box(b,f,math.abs(d-b),math.abs(k-f))}b=this.node.r||0;return a._.box((this.node.cx||0.5)-b,(this.node.cy||0.5)-b,2*b,2*b)}function p(a,d){function f(a,b){for(var d=(b-u)/(a-w),e=w;e<a;e++)h[e].offset=+(+u+d*(e-w)).toFixed(2);w=a;u=b}var n=k(\"snap.util.grad.parse\",null,d).firstDefined(),p;if(!n)return null;n.params.unshift(a);p=\"l\"==n.type.toLowerCase()?b.apply(0,n.params):q.apply(0,n.params);n.type!=n.type.toLowerCase()&&e(p.node,{gradientUnits:\"userSpaceOnUse\"});\n",
       "var h=n.stops,n=h.length,u=0,w=0;n--;for(var v=0;v<n;v++)\"offset\"in h[v]&&f(v,h[v].offset);h[n].offset=h[n].offset||100;f(n,h[n].offset);for(v=0;v<=n;v++){var y=h[v];p.addStop(y.color,y.offset)}return p}function b(b,k,p,q,w){b=a._.make(\"linearGradient\",b);b.stops=d;b.addStop=n;b.getBBox=u;null!=k&&e(b.node,{x1:k,y1:p,x2:q,y2:w});return b}function q(b,k,p,q,w,h){b=a._.make(\"radialGradient\",b);b.stops=d;b.addStop=n;b.getBBox=u;null!=k&&e(b.node,{cx:k,cy:p,r:q});null!=w&&null!=h&&e(b.node,{fx:w,fy:h});\n",
       "return b}var e=a._.$;w.gradient=function(a){return p(this.defs,a)};w.gradientLinear=function(a,d,e,f){return b(this.defs,a,d,e,f)};w.gradientRadial=function(a,b,d,e,f){return q(this.defs,a,b,d,e,f)};w.toString=function(){var b=this.node.ownerDocument,d=b.createDocumentFragment(),b=b.createElement(\"div\"),e=this.node.cloneNode(!0);d.appendChild(b);b.appendChild(e);a._.$(e,{xmlns:\"http://www.w3.org/2000/svg\"});b=b.innerHTML;d.removeChild(d.firstChild);return b};w.clear=function(){for(var a=this.node.firstChild,\n",
       "b;a;)b=a.nextSibling,\"defs\"!=a.tagName?a.parentNode.removeChild(a):w.clear.call({node:a}),a=b}})()});C.plugin(function(a,k,y,M){function A(a){var b=A.ps=A.ps||{};b[a]?b[a].sleep=100:b[a]={sleep:100};setTimeout(function(){for(var d in b)b[L](d)&&d!=a&&(b[d].sleep--,!b[d].sleep&&delete b[d])});return b[a]}function w(a,b,d,e){null==a&&(a=b=d=e=0);null==b&&(b=a.y,d=a.width,e=a.height,a=a.x);return{x:a,y:b,width:d,w:d,height:e,h:e,x2:a+d,y2:b+e,cx:a+d/2,cy:b+e/2,r1:F.min(d,e)/2,r2:F.max(d,e)/2,r0:F.sqrt(d*\n",
       "d+e*e)/2,path:s(a,b,d,e),vb:[a,b,d,e].join(\" \")}}function z(){return this.join(\",\").replace(N,\"$1\")}function d(a){a=C(a);a.toString=z;return a}function f(a,b,d,h,f,k,l,n,p){if(null==p)return e(a,b,d,h,f,k,l,n);if(0>p||e(a,b,d,h,f,k,l,n)<p)p=void 0;else{var q=0.5,O=1-q,s;for(s=e(a,b,d,h,f,k,l,n,O);0.01<Z(s-p);)q/=2,O+=(s<p?1:-1)*q,s=e(a,b,d,h,f,k,l,n,O);p=O}return u(a,b,d,h,f,k,l,n,p)}function n(b,d){function e(a){return+(+a).toFixed(3)}return a._.cacher(function(a,h,l){a instanceof k&&(a=a.attr(\"d\"));\n",
       "a=I(a);for(var n,p,D,q,O=\"\",s={},c=0,t=0,r=a.length;t<r;t++){D=a[t];if(\"M\"==D[0])n=+D[1],p=+D[2];else{q=f(n,p,D[1],D[2],D[3],D[4],D[5],D[6]);if(c+q>h){if(d&&!s.start){n=f(n,p,D[1],D[2],D[3],D[4],D[5],D[6],h-c);O+=[\"C\"+e(n.start.x),e(n.start.y),e(n.m.x),e(n.m.y),e(n.x),e(n.y)];if(l)return O;s.start=O;O=[\"M\"+e(n.x),e(n.y)+\"C\"+e(n.n.x),e(n.n.y),e(n.end.x),e(n.end.y),e(D[5]),e(D[6])].join();c+=q;n=+D[5];p=+D[6];continue}if(!b&&!d)return n=f(n,p,D[1],D[2],D[3],D[4],D[5],D[6],h-c)}c+=q;n=+D[5];p=+D[6]}O+=\n",
       "D.shift()+D}s.end=O;return n=b?c:d?s:u(n,p,D[0],D[1],D[2],D[3],D[4],D[5],1)},null,a._.clone)}function u(a,b,d,e,h,f,k,l,n){var p=1-n,q=ma(p,3),s=ma(p,2),c=n*n,t=c*n,r=q*a+3*s*n*d+3*p*n*n*h+t*k,q=q*b+3*s*n*e+3*p*n*n*f+t*l,s=a+2*n*(d-a)+c*(h-2*d+a),t=b+2*n*(e-b)+c*(f-2*e+b),x=d+2*n*(h-d)+c*(k-2*h+d),c=e+2*n*(f-e)+c*(l-2*f+e);a=p*a+n*d;b=p*b+n*e;h=p*h+n*k;f=p*f+n*l;l=90-180*F.atan2(s-x,t-c)/S;return{x:r,y:q,m:{x:s,y:t},n:{x:x,y:c},start:{x:a,y:b},end:{x:h,y:f},alpha:l}}function p(b,d,e,h,f,n,k,l){a.is(b,\n",
       "\"array\")||(b=[b,d,e,h,f,n,k,l]);b=U.apply(null,b);return w(b.min.x,b.min.y,b.max.x-b.min.x,b.max.y-b.min.y)}function b(a,b,d){return b>=a.x&&b<=a.x+a.width&&d>=a.y&&d<=a.y+a.height}function q(a,d){a=w(a);d=w(d);return b(d,a.x,a.y)||b(d,a.x2,a.y)||b(d,a.x,a.y2)||b(d,a.x2,a.y2)||b(a,d.x,d.y)||b(a,d.x2,d.y)||b(a,d.x,d.y2)||b(a,d.x2,d.y2)||(a.x<d.x2&&a.x>d.x||d.x<a.x2&&d.x>a.x)&&(a.y<d.y2&&a.y>d.y||d.y<a.y2&&d.y>a.y)}function e(a,b,d,e,h,f,n,k,l){null==l&&(l=1);l=(1<l?1:0>l?0:l)/2;for(var p=[-0.1252,\n",
       "0.1252,-0.3678,0.3678,-0.5873,0.5873,-0.7699,0.7699,-0.9041,0.9041,-0.9816,0.9816],q=[0.2491,0.2491,0.2335,0.2335,0.2032,0.2032,0.1601,0.1601,0.1069,0.1069,0.0472,0.0472],s=0,c=0;12>c;c++)var t=l*p[c]+l,r=t*(t*(-3*a+9*d-9*h+3*n)+6*a-12*d+6*h)-3*a+3*d,t=t*(t*(-3*b+9*e-9*f+3*k)+6*b-12*e+6*f)-3*b+3*e,s=s+q[c]*F.sqrt(r*r+t*t);return l*s}function l(a,b,d){a=I(a);b=I(b);for(var h,f,l,n,k,s,r,O,x,c,t=d?0:[],w=0,v=a.length;w<v;w++)if(x=a[w],\"M\"==x[0])h=k=x[1],f=s=x[2];else{\"C\"==x[0]?(x=[h,f].concat(x.slice(1)),\n",
       "h=x[6],f=x[7]):(x=[h,f,h,f,k,s,k,s],h=k,f=s);for(var G=0,y=b.length;G<y;G++)if(c=b[G],\"M\"==c[0])l=r=c[1],n=O=c[2];else{\"C\"==c[0]?(c=[l,n].concat(c.slice(1)),l=c[6],n=c[7]):(c=[l,n,l,n,r,O,r,O],l=r,n=O);var z;var K=x,B=c;z=d;var H=p(K),J=p(B);if(q(H,J)){for(var H=e.apply(0,K),J=e.apply(0,B),H=~~(H/8),J=~~(J/8),U=[],A=[],F={},M=z?0:[],P=0;P<H+1;P++){var C=u.apply(0,K.concat(P/H));U.push({x:C.x,y:C.y,t:P/H})}for(P=0;P<J+1;P++)C=u.apply(0,B.concat(P/J)),A.push({x:C.x,y:C.y,t:P/J});for(P=0;P<H;P++)for(K=\n",
       "0;K<J;K++){var Q=U[P],L=U[P+1],B=A[K],C=A[K+1],N=0.001>Z(L.x-Q.x)?\"y\":\"x\",S=0.001>Z(C.x-B.x)?\"y\":\"x\",R;R=Q.x;var Y=Q.y,V=L.x,ea=L.y,fa=B.x,ga=B.y,ha=C.x,ia=C.y;if(W(R,V)<X(fa,ha)||X(R,V)>W(fa,ha)||W(Y,ea)<X(ga,ia)||X(Y,ea)>W(ga,ia))R=void 0;else{var $=(R*ea-Y*V)*(fa-ha)-(R-V)*(fa*ia-ga*ha),aa=(R*ea-Y*V)*(ga-ia)-(Y-ea)*(fa*ia-ga*ha),ja=(R-V)*(ga-ia)-(Y-ea)*(fa-ha);if(ja){var $=$/ja,aa=aa/ja,ja=+$.toFixed(2),ba=+aa.toFixed(2);R=ja<+X(R,V).toFixed(2)||ja>+W(R,V).toFixed(2)||ja<+X(fa,ha).toFixed(2)||\n",
       "ja>+W(fa,ha).toFixed(2)||ba<+X(Y,ea).toFixed(2)||ba>+W(Y,ea).toFixed(2)||ba<+X(ga,ia).toFixed(2)||ba>+W(ga,ia).toFixed(2)?void 0:{x:$,y:aa}}else R=void 0}R&&F[R.x.toFixed(4)]!=R.y.toFixed(4)&&(F[R.x.toFixed(4)]=R.y.toFixed(4),Q=Q.t+Z((R[N]-Q[N])/(L[N]-Q[N]))*(L.t-Q.t),B=B.t+Z((R[S]-B[S])/(C[S]-B[S]))*(C.t-B.t),0<=Q&&1>=Q&&0<=B&&1>=B&&(z?M++:M.push({x:R.x,y:R.y,t1:Q,t2:B})))}z=M}else z=z?0:[];if(d)t+=z;else{H=0;for(J=z.length;H<J;H++)z[H].segment1=w,z[H].segment2=G,z[H].bez1=x,z[H].bez2=c;t=t.concat(z)}}}return t}\n",
       "function r(a){var b=A(a);if(b.bbox)return C(b.bbox);if(!a)return w();a=I(a);for(var d=0,e=0,h=[],f=[],l,n=0,k=a.length;n<k;n++)l=a[n],\"M\"==l[0]?(d=l[1],e=l[2],h.push(d),f.push(e)):(d=U(d,e,l[1],l[2],l[3],l[4],l[5],l[6]),h=h.concat(d.min.x,d.max.x),f=f.concat(d.min.y,d.max.y),d=l[5],e=l[6]);a=X.apply(0,h);l=X.apply(0,f);h=W.apply(0,h);f=W.apply(0,f);f=w(a,l,h-a,f-l);b.bbox=C(f);return f}function s(a,b,d,e,h){if(h)return[[\"M\",+a+ +h,b],[\"l\",d-2*h,0],[\"a\",h,h,0,0,1,h,h],[\"l\",0,e-2*h],[\"a\",h,h,0,0,1,\n",
       "-h,h],[\"l\",2*h-d,0],[\"a\",h,h,0,0,1,-h,-h],[\"l\",0,2*h-e],[\"a\",h,h,0,0,1,h,-h],[\"z\"] ];a=[[\"M\",a,b],[\"l\",d,0],[\"l\",0,e],[\"l\",-d,0],[\"z\"] ];a.toString=z;return a}function x(a,b,d,e,h){null==h&&null==e&&(e=d);a=+a;b=+b;d=+d;e=+e;if(null!=h){var f=Math.PI/180,l=a+d*Math.cos(-e*f);a+=d*Math.cos(-h*f);var n=b+d*Math.sin(-e*f);b+=d*Math.sin(-h*f);d=[[\"M\",l,n],[\"A\",d,d,0,+(180<h-e),0,a,b] ]}else d=[[\"M\",a,b],[\"m\",0,-e],[\"a\",d,e,0,1,1,0,2*e],[\"a\",d,e,0,1,1,0,-2*e],[\"z\"] ];d.toString=z;return d}function G(b){var e=\n",
       "A(b);if(e.abs)return d(e.abs);Q(b,\"array\")&&Q(b&&b[0],\"array\")||(b=a.parsePathString(b));if(!b||!b.length)return[[\"M\",0,0] ];var h=[],f=0,l=0,n=0,k=0,p=0;\"M\"==b[0][0]&&(f=+b[0][1],l=+b[0][2],n=f,k=l,p++,h[0]=[\"M\",f,l]);for(var q=3==b.length&&\"M\"==b[0][0]&&\"R\"==b[1][0].toUpperCase()&&\"Z\"==b[2][0].toUpperCase(),s,r,w=p,c=b.length;w<c;w++){h.push(s=[]);r=b[w];p=r[0];if(p!=p.toUpperCase())switch(s[0]=p.toUpperCase(),s[0]){case \"A\":s[1]=r[1];s[2]=r[2];s[3]=r[3];s[4]=r[4];s[5]=r[5];s[6]=+r[6]+f;s[7]=+r[7]+\n",
       "l;break;case \"V\":s[1]=+r[1]+l;break;case \"H\":s[1]=+r[1]+f;break;case \"R\":for(var t=[f,l].concat(r.slice(1)),u=2,v=t.length;u<v;u++)t[u]=+t[u]+f,t[++u]=+t[u]+l;h.pop();h=h.concat(P(t,q));break;case \"O\":h.pop();t=x(f,l,r[1],r[2]);t.push(t[0]);h=h.concat(t);break;case \"U\":h.pop();h=h.concat(x(f,l,r[1],r[2],r[3]));s=[\"U\"].concat(h[h.length-1].slice(-2));break;case \"M\":n=+r[1]+f,k=+r[2]+l;default:for(u=1,v=r.length;u<v;u++)s[u]=+r[u]+(u%2?f:l)}else if(\"R\"==p)t=[f,l].concat(r.slice(1)),h.pop(),h=h.concat(P(t,\n",
       "q)),s=[\"R\"].concat(r.slice(-2));else if(\"O\"==p)h.pop(),t=x(f,l,r[1],r[2]),t.push(t[0]),h=h.concat(t);else if(\"U\"==p)h.pop(),h=h.concat(x(f,l,r[1],r[2],r[3])),s=[\"U\"].concat(h[h.length-1].slice(-2));else for(t=0,u=r.length;t<u;t++)s[t]=r[t];p=p.toUpperCase();if(\"O\"!=p)switch(s[0]){case \"Z\":f=+n;l=+k;break;case \"H\":f=s[1];break;case \"V\":l=s[1];break;case \"M\":n=s[s.length-2],k=s[s.length-1];default:f=s[s.length-2],l=s[s.length-1]}}h.toString=z;e.abs=d(h);return h}function h(a,b,d,e){return[a,b,d,e,d,\n",
       "e]}function J(a,b,d,e,h,f){var l=1/3,n=2/3;return[l*a+n*d,l*b+n*e,l*h+n*d,l*f+n*e,h,f]}function K(b,d,e,h,f,l,n,k,p,s){var r=120*S/180,q=S/180*(+f||0),c=[],t,x=a._.cacher(function(a,b,c){var d=a*F.cos(c)-b*F.sin(c);a=a*F.sin(c)+b*F.cos(c);return{x:d,y:a}});if(s)v=s[0],t=s[1],l=s[2],u=s[3];else{t=x(b,d,-q);b=t.x;d=t.y;t=x(k,p,-q);k=t.x;p=t.y;F.cos(S/180*f);F.sin(S/180*f);t=(b-k)/2;v=(d-p)/2;u=t*t/(e*e)+v*v/(h*h);1<u&&(u=F.sqrt(u),e*=u,h*=u);var u=e*e,w=h*h,u=(l==n?-1:1)*F.sqrt(Z((u*w-u*v*v-w*t*t)/\n",
       "(u*v*v+w*t*t)));l=u*e*v/h+(b+k)/2;var u=u*-h*t/e+(d+p)/2,v=F.asin(((d-u)/h).toFixed(9));t=F.asin(((p-u)/h).toFixed(9));v=b<l?S-v:v;t=k<l?S-t:t;0>v&&(v=2*S+v);0>t&&(t=2*S+t);n&&v>t&&(v-=2*S);!n&&t>v&&(t-=2*S)}if(Z(t-v)>r){var c=t,w=k,G=p;t=v+r*(n&&t>v?1:-1);k=l+e*F.cos(t);p=u+h*F.sin(t);c=K(k,p,e,h,f,0,n,w,G,[t,c,l,u])}l=t-v;f=F.cos(v);r=F.sin(v);n=F.cos(t);t=F.sin(t);l=F.tan(l/4);e=4/3*e*l;l*=4/3*h;h=[b,d];b=[b+e*r,d-l*f];d=[k+e*t,p-l*n];k=[k,p];b[0]=2*h[0]-b[0];b[1]=2*h[1]-b[1];if(s)return[b,d,k].concat(c);\n",
       "c=[b,d,k].concat(c).join().split(\",\");s=[];k=0;for(p=c.length;k<p;k++)s[k]=k%2?x(c[k-1],c[k],q).y:x(c[k],c[k+1],q).x;return s}function U(a,b,d,e,h,f,l,k){for(var n=[],p=[[],[] ],s,r,c,t,q=0;2>q;++q)0==q?(r=6*a-12*d+6*h,s=-3*a+9*d-9*h+3*l,c=3*d-3*a):(r=6*b-12*e+6*f,s=-3*b+9*e-9*f+3*k,c=3*e-3*b),1E-12>Z(s)?1E-12>Z(r)||(s=-c/r,0<s&&1>s&&n.push(s)):(t=r*r-4*c*s,c=F.sqrt(t),0>t||(t=(-r+c)/(2*s),0<t&&1>t&&n.push(t),s=(-r-c)/(2*s),0<s&&1>s&&n.push(s)));for(r=q=n.length;q--;)s=n[q],c=1-s,p[0][q]=c*c*c*a+3*\n",
       "c*c*s*d+3*c*s*s*h+s*s*s*l,p[1][q]=c*c*c*b+3*c*c*s*e+3*c*s*s*f+s*s*s*k;p[0][r]=a;p[1][r]=b;p[0][r+1]=l;p[1][r+1]=k;p[0].length=p[1].length=r+2;return{min:{x:X.apply(0,p[0]),y:X.apply(0,p[1])},max:{x:W.apply(0,p[0]),y:W.apply(0,p[1])}}}function I(a,b){var e=!b&&A(a);if(!b&&e.curve)return d(e.curve);var f=G(a),l=b&&G(b),n={x:0,y:0,bx:0,by:0,X:0,Y:0,qx:null,qy:null},k={x:0,y:0,bx:0,by:0,X:0,Y:0,qx:null,qy:null},p=function(a,b,c){if(!a)return[\"C\",b.x,b.y,b.x,b.y,b.x,b.y];a[0]in{T:1,Q:1}||(b.qx=b.qy=null);\n",
       "switch(a[0]){case \"M\":b.X=a[1];b.Y=a[2];break;case \"A\":a=[\"C\"].concat(K.apply(0,[b.x,b.y].concat(a.slice(1))));break;case \"S\":\"C\"==c||\"S\"==c?(c=2*b.x-b.bx,b=2*b.y-b.by):(c=b.x,b=b.y);a=[\"C\",c,b].concat(a.slice(1));break;case \"T\":\"Q\"==c||\"T\"==c?(b.qx=2*b.x-b.qx,b.qy=2*b.y-b.qy):(b.qx=b.x,b.qy=b.y);a=[\"C\"].concat(J(b.x,b.y,b.qx,b.qy,a[1],a[2]));break;case \"Q\":b.qx=a[1];b.qy=a[2];a=[\"C\"].concat(J(b.x,b.y,a[1],a[2],a[3],a[4]));break;case \"L\":a=[\"C\"].concat(h(b.x,b.y,a[1],a[2]));break;case \"H\":a=[\"C\"].concat(h(b.x,\n",
       "b.y,a[1],b.y));break;case \"V\":a=[\"C\"].concat(h(b.x,b.y,b.x,a[1]));break;case \"Z\":a=[\"C\"].concat(h(b.x,b.y,b.X,b.Y))}return a},s=function(a,b){if(7<a[b].length){a[b].shift();for(var c=a[b];c.length;)q[b]=\"A\",l&&(u[b]=\"A\"),a.splice(b++,0,[\"C\"].concat(c.splice(0,6)));a.splice(b,1);v=W(f.length,l&&l.length||0)}},r=function(a,b,c,d,e){a&&b&&\"M\"==a[e][0]&&\"M\"!=b[e][0]&&(b.splice(e,0,[\"M\",d.x,d.y]),c.bx=0,c.by=0,c.x=a[e][1],c.y=a[e][2],v=W(f.length,l&&l.length||0))},q=[],u=[],c=\"\",t=\"\",x=0,v=W(f.length,\n",
       "l&&l.length||0);for(;x<v;x++){f[x]&&(c=f[x][0]);\"C\"!=c&&(q[x]=c,x&&(t=q[x-1]));f[x]=p(f[x],n,t);\"A\"!=q[x]&&\"C\"==c&&(q[x]=\"C\");s(f,x);l&&(l[x]&&(c=l[x][0]),\"C\"!=c&&(u[x]=c,x&&(t=u[x-1])),l[x]=p(l[x],k,t),\"A\"!=u[x]&&\"C\"==c&&(u[x]=\"C\"),s(l,x));r(f,l,n,k,x);r(l,f,k,n,x);var w=f[x],z=l&&l[x],y=w.length,U=l&&z.length;n.x=w[y-2];n.y=w[y-1];n.bx=$(w[y-4])||n.x;n.by=$(w[y-3])||n.y;k.bx=l&&($(z[U-4])||k.x);k.by=l&&($(z[U-3])||k.y);k.x=l&&z[U-2];k.y=l&&z[U-1]}l||(e.curve=d(f));return l?[f,l]:f}function P(a,\n",
       "b){for(var d=[],e=0,h=a.length;h-2*!b>e;e+=2){var f=[{x:+a[e-2],y:+a[e-1]},{x:+a[e],y:+a[e+1]},{x:+a[e+2],y:+a[e+3]},{x:+a[e+4],y:+a[e+5]}];b?e?h-4==e?f[3]={x:+a[0],y:+a[1]}:h-2==e&&(f[2]={x:+a[0],y:+a[1]},f[3]={x:+a[2],y:+a[3]}):f[0]={x:+a[h-2],y:+a[h-1]}:h-4==e?f[3]=f[2]:e||(f[0]={x:+a[e],y:+a[e+1]});d.push([\"C\",(-f[0].x+6*f[1].x+f[2].x)/6,(-f[0].y+6*f[1].y+f[2].y)/6,(f[1].x+6*f[2].x-f[3].x)/6,(f[1].y+6*f[2].y-f[3].y)/6,f[2].x,f[2].y])}return d}y=k.prototype;var Q=a.is,C=a._.clone,L=\"hasOwnProperty\",\n",
       "N=/,?([a-z]),?/gi,$=parseFloat,F=Math,S=F.PI,X=F.min,W=F.max,ma=F.pow,Z=F.abs;M=n(1);var na=n(),ba=n(0,1),V=a._unit2px;a.path=A;a.path.getTotalLength=M;a.path.getPointAtLength=na;a.path.getSubpath=function(a,b,d){if(1E-6>this.getTotalLength(a)-d)return ba(a,b).end;a=ba(a,d,1);return b?ba(a,b).end:a};y.getTotalLength=function(){if(this.node.getTotalLength)return this.node.getTotalLength()};y.getPointAtLength=function(a){return na(this.attr(\"d\"),a)};y.getSubpath=function(b,d){return a.path.getSubpath(this.attr(\"d\"),\n",
       "b,d)};a._.box=w;a.path.findDotsAtSegment=u;a.path.bezierBBox=p;a.path.isPointInsideBBox=b;a.path.isBBoxIntersect=q;a.path.intersection=function(a,b){return l(a,b)};a.path.intersectionNumber=function(a,b){return l(a,b,1)};a.path.isPointInside=function(a,d,e){var h=r(a);return b(h,d,e)&&1==l(a,[[\"M\",d,e],[\"H\",h.x2+10] ],1)%2};a.path.getBBox=r;a.path.get={path:function(a){return a.attr(\"path\")},circle:function(a){a=V(a);return x(a.cx,a.cy,a.r)},ellipse:function(a){a=V(a);return x(a.cx||0,a.cy||0,a.rx,\n",
       "a.ry)},rect:function(a){a=V(a);return s(a.x||0,a.y||0,a.width,a.height,a.rx,a.ry)},image:function(a){a=V(a);return s(a.x||0,a.y||0,a.width,a.height)},line:function(a){return\"M\"+[a.attr(\"x1\")||0,a.attr(\"y1\")||0,a.attr(\"x2\"),a.attr(\"y2\")]},polyline:function(a){return\"M\"+a.attr(\"points\")},polygon:function(a){return\"M\"+a.attr(\"points\")+\"z\"},deflt:function(a){a=a.node.getBBox();return s(a.x,a.y,a.width,a.height)}};a.path.toRelative=function(b){var e=A(b),h=String.prototype.toLowerCase;if(e.rel)return d(e.rel);\n",
       "a.is(b,\"array\")&&a.is(b&&b[0],\"array\")||(b=a.parsePathString(b));var f=[],l=0,n=0,k=0,p=0,s=0;\"M\"==b[0][0]&&(l=b[0][1],n=b[0][2],k=l,p=n,s++,f.push([\"M\",l,n]));for(var r=b.length;s<r;s++){var q=f[s]=[],x=b[s];if(x[0]!=h.call(x[0]))switch(q[0]=h.call(x[0]),q[0]){case \"a\":q[1]=x[1];q[2]=x[2];q[3]=x[3];q[4]=x[4];q[5]=x[5];q[6]=+(x[6]-l).toFixed(3);q[7]=+(x[7]-n).toFixed(3);break;case \"v\":q[1]=+(x[1]-n).toFixed(3);break;case \"m\":k=x[1],p=x[2];default:for(var c=1,t=x.length;c<t;c++)q[c]=+(x[c]-(c%2?l:\n",
       "n)).toFixed(3)}else for(f[s]=[],\"m\"==x[0]&&(k=x[1]+l,p=x[2]+n),q=0,c=x.length;q<c;q++)f[s][q]=x[q];x=f[s].length;switch(f[s][0]){case \"z\":l=k;n=p;break;case \"h\":l+=+f[s][x-1];break;case \"v\":n+=+f[s][x-1];break;default:l+=+f[s][x-2],n+=+f[s][x-1]}}f.toString=z;e.rel=d(f);return f};a.path.toAbsolute=G;a.path.toCubic=I;a.path.map=function(a,b){if(!b)return a;var d,e,h,f,l,n,k;a=I(a);h=0;for(l=a.length;h<l;h++)for(k=a[h],f=1,n=k.length;f<n;f+=2)d=b.x(k[f],k[f+1]),e=b.y(k[f],k[f+1]),k[f]=d,k[f+1]=e;return a};\n",
       "a.path.toString=z;a.path.clone=d});C.plugin(function(a,v,y,C){var A=Math.max,w=Math.min,z=function(a){this.items=[];this.bindings={};this.length=0;this.type=\"set\";if(a)for(var f=0,n=a.length;f<n;f++)a[f]&&(this[this.items.length]=this.items[this.items.length]=a[f],this.length++)};v=z.prototype;v.push=function(){for(var a,f,n=0,k=arguments.length;n<k;n++)if(a=arguments[n])f=this.items.length,this[f]=this.items[f]=a,this.length++;return this};v.pop=function(){this.length&&delete this[this.length--];\n",
       "return this.items.pop()};v.forEach=function(a,f){for(var n=0,k=this.items.length;n<k&&!1!==a.call(f,this.items[n],n);n++);return this};v.animate=function(d,f,n,u){\"function\"!=typeof n||n.length||(u=n,n=L.linear);d instanceof a._.Animation&&(u=d.callback,n=d.easing,f=n.dur,d=d.attr);var p=arguments;if(a.is(d,\"array\")&&a.is(p[p.length-1],\"array\"))var b=!0;var q,e=function(){q?this.b=q:q=this.b},l=0,r=u&&function(){l++==this.length&&u.call(this)};return this.forEach(function(a,l){k.once(\"snap.animcreated.\"+\n",
       "a.id,e);b?p[l]&&a.animate.apply(a,p[l]):a.animate(d,f,n,r)})};v.remove=function(){for(;this.length;)this.pop().remove();return this};v.bind=function(a,f,k){var u={};if(\"function\"==typeof f)this.bindings[a]=f;else{var p=k||a;this.bindings[a]=function(a){u[p]=a;f.attr(u)}}return this};v.attr=function(a){var f={},k;for(k in a)if(this.bindings[k])this.bindings[k](a[k]);else f[k]=a[k];a=0;for(k=this.items.length;a<k;a++)this.items[a].attr(f);return this};v.clear=function(){for(;this.length;)this.pop()};\n",
       "v.splice=function(a,f,k){a=0>a?A(this.length+a,0):a;f=A(0,w(this.length-a,f));var u=[],p=[],b=[],q;for(q=2;q<arguments.length;q++)b.push(arguments[q]);for(q=0;q<f;q++)p.push(this[a+q]);for(;q<this.length-a;q++)u.push(this[a+q]);var e=b.length;for(q=0;q<e+u.length;q++)this.items[a+q]=this[a+q]=q<e?b[q]:u[q-e];for(q=this.items.length=this.length-=f-e;this[q];)delete this[q++];return new z(p)};v.exclude=function(a){for(var f=0,k=this.length;f<k;f++)if(this[f]==a)return this.splice(f,1),!0;return!1};\n",
       "v.insertAfter=function(a){for(var f=this.items.length;f--;)this.items[f].insertAfter(a);return this};v.getBBox=function(){for(var a=[],f=[],k=[],u=[],p=this.items.length;p--;)if(!this.items[p].removed){var b=this.items[p].getBBox();a.push(b.x);f.push(b.y);k.push(b.x+b.width);u.push(b.y+b.height)}a=w.apply(0,a);f=w.apply(0,f);k=A.apply(0,k);u=A.apply(0,u);return{x:a,y:f,x2:k,y2:u,width:k-a,height:u-f,cx:a+(k-a)/2,cy:f+(u-f)/2}};v.clone=function(a){a=new z;for(var f=0,k=this.items.length;f<k;f++)a.push(this.items[f].clone());\n",
       "return a};v.toString=function(){return\"Snap\\u2018s set\"};v.type=\"set\";a.set=function(){var a=new z;arguments.length&&a.push.apply(a,Array.prototype.slice.call(arguments,0));return a}});C.plugin(function(a,v,y,C){function A(a){var b=a[0];switch(b.toLowerCase()){case \"t\":return[b,0,0];case \"m\":return[b,1,0,0,1,0,0];case \"r\":return 4==a.length?[b,0,a[2],a[3] ]:[b,0];case \"s\":return 5==a.length?[b,1,1,a[3],a[4] ]:3==a.length?[b,1,1]:[b,1]}}function w(b,d,f){d=q(d).replace(/\\.{3}|\\u2026/g,b);b=a.parseTransformString(b)||\n",
       "[];d=a.parseTransformString(d)||[];for(var k=Math.max(b.length,d.length),p=[],v=[],h=0,w,z,y,I;h<k;h++){y=b[h]||A(d[h]);I=d[h]||A(y);if(y[0]!=I[0]||\"r\"==y[0].toLowerCase()&&(y[2]!=I[2]||y[3]!=I[3])||\"s\"==y[0].toLowerCase()&&(y[3]!=I[3]||y[4]!=I[4])){b=a._.transform2matrix(b,f());d=a._.transform2matrix(d,f());p=[[\"m\",b.a,b.b,b.c,b.d,b.e,b.f] ];v=[[\"m\",d.a,d.b,d.c,d.d,d.e,d.f] ];break}p[h]=[];v[h]=[];w=0;for(z=Math.max(y.length,I.length);w<z;w++)w in y&&(p[h][w]=y[w]),w in I&&(v[h][w]=I[w])}return{from:u(p),\n",
       "to:u(v),f:n(p)}}function z(a){return a}function d(a){return function(b){return+b.toFixed(3)+a}}function f(b){return a.rgb(b[0],b[1],b[2])}function n(a){var b=0,d,f,k,n,h,p,q=[];d=0;for(f=a.length;d<f;d++){h=\"[\";p=['\"'+a[d][0]+'\"'];k=1;for(n=a[d].length;k<n;k++)p[k]=\"val[\"+b++ +\"]\";h+=p+\"]\";q[d]=h}return Function(\"val\",\"return Snap.path.toString.call([\"+q+\"])\")}function u(a){for(var b=[],d=0,f=a.length;d<f;d++)for(var k=1,n=a[d].length;k<n;k++)b.push(a[d][k]);return b}var p={},b=/[a-z]+$/i,q=String;\n",
       "p.stroke=p.fill=\"colour\";v.prototype.equal=function(a,b){return k(\"snap.util.equal\",this,a,b).firstDefined()};k.on(\"snap.util.equal\",function(e,k){var r,s;r=q(this.attr(e)||\"\");var x=this;if(r==+r&&k==+k)return{from:+r,to:+k,f:z};if(\"colour\"==p[e])return r=a.color(r),s=a.color(k),{from:[r.r,r.g,r.b,r.opacity],to:[s.r,s.g,s.b,s.opacity],f:f};if(\"transform\"==e||\"gradientTransform\"==e||\"patternTransform\"==e)return k instanceof a.Matrix&&(k=k.toTransformString()),a._.rgTransform.test(k)||(k=a._.svgTransform2string(k)),\n",
       "w(r,k,function(){return x.getBBox(1)});if(\"d\"==e||\"path\"==e)return r=a.path.toCubic(r,k),{from:u(r[0]),to:u(r[1]),f:n(r[0])};if(\"points\"==e)return r=q(r).split(a._.separator),s=q(k).split(a._.separator),{from:r,to:s,f:function(a){return a}};aUnit=r.match(b);s=q(k).match(b);return aUnit&&aUnit==s?{from:parseFloat(r),to:parseFloat(k),f:d(aUnit)}:{from:this.asPX(e),to:this.asPX(e,k),f:z}})});C.plugin(function(a,v,y,C){var A=v.prototype,w=\"createTouch\"in C.doc;v=\"click dblclick mousedown mousemove mouseout mouseover mouseup touchstart touchmove touchend touchcancel\".split(\" \");\n",
       "var z={mousedown:\"touchstart\",mousemove:\"touchmove\",mouseup:\"touchend\"},d=function(a,b){var d=\"y\"==a?\"scrollTop\":\"scrollLeft\",e=b&&b.node?b.node.ownerDocument:C.doc;return e[d in e.documentElement?\"documentElement\":\"body\"][d]},f=function(){this.returnValue=!1},n=function(){return this.originalEvent.preventDefault()},u=function(){this.cancelBubble=!0},p=function(){return this.originalEvent.stopPropagation()},b=function(){if(C.doc.addEventListener)return function(a,b,e,f){var k=w&&z[b]?z[b]:b,l=function(k){var l=\n",
       "d(\"y\",f),q=d(\"x\",f);if(w&&z.hasOwnProperty(b))for(var r=0,u=k.targetTouches&&k.targetTouches.length;r<u;r++)if(k.targetTouches[r].target==a||a.contains(k.targetTouches[r].target)){u=k;k=k.targetTouches[r];k.originalEvent=u;k.preventDefault=n;k.stopPropagation=p;break}return e.call(f,k,k.clientX+q,k.clientY+l)};b!==k&&a.addEventListener(b,l,!1);a.addEventListener(k,l,!1);return function(){b!==k&&a.removeEventListener(b,l,!1);a.removeEventListener(k,l,!1);return!0}};if(C.doc.attachEvent)return function(a,\n",
       "b,e,h){var k=function(a){a=a||h.node.ownerDocument.window.event;var b=d(\"y\",h),k=d(\"x\",h),k=a.clientX+k,b=a.clientY+b;a.preventDefault=a.preventDefault||f;a.stopPropagation=a.stopPropagation||u;return e.call(h,a,k,b)};a.attachEvent(\"on\"+b,k);return function(){a.detachEvent(\"on\"+b,k);return!0}}}(),q=[],e=function(a){for(var b=a.clientX,e=a.clientY,f=d(\"y\"),l=d(\"x\"),n,p=q.length;p--;){n=q[p];if(w)for(var r=a.touches&&a.touches.length,u;r--;){if(u=a.touches[r],u.identifier==n.el._drag.id||n.el.node.contains(u.target)){b=\n",
       "u.clientX;e=u.clientY;(a.originalEvent?a.originalEvent:a).preventDefault();break}}else a.preventDefault();b+=l;e+=f;k(\"snap.drag.move.\"+n.el.id,n.move_scope||n.el,b-n.el._drag.x,e-n.el._drag.y,b,e,a)}},l=function(b){a.unmousemove(e).unmouseup(l);for(var d=q.length,f;d--;)f=q[d],f.el._drag={},k(\"snap.drag.end.\"+f.el.id,f.end_scope||f.start_scope||f.move_scope||f.el,b);q=[]};for(y=v.length;y--;)(function(d){a[d]=A[d]=function(e,f){a.is(e,\"function\")&&(this.events=this.events||[],this.events.push({name:d,\n",
       "f:e,unbind:b(this.node||document,d,e,f||this)}));return this};a[\"un\"+d]=A[\"un\"+d]=function(a){for(var b=this.events||[],e=b.length;e--;)if(b[e].name==d&&(b[e].f==a||!a)){b[e].unbind();b.splice(e,1);!b.length&&delete this.events;break}return this}})(v[y]);A.hover=function(a,b,d,e){return this.mouseover(a,d).mouseout(b,e||d)};A.unhover=function(a,b){return this.unmouseover(a).unmouseout(b)};var r=[];A.drag=function(b,d,f,h,n,p){function u(r,v,w){(r.originalEvent||r).preventDefault();this._drag.x=v;\n",
       "this._drag.y=w;this._drag.id=r.identifier;!q.length&&a.mousemove(e).mouseup(l);q.push({el:this,move_scope:h,start_scope:n,end_scope:p});d&&k.on(\"snap.drag.start.\"+this.id,d);b&&k.on(\"snap.drag.move.\"+this.id,b);f&&k.on(\"snap.drag.end.\"+this.id,f);k(\"snap.drag.start.\"+this.id,n||h||this,v,w,r)}if(!arguments.length){var v;return this.drag(function(a,b){this.attr({transform:v+(v?\"T\":\"t\")+[a,b]})},function(){v=this.transform().local})}this._drag={};r.push({el:this,start:u});this.mousedown(u);return this};\n",
       "A.undrag=function(){for(var b=r.length;b--;)r[b].el==this&&(this.unmousedown(r[b].start),r.splice(b,1),k.unbind(\"snap.drag.*.\"+this.id));!r.length&&a.unmousemove(e).unmouseup(l);return this}});C.plugin(function(a,v,y,C){y=y.prototype;var A=/^\\s*url\\((.+)\\)/,w=String,z=a._.$;a.filter={};y.filter=function(d){var f=this;\"svg\"!=f.type&&(f=f.paper);d=a.parse(w(d));var k=a._.id(),u=z(\"filter\");z(u,{id:k,filterUnits:\"userSpaceOnUse\"});u.appendChild(d.node);f.defs.appendChild(u);return new v(u)};k.on(\"snap.util.getattr.filter\",\n",
       "function(){k.stop();var d=z(this.node,\"filter\");if(d)return(d=w(d).match(A))&&a.select(d[1])});k.on(\"snap.util.attr.filter\",function(d){if(d instanceof v&&\"filter\"==d.type){k.stop();var f=d.node.id;f||(z(d.node,{id:d.id}),f=d.id);z(this.node,{filter:a.url(f)})}d&&\"none\"!=d||(k.stop(),this.node.removeAttribute(\"filter\"))});a.filter.blur=function(d,f){null==d&&(d=2);return a.format('<feGaussianBlur stdDeviation=\"{def}\"/>',{def:null==f?d:[d,f]})};a.filter.blur.toString=function(){return this()};a.filter.shadow=\n",
       "function(d,f,k,u,p){\"string\"==typeof k&&(p=u=k,k=4);\"string\"!=typeof u&&(p=u,u=\"#000\");null==k&&(k=4);null==p&&(p=1);null==d&&(d=0,f=2);null==f&&(f=d);u=a.color(u||\"#000\");return a.format('<feGaussianBlur in=\"SourceAlpha\" stdDeviation=\"{blur}\"/><feOffset dx=\"{dx}\" dy=\"{dy}\" result=\"offsetblur\"/><feFlood flood-color=\"{color}\"/><feComposite in2=\"offsetblur\" operator=\"in\"/><feComponentTransfer><feFuncA type=\"linear\" slope=\"{opacity}\"/></feComponentTransfer><feMerge><feMergeNode/><feMergeNode in=\"SourceGraphic\"/></feMerge>',\n",
       "{color:u,dx:d,dy:f,blur:k,opacity:p})};a.filter.shadow.toString=function(){return this()};a.filter.grayscale=function(d){null==d&&(d=1);return a.format('<feColorMatrix type=\"matrix\" values=\"{a} {b} {c} 0 0 {d} {e} {f} 0 0 {g} {b} {h} 0 0 0 0 0 1 0\"/>',{a:0.2126+0.7874*(1-d),b:0.7152-0.7152*(1-d),c:0.0722-0.0722*(1-d),d:0.2126-0.2126*(1-d),e:0.7152+0.2848*(1-d),f:0.0722-0.0722*(1-d),g:0.2126-0.2126*(1-d),h:0.0722+0.9278*(1-d)})};a.filter.grayscale.toString=function(){return this()};a.filter.sepia=\n",
       "function(d){null==d&&(d=1);return a.format('<feColorMatrix type=\"matrix\" values=\"{a} {b} {c} 0 0 {d} {e} {f} 0 0 {g} {h} {i} 0 0 0 0 0 1 0\"/>',{a:0.393+0.607*(1-d),b:0.769-0.769*(1-d),c:0.189-0.189*(1-d),d:0.349-0.349*(1-d),e:0.686+0.314*(1-d),f:0.168-0.168*(1-d),g:0.272-0.272*(1-d),h:0.534-0.534*(1-d),i:0.131+0.869*(1-d)})};a.filter.sepia.toString=function(){return this()};a.filter.saturate=function(d){null==d&&(d=1);return a.format('<feColorMatrix type=\"saturate\" values=\"{amount}\"/>',{amount:1-\n",
       "d})};a.filter.saturate.toString=function(){return this()};a.filter.hueRotate=function(d){return a.format('<feColorMatrix type=\"hueRotate\" values=\"{angle}\"/>',{angle:d||0})};a.filter.hueRotate.toString=function(){return this()};a.filter.invert=function(d){null==d&&(d=1);return a.format('<feComponentTransfer><feFuncR type=\"table\" tableValues=\"{amount} {amount2}\"/><feFuncG type=\"table\" tableValues=\"{amount} {amount2}\"/><feFuncB type=\"table\" tableValues=\"{amount} {amount2}\"/></feComponentTransfer>',{amount:d,\n",
       "amount2:1-d})};a.filter.invert.toString=function(){return this()};a.filter.brightness=function(d){null==d&&(d=1);return a.format('<feComponentTransfer><feFuncR type=\"linear\" slope=\"{amount}\"/><feFuncG type=\"linear\" slope=\"{amount}\"/><feFuncB type=\"linear\" slope=\"{amount}\"/></feComponentTransfer>',{amount:d})};a.filter.brightness.toString=function(){return this()};a.filter.contrast=function(d){null==d&&(d=1);return a.format('<feComponentTransfer><feFuncR type=\"linear\" slope=\"{amount}\" intercept=\"{amount2}\"/><feFuncG type=\"linear\" slope=\"{amount}\" intercept=\"{amount2}\"/><feFuncB type=\"linear\" slope=\"{amount}\" intercept=\"{amount2}\"/></feComponentTransfer>',\n",
       "{amount:d,amount2:0.5-d/2})};a.filter.contrast.toString=function(){return this()}});return C});\n",
       "\n",
       "]]> </script>\n",
       "</svg>\n"
      ],
      "text/plain": [
       "Compose.Context(Measures.BoundingBox{Tuple{Measures.Length{:w,Float64},Measures.Length{:h,Float64}},Tuple{Measures.Length{:w,Float64},Measures.Length{:h,Float64}}}((0.0w, 0.0h), (1.0w, 1.0h)), Compose.UnitBox{Float64,Float64,Float64,Float64}(-1.2, -1.2, 2.4, 2.4, 0.0mm, 0.0mm, 0.0mm, 0.0mm), nothing, nothing, nothing, List([Compose.Context(Measures.BoundingBox{Tuple{Measures.Length{:w,Float64},Measures.Length{:h,Float64}},Tuple{Measures.Length{:w,Float64},Measures.Length{:h,Float64}}}((0.0w, 0.0h), (1.0w, 1.0h)), nothing, nothing, nothing, nothing, List([]), List([Compose.Form{Compose.LinePrimitive}(Compose.LinePrimitive[Compose.LinePrimitive{Tuple{Measures.Measure,Measures.Measure}}(Tuple{Measures.Measure,Measures.Measure}[(0.9209469555204718cx, -0.9209391616631992cy), (0.33462732771890524cx, -0.3345617284788639cy)]), Compose.LinePrimitive{Tuple{Measures.Measure,Measures.Measure}}(Tuple{Measures.Measure,Measures.Measure}[(-0.44125033558108534cx, -0.07982936227924528cy), (0.14716290927148595cx, -0.22817006515645277cy)]), Compose.LinePrimitive{Tuple{Measures.Measure,Measures.Measure}}(Tuple{Measures.Measure,Measures.Measure}[(-0.5207338928468028cx, 0.05549767292156414cy), (-0.3241442868475023cx, 0.7894255954539406cy)]), Compose.LinePrimitive{Tuple{Measures.Measure,Measures.Measure}}(Tuple{Measures.Measure,Measures.Measure}[(-0.5936427805037cx, 0.050290885302639934cy), (-0.9560189290452764cx, 0.8972105774037252cy)]), Compose.LinePrimitive{Tuple{Measures.Measure,Measures.Measure}}(Tuple{Measures.Measure,Measures.Measure}[(0.33462732771890524cx, -0.33456172847886395cy), (0.9209469555204718cx, -0.9209391616631992cy)]), Compose.LinePrimitive{Tuple{Measures.Measure,Measures.Measure}}(Tuple{Measures.Measure,Measures.Measure}[(0.14716290927148595cx, -0.22817006515645277cy), (-0.44125033558108534cx, -0.07982936227924531cy)]), Compose.LinePrimitive{Tuple{Measures.Measure,Measures.Measure}}(Tuple{Measures.Measure,Measures.Measure}[(-0.2470215137104855cx, 0.7965394674020101cy), (0.20737932680453375cx, -0.15461855187493365cy)]), Compose.LinePrimitive{Tuple{Measures.Measure,Measures.Measure}}(Tuple{Measures.Measure,Measures.Measure}[(-0.4058541609620091cx, 0.9135246430201363cy), (-0.8893623091833197cx, 0.9838971626490033cy)]), Compose.LinePrimitive{Tuple{Measures.Measure,Measures.Measure}}(Tuple{Measures.Measure,Measures.Measure}[(-0.9560189290452764cx, 0.8972105774037252cy), (-0.5936427805037cx, 0.05029088530263995cy)]), Compose.LinePrimitive{Tuple{Measures.Measure,Measures.Measure}}(Tuple{Measures.Measure,Measures.Measure}[(-0.8893623091833197cx, 0.9838971626490033cy), (-0.4058541609620091cx, 0.9135246430201364cy)])], Symbol(\"\"))]), List([Compose.Property{Compose.LineWidthPrimitive}(Compose.LineWidthPrimitive[Compose.LineWidthPrimitive(1.3416407864998738mm)]), Compose.Property{Compose.FillPrimitive}(Compose.FillPrimitive[Compose.FillPrimitive(RGBA{Float64}(0.0,0.0,0.0,0.0))]), Compose.Property{Compose.StrokePrimitive}(Compose.StrokePrimitive[Compose.StrokePrimitive(RGBA{Float64}(0.8274509803921568,0.8274509803921568,0.8274509803921568,1.0))])]), 0, false, false, false, false, nothing, nothing, 0.0, Symbol(\"\")), Compose.Context(Measures.BoundingBox{Tuple{Measures.Length{:w,Float64},Measures.Length{:h,Float64}},Tuple{Measures.Length{:w,Float64},Measures.Length{:h,Float64}}}((0.0w, 0.0h), (1.0w, 1.0h)), nothing, nothing, nothing, nothing, List([]), List([Compose.Form{Compose.LinePrimitive}(Compose.LinePrimitive[Compose.LinePrimitive{Tuple{Measures.Measure,Measures.Measure}}(Tuple{Measures.Measure,Measures.Measure}[(0.425256023113728cx, -0.37682802203569743cy), (0.33462732771890524cx, -0.3345617284788639cy), (0.37688468640752515cx, -0.4251945902711593cy)]), Compose.LinePrimitive{Tuple{Measures.Measure,Measures.Measure}}(Tuple{Measures.Measure,Measures.Measure}[(0.0476837682750343cx, -0.2383632249515356cy), (0.14716290927148595cx, -0.22817006515645277cy), (0.0644054292850706cx, -0.17203451932052038cy)]), Compose.LinePrimitive{Tuple{Measures.Measure,Measures.Measure}}(Tuple{Measures.Measure,Measures.Measure}[(-0.315420380862446cx, 0.6898068549260465cy), (-0.3241442868475023cx, 0.7894255954539406cy), (-0.3814950792492662cx, 0.7075055941667716cy)]), Compose.LinePrimitive{Tuple{Measures.Measure,Measures.Measure}}(Tuple{Measures.Measure,Measures.Measure}[(-0.8876088971063766cx, 0.824271784363816cy), (-0.9560189290452764cx, 0.8972105774037252cy), (-0.9504979566564348cx, 0.7973630993991123cy)]), Compose.LinePrimitive{Tuple{Measures.Measure,Measures.Measure}}(Tuple{Measures.Measure,Measures.Measure}[(0.830318260125649cx, -0.8786728681063657cy), (0.9209469555204718cx, -0.9209391616631992cy), (0.8786895968318519cx, -0.8303062998709039cy)]), Compose.LinePrimitive{Tuple{Measures.Measure,Measures.Measure}}(Tuple{Measures.Measure,Measures.Measure}[(-0.3417711945846337cx, -0.06963620248416247cy), (-0.44125033558108534cx, -0.07982936227924531cy), (-0.35849285559467003cx, -0.1359649081151777cy)]), Compose.LinePrimitive{Tuple{Measures.Measure,Measures.Measure}}(Tuple{Measures.Measure,Measures.Measure}[(0.1360109806567652cx, -0.08457171634232523cy), (0.20737932680453375cx, -0.15461855187493365cy), (0.19773323980155544cx, -0.055084874129504316cy)]), Compose.LinePrimitive{Tuple{Measures.Measure,Measures.Measure}}(Tuple{Measures.Measure,Measures.Measure}[(-0.7914467560950188cx, 1.0042083532446362cy), (-0.8893623091833197cx, 0.9838971626490033cy), (-0.801298862192251cx, 0.9365175330171539cy)]), Compose.LinePrimitive{Tuple{Measures.Measure,Measures.Measure}}(Tuple{Measures.Measure,Measures.Measure}[(-0.6620528124425998cx, 0.12322967834254914cy), (-0.5936427805037cx, 0.05029088530263995cy), (-0.5991637528925416cx, 0.1501383633072528cy)]), Compose.LinePrimitive{Tuple{Measures.Measure,Measures.Measure}}(Tuple{Measures.Measure,Measures.Measure}[(-0.50376971405031cx, 0.8932134524245036cy), (-0.4058541609620091cx, 0.9135246430201364cy), (-0.4939176079530779cx, 0.9609042726519857cy)])], Symbol(\"\"))]), List([Compose.Property{Compose.LineWidthPrimitive}(Compose.LineWidthPrimitive[Compose.LineWidthPrimitive(1.3416407864998738mm)]), Compose.Property{Compose.StrokePrimitive}(Compose.StrokePrimitive[Compose.StrokePrimitive(RGBA{Float64}(0.8274509803921568,0.8274509803921568,0.8274509803921568,1.0))])]), 0, false, false, false, false, nothing, nothing, 0.0, Symbol(\"\")), Compose.Context(Measures.BoundingBox{Tuple{Measures.Length{:w,Float64},Measures.Length{:h,Float64}},Tuple{Measures.Length{:w,Float64},Measures.Length{:h,Float64}}}((0.0w, 0.0h), (1.0w, 1.0h)), nothing, nothing, nothing, nothing, List([]), List([Compose.Form{Compose.TextPrimitive{Tuple{Measures.Length{:cx,Float64},Measures.Length{:cy,Float64}},Compose.Rotation{Tuple{Measures.Length{:w,Float64},Measures.Length{:h,Float64}}},Tuple{Measures.Length{:mm,Float64},Measures.Length{:mm,Float64}}}}(Compose.TextPrimitive{Tuple{Measures.Length{:cx,Float64},Measures.Length{:cy,Float64}},Compose.Rotation{Tuple{Measures.Length{:w,Float64},Measures.Length{:h,Float64}}},Tuple{Measures.Length{:mm,Float64},Measures.Length{:mm,Float64}}}[Compose.TextPrimitive{Tuple{Measures.Length{:cx,Float64},Measures.Length{:cy,Float64}},Compose.Rotation{Tuple{Measures.Length{:w,Float64},Measures.Length{:h,Float64}}},Tuple{Measures.Length{:mm,Float64},Measures.Length{:mm,Float64}}}((0.4416807124295328cx, -0.4416256676065474cy), \"e31\", Compose.HCenter(), Compose.VCenter(), Compose.Rotation{Tuple{Measures.Length{:w,Float64},Measures.Length{:h,Float64}}}(0.0, (0.5w, 0.5h)), (0.0mm, 0.0mm)), Compose.TextPrimitive{Tuple{Measures.Length{:cx,Float64},Measures.Length{:cy,Float64}},Compose.Rotation{Tuple{Measures.Length{:w,Float64},Measures.Length{:h,Float64}}},Tuple{Measures.Length{:mm,Float64},Measures.Length{:mm,Float64}}}((0.05426528504228867cx, -0.20475030192995614cy), \"e32\", Compose.HCenter(), Compose.VCenter(), Compose.Rotation{Tuple{Measures.Length{:w,Float64},Measures.Length{:h,Float64}}}(0.0, (0.5w, 0.5h)), (0.0mm, 0.0mm)), Compose.TextPrimitive{Tuple{Measures.Length{:cx,Float64},Measures.Length{:cy,Float64}},Compose.Rotation{Tuple{Measures.Length{:w,Float64},Measures.Length{:h,Float64}}},Tuple{Measures.Length{:mm,Float64},Measures.Length{:mm,Float64}}}((-0.3588277799962407cx, 0.6599417199284461cy), \"e42\", Compose.HCenter(), Compose.VCenter(), Compose.Rotation{Tuple{Measures.Length{:w,Float64},Measures.Length{:h,Float64}}}(0.0, (0.5w, 0.5h)), (0.0mm, 0.0mm)), Compose.TextPrimitive{Tuple{Measures.Length{:cx,Float64},Measures.Length{:cy,Float64}},Compose.Rotation{Tuple{Measures.Length{:w,Float64},Measures.Length{:h,Float64}}},Tuple{Measures.Length{:mm,Float64},Measures.Length{:mm,Float64}}}((-0.8874154273872441cx, 0.7368753656765913cy), \"e52\", Compose.HCenter(), Compose.VCenter(), Compose.Rotation{Tuple{Measures.Length{:w,Float64},Measures.Length{:h,Float64}}}(0.0, (0.5w, 0.5h)), (0.0mm, 0.0mm)), Compose.TextPrimitive{Tuple{Measures.Length{:cx,Float64},Measures.Length{:cy,Float64}},Compose.Rotation{Tuple{Measures.Length{:w,Float64},Measures.Length{:h,Float64}}},Tuple{Measures.Length{:mm,Float64},Measures.Length{:mm,Float64}}}((0.8138935708098443cx, -0.8138752225355158cy), \"e13\", Compose.HCenter(), Compose.VCenter(), Compose.Rotation{Tuple{Measures.Length{:w,Float64},Measures.Length{:h,Float64}}}(0.0, (0.5w, 0.5h)), (0.0mm, 0.0mm)), Compose.TextPrimitive{Tuple{Measures.Length{:cx,Float64},Measures.Length{:cy,Float64}},Compose.Rotation{Tuple{Measures.Length{:w,Float64},Measures.Length{:h,Float64}}},Tuple{Measures.Length{:mm,Float64},Measures.Length{:mm,Float64}}}((-0.34835271135188806cx, -0.10324912550574195cy), \"e23\", Compose.HCenter(), Compose.VCenter(), Compose.Rotation{Tuple{Measures.Length{:w,Float64},Measures.Length{:h,Float64}}}(0.0, (0.5w, 0.5h)), (0.0mm, 0.0mm)), Compose.TextPrimitive{Tuple{Measures.Length{:cx,Float64},Measures.Length{:cy,Float64}},Compose.Rotation{Tuple{Measures.Length{:w,Float64},Measures.Length{:h,Float64}}},Tuple{Measures.Length{:mm,Float64},Measures.Length{:mm,Float64}}}((0.11787659489320057cx, 0.03272978381073749cy), \"e34\", Compose.HCenter(), Compose.VCenter(), Compose.Rotation{Tuple{Measures.Length{:w,Float64},Measures.Length{:h,Float64}}}(0.0, (0.5w, 0.5h)), (0.0mm, 0.0mm)), Compose.TextPrimitive{Tuple{Measures.Length{:cx,Float64},Measures.Length{:cy,Float64}},Compose.Rotation{Tuple{Measures.Length{:w,Float64},Measures.Length{:h,Float64}}},Tuple{Measures.Length{:mm,Float64},Measures.Length{:mm,Float64}}}((-0.8238041175363322cx, 0.974355451417285cy), \"e54\", Compose.HCenter(), Compose.VCenter(), Compose.Rotation{Tuple{Measures.Length{:w,Float64},Measures.Length{:h,Float64}}}(0.0, (0.5w, 0.5h)), (0.0mm, 0.0mm)), Compose.TextPrimitive{Tuple{Measures.Length{:cx,Float64},Measures.Length{:cy,Float64}},Compose.Rotation{Tuple{Measures.Length{:w,Float64},Measures.Length{:h,Float64}}},Tuple{Measures.Length{:mm,Float64},Measures.Length{:mm,Float64}}}((-0.6622462821617323cx, 0.21062609702977386cy), \"e25\", Compose.HCenter(), Compose.VCenter(), Compose.Rotation{Tuple{Measures.Length{:w,Float64},Measures.Length{:h,Float64}}}(0.0, (0.5w, 0.5h)), (0.0mm, 0.0mm)), Compose.TextPrimitive{Tuple{Measures.Length{:cx,Float64},Measures.Length{:cy,Float64}},Compose.Rotation{Tuple{Measures.Length{:w,Float64},Measures.Length{:h,Float64}}},Tuple{Measures.Length{:mm,Float64},Measures.Length{:mm,Float64}}}((-0.4714123526089966cx, 0.9230663542518547cy), \"e45\", Compose.HCenter(), Compose.VCenter(), Compose.Rotation{Tuple{Measures.Length{:w,Float64},Measures.Length{:h,Float64}}}(0.0, (0.5w, 0.5h)), (0.0mm, 0.0mm))], Symbol(\"\"))]), List([Compose.Property{Compose.FontSizePrimitive}(Compose.FontSizePrimitive[Compose.FontSizePrimitive(4.0mm)]), Compose.Property{Compose.StrokePrimitive}(Compose.StrokePrimitive[Compose.StrokePrimitive(RGBA{Float64}(0.0,0.0,0.0,0.0))]), Compose.Property{Compose.FillPrimitive}(Compose.FillPrimitive[Compose.FillPrimitive(RGBA{Float64}(0.0,0.0,0.0,1.0))])]), 0, false, false, false, false, nothing, nothing, 0.0, Symbol(\"\")), Compose.Context(Measures.BoundingBox{Tuple{Measures.Length{:w,Float64},Measures.Length{:h,Float64}},Tuple{Measures.Length{:w,Float64},Measures.Length{:h,Float64}}}((0.0w, 0.0h), (1.0w, 1.0h)), nothing, nothing, nothing, nothing, List([]), List([Compose.Form{Compose.CirclePrimitive{Tuple{Measures.Measure,Measures.Measure},Measures.Measure}}(Compose.CirclePrimitive{Tuple{Measures.Measure,Measures.Measure},Measures.Measure}[Compose.CirclePrimitive{Tuple{Measures.Measure,Measures.Measure},Measures.Measure}((1.0cx, -1.0cy), 0.044721359549995794w), Compose.CirclePrimitive{Tuple{Measures.Measure,Measures.Measure},Measures.Measure}((-0.5496617095489764cx, -0.05249853729363485cy), 0.044721359549995794w), Compose.CirclePrimitive{Tuple{Measures.Measure,Measures.Measure},Measures.Measure}((0.25557428323937703cx, -0.25550089014206323cy), 0.044721359549995794w), Compose.CirclePrimitive{Tuple{Measures.Measure,Measures.Measure},Measures.Measure}((-0.2952164701453288cx, 0.8974218056691396cy), 0.044721359549995794w), Compose.CirclePrimitive{Tuple{Measures.Measure,Measures.Measure},Measures.Measure}((-1.0cx, 1.0cy), 0.044721359549995794w)], Symbol(\"\"))]), List([Compose.Property{Compose.LineWidthPrimitive}(Compose.LineWidthPrimitive[Compose.LineWidthPrimitive(0.0mm)]), Compose.Property{Compose.StrokePrimitive}(Compose.StrokePrimitive[Compose.StrokePrimitive(RGBA{Float64}(0.0,0.0,0.0,0.0))]), Compose.Property{Compose.FillPrimitive}(Compose.FillPrimitive[Compose.FillPrimitive(RGBA{Float64}(0.25098039215686274,0.8784313725490196,0.8156862745098039,1.0))])]), 0, false, false, false, false, nothing, nothing, 0.0, Symbol(\"\")), Compose.Context(Measures.BoundingBox{Tuple{Measures.Length{:w,Float64},Measures.Length{:h,Float64}},Tuple{Measures.Length{:w,Float64},Measures.Length{:h,Float64}}}((0.0w, 0.0h), (1.0w, 1.0h)), nothing, nothing, nothing, nothing, List([]), List([Compose.Form{Compose.TextPrimitive{Tuple{Measures.Length{:cx,Float64},Measures.Length{:cy,Float64}},Compose.Rotation{Tuple{Measures.Length{:w,Float64},Measures.Length{:h,Float64}}},Tuple{Measures.Length{:mm,Float64},Measures.Length{:mm,Float64}}}}(Compose.TextPrimitive{Tuple{Measures.Length{:cx,Float64},Measures.Length{:cy,Float64}},Compose.Rotation{Tuple{Measures.Length{:w,Float64},Measures.Length{:h,Float64}}},Tuple{Measures.Length{:mm,Float64},Measures.Length{:mm,Float64}}}[Compose.TextPrimitive{Tuple{Measures.Length{:cx,Float64},Measures.Length{:cy,Float64}},Compose.Rotation{Tuple{Measures.Length{:w,Float64},Measures.Length{:h,Float64}}},Tuple{Measures.Length{:mm,Float64},Measures.Length{:mm,Float64}}}((1.0cx, -1.0cy), \"1\", Compose.HCenter(), Compose.VCenter(), Compose.Rotation{Tuple{Measures.Length{:w,Float64},Measures.Length{:h,Float64}}}(0.0, (0.5w, 0.5h)), (0.0mm, 0.0mm)), Compose.TextPrimitive{Tuple{Measures.Length{:cx,Float64},Measures.Length{:cy,Float64}},Compose.Rotation{Tuple{Measures.Length{:w,Float64},Measures.Length{:h,Float64}}},Tuple{Measures.Length{:mm,Float64},Measures.Length{:mm,Float64}}}((-0.5496617095489764cx, -0.05249853729363485cy), \"2\", Compose.HCenter(), Compose.VCenter(), Compose.Rotation{Tuple{Measures.Length{:w,Float64},Measures.Length{:h,Float64}}}(0.0, (0.5w, 0.5h)), (0.0mm, 0.0mm)), Compose.TextPrimitive{Tuple{Measures.Length{:cx,Float64},Measures.Length{:cy,Float64}},Compose.Rotation{Tuple{Measures.Length{:w,Float64},Measures.Length{:h,Float64}}},Tuple{Measures.Length{:mm,Float64},Measures.Length{:mm,Float64}}}((0.25557428323937703cx, -0.25550089014206323cy), \"3\", Compose.HCenter(), Compose.VCenter(), Compose.Rotation{Tuple{Measures.Length{:w,Float64},Measures.Length{:h,Float64}}}(0.0, (0.5w, 0.5h)), (0.0mm, 0.0mm)), Compose.TextPrimitive{Tuple{Measures.Length{:cx,Float64},Measures.Length{:cy,Float64}},Compose.Rotation{Tuple{Measures.Length{:w,Float64},Measures.Length{:h,Float64}}},Tuple{Measures.Length{:mm,Float64},Measures.Length{:mm,Float64}}}((-0.2952164701453288cx, 0.8974218056691396cy), \"4\", Compose.HCenter(), Compose.VCenter(), Compose.Rotation{Tuple{Measures.Length{:w,Float64},Measures.Length{:h,Float64}}}(0.0, (0.5w, 0.5h)), (0.0mm, 0.0mm)), Compose.TextPrimitive{Tuple{Measures.Length{:cx,Float64},Measures.Length{:cy,Float64}},Compose.Rotation{Tuple{Measures.Length{:w,Float64},Measures.Length{:h,Float64}}},Tuple{Measures.Length{:mm,Float64},Measures.Length{:mm,Float64}}}((-1.0cx, 1.0cy), \"5\", Compose.HCenter(), Compose.VCenter(), Compose.Rotation{Tuple{Measures.Length{:w,Float64},Measures.Length{:h,Float64}}}(0.0, (0.5w, 0.5h)), (0.0mm, 0.0mm))], Symbol(\"\"))]), List([Compose.Property{Compose.FontSizePrimitive}(Compose.FontSizePrimitive[Compose.FontSizePrimitive(4.0mm)]), Compose.Property{Compose.StrokePrimitive}(Compose.StrokePrimitive[Compose.StrokePrimitive(RGBA{Float64}(0.0,0.0,0.0,0.0))]), Compose.Property{Compose.FillPrimitive}(Compose.FillPrimitive[Compose.FillPrimitive(RGBA{Float64}(0.0,0.0,0.0,1.0))])]), 0, false, false, false, false, nothing, nothing, 0.0, Symbol(\"\"))]), List([]), List([]), 0, false, false, false, false, nothing, nothing, 0.0, Symbol(\"\"))"
      ]
     },
     "execution_count": 22,
     "metadata": {},
     "output_type": "execute_result"
    }
   ],
   "source": [
    "include(\"demoRoadNetwork.jl\")"
   ]
  },
  {
   "cell_type": "code",
   "execution_count": 34,
   "metadata": {},
   "outputs": [
    {
     "data": {
      "text/plain": [
       "4-element Array{Array{Int64,1},1}:\n",
       " [1, 3, 2, 5, 4]\n",
       " [4, 5, 2]\n",
       " [1, 3, 2, 5, 4]\n",
       " [3, 2, 5]"
      ]
     },
     "execution_count": 34,
     "metadata": {},
     "output_type": "execute_result"
    }
   ],
   "source": [
    "desired_paths = [\n",
    "    (1,4),\n",
    "    (4,2),\n",
    "    (1,4),\n",
    "    (3,5)\n",
    "]\n",
    "\n",
    "macroPaths =map(p -> macroPath(rn, p[1],p[2]), desired_paths)"
   ]
  },
  {
   "cell_type": "code",
   "execution_count": 38,
   "metadata": {},
   "outputs": [
    {
     "data": {
      "text/plain": [
       "4-element Array{Array{Int64,1},1}:\n",
       " [0, 1, 4, 6, 11, 15]\n",
       " [0, 4, 9, 11]\n",
       " [0, 1, 4, 6, 11, 15]\n",
       " [0, 3, 5, 10]"
      ]
     },
     "execution_count": 38,
     "metadata": {},
     "output_type": "execute_result"
    }
   ],
   "source": [
    "map(p -> append!([0],collect(map(i -> sum(p[1:i]), 1:length(p)))),macroPaths) "
   ]
  },
  {
   "cell_type": "code",
   "execution_count": 146,
   "metadata": {},
   "outputs": [
    {
     "name": "stdout",
     "output_type": "stream",
     "text": [
      "checking for agent (1, 4)\n",
      "checking for agent (4, 2)\n",
      "checking for agent (1, 4)\n",
      "already analysed\n",
      "already analysed\n",
      "already analysed\n",
      "already analysed\n",
      "checking for agent (3, 5)\n",
      "already analysed\n",
      "already analysed\n",
      "pathGroupings = Dict{Any,Any}((2, 5) => [4, 1, 3],(3, 2) => [4, 1, 3],(5, 2) => [2],(5, 4) => [3, 1],(1, 3) => [3, 1],(4, 5) => [2])\n",
      "macroPath = [1, 3, 2, 5, 4]\n",
      "plotting routes in (1, 3)\n",
      "parallel_agents = pathGroupings[microPath] = [3, 1]\n",
      "Planned for this goalset\n",
      "(start, goal, c) = (Point(0, 0.0), Point(10, 0.0), 1)\n",
      "(start, goal, c) = (Point(0, 6.0), Point(10, 6.0), 2)\n",
      "fetching results\n",
      "l + α * l1 + β * l2 = 311.8395880801952\n",
      "l + α * l1 + β * l2 = 10.0\n",
      "Found intersection (true, (Point[Point(0, 0.0), Point(0.22916666666666666, 0.0), Point(0.4333333333333333, 0.0), Point(0.6343749999999999, 0.0), Point(0.8408854166666666, 0.0), Point(1.0545247395833333, 0.0), Point(1.2737060546875, 0.0), Point(1.4959503173828126, 0.0)], Point[Point(0.0, 0.0), Point(0.0, 0.0), Point(0.0, 0.0)]))\n",
      "Intersection\n",
      "abs(bezLength(c1_to_intersect) - bezLength(c2_to_intersect)) < 3.5 = true\n",
      "abs(bezLength(c1_to_intersect) - bezLength(c2_to_intersect)) = 2.5959503173828122\n",
      "no non-colliding routes found\n",
      "\"Final solution $(P_2filtered[1])\" = \"Final solution Individual(Phenotype(Point(0, 6.0), Point[Point(0, 6.0), Point(0.4166666666666667, 6.0), Point(0.8333333333333334, 6.0), Point(2.25, 6.0), Point(3.1666666666666665, 6.0), Point(3.9833333333333334, 6.0), Point(4.8, 6.0), Point(10, 6.0)], Point(10, 6.0)), 10.0)\"\n",
      "res = PCGA(starts, goals, road, n_gens = 0, n = 1, selection_method = \"roulette\", mutation_method = \"uniform\") = Individual[Individual(Phenotype(Point(0, 0.0), Point[Point(0, 0.0), Point(0.9166666666666666, 0.0), Point(1.4333333333333333, 0.0), Point(2.95, 0.0), Point(3.466666666666667, 0.0), Point(4.083333333333334, 0.0), Point(4.6000000000000005, 0.0), Point(10, 0.0)], Point(10, 0.0)), 311.8395880801952), Individual(Phenotype(Point(0, 6.0), Point[Point(0, 6.0), Point(0.4166666666666667, 6.0), Point(0.8333333333333334, 6.0), Point(2.25, 6.0), Point(3.1666666666666665, 6.0), Point(3.9833333333333334, 6.0), Point(4.8, 6.0), Point(10, 6.0)], Point(10, 6.0)), 10.0)]\n",
      "append!(plans[agent], [res[findfirst((x->(#= /home/sam/git-clones/Y4-Diss/code/julia/src/parallelPlanner.jl:93 =#\n",
      "                        x == agent)), parallel_agents)]]) = Any[Individual(Phenotype(Point(0, 0.0), Point[Point(0, 0.0), Point(0.9166666666666666, 0.0), Point(1.4333333333333333, 0.0), Point(2.95, 0.0), Point(3.466666666666667, 0.0), Point(4.083333333333334, 0.0), Point(4.6000000000000005, 0.0), Point(10, 0.0)], Point(10, 0.0)), 311.8395880801952)]\n",
      "append!(plans[agent], [res[findfirst((x->(#= /home/sam/git-clones/Y4-Diss/code/julia/src/parallelPlanner.jl:93 =#\n",
      "                        x == agent)), parallel_agents)]]) = Any[Individual(Phenotype(Point(0, 6.0), Point[Point(0, 6.0), Point(0.4166666666666667, 6.0), Point(0.8333333333333334, 6.0), Point(2.25, 6.0), Point(3.1666666666666665, 6.0), Point(3.9833333333333334, 6.0), Point(4.8, 6.0), Point(10, 6.0)], Point(10, 6.0)), 10.0)]\n",
      "plotting routes in (3, 2)\n",
      "parallel_agents = pathGroupings[microPath] = [4, 1, 3]\n",
      "Planned for this goalset\n",
      "(start, goal, c) = (Point(0, 0.0), Point(14, 0.0), 1)\n",
      "(start, goal, c) = (Point(0, 4.0), Point(14, 4.0), 2)\n",
      "(start, goal, c) = (Point(0, 8.0), Point(14, 8.0), 3)\n",
      "fetching results\n",
      "l + α * l1 + β * l2 = 434.12919075\n",
      "l + α * l1 + β * l2 = 14.0\n",
      "l + α * l1 + β * l2 = 14.0\n",
      "Found intersection (true, (Point[Point(0, 0.0), Point(0.78125, 0.0), Point(1.5734375, 0.0), Point(2.36318359375, 0.0)], Point[Point(0.0, 0.0), Point(0.0, 0.0), Point(0.0, 0.0)]))\n",
      "Intersection\n",
      "abs(bezLength(c1_to_intersect) - bezLength(c2_to_intersect)) < 3.5 = false\n",
      "abs(bezLength(c1_to_intersect) - bezLength(c2_to_intersect)) = 9.654850260416667\n",
      "\"Final solution $(P_filtered[1])\" = \"Final solution Individual(Phenotype(Point(0, 0.0), Point[Point(0, 0.0), Point(6.25, 0.0), Point(13.2, 0.0), Point(14, 0.0)], Point(14, 0.0)), 434.12919075)\"\n",
      "\"Final solution $(P_2filtered[1])\" = \"Final solution Individual(Phenotype(Point(0, 4.0), Point[Point(0, 4.0), Point(2.175, 4.0), Point(3.55, 4.0), Point(4.625, 4.0), Point(6.7, 4.0), Point(14, 4.0)], Point(14, 4.0)), 14.0)\"\n",
      "\"Final solution $(P_2filtered[1])\" = \"Final solution Individual(Phenotype(Point(0, 8.0), Point[Point(0, 8.0), Point(6.8, 8.0), Point(14, 8.0)], Point(14, 8.0)), 14.0)\"\n",
      "res = PCGA(starts, goals, road, n_gens = 0, n = 1, selection_method = \"roulette\", mutation_method = \"uniform\") = Individual[Individual(Phenotype(Point(0, 0.0), Point[Point(0, 0.0), Point(6.25, 0.0), Point(13.2, 0.0), Point(14, 0.0)], Point(14, 0.0)), 434.12919075), Individual(Phenotype(Point(0, 4.0), Point[Point(0, 4.0), Point(2.175, 4.0), Point(3.55, 4.0), Point(4.625, 4.0), Point(6.7, 4.0), Point(14, 4.0)], Point(14, 4.0)), 14.0), Individual(Phenotype(Point(0, 8.0), Point[Point(0, 8.0), Point(6.8, 8.0), Point(14, 8.0)], Point(14, 8.0)), 14.0)]\n",
      "append!(plans[agent], [res[findfirst((x->(#= /home/sam/git-clones/Y4-Diss/code/julia/src/parallelPlanner.jl:93 =#\n",
      "                        x == agent)), parallel_agents)]]) = Any[Individual(Phenotype(Point(0, 0.0), Point[Point(0, 0.0), Point(6.25, 0.0), Point(13.2, 0.0), Point(14, 0.0)], Point(14, 0.0)), 434.12919075)]\n",
      "append!(plans[agent], [res[findfirst((x->(#= /home/sam/git-clones/Y4-Diss/code/julia/src/parallelPlanner.jl:93 =#\n",
      "                        x == agent)), parallel_agents)]]) = Any[Individual(Phenotype(Point(0, 6.0), Point[Point(0, 6.0), Point(0.4166666666666667, 6.0), Point(0.8333333333333334, 6.0), Point(2.25, 6.0), Point(3.1666666666666665, 6.0), Point(3.9833333333333334, 6.0), Point(4.8, 6.0), Point(10, 6.0)], Point(10, 6.0)), 10.0), Individual(Phenotype(Point(0, 4.0), Point[Point(0, 4.0), Point(2.175, 4.0), Point(3.55, 4.0), Point(4.625, 4.0), Point(6.7, 4.0), Point(14, 4.0)], Point(14, 4.0)), 14.0)]\n",
      "append!(plans[agent], [res[findfirst((x->(#= /home/sam/git-clones/Y4-Diss/code/julia/src/parallelPlanner.jl:93 =#\n",
      "                        x == agent)), parallel_agents)]]) = Any[Individual(Phenotype(Point(0, 0.0), Point[Point(0, 0.0), Point(0.9166666666666666, 0.0), Point(1.4333333333333333, 0.0), Point(2.95, 0.0), Point(3.466666666666667, 0.0), Point(4.083333333333334, 0.0), Point(4.6000000000000005, 0.0), Point(10, 0.0)], Point(10, 0.0)), 311.8395880801952), Individual(Phenotype(Point(0, 8.0), Point[Point(0, 8.0), Point(6.8, 8.0), Point(14, 8.0)], Point(14, 8.0)), 14.0)]\n",
      "plotting routes in (2, 5)\n",
      "parallel_agents = pathGroupings[microPath] = [4, 1, 3]\n",
      "Planned for this goalset\n",
      "(start, goal, c) = (Point(0, 0.0), Point(10, 0.0), 1)\n",
      "(start, goal, c) = (Point(0, 4.0), Point(10, 4.0), 2)\n",
      "(start, goal, c) = (Point(0, 8.0), Point(10, 8.0), 3)\n",
      "fetching results\n",
      "l + α * l1 + β * l2 = 310.0743\n",
      "l + α * l1 + β * l2 = 10.0\n",
      "l + α * l1 + β * l2 = 10.0\n",
      "Found intersection (true, (Point[Point(0, 0.0), Point(1.1625, 0.0), Point(2.1906250000000003, 0.0)], Point[Point(0.0, 0.0), Point(0.0, 0.0), Point(0.0, 0.0)]))\n",
      "Intersection\n",
      "abs(bezLength(c1_to_intersect) - bezLength(c2_to_intersect)) < 3.5 = false\n",
      "abs(bezLength(c1_to_intersect) - bezLength(c2_to_intersect)) = 11.955625\n",
      "\"Final solution $(P_filtered[1])\" = \"Final solution Individual(Phenotype(Point(0, 0.0), Point[Point(0, 0.0), Point(9.3, 0.0), Point(10, 0.0)], Point(10, 0.0)), 310.0743)\"\n",
      "\"Final solution $(P_2filtered[1])\" = \"Final solution Individual(Phenotype(Point(0, 4.0), Point[Point(0, 4.0), Point(0.7166666666666667, 4.0), Point(2.1333333333333333, 4.0), Point(2.55, 4.0), Point(3.4666666666666663, 4.0), Point(4.4833333333333325, 4.0), Point(4.8999999999999995, 4.0), Point(10, 4.0)], Point(10, 4.0)), 10.0)\"\n",
      "\"Final solution $(P_2filtered[1])\" = \"Final solution Individual(Phenotype(Point(0, 8.0), Point[Point(0, 8.0), Point(1.3, 8.0), Point(3.1, 8.0), Point(3.7, 8.0), Point(4.4, 8.0), Point(5.5, 8.0), Point(10, 8.0)], Point(10, 8.0)), 10.0)\"\n",
      "res = PCGA(starts, goals, road, n_gens = 0, n = 1, selection_method = \"roulette\", mutation_method = \"uniform\") = Individual[Individual(Phenotype(Point(0, 0.0), Point[Point(0, 0.0), Point(9.3, 0.0), Point(10, 0.0)], Point(10, 0.0)), 310.0743), Individual(Phenotype(Point(0, 4.0), Point[Point(0, 4.0), Point(0.7166666666666667, 4.0), Point(2.1333333333333333, 4.0), Point(2.55, 4.0), Point(3.4666666666666663, 4.0), Point(4.4833333333333325, 4.0), Point(4.8999999999999995, 4.0), Point(10, 4.0)], Point(10, 4.0)), 10.0), Individual(Phenotype(Point(0, 8.0), Point[Point(0, 8.0), Point(1.3, 8.0), Point(3.1, 8.0), Point(3.7, 8.0), Point(4.4, 8.0), Point(5.5, 8.0), Point(10, 8.0)], Point(10, 8.0)), 10.0)]\n",
      "append!(plans[agent], [res[findfirst((x->(#= /home/sam/git-clones/Y4-Diss/code/julia/src/parallelPlanner.jl:93 =#\n",
      "                        x == agent)), parallel_agents)]]) = Any[Individual(Phenotype(Point(0, 0.0), Point[Point(0, 0.0), Point(6.25, 0.0), Point(13.2, 0.0), Point(14, 0.0)], Point(14, 0.0)), 434.12919075), Individual(Phenotype(Point(0, 0.0), Point[Point(0, 0.0), Point(9.3, 0.0), Point(10, 0.0)], Point(10, 0.0)), 310.0743)]\n",
      "append!(plans[agent], [res[findfirst((x->(#= /home/sam/git-clones/Y4-Diss/code/julia/src/parallelPlanner.jl:93 =#\n",
      "                        x == agent)), parallel_agents)]]) = Any[Individual(Phenotype(Point(0, 6.0), Point[Point(0, 6.0), Point(0.4166666666666667, 6.0), Point(0.8333333333333334, 6.0), Point(2.25, 6.0), Point(3.1666666666666665, 6.0), Point(3.9833333333333334, 6.0), Point(4.8, 6.0), Point(10, 6.0)], Point(10, 6.0)), 10.0), Individual(Phenotype(Point(0, 4.0), Point[Point(0, 4.0), Point(2.175, 4.0), Point(3.55, 4.0), Point(4.625, 4.0), Point(6.7, 4.0), Point(14, 4.0)], Point(14, 4.0)), 14.0), Individual(Phenotype(Point(0, 4.0), Point[Point(0, 4.0), Point(0.7166666666666667, 4.0), Point(2.1333333333333333, 4.0), Point(2.55, 4.0), Point(3.4666666666666663, 4.0), Point(4.4833333333333325, 4.0), Point(4.8999999999999995, 4.0), Point(10, 4.0)], Point(10, 4.0)), 10.0)]\n",
      "append!(plans[agent], [res[findfirst((x->(#= /home/sam/git-clones/Y4-Diss/code/julia/src/parallelPlanner.jl:93 =#\n",
      "                        x == agent)), parallel_agents)]]) = Any[Individual(Phenotype(Point(0, 0.0), Point[Point(0, 0.0), Point(0.9166666666666666, 0.0), Point(1.4333333333333333, 0.0), Point(2.95, 0.0), Point(3.466666666666667, 0.0), Point(4.083333333333334, 0.0), Point(4.6000000000000005, 0.0), Point(10, 0.0)], Point(10, 0.0)), 311.8395880801952), Individual(Phenotype(Point(0, 8.0), Point[Point(0, 8.0), Point(6.8, 8.0), Point(14, 8.0)], Point(14, 8.0)), 14.0), Individual(Phenotype(Point(0, 8.0), Point[Point(0, 8.0), Point(1.3, 8.0), Point(3.1, 8.0), Point(3.7, 8.0), Point(4.4, 8.0), Point(5.5, 8.0), Point(10, 8.0)], Point(10, 8.0)), 10.0)]\n",
      "plotting routes in (5, 4)\n",
      "parallel_agents = pathGroupings[microPath] = [3, 1]\n",
      "Planned for this goalset\n",
      "(start, goal, c) = (Point(0, 0.0), Point(7, 0.0), 1)\n"
     ]
    },
    {
     "name": "stdout",
     "output_type": "stream",
     "text": [
      "(start, goal, c) = (Point(0, 6.0), Point(7, 6.0), 2)\n",
      "fetching results\n",
      "l + α * l1 + β * l2 = 217.9002274661565\n",
      "l + α * l1 + β * l2 = 7.0\n",
      "Found intersection (true, (Point[Point(0, 0.0), Point(0.175, 0.0), Point(0.42500000000000004, 0.0), Point(0.7, 0.0), Point(1.03125, 0.0), Point(1.428125, 0.0), Point(1.9109375000000002, 0.0)], Point[Point(0.0, 0.0), Point(0.0, 0.0), Point(0.0, 0.0)]))\n",
      "Intersection\n",
      "abs(bezLength(c1_to_intersect) - bezLength(c2_to_intersect)) < 3.5 = true\n",
      "abs(bezLength(c1_to_intersect) - bezLength(c2_to_intersect)) = 2.1831597222222223\n",
      "no non-colliding routes found\n",
      "\"Final solution $(P_2filtered[1])\" = \"Final solution Individual(Phenotype(Point(0, 6.0), Point[Point(0, 6.0), Point(1.4833333333333334, 6.0), Point(2.5666666666666664, 6.0), Point(4.449999999999999, 6.0), Point(7, 6.0)], Point(7, 6.0)), 7.0)\"\n",
      "res = PCGA(starts, goals, road, n_gens = 0, n = 1, selection_method = \"roulette\", mutation_method = \"uniform\") = Individual[Individual(Phenotype(Point(0, 0.0), Point[Point(0, 0.0), Point(0.35, 0.0), Point(1.0, 0.0), Point(1.55, 0.0), Point(2.9000000000000004, 0.0), Point(3.95, 0.0), Point(7, 0.0)], Point(7, 0.0)), 217.9002274661565), Individual(Phenotype(Point(0, 6.0), Point[Point(0, 6.0), Point(1.4833333333333334, 6.0), Point(2.5666666666666664, 6.0), Point(4.449999999999999, 6.0), Point(7, 6.0)], Point(7, 6.0)), 7.0)]\n",
      "append!(plans[agent], [res[findfirst((x->(#= /home/sam/git-clones/Y4-Diss/code/julia/src/parallelPlanner.jl:93 =#\n",
      "                        x == agent)), parallel_agents)]]) = Any[Individual(Phenotype(Point(0, 0.0), Point[Point(0, 0.0), Point(0.9166666666666666, 0.0), Point(1.4333333333333333, 0.0), Point(2.95, 0.0), Point(3.466666666666667, 0.0), Point(4.083333333333334, 0.0), Point(4.6000000000000005, 0.0), Point(10, 0.0)], Point(10, 0.0)), 311.8395880801952), Individual(Phenotype(Point(0, 8.0), Point[Point(0, 8.0), Point(6.8, 8.0), Point(14, 8.0)], Point(14, 8.0)), 14.0), Individual(Phenotype(Point(0, 8.0), Point[Point(0, 8.0), Point(1.3, 8.0), Point(3.1, 8.0), Point(3.7, 8.0), Point(4.4, 8.0), Point(5.5, 8.0), Point(10, 8.0)], Point(10, 8.0)), 10.0), Individual(Phenotype(Point(0, 0.0), Point[Point(0, 0.0), Point(0.35, 0.0), Point(1.0, 0.0), Point(1.55, 0.0), Point(2.9000000000000004, 0.0), Point(3.95, 0.0), Point(7, 0.0)], Point(7, 0.0)), 217.9002274661565)]\n",
      "append!(plans[agent], [res[findfirst((x->(#= /home/sam/git-clones/Y4-Diss/code/julia/src/parallelPlanner.jl:93 =#\n",
      "                        x == agent)), parallel_agents)]]) = Any[Individual(Phenotype(Point(0, 6.0), Point[Point(0, 6.0), Point(0.4166666666666667, 6.0), Point(0.8333333333333334, 6.0), Point(2.25, 6.0), Point(3.1666666666666665, 6.0), Point(3.9833333333333334, 6.0), Point(4.8, 6.0), Point(10, 6.0)], Point(10, 6.0)), 10.0), Individual(Phenotype(Point(0, 4.0), Point[Point(0, 4.0), Point(2.175, 4.0), Point(3.55, 4.0), Point(4.625, 4.0), Point(6.7, 4.0), Point(14, 4.0)], Point(14, 4.0)), 14.0), Individual(Phenotype(Point(0, 4.0), Point[Point(0, 4.0), Point(0.7166666666666667, 4.0), Point(2.1333333333333333, 4.0), Point(2.55, 4.0), Point(3.4666666666666663, 4.0), Point(4.4833333333333325, 4.0), Point(4.8999999999999995, 4.0), Point(10, 4.0)], Point(10, 4.0)), 10.0), Individual(Phenotype(Point(0, 6.0), Point[Point(0, 6.0), Point(1.4833333333333334, 6.0), Point(2.5666666666666664, 6.0), Point(4.449999999999999, 6.0), Point(7, 6.0)], Point(7, 6.0)), 7.0)]\n",
      "macroPath = [4, 5, 2]\n",
      "plotting routes in (4, 5)\n",
      "parallel_agents = pathGroupings[microPath] = [2]\n",
      "Planned for this goalset\n",
      "(start, goal, c) = (Point(0, 0.0), Point(7, 0.0), 1)\n",
      "fetching results\n",
      "l + α * l1 + β * l2 = 218.04111523511617\n",
      "Found intersection (true, (Point[Point(0, 0.0), Point(0.49583333333333335, 0.0), Point(0.8166666666666668, 0.0), Point(1.1, 0.0), Point(1.3958333333333335, 0.0), Point(1.7135416666666667, 0.0), Point(2.0453125, 0.0), Point(2.3994140625, 0.0)], Point[Point(0.0, 0.0), Point(0.0, 0.0), Point(0.0, 0.0)]))\n",
      "Intersection\n",
      "abs(bezLength(c1_to_intersect) - bezLength(c2_to_intersect)) < 3.5 = true\n",
      "abs(bezLength(c1_to_intersect) - bezLength(c2_to_intersect)) = 3.1927473958333334\n",
      "no non-colliding routes found\n",
      "res = PCGA(starts, goals, road, n_gens = 0, n = 1, selection_method = \"roulette\", mutation_method = \"uniform\") = Individual[Individual(Phenotype(Point(0, 0.0), Point[Point(0, 0.0), Point(0.9916666666666667, 0.0), Point(1.2833333333333334, 0.0), Point(1.975, 0.0), Point(2.7666666666666666, 0.0), Point(3.458333333333333, 0.0), Point(3.9499999999999997, 0.0), Point(7, 0.0)], Point(7, 0.0)), 218.04111523511617)]\n",
      "append!(plans[agent], [res[findfirst((x->(#= /home/sam/git-clones/Y4-Diss/code/julia/src/parallelPlanner.jl:93 =#\n",
      "                        x == agent)), parallel_agents)]]) = Any[Individual(Phenotype(Point(0, 0.0), Point[Point(0, 0.0), Point(0.9916666666666667, 0.0), Point(1.2833333333333334, 0.0), Point(1.975, 0.0), Point(2.7666666666666666, 0.0), Point(3.458333333333333, 0.0), Point(3.9499999999999997, 0.0), Point(7, 0.0)], Point(7, 0.0)), 218.04111523511617)]\n",
      "plotting routes in (5, 2)\n",
      "parallel_agents = pathGroupings[microPath] = [2]\n",
      "Planned for this goalset\n",
      "(start, goal, c) = (Point(0, 0.0), Point(10, 0.0), 1)\n",
      "fetching results\n",
      "l + α * l1 + β * l2 = 310.73179101\n",
      "Found intersection (true, (Point[Point(0, 0.0), Point(0.32916666666666666, 0.0), Point(0.6598958333333332, 0.0), Point(0.9884765624999998, 0.0), Point(1.3127766927083333, 0.0)], Point[Point(0.0, 0.0), Point(0.0, 0.0), Point(0.0, 0.0)]))\n",
      "Intersection\n",
      "abs(bezLength(c1_to_intersect) - bezLength(c2_to_intersect)) < 3.5 = false\n",
      "abs(bezLength(c1_to_intersect) - bezLength(c2_to_intersect)) = 4.604443359375\n",
      "\"Final solution $(P_filtered[1])\" = \"Final solution Individual(Phenotype(Point(0, 0.0), Point[Point(0, 0.0), Point(2.6333333333333333, 0.0), Point(5.366666666666667, 0.0), Point(6.300000000000001, 0.0), Point(10, 0.0)], Point(10, 0.0)), 310.73179101)\"\n",
      "res = PCGA(starts, goals, road, n_gens = 0, n = 1, selection_method = \"roulette\", mutation_method = \"uniform\") = Individual[Individual(Phenotype(Point(0, 0.0), Point[Point(0, 0.0), Point(2.6333333333333333, 0.0), Point(5.366666666666667, 0.0), Point(6.300000000000001, 0.0), Point(10, 0.0)], Point(10, 0.0)), 310.73179101)]\n",
      "append!(plans[agent], [res[findfirst((x->(#= /home/sam/git-clones/Y4-Diss/code/julia/src/parallelPlanner.jl:93 =#\n",
      "                        x == agent)), parallel_agents)]]) = Any[Individual(Phenotype(Point(0, 0.0), Point[Point(0, 0.0), Point(0.9916666666666667, 0.0), Point(1.2833333333333334, 0.0), Point(1.975, 0.0), Point(2.7666666666666666, 0.0), Point(3.458333333333333, 0.0), Point(3.9499999999999997, 0.0), Point(7, 0.0)], Point(7, 0.0)), 218.04111523511617), Individual(Phenotype(Point(0, 0.0), Point[Point(0, 0.0), Point(2.6333333333333333, 0.0), Point(5.366666666666667, 0.0), Point(6.300000000000001, 0.0), Point(10, 0.0)], Point(10, 0.0)), 310.73179101)]\n",
      "macroPath = [1, 3, 2, 5, 4]\n",
      "plotting routes in (1, 3)\n",
      "parallel_agents = pathGroupings[microPath] = [3, 1]\n",
      "Planned for this goalset\n",
      "(start, goal, c) = (Point(0, 0.0), Point(10, 0.0), 1)\n",
      "(start, goal, c) = (Point(0, 6.0), Point(10, 6.0), 2)\n",
      "fetching results\n",
      "l + α * l1 + β * l2 = 310.886717616153\n",
      "l + α * l1 + β * l2 = 10.0\n",
      "Found intersection (true, (Point[Point(0, 0.0), Point(0.4, 0.0), Point(0.8, 0.0), Point(1.1906250000000003, 0.0), Point(1.5695312500000003, 0.0), Point(1.9375000000000002, 0.0), Point(2.2968261718750003, 0.0)], Point[Point(0.0, 0.0), Point(0.0, 0.0), Point(0.0, 0.0)]))\n",
      "Intersection\n",
      "abs(bezLength(c1_to_intersect) - bezLength(c2_to_intersect)) < 3.5 = false\n",
      "abs(bezLength(c1_to_intersect) - bezLength(c2_to_intersect)) = 4.163492838541667\n",
      "\"Final solution $(P_filtered[1])\" = \"Final solution Individual(Phenotype(Point(0, 0.0), Point[Point(0, 0.0), Point(1.6, 0.0), Point(3.2, 0.0), Point(4.2, 0.0), Point(5.800000000000001, 0.0), Point(7.000000000000001, 0.0), Point(10, 0.0)], Point(10, 0.0)), 310.886717616153)\"\n",
      "\"Final solution $(P_2filtered[1])\" = \"Final solution Individual(Phenotype(Point(0, 6.0), Point[Point(0, 6.0), Point(6.4, 6.0), Point(10, 6.0)], Point(10, 6.0)), 10.0)\"\n",
      "res = PCGA(starts, goals, road, n_gens = 0, n = 1, selection_method = \"roulette\", mutation_method = \"uniform\") = Individual[Individual(Phenotype(Point(0, 0.0), Point[Point(0, 0.0), Point(1.6, 0.0), Point(3.2, 0.0), Point(4.2, 0.0), Point(5.800000000000001, 0.0), Point(7.000000000000001, 0.0), Point(10, 0.0)], Point(10, 0.0)), 310.886717616153), Individual(Phenotype(Point(0, 6.0), Point[Point(0, 6.0), Point(6.4, 6.0), Point(10, 6.0)], Point(10, 6.0)), 10.0)]\n",
      "append!(plans[agent], [res[findfirst((x->(#= /home/sam/git-clones/Y4-Diss/code/julia/src/parallelPlanner.jl:93 =#\n",
      "                        x == agent)), parallel_agents)]]) = Any[Individual(Phenotype(Point(0, 0.0), Point[Point(0, 0.0), Point(0.9166666666666666, 0.0), Point(1.4333333333333333, 0.0), Point(2.95, 0.0), Point(3.466666666666667, 0.0), Point(4.083333333333334, 0.0), Point(4.6000000000000005, 0.0), Point(10, 0.0)], Point(10, 0.0)), 311.8395880801952), Individual(Phenotype(Point(0, 8.0), Point[Point(0, 8.0), Point(6.8, 8.0), Point(14, 8.0)], Point(14, 8.0)), 14.0), Individual(Phenotype(Point(0, 8.0), Point[Point(0, 8.0), Point(1.3, 8.0), Point(3.1, 8.0), Point(3.7, 8.0), Point(4.4, 8.0), Point(5.5, 8.0), Point(10, 8.0)], Point(10, 8.0)), 10.0), Individual(Phenotype(Point(0, 0.0), Point[Point(0, 0.0), Point(0.35, 0.0), Point(1.0, 0.0), Point(1.55, 0.0), Point(2.9000000000000004, 0.0), Point(3.95, 0.0), Point(7, 0.0)], Point(7, 0.0)), 217.9002274661565), Individual(Phenotype(Point(0, 0.0), Point[Point(0, 0.0), Point(1.6, 0.0), Point(3.2, 0.0), Point(4.2, 0.0), Point(5.800000000000001, 0.0), Point(7.000000000000001, 0.0), Point(10, 0.0)], Point(10, 0.0)), 310.886717616153)]\n",
      "append!(plans[agent], [res[findfirst((x->(#= /home/sam/git-clones/Y4-Diss/code/julia/src/parallelPlanner.jl:93 =#\n",
      "                        x == agent)), parallel_agents)]]) = Any[Individual(Phenotype(Point(0, 6.0), Point[Point(0, 6.0), Point(0.4166666666666667, 6.0), Point(0.8333333333333334, 6.0), Point(2.25, 6.0), Point(3.1666666666666665, 6.0), Point(3.9833333333333334, 6.0), Point(4.8, 6.0), Point(10, 6.0)], Point(10, 6.0)), 10.0), Individual(Phenotype(Point(0, 4.0), Point[Point(0, 4.0), Point(2.175, 4.0), Point(3.55, 4.0), Point(4.625, 4.0), Point(6.7, 4.0), Point(14, 4.0)], Point(14, 4.0)), 14.0), Individual(Phenotype(Point(0, 4.0), Point[Point(0, 4.0), Point(0.7166666666666667, 4.0), Point(2.1333333333333333, 4.0), Point(2.55, 4.0), Point(3.4666666666666663, 4.0), Point(4.4833333333333325, 4.0), Point(4.8999999999999995, 4.0), Point(10, 4.0)], Point(10, 4.0)), 10.0), Individual(Phenotype(Point(0, 6.0), Point[Point(0, 6.0), Point(1.4833333333333334, 6.0), Point(2.5666666666666664, 6.0), Point(4.449999999999999, 6.0), Point(7, 6.0)], Point(7, 6.0)), 7.0), Individual(Phenotype(Point(0, 6.0), Point[Point(0, 6.0), Point(6.4, 6.0), Point(10, 6.0)], Point(10, 6.0)), 10.0)]\n",
      "plotting routes in (3, 2)\n",
      "parallel_agents = pathGroupings[microPath] = [4, 1, 3]\n",
      "Planned for this goalset\n",
      "(start, goal, c) = (Point(0, 0.0), Point(14, 0.0), 1)\n",
      "(start, goal, c) = (Point(0, 4.0), Point(14, 4.0), 2)\n",
      "(start, goal, c) = (Point(0, 8.0), Point(14, 8.0), 3)\n",
      "fetching results\n",
      "l + α * l1 + β * l2 = 435.9422177461485\n",
      "l + α * l1 + β * l2 = 14.0\n"
     ]
    },
    {
     "name": "stdout",
     "output_type": "stream",
     "text": [
      "l + α * l1 + β * l2 = 14.0\n",
      "Found intersection (true, (Point[Point(0, 0.0), Point(0.325, 0.0), Point(0.6375, 0.0), Point(0.9609375, 0.0), Point(1.302734375, 0.0), Point(1.6625, 0.0), Point(2.0378662109375005, 0.0)], Point[Point(0.0, 0.0), Point(0.0, 0.0), Point(0.0, 0.0)]))\n",
      "Intersection\n",
      "abs(bezLength(c1_to_intersect) - bezLength(c2_to_intersect)) < 3.5 = false\n",
      "abs(bezLength(c1_to_intersect) - bezLength(c2_to_intersect)) = 3.554532877604167\n",
      "\"Final solution $(P_filtered[1])\" = \"Final solution Individual(Phenotype(Point(0, 0.0), Point[Point(0, 0.0), Point(1.3, 0.0), Point(2.4000000000000004, 0.0), Point(4.800000000000001, 0.0), Point(5.9, 0.0), Point(7.4, 0.0), Point(14, 0.0)], Point(14, 0.0)), 435.9422177461485)\"\n",
      "\"Final solution $(P_2filtered[1])\" = \"Final solution Individual(Phenotype(Point(0, 4.0), Point[Point(0, 4.0), Point(1.95, 4.0), Point(7.3, 4.0), Point(14, 4.0)], Point(14, 4.0)), 14.0)\"\n",
      "\"Final solution $(P_2filtered[1])\" = \"Final solution Individual(Phenotype(Point(0, 8.0), Point[Point(0, 8.0), Point(1.2666666666666666, 8.0), Point(2.4333333333333336, 8.0), Point(4.800000000000001, 8.0), Point(14, 8.0)], Point(14, 8.0)), 14.0)\"\n",
      "res = PCGA(starts, goals, road, n_gens = 0, n = 1, selection_method = \"roulette\", mutation_method = \"uniform\") = Individual[Individual(Phenotype(Point(0, 0.0), Point[Point(0, 0.0), Point(1.3, 0.0), Point(2.4000000000000004, 0.0), Point(4.800000000000001, 0.0), Point(5.9, 0.0), Point(7.4, 0.0), Point(14, 0.0)], Point(14, 0.0)), 435.9422177461485), Individual(Phenotype(Point(0, 4.0), Point[Point(0, 4.0), Point(1.95, 4.0), Point(7.3, 4.0), Point(14, 4.0)], Point(14, 4.0)), 14.0), Individual(Phenotype(Point(0, 8.0), Point[Point(0, 8.0), Point(1.2666666666666666, 8.0), Point(2.4333333333333336, 8.0), Point(4.800000000000001, 8.0), Point(14, 8.0)], Point(14, 8.0)), 14.0)]\n",
      "append!(plans[agent], [res[findfirst((x->(#= /home/sam/git-clones/Y4-Diss/code/julia/src/parallelPlanner.jl:93 =#\n",
      "                        x == agent)), parallel_agents)]]) = Any[Individual(Phenotype(Point(0, 0.0), Point[Point(0, 0.0), Point(6.25, 0.0), Point(13.2, 0.0), Point(14, 0.0)], Point(14, 0.0)), 434.12919075), Individual(Phenotype(Point(0, 0.0), Point[Point(0, 0.0), Point(9.3, 0.0), Point(10, 0.0)], Point(10, 0.0)), 310.0743), Individual(Phenotype(Point(0, 0.0), Point[Point(0, 0.0), Point(1.3, 0.0), Point(2.4000000000000004, 0.0), Point(4.800000000000001, 0.0), Point(5.9, 0.0), Point(7.4, 0.0), Point(14, 0.0)], Point(14, 0.0)), 435.9422177461485)]\n",
      "append!(plans[agent], [res[findfirst((x->(#= /home/sam/git-clones/Y4-Diss/code/julia/src/parallelPlanner.jl:93 =#\n",
      "                        x == agent)), parallel_agents)]]) = Any[Individual(Phenotype(Point(0, 6.0), Point[Point(0, 6.0), Point(0.4166666666666667, 6.0), Point(0.8333333333333334, 6.0), Point(2.25, 6.0), Point(3.1666666666666665, 6.0), Point(3.9833333333333334, 6.0), Point(4.8, 6.0), Point(10, 6.0)], Point(10, 6.0)), 10.0), Individual(Phenotype(Point(0, 4.0), Point[Point(0, 4.0), Point(2.175, 4.0), Point(3.55, 4.0), Point(4.625, 4.0), Point(6.7, 4.0), Point(14, 4.0)], Point(14, 4.0)), 14.0), Individual(Phenotype(Point(0, 4.0), Point[Point(0, 4.0), Point(0.7166666666666667, 4.0), Point(2.1333333333333333, 4.0), Point(2.55, 4.0), Point(3.4666666666666663, 4.0), Point(4.4833333333333325, 4.0), Point(4.8999999999999995, 4.0), Point(10, 4.0)], Point(10, 4.0)), 10.0), Individual(Phenotype(Point(0, 6.0), Point[Point(0, 6.0), Point(1.4833333333333334, 6.0), Point(2.5666666666666664, 6.0), Point(4.449999999999999, 6.0), Point(7, 6.0)], Point(7, 6.0)), 7.0), Individual(Phenotype(Point(0, 6.0), Point[Point(0, 6.0), Point(6.4, 6.0), Point(10, 6.0)], Point(10, 6.0)), 10.0), Individual(Phenotype(Point(0, 4.0), Point[Point(0, 4.0), Point(1.95, 4.0), Point(7.3, 4.0), Point(14, 4.0)], Point(14, 4.0)), 14.0)]\n",
      "append!(plans[agent], [res[findfirst((x->(#= /home/sam/git-clones/Y4-Diss/code/julia/src/parallelPlanner.jl:93 =#\n",
      "                        x == agent)), parallel_agents)]]) = Any[Individual(Phenotype(Point(0, 0.0), Point[Point(0, 0.0), Point(0.9166666666666666, 0.0), Point(1.4333333333333333, 0.0), Point(2.95, 0.0), Point(3.466666666666667, 0.0), Point(4.083333333333334, 0.0), Point(4.6000000000000005, 0.0), Point(10, 0.0)], Point(10, 0.0)), 311.8395880801952), Individual(Phenotype(Point(0, 8.0), Point[Point(0, 8.0), Point(6.8, 8.0), Point(14, 8.0)], Point(14, 8.0)), 14.0), Individual(Phenotype(Point(0, 8.0), Point[Point(0, 8.0), Point(1.3, 8.0), Point(3.1, 8.0), Point(3.7, 8.0), Point(4.4, 8.0), Point(5.5, 8.0), Point(10, 8.0)], Point(10, 8.0)), 10.0), Individual(Phenotype(Point(0, 0.0), Point[Point(0, 0.0), Point(0.35, 0.0), Point(1.0, 0.0), Point(1.55, 0.0), Point(2.9000000000000004, 0.0), Point(3.95, 0.0), Point(7, 0.0)], Point(7, 0.0)), 217.9002274661565), Individual(Phenotype(Point(0, 0.0), Point[Point(0, 0.0), Point(1.6, 0.0), Point(3.2, 0.0), Point(4.2, 0.0), Point(5.800000000000001, 0.0), Point(7.000000000000001, 0.0), Point(10, 0.0)], Point(10, 0.0)), 310.886717616153), Individual(Phenotype(Point(0, 8.0), Point[Point(0, 8.0), Point(1.2666666666666666, 8.0), Point(2.4333333333333336, 8.0), Point(4.800000000000001, 8.0), Point(14, 8.0)], Point(14, 8.0)), 14.0)]\n",
      "plotting routes in (2, 5)\n",
      "parallel_agents = pathGroupings[microPath] = [4, 1, 3]\n",
      "Planned for this goalset\n",
      "(start, goal, c) = (Point(0, 0.0), Point(10, 0.0), 1)\n",
      "(start, goal, c) = (Point(0, 4.0), Point(10, 4.0), 2)\n",
      "(start, goal, c) = (Point(0, 8.0), Point(10, 8.0), 3)\n",
      "fetching results\n",
      "l + α * l1 + β * l2 = 310.51126124999996\n",
      "l + α * l1 + β * l2 = 10.0\n",
      "l + α * l1 + β * l2 = 10.0\n",
      "Found intersection (true, (Point[Point(0, 0.0), Point(0.5875, 0.0), Point(1.29375, 0.0), Point(2.07578125, 0.0)], Point[Point(0.0, 0.0), Point(0.0, 0.0), Point(0.0, 0.0)]))\n",
      "Intersection\n",
      "abs(bezLength(c1_to_intersect) - bezLength(c2_to_intersect)) < 3.5 = false\n",
      "abs(bezLength(c1_to_intersect) - bezLength(c2_to_intersect)) = 4.425781250000001\n",
      "\"Final solution $(P_filtered[1])\" = \"Final solution Individual(Phenotype(Point(0, 0.0), Point[Point(0, 0.0), Point(2.35, 0.0), Point(6.6, 0.0), Point(10, 0.0)], Point(10, 0.0)), 310.51126124999996)\"\n",
      "\"Final solution $(P_2filtered[1])\" = \"Final solution Individual(Phenotype(Point(0, 4.0), Point[Point(0, 4.0), Point(9.2, 4.0), Point(10, 4.0)], Point(10, 4.0)), 10.0)\"\n",
      "\"Final solution $(P_2filtered[1])\" = \"Final solution Individual(Phenotype(Point(0, 8.0), Point[Point(0, 8.0), Point(2.3333333333333335, 8.0), Point(4.366666666666667, 8.0), Point(5.6000000000000005, 8.0), Point(10, 8.0)], Point(10, 8.0)), 10.0)\"\n",
      "res = PCGA(starts, goals, road, n_gens = 0, n = 1, selection_method = \"roulette\", mutation_method = \"uniform\") = Individual[Individual(Phenotype(Point(0, 0.0), Point[Point(0, 0.0), Point(2.35, 0.0), Point(6.6, 0.0), Point(10, 0.0)], Point(10, 0.0)), 310.51126124999996), Individual(Phenotype(Point(0, 4.0), Point[Point(0, 4.0), Point(9.2, 4.0), Point(10, 4.0)], Point(10, 4.0)), 10.0), Individual(Phenotype(Point(0, 8.0), Point[Point(0, 8.0), Point(2.3333333333333335, 8.0), Point(4.366666666666667, 8.0), Point(5.6000000000000005, 8.0), Point(10, 8.0)], Point(10, 8.0)), 10.0)]\n",
      "append!(plans[agent], [res[findfirst((x->(#= /home/sam/git-clones/Y4-Diss/code/julia/src/parallelPlanner.jl:93 =#\n",
      "                        x == agent)), parallel_agents)]]) = Any[Individual(Phenotype(Point(0, 0.0), Point[Point(0, 0.0), Point(6.25, 0.0), Point(13.2, 0.0), Point(14, 0.0)], Point(14, 0.0)), 434.12919075), Individual(Phenotype(Point(0, 0.0), Point[Point(0, 0.0), Point(9.3, 0.0), Point(10, 0.0)], Point(10, 0.0)), 310.0743), Individual(Phenotype(Point(0, 0.0), Point[Point(0, 0.0), Point(1.3, 0.0), Point(2.4000000000000004, 0.0), Point(4.800000000000001, 0.0), Point(5.9, 0.0), Point(7.4, 0.0), Point(14, 0.0)], Point(14, 0.0)), 435.9422177461485), Individual(Phenotype(Point(0, 0.0), Point[Point(0, 0.0), Point(2.35, 0.0), Point(6.6, 0.0), Point(10, 0.0)], Point(10, 0.0)), 310.51126124999996)]\n",
      "append!(plans[agent], [res[findfirst((x->(#= /home/sam/git-clones/Y4-Diss/code/julia/src/parallelPlanner.jl:93 =#\n",
      "                        x == agent)), parallel_agents)]]) = Any[Individual(Phenotype(Point(0, 6.0), Point[Point(0, 6.0), Point(0.4166666666666667, 6.0), Point(0.8333333333333334, 6.0), Point(2.25, 6.0), Point(3.1666666666666665, 6.0), Point(3.9833333333333334, 6.0), Point(4.8, 6.0), Point(10, 6.0)], Point(10, 6.0)), 10.0), Individual(Phenotype(Point(0, 4.0), Point[Point(0, 4.0), Point(2.175, 4.0), Point(3.55, 4.0), Point(4.625, 4.0), Point(6.7, 4.0), Point(14, 4.0)], Point(14, 4.0)), 14.0), Individual(Phenotype(Point(0, 4.0), Point[Point(0, 4.0), Point(0.7166666666666667, 4.0), Point(2.1333333333333333, 4.0), Point(2.55, 4.0), Point(3.4666666666666663, 4.0), Point(4.4833333333333325, 4.0), Point(4.8999999999999995, 4.0), Point(10, 4.0)], Point(10, 4.0)), 10.0), Individual(Phenotype(Point(0, 6.0), Point[Point(0, 6.0), Point(1.4833333333333334, 6.0), Point(2.5666666666666664, 6.0), Point(4.449999999999999, 6.0), Point(7, 6.0)], Point(7, 6.0)), 7.0), Individual(Phenotype(Point(0, 6.0), Point[Point(0, 6.0), Point(6.4, 6.0), Point(10, 6.0)], Point(10, 6.0)), 10.0), Individual(Phenotype(Point(0, 4.0), Point[Point(0, 4.0), Point(1.95, 4.0), Point(7.3, 4.0), Point(14, 4.0)], Point(14, 4.0)), 14.0), Individual(Phenotype(Point(0, 4.0), Point[Point(0, 4.0), Point(9.2, 4.0), Point(10, 4.0)], Point(10, 4.0)), 10.0)]\n",
      "append!(plans[agent], [res[findfirst((x->(#= /home/sam/git-clones/Y4-Diss/code/julia/src/parallelPlanner.jl:93 =#\n",
      "                        x == agent)), parallel_agents)]]) = Any[Individual(Phenotype(Point(0, 0.0), Point[Point(0, 0.0), Point(0.9166666666666666, 0.0), Point(1.4333333333333333, 0.0), Point(2.95, 0.0), Point(3.466666666666667, 0.0), Point(4.083333333333334, 0.0), Point(4.6000000000000005, 0.0), Point(10, 0.0)], Point(10, 0.0)), 311.8395880801952), Individual(Phenotype(Point(0, 8.0), Point[Point(0, 8.0), Point(6.8, 8.0), Point(14, 8.0)], Point(14, 8.0)), 14.0), Individual(Phenotype(Point(0, 8.0), Point[Point(0, 8.0), Point(1.3, 8.0), Point(3.1, 8.0), Point(3.7, 8.0), Point(4.4, 8.0), Point(5.5, 8.0), Point(10, 8.0)], Point(10, 8.0)), 10.0), Individual(Phenotype(Point(0, 0.0), Point[Point(0, 0.0), Point(0.35, 0.0), Point(1.0, 0.0), Point(1.55, 0.0), Point(2.9000000000000004, 0.0), Point(3.95, 0.0), Point(7, 0.0)], Point(7, 0.0)), 217.9002274661565), Individual(Phenotype(Point(0, 0.0), Point[Point(0, 0.0), Point(1.6, 0.0), Point(3.2, 0.0), Point(4.2, 0.0), Point(5.800000000000001, 0.0), Point(7.000000000000001, 0.0), Point(10, 0.0)], Point(10, 0.0)), 310.886717616153), Individual(Phenotype(Point(0, 8.0), Point[Point(0, 8.0), Point(1.2666666666666666, 8.0), Point(2.4333333333333336, 8.0), Point(4.800000000000001, 8.0), Point(14, 8.0)], Point(14, 8.0)), 14.0), Individual(Phenotype(Point(0, 8.0), Point[Point(0, 8.0), Point(2.3333333333333335, 8.0), Point(4.366666666666667, 8.0), Point(5.6000000000000005, 8.0), Point(10, 8.0)], Point(10, 8.0)), 10.0)]\n",
      "plotting routes in (5, 4)\n",
      "parallel_agents = pathGroupings[microPath] = [3, 1]\n",
      "Planned for this goalset\n",
      "(start, goal, c) = (Point(0, 0.0), Point(7, 0.0), 1)\n",
      "(start, goal, c) = (Point(0, 6.0), Point(7, 6.0), 2)\n",
      "fetching results\n",
      "l + α * l1 + β * l2 = 217.33515\n"
     ]
    },
    {
     "name": "stdout",
     "output_type": "stream",
     "text": [
      "l + α * l1 + β * l2 = 7.0\n",
      "Found intersection (true, (Point[Point(0, 0.0), Point(0.9125, 0.0), Point(1.8062500000000001, 0.0)], Point[Point(0.0, 0.0), Point(0.0, 0.0), Point(0.0, 0.0)]))\n",
      "Intersection\n",
      "abs(bezLength(c1_to_intersect) - bezLength(c2_to_intersect)) < 3.5 = false\n",
      "abs(bezLength(c1_to_intersect) - bezLength(c2_to_intersect)) = 5.09125\n",
      "\"Final solution $(P_filtered[1])\" = \"Final solution Individual(Phenotype(Point(0, 0.0), Point[Point(0, 0.0), Point(3.65, 0.0), Point(7, 0.0)], Point(7, 0.0)), 217.33515)\"\n",
      "\"Final solution $(P_2filtered[1])\" = \"Final solution Individual(Phenotype(Point(0, 6.0), Point[Point(0, 6.0), Point(3.275, 6.0), Point(6.65, 6.0), Point(7, 6.0)], Point(7, 6.0)), 7.0)\"\n",
      "res = PCGA(starts, goals, road, n_gens = 0, n = 1, selection_method = \"roulette\", mutation_method = \"uniform\") = Individual[Individual(Phenotype(Point(0, 0.0), Point[Point(0, 0.0), Point(3.65, 0.0), Point(7, 0.0)], Point(7, 0.0)), 217.33515), Individual(Phenotype(Point(0, 6.0), Point[Point(0, 6.0), Point(3.275, 6.0), Point(6.65, 6.0), Point(7, 6.0)], Point(7, 6.0)), 7.0)]\n",
      "append!(plans[agent], [res[findfirst((x->(#= /home/sam/git-clones/Y4-Diss/code/julia/src/parallelPlanner.jl:93 =#\n",
      "                        x == agent)), parallel_agents)]]) = Any[Individual(Phenotype(Point(0, 0.0), Point[Point(0, 0.0), Point(0.9166666666666666, 0.0), Point(1.4333333333333333, 0.0), Point(2.95, 0.0), Point(3.466666666666667, 0.0), Point(4.083333333333334, 0.0), Point(4.6000000000000005, 0.0), Point(10, 0.0)], Point(10, 0.0)), 311.8395880801952), Individual(Phenotype(Point(0, 8.0), Point[Point(0, 8.0), Point(6.8, 8.0), Point(14, 8.0)], Point(14, 8.0)), 14.0), Individual(Phenotype(Point(0, 8.0), Point[Point(0, 8.0), Point(1.3, 8.0), Point(3.1, 8.0), Point(3.7, 8.0), Point(4.4, 8.0), Point(5.5, 8.0), Point(10, 8.0)], Point(10, 8.0)), 10.0), Individual(Phenotype(Point(0, 0.0), Point[Point(0, 0.0), Point(0.35, 0.0), Point(1.0, 0.0), Point(1.55, 0.0), Point(2.9000000000000004, 0.0), Point(3.95, 0.0), Point(7, 0.0)], Point(7, 0.0)), 217.9002274661565), Individual(Phenotype(Point(0, 0.0), Point[Point(0, 0.0), Point(1.6, 0.0), Point(3.2, 0.0), Point(4.2, 0.0), Point(5.800000000000001, 0.0), Point(7.000000000000001, 0.0), Point(10, 0.0)], Point(10, 0.0)), 310.886717616153), Individual(Phenotype(Point(0, 8.0), Point[Point(0, 8.0), Point(1.2666666666666666, 8.0), Point(2.4333333333333336, 8.0), Point(4.800000000000001, 8.0), Point(14, 8.0)], Point(14, 8.0)), 14.0), Individual(Phenotype(Point(0, 8.0), Point[Point(0, 8.0), Point(2.3333333333333335, 8.0), Point(4.366666666666667, 8.0), Point(5.6000000000000005, 8.0), Point(10, 8.0)], Point(10, 8.0)), 10.0), Individual(Phenotype(Point(0, 0.0), Point[Point(0, 0.0), Point(3.65, 0.0), Point(7, 0.0)], Point(7, 0.0)), 217.33515)]\n",
      "append!(plans[agent], [res[findfirst((x->(#= /home/sam/git-clones/Y4-Diss/code/julia/src/parallelPlanner.jl:93 =#\n",
      "                        x == agent)), parallel_agents)]]) = Any[Individual(Phenotype(Point(0, 6.0), Point[Point(0, 6.0), Point(0.4166666666666667, 6.0), Point(0.8333333333333334, 6.0), Point(2.25, 6.0), Point(3.1666666666666665, 6.0), Point(3.9833333333333334, 6.0), Point(4.8, 6.0), Point(10, 6.0)], Point(10, 6.0)), 10.0), Individual(Phenotype(Point(0, 4.0), Point[Point(0, 4.0), Point(2.175, 4.0), Point(3.55, 4.0), Point(4.625, 4.0), Point(6.7, 4.0), Point(14, 4.0)], Point(14, 4.0)), 14.0), Individual(Phenotype(Point(0, 4.0), Point[Point(0, 4.0), Point(0.7166666666666667, 4.0), Point(2.1333333333333333, 4.0), Point(2.55, 4.0), Point(3.4666666666666663, 4.0), Point(4.4833333333333325, 4.0), Point(4.8999999999999995, 4.0), Point(10, 4.0)], Point(10, 4.0)), 10.0), Individual(Phenotype(Point(0, 6.0), Point[Point(0, 6.0), Point(1.4833333333333334, 6.0), Point(2.5666666666666664, 6.0), Point(4.449999999999999, 6.0), Point(7, 6.0)], Point(7, 6.0)), 7.0), Individual(Phenotype(Point(0, 6.0), Point[Point(0, 6.0), Point(6.4, 6.0), Point(10, 6.0)], Point(10, 6.0)), 10.0), Individual(Phenotype(Point(0, 4.0), Point[Point(0, 4.0), Point(1.95, 4.0), Point(7.3, 4.0), Point(14, 4.0)], Point(14, 4.0)), 14.0), Individual(Phenotype(Point(0, 4.0), Point[Point(0, 4.0), Point(9.2, 4.0), Point(10, 4.0)], Point(10, 4.0)), 10.0), Individual(Phenotype(Point(0, 6.0), Point[Point(0, 6.0), Point(3.275, 6.0), Point(6.65, 6.0), Point(7, 6.0)], Point(7, 6.0)), 7.0)]\n",
      "macroPath = [3, 2, 5]\n",
      "plotting routes in (3, 2)\n",
      "parallel_agents = pathGroupings[microPath] = [4, 1, 3]\n",
      "Planned for this goalset\n",
      "(start, goal, c) = (Point(0, 0.0), Point(14, 0.0), 1)\n",
      "(start, goal, c) = (Point(0, 4.0), Point(14, 4.0), 2)\n",
      "(start, goal, c) = (Point(0, 8.0), Point(14, 8.0), 3)\n",
      "fetching results\n",
      "l + α * l1 + β * l2 = 434.8287\n",
      "l + α * l1 + β * l2 = 14.0\n",
      "l + α * l1 + β * l2 = 14.0\n",
      "Found intersection (true, (Point[Point(0, 0.0), Point(0.7125, 0.0), Point(1.465625, 0.0)], Point[Point(0.0, 0.0), Point(0.0, 0.0), Point(0.0, 0.0)]))\n",
      "Intersection\n",
      "abs(bezLength(c1_to_intersect) - bezLength(c2_to_intersect)) < 3.5 = false\n",
      "abs(bezLength(c1_to_intersect) - bezLength(c2_to_intersect)) = 7.4506250000000005\n",
      "\"Final solution $(P_filtered[1])\" = \"Final solution Individual(Phenotype(Point(0, 0.0), Point[Point(0, 0.0), Point(5.7, 0.0), Point(14, 0.0)], Point(14, 0.0)), 434.8287)\"\n",
      "\"Final solution $(P_2filtered[1])\" = \"Final solution Individual(Phenotype(Point(0, 4.0), Point[Point(0, 4.0), Point(1.9833333333333334, 4.0), Point(3.7666666666666666, 4.0), Point(4.75, 4.0), Point(5.633333333333333, 4.0), Point(7.916666666666666, 4.0), Point(9.399999999999999, 4.0), Point(14, 4.0)], Point(14, 4.0)), 14.0)\"\n",
      "\"Final solution $(P_2filtered[1])\" = \"Final solution Individual(Phenotype(Point(0, 8.0), Point[Point(0, 8.0), Point(2.183333333333333, 8.0), Point(3.466666666666667, 8.0), Point(5.35, 8.0), Point(7.533333333333333, 8.0), Point(8.816666666666666, 8.0), Point(9.5, 8.0), Point(14, 8.0)], Point(14, 8.0)), 14.0)\"\n",
      "res = PCGA(starts, goals, road, n_gens = 0, n = 1, selection_method = \"roulette\", mutation_method = \"uniform\") = Individual[Individual(Phenotype(Point(0, 0.0), Point[Point(0, 0.0), Point(5.7, 0.0), Point(14, 0.0)], Point(14, 0.0)), 434.8287), Individual(Phenotype(Point(0, 4.0), Point[Point(0, 4.0), Point(1.9833333333333334, 4.0), Point(3.7666666666666666, 4.0), Point(4.75, 4.0), Point(5.633333333333333, 4.0), Point(7.916666666666666, 4.0), Point(9.399999999999999, 4.0), Point(14, 4.0)], Point(14, 4.0)), 14.0), Individual(Phenotype(Point(0, 8.0), Point[Point(0, 8.0), Point(2.183333333333333, 8.0), Point(3.466666666666667, 8.0), Point(5.35, 8.0), Point(7.533333333333333, 8.0), Point(8.816666666666666, 8.0), Point(9.5, 8.0), Point(14, 8.0)], Point(14, 8.0)), 14.0)]\n",
      "append!(plans[agent], [res[findfirst((x->(#= /home/sam/git-clones/Y4-Diss/code/julia/src/parallelPlanner.jl:93 =#\n",
      "                        x == agent)), parallel_agents)]]) = Any[Individual(Phenotype(Point(0, 0.0), Point[Point(0, 0.0), Point(6.25, 0.0), Point(13.2, 0.0), Point(14, 0.0)], Point(14, 0.0)), 434.12919075), Individual(Phenotype(Point(0, 0.0), Point[Point(0, 0.0), Point(9.3, 0.0), Point(10, 0.0)], Point(10, 0.0)), 310.0743), Individual(Phenotype(Point(0, 0.0), Point[Point(0, 0.0), Point(1.3, 0.0), Point(2.4000000000000004, 0.0), Point(4.800000000000001, 0.0), Point(5.9, 0.0), Point(7.4, 0.0), Point(14, 0.0)], Point(14, 0.0)), 435.9422177461485), Individual(Phenotype(Point(0, 0.0), Point[Point(0, 0.0), Point(2.35, 0.0), Point(6.6, 0.0), Point(10, 0.0)], Point(10, 0.0)), 310.51126124999996), Individual(Phenotype(Point(0, 0.0), Point[Point(0, 0.0), Point(5.7, 0.0), Point(14, 0.0)], Point(14, 0.0)), 434.8287)]\n",
      "append!(plans[agent], [res[findfirst((x->(#= /home/sam/git-clones/Y4-Diss/code/julia/src/parallelPlanner.jl:93 =#\n",
      "                        x == agent)), parallel_agents)]]) = Any[Individual(Phenotype(Point(0, 6.0), Point[Point(0, 6.0), Point(0.4166666666666667, 6.0), Point(0.8333333333333334, 6.0), Point(2.25, 6.0), Point(3.1666666666666665, 6.0), Point(3.9833333333333334, 6.0), Point(4.8, 6.0), Point(10, 6.0)], Point(10, 6.0)), 10.0), Individual(Phenotype(Point(0, 4.0), Point[Point(0, 4.0), Point(2.175, 4.0), Point(3.55, 4.0), Point(4.625, 4.0), Point(6.7, 4.0), Point(14, 4.0)], Point(14, 4.0)), 14.0), Individual(Phenotype(Point(0, 4.0), Point[Point(0, 4.0), Point(0.7166666666666667, 4.0), Point(2.1333333333333333, 4.0), Point(2.55, 4.0), Point(3.4666666666666663, 4.0), Point(4.4833333333333325, 4.0), Point(4.8999999999999995, 4.0), Point(10, 4.0)], Point(10, 4.0)), 10.0), Individual(Phenotype(Point(0, 6.0), Point[Point(0, 6.0), Point(1.4833333333333334, 6.0), Point(2.5666666666666664, 6.0), Point(4.449999999999999, 6.0), Point(7, 6.0)], Point(7, 6.0)), 7.0), Individual(Phenotype(Point(0, 6.0), Point[Point(0, 6.0), Point(6.4, 6.0), Point(10, 6.0)], Point(10, 6.0)), 10.0), Individual(Phenotype(Point(0, 4.0), Point[Point(0, 4.0), Point(1.95, 4.0), Point(7.3, 4.0), Point(14, 4.0)], Point(14, 4.0)), 14.0), Individual(Phenotype(Point(0, 4.0), Point[Point(0, 4.0), Point(9.2, 4.0), Point(10, 4.0)], Point(10, 4.0)), 10.0), Individual(Phenotype(Point(0, 6.0), Point[Point(0, 6.0), Point(3.275, 6.0), Point(6.65, 6.0), Point(7, 6.0)], Point(7, 6.0)), 7.0), Individual(Phenotype(Point(0, 4.0), Point[Point(0, 4.0), Point(1.9833333333333334, 4.0), Point(3.7666666666666666, 4.0), Point(4.75, 4.0), Point(5.633333333333333, 4.0), Point(7.916666666666666, 4.0), Point(9.399999999999999, 4.0), Point(14, 4.0)], Point(14, 4.0)), 14.0)]\n",
      "append!(plans[agent], [res[findfirst((x->(#= /home/sam/git-clones/Y4-Diss/code/julia/src/parallelPlanner.jl:93 =#\n",
      "                        x == agent)), parallel_agents)]]) = Any[Individual(Phenotype(Point(0, 0.0), Point[Point(0, 0.0), Point(0.9166666666666666, 0.0), Point(1.4333333333333333, 0.0), Point(2.95, 0.0), Point(3.466666666666667, 0.0), Point(4.083333333333334, 0.0), Point(4.6000000000000005, 0.0), Point(10, 0.0)], Point(10, 0.0)), 311.8395880801952), Individual(Phenotype(Point(0, 8.0), Point[Point(0, 8.0), Point(6.8, 8.0), Point(14, 8.0)], Point(14, 8.0)), 14.0), Individual(Phenotype(Point(0, 8.0), Point[Point(0, 8.0), Point(1.3, 8.0), Point(3.1, 8.0), Point(3.7, 8.0), Point(4.4, 8.0), Point(5.5, 8.0), Point(10, 8.0)], Point(10, 8.0)), 10.0), Individual(Phenotype(Point(0, 0.0), Point[Point(0, 0.0), Point(0.35, 0.0), Point(1.0, 0.0), Point(1.55, 0.0), Point(2.9000000000000004, 0.0), Point(3.95, 0.0), Point(7, 0.0)], Point(7, 0.0)), 217.9002274661565), Individual(Phenotype(Point(0, 0.0), Point[Point(0, 0.0), Point(1.6, 0.0), Point(3.2, 0.0), Point(4.2, 0.0), Point(5.800000000000001, 0.0), Point(7.000000000000001, 0.0), Point(10, 0.0)], Point(10, 0.0)), 310.886717616153), Individual(Phenotype(Point(0, 8.0), Point[Point(0, 8.0), Point(1.2666666666666666, 8.0), Point(2.4333333333333336, 8.0), Point(4.800000000000001, 8.0), Point(14, 8.0)], Point(14, 8.0)), 14.0), Individual(Phenotype(Point(0, 8.0), Point[Point(0, 8.0), Point(2.3333333333333335, 8.0), Point(4.366666666666667, 8.0), Point(5.6000000000000005, 8.0), Point(10, 8.0)], Point(10, 8.0)), 10.0), Individual(Phenotype(Point(0, 0.0), Point[Point(0, 0.0), Point(3.65, 0.0), Point(7, 0.0)], Point(7, 0.0)), 217.33515), Individual(Phenotype(Point(0, 8.0), Point[Point(0, 8.0), Point(2.183333333333333, 8.0), Point(3.466666666666667, 8.0), Point(5.35, 8.0), Point(7.533333333333333, 8.0), Point(8.816666666666666, 8.0), Point(9.5, 8.0), Point(14, 8.0)], Point(14, 8.0)), 14.0)]\n",
      "plotting routes in (2, 5)\n",
      "parallel_agents = pathGroupings[microPath] = [4, 1, 3]\n",
      "Planned for this goalset\n",
      "(start, goal, c) = (Point(0, 0.0), Point(10, 0.0), 1)\n",
      "(start, goal, c) = (Point(0, 4.0), Point(10, 4.0), 2)\n",
      "(start, goal, c) = (Point(0, 8.0), Point(10, 8.0), 3)\n",
      "fetching results\n",
      "l + α * l1 + β * l2 = 311.3062733559375\n",
      "l + α * l1 + β * l2 = 10.0\n"
     ]
    },
    {
     "name": "stdout",
     "output_type": "stream",
     "text": [
      "l + α * l1 + β * l2 = 10.0\n",
      "Found intersection (true, (Point[Point(0, 0.0), Point(0.28125, 0.0), Point(0.575, 0.0), Point(0.8687499999999999, 0.0), Point(1.1585937499999999, 0.0), Point(1.4486083984375, 0.0)], Point[Point(0.0, 0.0), Point(0.0, 0.0), Point(0.0, 0.0)]))\n",
      "Intersection\n",
      "abs(bezLength(c1_to_intersect) - bezLength(c2_to_intersect)) < 3.5 = true\n",
      "abs(bezLength(c1_to_intersect) - bezLength(c2_to_intersect)) = 2.714233398437501\n",
      "no non-colliding routes found\n",
      "\"Final solution $(P_2filtered[1])\" = \"Final solution Individual(Phenotype(Point(0, 8.0), Point[Point(0, 8.0), Point(2.1333333333333333, 8.0), Point(3.166666666666667, 8.0), Point(5.5, 8.0), Point(10, 8.0)], Point(10, 8.0)), 10.0)\"\n",
      "\"Final solution $(P_2filtered[1])\" = \"Final solution Individual(Phenotype(Point(0, 4.0), Point[Point(0, 4.0), Point(5.6, 4.0), Point(10, 4.0)], Point(10, 4.0)), 10.0)\"\n",
      "res = PCGA(starts, goals, road, n_gens = 0, n = 1, selection_method = \"roulette\", mutation_method = \"uniform\") = Individual[Individual(Phenotype(Point(0, 0.0), Point[Point(0, 0.0), Point(1.125, 0.0), Point(2.45, 0.0), Point(3.1750000000000003, 0.0), Point(4.7, 0.0), Point(10, 0.0)], Point(10, 0.0)), 311.3062733559375), Individual(Phenotype(Point(0, 4.0), Point[Point(0, 4.0), Point(5.6, 4.0), Point(10, 4.0)], Point(10, 4.0)), 10.0), Individual(Phenotype(Point(0, 8.0), Point[Point(0, 8.0), Point(2.1333333333333333, 8.0), Point(3.166666666666667, 8.0), Point(5.5, 8.0), Point(10, 8.0)], Point(10, 8.0)), 10.0)]\n",
      "append!(plans[agent], [res[findfirst((x->(#= /home/sam/git-clones/Y4-Diss/code/julia/src/parallelPlanner.jl:93 =#\n",
      "                        x == agent)), parallel_agents)]]) = Any[Individual(Phenotype(Point(0, 0.0), Point[Point(0, 0.0), Point(6.25, 0.0), Point(13.2, 0.0), Point(14, 0.0)], Point(14, 0.0)), 434.12919075), Individual(Phenotype(Point(0, 0.0), Point[Point(0, 0.0), Point(9.3, 0.0), Point(10, 0.0)], Point(10, 0.0)), 310.0743), Individual(Phenotype(Point(0, 0.0), Point[Point(0, 0.0), Point(1.3, 0.0), Point(2.4000000000000004, 0.0), Point(4.800000000000001, 0.0), Point(5.9, 0.0), Point(7.4, 0.0), Point(14, 0.0)], Point(14, 0.0)), 435.9422177461485), Individual(Phenotype(Point(0, 0.0), Point[Point(0, 0.0), Point(2.35, 0.0), Point(6.6, 0.0), Point(10, 0.0)], Point(10, 0.0)), 310.51126124999996), Individual(Phenotype(Point(0, 0.0), Point[Point(0, 0.0), Point(5.7, 0.0), Point(14, 0.0)], Point(14, 0.0)), 434.8287), Individual(Phenotype(Point(0, 0.0), Point[Point(0, 0.0), Point(1.125, 0.0), Point(2.45, 0.0), Point(3.1750000000000003, 0.0), Point(4.7, 0.0), Point(10, 0.0)], Point(10, 0.0)), 311.3062733559375)]\n",
      "append!(plans[agent], [res[findfirst((x->(#= /home/sam/git-clones/Y4-Diss/code/julia/src/parallelPlanner.jl:93 =#\n",
      "                        x == agent)), parallel_agents)]]) = Any[Individual(Phenotype(Point(0, 6.0), Point[Point(0, 6.0), Point(0.4166666666666667, 6.0), Point(0.8333333333333334, 6.0), Point(2.25, 6.0), Point(3.1666666666666665, 6.0), Point(3.9833333333333334, 6.0), Point(4.8, 6.0), Point(10, 6.0)], Point(10, 6.0)), 10.0), Individual(Phenotype(Point(0, 4.0), Point[Point(0, 4.0), Point(2.175, 4.0), Point(3.55, 4.0), Point(4.625, 4.0), Point(6.7, 4.0), Point(14, 4.0)], Point(14, 4.0)), 14.0), Individual(Phenotype(Point(0, 4.0), Point[Point(0, 4.0), Point(0.7166666666666667, 4.0), Point(2.1333333333333333, 4.0), Point(2.55, 4.0), Point(3.4666666666666663, 4.0), Point(4.4833333333333325, 4.0), Point(4.8999999999999995, 4.0), Point(10, 4.0)], Point(10, 4.0)), 10.0), Individual(Phenotype(Point(0, 6.0), Point[Point(0, 6.0), Point(1.4833333333333334, 6.0), Point(2.5666666666666664, 6.0), Point(4.449999999999999, 6.0), Point(7, 6.0)], Point(7, 6.0)), 7.0), Individual(Phenotype(Point(0, 6.0), Point[Point(0, 6.0), Point(6.4, 6.0), Point(10, 6.0)], Point(10, 6.0)), 10.0), Individual(Phenotype(Point(0, 4.0), Point[Point(0, 4.0), Point(1.95, 4.0), Point(7.3, 4.0), Point(14, 4.0)], Point(14, 4.0)), 14.0), Individual(Phenotype(Point(0, 4.0), Point[Point(0, 4.0), Point(9.2, 4.0), Point(10, 4.0)], Point(10, 4.0)), 10.0), Individual(Phenotype(Point(0, 6.0), Point[Point(0, 6.0), Point(3.275, 6.0), Point(6.65, 6.0), Point(7, 6.0)], Point(7, 6.0)), 7.0), Individual(Phenotype(Point(0, 4.0), Point[Point(0, 4.0), Point(1.9833333333333334, 4.0), Point(3.7666666666666666, 4.0), Point(4.75, 4.0), Point(5.633333333333333, 4.0), Point(7.916666666666666, 4.0), Point(9.399999999999999, 4.0), Point(14, 4.0)], Point(14, 4.0)), 14.0), Individual(Phenotype(Point(0, 4.0), Point[Point(0, 4.0), Point(5.6, 4.0), Point(10, 4.0)], Point(10, 4.0)), 10.0)]\n",
      "append!(plans[agent], [res[findfirst((x->(#= /home/sam/git-clones/Y4-Diss/code/julia/src/parallelPlanner.jl:93 =#\n",
      "                        x == agent)), parallel_agents)]]) = Any[Individual(Phenotype(Point(0, 0.0), Point[Point(0, 0.0), Point(0.9166666666666666, 0.0), Point(1.4333333333333333, 0.0), Point(2.95, 0.0), Point(3.466666666666667, 0.0), Point(4.083333333333334, 0.0), Point(4.6000000000000005, 0.0), Point(10, 0.0)], Point(10, 0.0)), 311.8395880801952), Individual(Phenotype(Point(0, 8.0), Point[Point(0, 8.0), Point(6.8, 8.0), Point(14, 8.0)], Point(14, 8.0)), 14.0), Individual(Phenotype(Point(0, 8.0), Point[Point(0, 8.0), Point(1.3, 8.0), Point(3.1, 8.0), Point(3.7, 8.0), Point(4.4, 8.0), Point(5.5, 8.0), Point(10, 8.0)], Point(10, 8.0)), 10.0), Individual(Phenotype(Point(0, 0.0), Point[Point(0, 0.0), Point(0.35, 0.0), Point(1.0, 0.0), Point(1.55, 0.0), Point(2.9000000000000004, 0.0), Point(3.95, 0.0), Point(7, 0.0)], Point(7, 0.0)), 217.9002274661565), Individual(Phenotype(Point(0, 0.0), Point[Point(0, 0.0), Point(1.6, 0.0), Point(3.2, 0.0), Point(4.2, 0.0), Point(5.800000000000001, 0.0), Point(7.000000000000001, 0.0), Point(10, 0.0)], Point(10, 0.0)), 310.886717616153), Individual(Phenotype(Point(0, 8.0), Point[Point(0, 8.0), Point(1.2666666666666666, 8.0), Point(2.4333333333333336, 8.0), Point(4.800000000000001, 8.0), Point(14, 8.0)], Point(14, 8.0)), 14.0), Individual(Phenotype(Point(0, 8.0), Point[Point(0, 8.0), Point(2.3333333333333335, 8.0), Point(4.366666666666667, 8.0), Point(5.6000000000000005, 8.0), Point(10, 8.0)], Point(10, 8.0)), 10.0), Individual(Phenotype(Point(0, 0.0), Point[Point(0, 0.0), Point(3.65, 0.0), Point(7, 0.0)], Point(7, 0.0)), 217.33515), Individual(Phenotype(Point(0, 8.0), Point[Point(0, 8.0), Point(2.183333333333333, 8.0), Point(3.466666666666667, 8.0), Point(5.35, 8.0), Point(7.533333333333333, 8.0), Point(8.816666666666666, 8.0), Point(9.5, 8.0), Point(14, 8.0)], Point(14, 8.0)), 14.0), Individual(Phenotype(Point(0, 8.0), Point[Point(0, 8.0), Point(2.1333333333333333, 8.0), Point(3.166666666666667, 8.0), Point(5.5, 8.0), Point(10, 8.0)], Point(10, 8.0)), 10.0)]\n"
     ]
    },
    {
     "name": "stdout",
     "output_type": "stream",
     "text": [
      "plans = Any[Any[Individual(Phenotype(Point(0, 6.0), Point[Point(0, 6.0), Point(0.4166666666666667, 6.0), Point(0.8333333333333334, 6.0), Point(2.25, 6.0), Point(3.1666666666666665, 6.0), Point(3.9833333333333334, 6.0), Point(4.8, 6.0), Point(10, 6.0)], Point(10, 6.0)), 10.0), Individual(Phenotype(Point(0, 4.0), Point[Point(0, 4.0), Point(2.175, 4.0), Point(3.55, 4.0), Point(4.625, 4.0), Point(6.7, 4.0), Point(14, 4.0)], Point(14, 4.0)), 14.0), Individual(Phenotype(Point(0, 4.0), Point[Point(0, 4.0), Point(0.7166666666666667, 4.0), Point(2.1333333333333333, 4.0), Point(2.55, 4.0), Point(3.4666666666666663, 4.0), Point(4.4833333333333325, 4.0), Point(4.8999999999999995, 4.0), Point(10, 4.0)], Point(10, 4.0)), 10.0), Individual(Phenotype(Point(0, 6.0), Point[Point(0, 6.0), Point(1.4833333333333334, 6.0), Point(2.5666666666666664, 6.0), Point(4.449999999999999, 6.0), Point(7, 6.0)], Point(7, 6.0)), 7.0), Individual(Phenotype(Point(0, 6.0), Point[Point(0, 6.0), Point(6.4, 6.0), Point(10, 6.0)], Point(10, 6.0)), 10.0), Individual(Phenotype(Point(0, 4.0), Point[Point(0, 4.0), Point(1.95, 4.0), Point(7.3, 4.0), Point(14, 4.0)], Point(14, 4.0)), 14.0), Individual(Phenotype(Point(0, 4.0), Point[Point(0, 4.0), Point(9.2, 4.0), Point(10, 4.0)], Point(10, 4.0)), 10.0), Individual(Phenotype(Point(0, 6.0), Point[Point(0, 6.0), Point(3.275, 6.0), Point(6.65, 6.0), Point(7, 6.0)], Point(7, 6.0)), 7.0), Individual(Phenotype(Point(0, 4.0), Point[Point(0, 4.0), Point(1.9833333333333334, 4.0), Point(3.7666666666666666, 4.0), Point(4.75, 4.0), Point(5.633333333333333, 4.0), Point(7.916666666666666, 4.0), Point(9.399999999999999, 4.0), Point(14, 4.0)], Point(14, 4.0)), 14.0), Individual(Phenotype(Point(0, 4.0), Point[Point(0, 4.0), Point(5.6, 4.0), Point(10, 4.0)], Point(10, 4.0)), 10.0)], Any[Individual(Phenotype(Point(0, 0.0), Point[Point(0, 0.0), Point(0.9916666666666667, 0.0), Point(1.2833333333333334, 0.0), Point(1.975, 0.0), Point(2.7666666666666666, 0.0), Point(3.458333333333333, 0.0), Point(3.9499999999999997, 0.0), Point(7, 0.0)], Point(7, 0.0)), 218.04111523511617), Individual(Phenotype(Point(0, 0.0), Point[Point(0, 0.0), Point(2.6333333333333333, 0.0), Point(5.366666666666667, 0.0), Point(6.300000000000001, 0.0), Point(10, 0.0)], Point(10, 0.0)), 310.73179101)], Any[Individual(Phenotype(Point(0, 0.0), Point[Point(0, 0.0), Point(0.9166666666666666, 0.0), Point(1.4333333333333333, 0.0), Point(2.95, 0.0), Point(3.466666666666667, 0.0), Point(4.083333333333334, 0.0), Point(4.6000000000000005, 0.0), Point(10, 0.0)], Point(10, 0.0)), 311.8395880801952), Individual(Phenotype(Point(0, 8.0), Point[Point(0, 8.0), Point(6.8, 8.0), Point(14, 8.0)], Point(14, 8.0)), 14.0), Individual(Phenotype(Point(0, 8.0), Point[Point(0, 8.0), Point(1.3, 8.0), Point(3.1, 8.0), Point(3.7, 8.0), Point(4.4, 8.0), Point(5.5, 8.0), Point(10, 8.0)], Point(10, 8.0)), 10.0), Individual(Phenotype(Point(0, 0.0), Point[Point(0, 0.0), Point(0.35, 0.0), Point(1.0, 0.0), Point(1.55, 0.0), Point(2.9000000000000004, 0.0), Point(3.95, 0.0), Point(7, 0.0)], Point(7, 0.0)), 217.9002274661565), Individual(Phenotype(Point(0, 0.0), Point[Point(0, 0.0), Point(1.6, 0.0), Point(3.2, 0.0), Point(4.2, 0.0), Point(5.800000000000001, 0.0), Point(7.000000000000001, 0.0), Point(10, 0.0)], Point(10, 0.0)), 310.886717616153), Individual(Phenotype(Point(0, 8.0), Point[Point(0, 8.0), Point(1.2666666666666666, 8.0), Point(2.4333333333333336, 8.0), Point(4.800000000000001, 8.0), Point(14, 8.0)], Point(14, 8.0)), 14.0), Individual(Phenotype(Point(0, 8.0), Point[Point(0, 8.0), Point(2.3333333333333335, 8.0), Point(4.366666666666667, 8.0), Point(5.6000000000000005, 8.0), Point(10, 8.0)], Point(10, 8.0)), 10.0), Individual(Phenotype(Point(0, 0.0), Point[Point(0, 0.0), Point(3.65, 0.0), Point(7, 0.0)], Point(7, 0.0)), 217.33515), Individual(Phenotype(Point(0, 8.0), Point[Point(0, 8.0), Point(2.183333333333333, 8.0), Point(3.466666666666667, 8.0), Point(5.35, 8.0), Point(7.533333333333333, 8.0), Point(8.816666666666666, 8.0), Point(9.5, 8.0), Point(14, 8.0)], Point(14, 8.0)), 14.0), Individual(Phenotype(Point(0, 8.0), Point[Point(0, 8.0), Point(2.1333333333333333, 8.0), Point(3.166666666666667, 8.0), Point(5.5, 8.0), Point(10, 8.0)], Point(10, 8.0)), 10.0)], Any[Individual(Phenotype(Point(0, 0.0), Point[Point(0, 0.0), Point(6.25, 0.0), Point(13.2, 0.0), Point(14, 0.0)], Point(14, 0.0)), 434.12919075), Individual(Phenotype(Point(0, 0.0), Point[Point(0, 0.0), Point(9.3, 0.0), Point(10, 0.0)], Point(10, 0.0)), 310.0743), Individual(Phenotype(Point(0, 0.0), Point[Point(0, 0.0), Point(1.3, 0.0), Point(2.4000000000000004, 0.0), Point(4.800000000000001, 0.0), Point(5.9, 0.0), Point(7.4, 0.0), Point(14, 0.0)], Point(14, 0.0)), 435.9422177461485), Individual(Phenotype(Point(0, 0.0), Point[Point(0, 0.0), Point(2.35, 0.0), Point(6.6, 0.0), Point(10, 0.0)], Point(10, 0.0)), 310.51126124999996), Individual(Phenotype(Point(0, 0.0), Point[Point(0, 0.0), Point(5.7, 0.0), Point(14, 0.0)], Point(14, 0.0)), 434.8287), Individual(Phenotype(Point(0, 0.0), Point[Point(0, 0.0), Point(1.125, 0.0), Point(2.45, 0.0), Point(3.1750000000000003, 0.0), Point(4.7, 0.0), Point(10, 0.0)], Point(10, 0.0)), 311.3062733559375)]]\n"
     ]
    },
    {
     "data": {
      "text/plain": [
       "4-element Array{Any,1}:\n",
       " Any[Individual(Phenotype(Point(0, 6.0), Point[Point(0, 6.0), Point(0.4166666666666667, 6.0), Point(0.8333333333333334, 6.0), Point(2.25, 6.0), Point(3.1666666666666665, 6.0), Point(3.9833333333333334, 6.0), Point(4.8, 6.0), Point(10, 6.0)], Point(10, 6.0)), 10.0), Individual(Phenotype(Point(0, 4.0), Point[Point(0, 4.0), Point(2.175, 4.0), Point(3.55, 4.0), Point(4.625, 4.0), Point(6.7, 4.0), Point(14, 4.0)], Point(14, 4.0)), 14.0), Individual(Phenotype(Point(0, 4.0), Point[Point(0, 4.0), Point(0.7166666666666667, 4.0), Point(2.1333333333333333, 4.0), Point(2.55, 4.0), Point(3.4666666666666663, 4.0), Point(4.4833333333333325, 4.0), Point(4.8999999999999995, 4.0), Point(10, 4.0)], Point(10, 4.0)), 10.0), Individual(Phenotype(Point(0, 6.0), Point[Point(0, 6.0), Point(1.4833333333333334, 6.0), Point(2.5666666666666664, 6.0), Point(4.449999999999999, 6.0), Point(7, 6.0)], Point(7, 6.0)), 7.0), Individual(Phenotype(Point(0, 6.0), Point[Point(0, 6.0), Point(6.4, 6.0), Point(10, 6.0)], Point(10, 6.0)), 10.0), Individual(Phenotype(Point(0, 4.0), Point[Point(0, 4.0), Point(1.95, 4.0), Point(7.3, 4.0), Point(14, 4.0)], Point(14, 4.0)), 14.0), Individual(Phenotype(Point(0, 4.0), Point[Point(0, 4.0), Point(9.2, 4.0), Point(10, 4.0)], Point(10, 4.0)), 10.0), Individual(Phenotype(Point(0, 6.0), Point[Point(0, 6.0), Point(3.275, 6.0), Point(6.65, 6.0), Point(7, 6.0)], Point(7, 6.0)), 7.0), Individual(Phenotype(Point(0, 4.0), Point[Point(0, 4.0), Point(1.9833333333333334, 4.0), Point(3.7666666666666666, 4.0), Point(4.75, 4.0), Point(5.633333333333333, 4.0), Point(7.916666666666666, 4.0), Point(9.399999999999999, 4.0), Point(14, 4.0)], Point(14, 4.0)), 14.0), Individual(Phenotype(Point(0, 4.0), Point[Point(0, 4.0), Point(5.6, 4.0), Point(10, 4.0)], Point(10, 4.0)), 10.0)]\n",
       " Any[Individual(Phenotype(Point(0, 0.0), Point[Point(0, 0.0), Point(0.9916666666666667, 0.0), Point(1.2833333333333334, 0.0), Point(1.975, 0.0), Point(2.7666666666666666, 0.0), Point(3.458333333333333, 0.0), Point(3.9499999999999997, 0.0), Point(7, 0.0)], Point(7, 0.0)), 218.04111523511617), Individual(Phenotype(Point(0, 0.0), Point[Point(0, 0.0), Point(2.6333333333333333, 0.0), Point(5.366666666666667, 0.0), Point(6.300000000000001, 0.0), Point(10, 0.0)], Point(10, 0.0)), 310.73179101)]\n",
       " Any[Individual(Phenotype(Point(0, 0.0), Point[Point(0, 0.0), Point(0.9166666666666666, 0.0), Point(1.4333333333333333, 0.0), Point(2.95, 0.0), Point(3.466666666666667, 0.0), Point(4.083333333333334, 0.0), Point(4.6000000000000005, 0.0), Point(10, 0.0)], Point(10, 0.0)), 311.8395880801952), Individual(Phenotype(Point(0, 8.0), Point[Point(0, 8.0), Point(6.8, 8.0), Point(14, 8.0)], Point(14, 8.0)), 14.0), Individual(Phenotype(Point(0, 8.0), Point[Point(0, 8.0), Point(1.3, 8.0), Point(3.1, 8.0), Point(3.7, 8.0), Point(4.4, 8.0), Point(5.5, 8.0), Point(10, 8.0)], Point(10, 8.0)), 10.0), Individual(Phenotype(Point(0, 0.0), Point[Point(0, 0.0), Point(0.35, 0.0), Point(1.0, 0.0), Point(1.55, 0.0), Point(2.9000000000000004, 0.0), Point(3.95, 0.0), Point(7, 0.0)], Point(7, 0.0)), 217.9002274661565), Individual(Phenotype(Point(0, 0.0), Point[Point(0, 0.0), Point(1.6, 0.0), Point(3.2, 0.0), Point(4.2, 0.0), Point(5.800000000000001, 0.0), Point(7.000000000000001, 0.0), Point(10, 0.0)], Point(10, 0.0)), 310.886717616153), Individual(Phenotype(Point(0, 8.0), Point[Point(0, 8.0), Point(1.2666666666666666, 8.0), Point(2.4333333333333336, 8.0), Point(4.800000000000001, 8.0), Point(14, 8.0)], Point(14, 8.0)), 14.0), Individual(Phenotype(Point(0, 8.0), Point[Point(0, 8.0), Point(2.3333333333333335, 8.0), Point(4.366666666666667, 8.0), Point(5.6000000000000005, 8.0), Point(10, 8.0)], Point(10, 8.0)), 10.0), Individual(Phenotype(Point(0, 0.0), Point[Point(0, 0.0), Point(3.65, 0.0), Point(7, 0.0)], Point(7, 0.0)), 217.33515), Individual(Phenotype(Point(0, 8.0), Point[Point(0, 8.0), Point(2.183333333333333, 8.0), Point(3.466666666666667, 8.0), Point(5.35, 8.0), Point(7.533333333333333, 8.0), Point(8.816666666666666, 8.0), Point(9.5, 8.0), Point(14, 8.0)], Point(14, 8.0)), 14.0), Individual(Phenotype(Point(0, 8.0), Point[Point(0, 8.0), Point(2.1333333333333333, 8.0), Point(3.166666666666667, 8.0), Point(5.5, 8.0), Point(10, 8.0)], Point(10, 8.0)), 10.0)]\n",
       " Any[Individual(Phenotype(Point(0, 0.0), Point[Point(0, 0.0), Point(6.25, 0.0), Point(13.2, 0.0), Point(14, 0.0)], Point(14, 0.0)), 434.12919075), Individual(Phenotype(Point(0, 0.0), Point[Point(0, 0.0), Point(9.3, 0.0), Point(10, 0.0)], Point(10, 0.0)), 310.0743), Individual(Phenotype(Point(0, 0.0), Point[Point(0, 0.0), Point(1.3, 0.0), Point(2.4000000000000004, 0.0), Point(4.800000000000001, 0.0), Point(5.9, 0.0), Point(7.4, 0.0), Point(14, 0.0)], Point(14, 0.0)), 435.9422177461485), Individual(Phenotype(Point(0, 0.0), Point[Point(0, 0.0), Point(2.35, 0.0), Point(6.6, 0.0), Point(10, 0.0)], Point(10, 0.0)), 310.51126124999996), Individual(Phenotype(Point(0, 0.0), Point[Point(0, 0.0), Point(5.7, 0.0), Point(14, 0.0)], Point(14, 0.0)), 434.8287), Individual(Phenotype(Point(0, 0.0), Point[Point(0, 0.0), Point(1.125, 0.0), Point(2.45, 0.0), Point(3.1750000000000003, 0.0), Point(4.7, 0.0), Point(10, 0.0)], Point(10, 0.0)), 311.3062733559375)]"
      ]
     },
     "execution_count": 146,
     "metadata": {},
     "output_type": "execute_result"
    }
   ],
   "source": [
    "include(\"parallelPlanner.jl\")\n",
    "planRoutes(desired_paths, rn)"
   ]
  },
  {
   "cell_type": "code",
   "execution_count": 143,
   "metadata": {},
   "outputs": [
    {
     "data": {
      "text/plain": [
       "1"
      ]
     },
     "execution_count": 143,
     "metadata": {},
     "output_type": "execute_result"
    }
   ],
   "source": [
    "findfirst(x -> x==4 ,[4,1,3])"
   ]
  },
  {
   "cell_type": "code",
   "execution_count": 141,
   "metadata": {},
   "outputs": [
    {
     "data": {
      "text/plain": [
       "3"
      ]
     },
     "execution_count": 141,
     "metadata": {},
     "output_type": "execute_result"
    }
   ],
   "source": [
    "x = rn.edges[1]\n",
    "x.target"
   ]
  },
  {
   "cell_type": "code",
   "execution_count": 142,
   "metadata": {},
   "outputs": [
    {
     "data": {
      "text/plain": [
       "3"
      ]
     },
     "execution_count": 142,
     "metadata": {},
     "output_type": "execute_result"
    }
   ],
   "source": [
    "z = [1,2,3]\n",
    "findfirst(x -> x ==3,z )"
   ]
  },
  {
   "cell_type": "code",
   "execution_count": 106,
   "metadata": {},
   "outputs": [
    {
     "data": {
      "text/plain": [
       "Dict{Any,Any}()"
      ]
     },
     "execution_count": 106,
     "metadata": {},
     "output_type": "execute_result"
    }
   ],
   "source": [
    "foo = Dict()"
   ]
  },
  {
   "cell_type": "code",
   "execution_count": 151,
   "metadata": {},
   "outputs": [
    {
     "data": {
      "text/plain": [
       "true"
      ]
     },
     "execution_count": 151,
     "metadata": {},
     "output_type": "execute_result"
    }
   ],
   "source": [
    "foo['a'] = 2 \n",
    "'a' in keys(foo)\n",
    "\n"
   ]
  },
  {
   "cell_type": "code",
   "execution_count": 152,
   "metadata": {},
   "outputs": [
    {
     "data": {
      "text/plain": [
       "Dict{Any,Any}()"
      ]
     },
     "execution_count": 152,
     "metadata": {},
     "output_type": "execute_result"
    }
   ],
   "source": [
    "delete!(foo,'a')"
   ]
  },
  {
   "cell_type": "code",
   "execution_count": 153,
   "metadata": {},
   "outputs": [
    {
     "data": {
      "text/plain": [
       "false"
      ]
     },
     "execution_count": 153,
     "metadata": {},
     "output_type": "execute_result"
    }
   ],
   "source": [
    "'a' in keys(foo)"
   ]
  },
  {
   "cell_type": "code",
   "execution_count": 124,
   "metadata": {},
   "outputs": [
    {
     "data": {
      "text/plain": [
       "1"
      ]
     },
     "execution_count": 124,
     "metadata": {},
     "output_type": "execute_result"
    }
   ],
   "source": [
    "rn.edges[1].source"
   ]
  },
  {
   "cell_type": "code",
   "execution_count": 154,
   "metadata": {},
   "outputs": [
    {
     "ename": "LoadError",
     "evalue": "UndefVarError: dist not defined",
     "output_type": "error",
     "traceback": [
      "UndefVarError: dist not defined",
      "",
      "Stacktrace:",
      " [1] top-level scope at In[154]:1"
     ]
    }
   ],
   "source": [
    "dist()"
   ]
  },
  {
   "cell_type": "code",
   "execution_count": 193,
   "metadata": {},
   "outputs": [
    {
     "data": {
      "text/plain": [
       "plot_generation_gif (generic function with 1 method)"
      ]
     },
     "execution_count": 193,
     "metadata": {},
     "output_type": "execute_result"
    }
   ],
   "source": [
    "include(\"plottingUtils.jl\")"
   ]
  },
  {
   "cell_type": "code",
   "execution_count": null,
   "metadata": {},
   "outputs": [],
   "source": []
  },
  {
   "cell_type": "code",
   "execution_count": 194,
   "metadata": {},
   "outputs": [
    {
     "data": {
      "text/plain": [
       "2-element Array{Individual,1}:\n",
       " Individual(Phenotype(Point(0, 6.5), Point[Point(0, 6.5), Point(2.35, 6.4), Point(4.6, 6.5), Point(10, 7.0)], Point(10, 7.0)), 10.021464819916972)\n",
       " Individual(Phenotype(Point(0, 0.5), Point[Point(0, 0.5), Point(6.6, 0.4), Point(10, 1.0)], Point(10, 1.0)), 10.032892514930253)"
      ]
     },
     "execution_count": 194,
     "metadata": {},
     "output_type": "execute_result"
    }
   ],
   "source": [
    "P = [\n",
    "Individual(Phenotype(Point(0, 6.5), Point[Point(0, 6.5), Point(2.35, 6.4), Point(4.6, 6.5), Point(10, 7.0)], Point(10, 7.0)), 10.021464819916972)\n",
    " Individual(Phenotype(Point(0, 0.5), Point[Point(0, 0.5), Point(6.6, 0.4), Point(10, 1.0)], Point(10, 1.0)), 10.032892514930253)\n",
    "\n",
    "]"
   ]
  },
  {
   "cell_type": "code",
   "execution_count": 195,
   "metadata": {},
   "outputs": [
    {
     "ename": "LoadError",
     "evalue": "UndefVarError: road not defined",
     "output_type": "error",
     "traceback": [
      "UndefVarError: road not defined",
      "",
      "Stacktrace:",
      " [1] draw_road(::Road, ::Int64, ::Int64) at /home/sam/git-clones/Y4-Diss/code/julia/src/plottingUtils.jl:70",
      " [2] plot_generation_gif(::Road, ::Array{Individual,1}) at /home/sam/git-clones/Y4-Diss/code/julia/src/plottingUtils.jl:172",
      " [3] top-level scope at In[195]:1"
     ]
    }
   ],
   "source": [
    "plot_generation_gif(road13,P)"
   ]
  },
  {
   "cell_type": "code",
   "execution_count": 182,
   "metadata": {},
   "outputs": [
    {
     "data": {
      "text/plain": [
       "2-element Array{Individual,1}:\n",
       " Individual(Phenotype(Point(0, 7.0), Point[Point(0, 7.0), Point(2.4, 5.0), Point(3.5999999999999996, 4.8), Point(4.6, 5.0), Point(5.3, 4.8), Point(7.1, 4.6), Point(14, 5.0)], Point(14, 5.0)), 14.643880486393279)\n",
       " Individual(Phenotype(Point(0, 1.0), Point[Point(0, 1.0), Point(2.75, 0.6), Point(5.5, 1.4), Point(14, 9.0)], Point(14, 9.0)), 16.676885468364894)"
      ]
     },
     "execution_count": 182,
     "metadata": {},
     "output_type": "execute_result"
    }
   ],
   "source": [
    "P = [\n",
    "    Individual(Phenotype(Point(0, 7.0), Point[Point(0, 7.0), Point(2.4, 5.0), Point(3.5999999999999996, 4.8), Point(4.6, 5.0), Point(5.3, 4.8), Point(7.1, 4.6), Point(14, 5.0)], Point(14, 5.0)), 14.643880486393279)\n",
    " Individual(Phenotype(Point(0, 1.0), Point[Point(0, 1.0), Point(2.75, 0.6), Point(5.5, 1.4), Point(14, 9.0)], Point(14, 9.0)), 16.676885468364894)\n",
    "\n",
    "]"
   ]
  },
  {
   "cell_type": "code",
   "execution_count": 184,
   "metadata": {},
   "outputs": [
    {
     "name": "stderr",
     "output_type": "stream",
     "text": [
      "┌ Info: Saved animation to \n",
      "│   fn = /home/sam/git-clones/Y4-Diss/code/julia/src/anim1.gif\n",
      "└ @ Plots /home/sam/.julia/packages/Plots/6EMd6/src/animation.jl:104\n"
     ]
    },
    {
     "data": {
      "text/html": [
       "<img src=\"data:image/gif;base64,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\" />"
      ],
      "text/plain": [
       "Plots.AnimatedGif(\"/home/sam/git-clones/Y4-Diss/code/julia/src/anim1.gif\")"
      ]
     },
     "execution_count": 184,
     "metadata": {},
     "output_type": "execute_result"
    }
   ],
   "source": [
    "plot_generation_gif(road32,P)"
   ]
  },
  {
   "cell_type": "code",
   "execution_count": 185,
   "metadata": {},
   "outputs": [
    {
     "data": {
      "text/plain": [
       "2-element Array{Individual,1}:\n",
       " Individual(Phenotype(Point(0, 5.0), Point[Point(0, 5.0), Point(2.0, 5.0), Point(2.9, 5.0), Point(4.7, 5.0), Point(5.3, 5.0), Point(7.1, 5.0), Point(10, 5.0)], Point(10, 5.0)), 10.0)\n",
       " Individual(Phenotype(Point(0, 9.0), Point[Point(0, 9.0), Point(2.433333333333333, 9.0), Point(3.3666666666666663, 9.0), Point(5.1, 9.0), Point(10, 9.0)], Point(10, 9.0)), 10.0)"
      ]
     },
     "execution_count": 185,
     "metadata": {},
     "output_type": "execute_result"
    }
   ],
   "source": [
    "P = [\n",
    "    Individual(Phenotype(Point(0, 5.0), Point[Point(0, 5.0), Point(2.0, 5.0), Point(2.9, 5.0), Point(4.7, 5.0), Point(5.3, 5.0), Point(7.1, 5.0), Point(10, 5.0)], Point(10, 5.0)), 10.0)\n",
    " Individual(Phenotype(Point(0, 9.0), Point[Point(0, 9.0), Point(2.433333333333333, 9.0), Point(3.3666666666666663, 9.0), Point(5.1, 9.0), Point(10, 9.0)], Point(10, 9.0)), 10.0)\n",
    "\n",
    "]"
   ]
  },
  {
   "cell_type": "code",
   "execution_count": 188,
   "metadata": {},
   "outputs": [
    {
     "name": "stderr",
     "output_type": "stream",
     "text": [
      "┌ Info: Saved animation to \n",
      "│   fn = /home/sam/git-clones/Y4-Diss/code/julia/src/anim1.gif\n",
      "└ @ Plots /home/sam/.julia/packages/Plots/6EMd6/src/animation.jl:104\n"
     ]
    },
    {
     "data": {
      "text/html": [
       "<img src=\"data:image/gif;base64,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\" />"
      ],
      "text/plain": [
       "Plots.AnimatedGif(\"/home/sam/git-clones/Y4-Diss/code/julia/src/anim1.gif\")"
      ]
     },
     "execution_count": 188,
     "metadata": {},
     "output_type": "execute_result"
    }
   ],
   "source": [
    "plot_generation_gif(road25,P)"
   ]
  },
  {
   "cell_type": "code",
   "execution_count": 190,
   "metadata": {},
   "outputs": [
    {
     "data": {
      "text/plain": [
       "2-element Array{Individual,1}:\n",
       " Individual(Phenotype(Point(0, 5.0), Point[Point(0, 5.0), Point(4.35, 5.0), Point(7, 7.0)], Point(7, 7.0)), 7.4750624747436625)\n",
       " Individual(Phenotype(Point(0, 9.0), Point[Point(0, 9.0), Point(5.2818885322445475, 3.8082430916795413), Point(7, 1.0)], Point(7, 1.0)), 10.664269116019124)"
      ]
     },
     "execution_count": 190,
     "metadata": {},
     "output_type": "execute_result"
    }
   ],
   "source": [
    "P = [\n",
    "    Individual(Phenotype(Point(0, 5.0), Point[Point(0, 5.0), Point(4.35, 5.0), Point(7, 7.0)], Point(7, 7.0)), 7.4750624747436625)\n",
    " Individual(Phenotype(Point(0, 9.0), Point[Point(0, 9.0), Point(5.2818885322445475, 3.8082430916795413), Point(7, 1.0)], Point(7, 1.0)), 10.664269116019124)\n",
    "\n",
    "]"
   ]
  },
  {
   "cell_type": "code",
   "execution_count": 191,
   "metadata": {},
   "outputs": [
    {
     "name": "stderr",
     "output_type": "stream",
     "text": [
      "┌ Info: Saved animation to \n",
      "│   fn = /home/sam/git-clones/Y4-Diss/code/julia/src/anim1.gif\n",
      "└ @ Plots /home/sam/.julia/packages/Plots/6EMd6/src/animation.jl:104\n"
     ]
    },
    {
     "data": {
      "text/html": [
       "<img src=\"data:image/gif;base64,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\" />"
      ],
      "text/plain": [
       "Plots.AnimatedGif(\"/home/sam/git-clones/Y4-Diss/code/julia/src/anim1.gif\")"
      ]
     },
     "execution_count": 191,
     "metadata": {},
     "output_type": "execute_result"
    }
   ],
   "source": [
    "plot_generation_gif(road54,P)"
   ]
  },
  {
   "cell_type": "code",
   "execution_count": 178,
   "metadata": {},
   "outputs": [
    {
     "data": {
      "text/plain": [
       "1.1703526278297138"
      ]
     },
     "execution_count": 178,
     "metadata": {},
     "output_type": "execute_result"
    }
   ],
   "source": [
    "rand(Uniform(sort([1,2])[1],2))"
   ]
  },
  {
   "cell_type": "code",
   "execution_count": 179,
   "metadata": {},
   "outputs": [
    {
     "data": {
      "text/plain": [
       "2-element Array{Float64,1}:\n",
       " 1.2\n",
       " 2.3"
      ]
     },
     "execution_count": 179,
     "metadata": {},
     "output_type": "execute_result"
    }
   ],
   "source": [
    "sort([1.2,2.3])"
   ]
  }
 ],
 "metadata": {
  "kernelspec": {
   "display_name": "Julia 1.5.3",
   "language": "julia",
   "name": "julia-1.5"
  },
  "language_info": {
   "file_extension": ".jl",
   "mimetype": "application/julia",
   "name": "julia",
   "version": "1.5.3"
  }
 },
 "nbformat": 4,
 "nbformat_minor": 4
}
